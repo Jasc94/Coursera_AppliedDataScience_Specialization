{
 "cells": [
  {
   "cell_type": "markdown",
   "metadata": {},
   "source": [
    "## Question 1"
   ]
  },
  {
   "cell_type": "code",
   "execution_count": 9,
   "metadata": {},
   "outputs": [],
   "source": [
    "import pandas as pd\n",
    "import numpy as np\n",
    "import re"
   ]
  },
  {
   "cell_type": "code",
   "execution_count": 27,
   "metadata": {},
   "outputs": [
    {
     "data": {
      "text/html": [
       "<div>\n",
       "<style scoped>\n",
       "    .dataframe tbody tr th:only-of-type {\n",
       "        vertical-align: middle;\n",
       "    }\n",
       "\n",
       "    .dataframe tbody tr th {\n",
       "        vertical-align: top;\n",
       "    }\n",
       "\n",
       "    .dataframe thead th {\n",
       "        text-align: right;\n",
       "    }\n",
       "</style>\n",
       "<table border=\"1\" class=\"dataframe\">\n",
       "  <thead>\n",
       "    <tr style=\"text-align: right;\">\n",
       "      <th></th>\n",
       "      <th>SEQNUMC</th>\n",
       "      <th>SEQNUMHH</th>\n",
       "      <th>PDAT</th>\n",
       "      <th>PROVWT_D</th>\n",
       "      <th>RDDWT_D</th>\n",
       "      <th>STRATUM</th>\n",
       "      <th>YEAR</th>\n",
       "      <th>AGECPOXR</th>\n",
       "      <th>HAD_CPOX</th>\n",
       "      <th>AGEGRP</th>\n",
       "      <th>...</th>\n",
       "      <th>XVRCTY2</th>\n",
       "      <th>XVRCTY3</th>\n",
       "      <th>XVRCTY4</th>\n",
       "      <th>XVRCTY5</th>\n",
       "      <th>XVRCTY6</th>\n",
       "      <th>XVRCTY7</th>\n",
       "      <th>XVRCTY8</th>\n",
       "      <th>XVRCTY9</th>\n",
       "      <th>INS_STAT2_I</th>\n",
       "      <th>INS_BREAK_I</th>\n",
       "    </tr>\n",
       "  </thead>\n",
       "  <tbody>\n",
       "    <tr>\n",
       "      <th>1</th>\n",
       "      <td>128521</td>\n",
       "      <td>12852</td>\n",
       "      <td>2</td>\n",
       "      <td>NaN</td>\n",
       "      <td>235.916956</td>\n",
       "      <td>1031</td>\n",
       "      <td>2017</td>\n",
       "      <td>NaN</td>\n",
       "      <td>2</td>\n",
       "      <td>1</td>\n",
       "      <td>...</td>\n",
       "      <td></td>\n",
       "      <td></td>\n",
       "      <td>NaN</td>\n",
       "      <td>NaN</td>\n",
       "      <td>NaN</td>\n",
       "      <td>NaN</td>\n",
       "      <td>NaN</td>\n",
       "      <td>NaN</td>\n",
       "      <td>NaN</td>\n",
       "      <td>NaN</td>\n",
       "    </tr>\n",
       "    <tr>\n",
       "      <th>2</th>\n",
       "      <td>10741</td>\n",
       "      <td>1074</td>\n",
       "      <td>2</td>\n",
       "      <td>NaN</td>\n",
       "      <td>957.353840</td>\n",
       "      <td>1068</td>\n",
       "      <td>2017</td>\n",
       "      <td>NaN</td>\n",
       "      <td>2</td>\n",
       "      <td>1</td>\n",
       "      <td>...</td>\n",
       "      <td></td>\n",
       "      <td></td>\n",
       "      <td>NaN</td>\n",
       "      <td>NaN</td>\n",
       "      <td>NaN</td>\n",
       "      <td>NaN</td>\n",
       "      <td>NaN</td>\n",
       "      <td>NaN</td>\n",
       "      <td>NaN</td>\n",
       "      <td>NaN</td>\n",
       "    </tr>\n",
       "    <tr>\n",
       "      <th>3</th>\n",
       "      <td>220011</td>\n",
       "      <td>22001</td>\n",
       "      <td>2</td>\n",
       "      <td>NaN</td>\n",
       "      <td>189.611299</td>\n",
       "      <td>1050</td>\n",
       "      <td>2017</td>\n",
       "      <td>NaN</td>\n",
       "      <td>2</td>\n",
       "      <td>3</td>\n",
       "      <td>...</td>\n",
       "      <td></td>\n",
       "      <td></td>\n",
       "      <td>NaN</td>\n",
       "      <td>NaN</td>\n",
       "      <td>NaN</td>\n",
       "      <td>NaN</td>\n",
       "      <td>NaN</td>\n",
       "      <td>NaN</td>\n",
       "      <td>NaN</td>\n",
       "      <td>NaN</td>\n",
       "    </tr>\n",
       "    <tr>\n",
       "      <th>4</th>\n",
       "      <td>86131</td>\n",
       "      <td>8613</td>\n",
       "      <td>1</td>\n",
       "      <td>675.430817</td>\n",
       "      <td>333.447418</td>\n",
       "      <td>1040</td>\n",
       "      <td>2017</td>\n",
       "      <td>NaN</td>\n",
       "      <td>2</td>\n",
       "      <td>1</td>\n",
       "      <td>...</td>\n",
       "      <td></td>\n",
       "      <td></td>\n",
       "      <td>NaN</td>\n",
       "      <td>NaN</td>\n",
       "      <td>NaN</td>\n",
       "      <td>NaN</td>\n",
       "      <td>NaN</td>\n",
       "      <td>NaN</td>\n",
       "      <td>1.0</td>\n",
       "      <td>2.0</td>\n",
       "    </tr>\n",
       "    <tr>\n",
       "      <th>5</th>\n",
       "      <td>227141</td>\n",
       "      <td>22714</td>\n",
       "      <td>1</td>\n",
       "      <td>482.617748</td>\n",
       "      <td>278.768063</td>\n",
       "      <td>1008</td>\n",
       "      <td>2017</td>\n",
       "      <td>NaN</td>\n",
       "      <td>2</td>\n",
       "      <td>1</td>\n",
       "      <td>...</td>\n",
       "      <td></td>\n",
       "      <td></td>\n",
       "      <td>NaN</td>\n",
       "      <td>NaN</td>\n",
       "      <td>NaN</td>\n",
       "      <td>NaN</td>\n",
       "      <td>NaN</td>\n",
       "      <td>NaN</td>\n",
       "      <td>2.0</td>\n",
       "      <td>1.0</td>\n",
       "    </tr>\n",
       "    <tr>\n",
       "      <th>6</th>\n",
       "      <td>207941</td>\n",
       "      <td>20794</td>\n",
       "      <td>2</td>\n",
       "      <td>NaN</td>\n",
       "      <td>35.995367</td>\n",
       "      <td>1019</td>\n",
       "      <td>2017</td>\n",
       "      <td>NaN</td>\n",
       "      <td>2</td>\n",
       "      <td>2</td>\n",
       "      <td>...</td>\n",
       "      <td></td>\n",
       "      <td></td>\n",
       "      <td>NaN</td>\n",
       "      <td>NaN</td>\n",
       "      <td>NaN</td>\n",
       "      <td>NaN</td>\n",
       "      <td>NaN</td>\n",
       "      <td>NaN</td>\n",
       "      <td>NaN</td>\n",
       "      <td>NaN</td>\n",
       "    </tr>\n",
       "    <tr>\n",
       "      <th>7</th>\n",
       "      <td>221381</td>\n",
       "      <td>22138</td>\n",
       "      <td>1</td>\n",
       "      <td>516.427723</td>\n",
       "      <td>248.916038</td>\n",
       "      <td>1008</td>\n",
       "      <td>2017</td>\n",
       "      <td>NaN</td>\n",
       "      <td>2</td>\n",
       "      <td>3</td>\n",
       "      <td>...</td>\n",
       "      <td></td>\n",
       "      <td></td>\n",
       "      <td>NaN</td>\n",
       "      <td>NaN</td>\n",
       "      <td>NaN</td>\n",
       "      <td>NaN</td>\n",
       "      <td>NaN</td>\n",
       "      <td>NaN</td>\n",
       "      <td>1.0</td>\n",
       "      <td>2.0</td>\n",
       "    </tr>\n",
       "    <tr>\n",
       "      <th>8</th>\n",
       "      <td>182861</td>\n",
       "      <td>18286</td>\n",
       "      <td>1</td>\n",
       "      <td>313.225832</td>\n",
       "      <td>163.213401</td>\n",
       "      <td>1001</td>\n",
       "      <td>2017</td>\n",
       "      <td>NaN</td>\n",
       "      <td>2</td>\n",
       "      <td>2</td>\n",
       "      <td>...</td>\n",
       "      <td></td>\n",
       "      <td></td>\n",
       "      <td>NaN</td>\n",
       "      <td>NaN</td>\n",
       "      <td>NaN</td>\n",
       "      <td>NaN</td>\n",
       "      <td>NaN</td>\n",
       "      <td>NaN</td>\n",
       "      <td>3.0</td>\n",
       "      <td>2.0</td>\n",
       "    </tr>\n",
       "    <tr>\n",
       "      <th>9</th>\n",
       "      <td>161121</td>\n",
       "      <td>16112</td>\n",
       "      <td>1</td>\n",
       "      <td>978.042448</td>\n",
       "      <td>718.616990</td>\n",
       "      <td>1016</td>\n",
       "      <td>2017</td>\n",
       "      <td>3.0</td>\n",
       "      <td>1</td>\n",
       "      <td>1</td>\n",
       "      <td>...</td>\n",
       "      <td></td>\n",
       "      <td></td>\n",
       "      <td>NaN</td>\n",
       "      <td>NaN</td>\n",
       "      <td>NaN</td>\n",
       "      <td>NaN</td>\n",
       "      <td>NaN</td>\n",
       "      <td>NaN</td>\n",
       "      <td>4.0</td>\n",
       "      <td>4.0</td>\n",
       "    </tr>\n",
       "    <tr>\n",
       "      <th>10</th>\n",
       "      <td>143401</td>\n",
       "      <td>14340</td>\n",
       "      <td>2</td>\n",
       "      <td>NaN</td>\n",
       "      <td>1536.859533</td>\n",
       "      <td>1068</td>\n",
       "      <td>2017</td>\n",
       "      <td>NaN</td>\n",
       "      <td>2</td>\n",
       "      <td>3</td>\n",
       "      <td>...</td>\n",
       "      <td></td>\n",
       "      <td></td>\n",
       "      <td>NaN</td>\n",
       "      <td>NaN</td>\n",
       "      <td>NaN</td>\n",
       "      <td>NaN</td>\n",
       "      <td>NaN</td>\n",
       "      <td>NaN</td>\n",
       "      <td>NaN</td>\n",
       "      <td>NaN</td>\n",
       "    </tr>\n",
       "  </tbody>\n",
       "</table>\n",
       "<p>10 rows × 453 columns</p>\n",
       "</div>"
      ],
      "text/plain": [
       "    SEQNUMC  SEQNUMHH  PDAT    PROVWT_D      RDDWT_D  STRATUM  YEAR  AGECPOXR  \\\n",
       "1    128521     12852     2         NaN   235.916956     1031  2017       NaN   \n",
       "2     10741      1074     2         NaN   957.353840     1068  2017       NaN   \n",
       "3    220011     22001     2         NaN   189.611299     1050  2017       NaN   \n",
       "4     86131      8613     1  675.430817   333.447418     1040  2017       NaN   \n",
       "5    227141     22714     1  482.617748   278.768063     1008  2017       NaN   \n",
       "6    207941     20794     2         NaN    35.995367     1019  2017       NaN   \n",
       "7    221381     22138     1  516.427723   248.916038     1008  2017       NaN   \n",
       "8    182861     18286     1  313.225832   163.213401     1001  2017       NaN   \n",
       "9    161121     16112     1  978.042448   718.616990     1016  2017       3.0   \n",
       "10   143401     14340     2         NaN  1536.859533     1068  2017       NaN   \n",
       "\n",
       "    HAD_CPOX  AGEGRP  ...  XVRCTY2  XVRCTY3  XVRCTY4  XVRCTY5  XVRCTY6  \\\n",
       "1          2       1  ...                        NaN      NaN      NaN   \n",
       "2          2       1  ...                        NaN      NaN      NaN   \n",
       "3          2       3  ...                        NaN      NaN      NaN   \n",
       "4          2       1  ...                        NaN      NaN      NaN   \n",
       "5          2       1  ...                        NaN      NaN      NaN   \n",
       "6          2       2  ...                        NaN      NaN      NaN   \n",
       "7          2       3  ...                        NaN      NaN      NaN   \n",
       "8          2       2  ...                        NaN      NaN      NaN   \n",
       "9          1       1  ...                        NaN      NaN      NaN   \n",
       "10         2       3  ...                        NaN      NaN      NaN   \n",
       "\n",
       "    XVRCTY7  XVRCTY8  XVRCTY9  INS_STAT2_I  INS_BREAK_I  \n",
       "1       NaN      NaN      NaN          NaN          NaN  \n",
       "2       NaN      NaN      NaN          NaN          NaN  \n",
       "3       NaN      NaN      NaN          NaN          NaN  \n",
       "4       NaN      NaN      NaN          1.0          2.0  \n",
       "5       NaN      NaN      NaN          2.0          1.0  \n",
       "6       NaN      NaN      NaN          NaN          NaN  \n",
       "7       NaN      NaN      NaN          1.0          2.0  \n",
       "8       NaN      NaN      NaN          3.0          2.0  \n",
       "9       NaN      NaN      NaN          4.0          4.0  \n",
       "10      NaN      NaN      NaN          NaN          NaN  \n",
       "\n",
       "[10 rows x 453 columns]"
      ]
     },
     "execution_count": 27,
     "metadata": {},
     "output_type": "execute_result"
    }
   ],
   "source": [
    "df = pd.read_csv('/Users/jonathansuarezcaceres/Downloads/1_Data Science/Intro to DS with Python/NISPUF17.csv',\n",
    "                index_col = 0)\n",
    "df.head(10)"
   ]
  },
  {
   "cell_type": "code",
   "execution_count": 15,
   "metadata": {},
   "outputs": [
    {
     "data": {
      "text/plain": [
       "Index(['SEQNUMC', 'SEQNUMHH', 'PDAT', 'PROVWT_D', 'RDDWT_D', 'STRATUM', 'YEAR',\n",
       "       'AGECPOXR', 'HAD_CPOX', 'AGEGRP',\n",
       "       ...\n",
       "       'XVRCTY2', 'XVRCTY3', 'XVRCTY4', 'XVRCTY5', 'XVRCTY6', 'XVRCTY7',\n",
       "       'XVRCTY8', 'XVRCTY9', 'INS_STAT2_I', 'INS_BREAK_I'],\n",
       "      dtype='object', length=453)"
      ]
     },
     "execution_count": 15,
     "metadata": {},
     "output_type": "execute_result"
    }
   ],
   "source": [
    "df.columns"
   ]
  },
  {
   "cell_type": "code",
   "execution_count": 16,
   "metadata": {},
   "outputs": [
    {
     "data": {
      "text/plain": [
       "28465"
      ]
     },
     "execution_count": 16,
     "metadata": {},
     "output_type": "execute_result"
    }
   ],
   "source": [
    "len(df)"
   ]
  },
  {
   "cell_type": "code",
   "execution_count": 6,
   "metadata": {},
   "outputs": [
    {
     "data": {
      "text/plain": [
       "1        4\n",
       "2        3\n",
       "3        3\n",
       "4        4\n",
       "5        1\n",
       "        ..\n",
       "28461    3\n",
       "28462    2\n",
       "28463    3\n",
       "28464    2\n",
       "28465    4\n",
       "Name: EDUC1, Length: 28465, dtype: int64"
      ]
     },
     "execution_count": 6,
     "metadata": {},
     "output_type": "execute_result"
    }
   ],
   "source": [
    "df['EDUC1']"
   ]
  },
  {
   "cell_type": "code",
   "execution_count": 28,
   "metadata": {},
   "outputs": [
    {
     "name": "stdout",
     "output_type": "stream",
     "text": [
      "[4 3 1 2]\n",
      "4\n"
     ]
    }
   ],
   "source": [
    "a = df['EDUC1'].unique()\n",
    "print(a)\n",
    "print(len(a))"
   ]
  },
  {
   "cell_type": "code",
   "execution_count": 21,
   "metadata": {},
   "outputs": [],
   "source": [
    "# 1 -> <12 years\n",
    "# 2 -> =12 years\n",
    "# 3 -> >12 years\n",
    "# 4 -> college graduate"
   ]
  },
  {
   "cell_type": "code",
   "execution_count": 23,
   "metadata": {},
   "outputs": [
    {
     "data": {
      "text/plain": [
       "{4: 13656, 3: 6999, 2: 4906, 1: 2904}"
      ]
     },
     "execution_count": 23,
     "metadata": {},
     "output_type": "execute_result"
    }
   ],
   "source": [
    "ocurrences = dict(df['EDUC1'].value_counts())\n",
    "ocurrences"
   ]
  },
  {
   "cell_type": "code",
   "execution_count": 24,
   "metadata": {},
   "outputs": [
    {
     "data": {
      "text/plain": [
       "{4: 0.47974705779026877,\n",
       " 3: 0.24588090637625154,\n",
       " 2: 0.172352011241876,\n",
       " 1: 0.10202002459160373}"
      ]
     },
     "execution_count": 24,
     "metadata": {},
     "output_type": "execute_result"
    }
   ],
   "source": [
    "for i in range(1,5):\n",
    "    ocurrences[i] = ocurrences[i] / len(df)\n",
    "    \n",
    "ocurrences"
   ]
  },
  {
   "cell_type": "code",
   "execution_count": 26,
   "metadata": {},
   "outputs": [
    {
     "data": {
      "text/plain": [
       "{3: 0.24588090637625154,\n",
       " 1: 0.10202002459160373,\n",
       " 'college': 0.47974705779026877,\n",
       " 'hich school': 0.172352011241876}"
      ]
     },
     "execution_count": 26,
     "metadata": {},
     "output_type": "execute_result"
    }
   ],
   "source": [
    "ocurrences['hich school'] = ocurrences.pop(2)\n",
    "ocurrences"
   ]
  },
  {
   "cell_type": "code",
   "execution_count": 32,
   "metadata": {},
   "outputs": [
    {
     "name": "stdout",
     "output_type": "stream",
     "text": [
      "<class 'dict'>\n",
      "4\n",
      "dict_keys(['less than high school', 'high school', 'more than high school but not college', 'college'])\n"
     ]
    }
   ],
   "source": [
    "# SOLUTION\n",
    "# Change the path when submitting\n",
    "\n",
    "def proportion_of_education():\n",
    "    \n",
    "    df = pd.read_csv('/Users/jonathansuarezcaceres/Downloads/1_Data Science/Intro to DS with Python/NISPUF17.csv',\n",
    "                index_col = 0)\n",
    "    \n",
    "    # Step 1 : Store keys into a dictionary\n",
    "    count = dict(df['EDUC1'].value_counts())\n",
    "    \n",
    "    # Step 2 : Calculate proportion\n",
    "    for i in range(1, len(df['EDUC1'].unique()) + 1):\n",
    "        count[i] = count[i] / len(df)\n",
    "        \n",
    "    # Replace keys 1, 2, ... for the correct names: college, less than high school, ...\n",
    "    count['less than high school'] = count.pop(1)\n",
    "    count['high school'] = count.pop(2)\n",
    "    count['more than high school but not college'] = count.pop(3)\n",
    "    count['college'] = count.pop(4)\n",
    "    \n",
    "    return count\n",
    "\n",
    "    raise NotImplementedError()\n",
    "\n",
    "print(type(proportion_of_education()))\n",
    "print(len(proportion_of_education()))\n",
    "print(proportion_of_education().keys())"
   ]
  },
  {
   "cell_type": "markdown",
   "metadata": {},
   "source": [
    "## Question 2"
   ]
  },
  {
   "cell_type": "code",
   "execution_count": 56,
   "metadata": {},
   "outputs": [
    {
     "data": {
      "text/plain": [
       "array(['SEQNUMC', 'SEQNUMHH', 'PDAT', 'PROVWT_D', 'RDDWT_D', 'STRATUM',\n",
       "       'YEAR', 'AGECPOXR', 'HAD_CPOX', 'AGEGRP', 'BF_ENDR06',\n",
       "       'BF_EXCLR06', 'BF_FORMR08', 'BFENDFL06', 'BFFORMFL06', 'C1R',\n",
       "       'C5R', 'CBF_01', 'CEN_REG', 'CHILDNM', 'CWIC_01', 'CWIC_02',\n",
       "       'EDUC1', 'FRSTBRN', 'I_HISP_K', 'INCPORAR', 'INCPORAR_I',\n",
       "       'INCPOV1', 'INCQ298A', 'LANGUAGE', 'M_AGEGRP2', 'MARITAL2',\n",
       "       'MOBIL_I', 'NUM_PHONE', 'NUM_CELLS_HH', 'NUM_CELLS_PARENTS',\n",
       "       'RACE_K', 'RACEETHK', 'RENT_OWN', 'SEX', 'ESTIAP17', 'EST_GRANT',\n",
       "       'STATE', 'D6R', 'D7', 'N_PRVR', 'PROV_FAC', 'REGISTRY',\n",
       "       'VFC_ORDER', 'HEP_BRTH', 'HEP_FLAG', 'P_NUHEPX', 'P_NUHIBX',\n",
       "       'P_NUHPHB', 'P_NUMDAH', 'P_NUMDHI', 'P_NUMDIH', 'P_NUMDTA',\n",
       "       'P_NUMDTP', 'P_NUMFLU', 'P_NUMFLUL', 'P_NUMFLUM', 'P_NUMFLUN',\n",
       "       'P_NUMHEA', 'P_NUMHEN', 'P_NUMHEP', 'P_NUMHG', 'P_NUMHHY',\n",
       "       'P_NUMHIB', 'P_NUMHIN', 'P_NUMHION', 'P_NUMHM', 'P_NUMHS',\n",
       "       'P_NUMIPV', 'P_NUMMCN', 'P_NUMMMR', 'P_NUMMMRX', 'P_NUMMMX',\n",
       "       'P_NUMMP', 'P_NUMMPR', 'P_NUMMRV', 'P_NUMMS', 'P_NUMMSM',\n",
       "       'P_NUMMSR', 'P_NUMOLN', 'P_NUMOPV', 'P_NUMPCV', 'P_NUMPCP',\n",
       "       'P_NUMPCC', 'P_NUMPCC7', 'P_NUMPCC13', 'P_NUMPCCN', 'P_NUMPCN',\n",
       "       'P_NUMPOL', 'P_NUMRB', 'P_NUMRG', 'P_NUMRM', 'P_NUMRO', 'P_NUMROT',\n",
       "       'P_NUMTPN', 'P_NUMVRC', 'P_NUMVRN', 'P_NUMVRX', 'P_U12VRC',\n",
       "       'P_UTD331', 'P_UTD431', 'P_UTDHEP', 'P_UTDHEPA1', 'P_UTDHEPA2',\n",
       "       'P_UTDHIB', 'P_UTDHIB_ROUT_S', 'P_UTDHIB_SHORT_S', 'P_UTDMCV',\n",
       "       'P_UTDMMX', 'P_UTDPC3', 'P_UTDPCV', 'P_UTDPCVB13', 'P_UTDPOL',\n",
       "       'P_UTDROT_S', 'P_UTDTP3', 'P_UTDTP4', 'PU431331',\n",
       "       'P_UTD431H31_ROUT_S', 'PU431_31', 'PU4313313',\n",
       "       'P_UTD431H313_ROUT_S', 'PU4313314', 'P_UTD431H314_ROUT_S',\n",
       "       'PU431_314', 'PUT43133', 'P_UTD431H3_ROUT_S', 'PUTD4313',\n",
       "       'P_UTD431H_ROUT_S', 'U1D_HEP', 'U2D_HEP', 'U3D_HEP', 'DDTP1',\n",
       "       'DDTP2', 'DDTP3', 'DDTP4', 'DDTP5', 'DDTP6', 'DDTP7', 'DDTP8',\n",
       "       'DDTP9', 'DFLU1', 'DFLU2', 'DFLU3', 'DFLU4', 'DFLU5', 'DFLU6',\n",
       "       'DFLU7', 'DFLU8', 'DFLU9', 'DHEPA1', 'DHEPA2', 'DHEPA3', 'DHEPA4',\n",
       "       'DHEPA5', 'DHEPA6', 'DHEPA7', 'DHEPA8', 'DHEPA9', 'DHEPB1',\n",
       "       'DHEPB2', 'DHEPB3', 'DHEPB4', 'DHEPB5', 'DHEPB6', 'DHEPB7',\n",
       "       'DHEPB8', 'DHEPB9', 'DHIB1', 'DHIB2', 'DHIB3', 'DHIB4', 'DHIB5',\n",
       "       'DHIB6', 'DHIB7', 'DHIB8', 'DHIB9', 'DMMR1', 'DMMR2', 'DMMR3',\n",
       "       'DMMR4', 'DMMR5', 'DMMR6', 'DMMR7', 'DMMR8', 'DMMR9', 'DMP1',\n",
       "       'DMP2', 'DMP3', 'DMP4', 'DMP5', 'DMP6', 'DMP7', 'DMP8', 'DMP9',\n",
       "       'DMPRB1', 'DMPRB2', 'DMPRB3', 'DMPRB4', 'DMPRB5', 'DMPRB6',\n",
       "       'DMPRB7', 'DMPRB8', 'DMPRB9', 'DPCV1', 'DPCV2', 'DPCV3', 'DPCV4',\n",
       "       'DPCV5', 'DPCV6', 'DPCV7', 'DPCV8', 'DPCV9', 'DPOLIO1', 'DPOLIO2',\n",
       "       'DPOLIO3', 'DPOLIO4', 'DPOLIO5', 'DPOLIO6', 'DPOLIO7', 'DPOLIO8',\n",
       "       'DPOLIO9', 'DRB1', 'DRB2', 'DRB3', 'DRB4', 'DRB5', 'DRB6', 'DRB7',\n",
       "       'DRB8', 'DRB9', 'DROT1', 'DROT2', 'DROT3', 'DROT4', 'DROT5',\n",
       "       'DROT6', 'DROT7', 'DROT8', 'DROT9', 'DVRC1', 'DVRC2', 'DVRC3',\n",
       "       'DVRC4', 'DVRC5', 'DVRC6', 'DVRC7', 'DVRC8', 'DVRC9', 'DTP1_AGE',\n",
       "       'DTP2_AGE', 'DTP3_AGE', 'DTP4_AGE', 'DTP5_AGE', 'DTP6_AGE',\n",
       "       'DTP7_AGE', 'DTP8_AGE', 'DTP9_AGE', 'FLU1_AGE', 'FLU2_AGE',\n",
       "       'FLU3_AGE', 'FLU4_AGE', 'FLU5_AGE', 'FLU6_AGE', 'FLU7_AGE',\n",
       "       'FLU8_AGE', 'FLU9_AGE', 'HEA1_AGE', 'HEA2_AGE', 'HEA3_AGE',\n",
       "       'HEA4_AGE', 'HEA5_AGE', 'HEA6_AGE', 'HEA7_AGE', 'HEA8_AGE',\n",
       "       'HEA9_AGE', 'HEP1_AGE', 'HEP2_AGE', 'HEP3_AGE', 'HEP4_AGE',\n",
       "       'HEP5_AGE', 'HEP6_AGE', 'HEP7_AGE', 'HEP8_AGE', 'HEP9_AGE',\n",
       "       'HIB1_AGE', 'HIB2_AGE', 'HIB3_AGE', 'HIB4_AGE', 'HIB5_AGE',\n",
       "       'HIB6_AGE', 'HIB7_AGE', 'HIB8_AGE', 'HIB9_AGE', 'MMR1_AGE',\n",
       "       'MMR2_AGE', 'MMR3_AGE', 'MMR4_AGE', 'MMR5_AGE', 'MMR6_AGE',\n",
       "       'MMR7_AGE', 'MMR8_AGE', 'MMR9_AGE', 'MP1_AGE', 'MP2_AGE',\n",
       "       'MP3_AGE', 'MP4_AGE', 'MP5_AGE', 'MP6_AGE', 'MP7_AGE', 'MP8_AGE',\n",
       "       'MP9_AGE', 'MPR1_AGE', 'MPR2_AGE', 'MPR3_AGE', 'MPR4_AGE',\n",
       "       'MPR5_AGE', 'MPR6_AGE', 'MPR7_AGE', 'MPR8_AGE', 'MPR9_AGE',\n",
       "       'PCV1_AGE', 'PCV2_AGE', 'PCV3_AGE', 'PCV4_AGE', 'PCV5_AGE',\n",
       "       'PCV6_AGE', 'PCV7_AGE', 'PCV8_AGE', 'PCV9_AGE', 'POL1_AGE',\n",
       "       'POL2_AGE', 'POL3_AGE', 'POL4_AGE', 'POL5_AGE', 'POL6_AGE',\n",
       "       'POL7_AGE', 'POL8_AGE', 'POL9_AGE', 'RB1_AGE', 'RB2_AGE',\n",
       "       'RB3_AGE', 'RB4_AGE', 'RB5_AGE', 'RB6_AGE', 'RB7_AGE', 'RB8_AGE',\n",
       "       'RB9_AGE', 'ROT1_AGE', 'ROT2_AGE', 'ROT3_AGE', 'ROT4_AGE',\n",
       "       'ROT5_AGE', 'ROT6_AGE', 'ROT7_AGE', 'ROT8_AGE', 'ROT9_AGE',\n",
       "       'VRC1_AGE', 'VRC2_AGE', 'VRC3_AGE', 'VRC4_AGE', 'VRC5_AGE',\n",
       "       'VRC6_AGE', 'VRC7_AGE', 'VRC8_AGE', 'VRC9_AGE', 'XDTPTY1',\n",
       "       'XDTPTY2', 'XDTPTY3', 'XDTPTY4', 'XDTPTY5', 'XDTPTY6', 'XDTPTY7',\n",
       "       'XDTPTY8', 'XDTPTY9', 'XFLUTY1', 'XFLUTY2', 'XFLUTY3', 'XFLUTY4',\n",
       "       'XFLUTY5', 'XFLUTY6', 'XFLUTY7', 'XFLUTY8', 'XFLUTY9', 'XHEPTY1',\n",
       "       'XHEPTY2', 'XHEPTY3', 'XHEPTY4', 'XHEPTY5', 'XHEPTY6', 'XHEPTY7',\n",
       "       'XHEPTY8', 'XHEPTY9', 'XHIBTY1', 'XHIBTY2', 'XHIBTY3', 'XHIBTY4',\n",
       "       'XHIBTY5', 'XHIBTY6', 'XHIBTY7', 'XHIBTY8', 'XHIBTY9', 'XMMRTY1',\n",
       "       'XMMRTY2', 'XMMRTY3', 'XMMRTY4', 'XMMRTY5', 'XMMRTY6', 'XMMRTY7',\n",
       "       'XMMRTY8', 'XMMRTY9', 'XPCVTY1', 'XPCVTY2', 'XPCVTY3', 'XPCVTY4',\n",
       "       'XPCVTY5', 'XPCVTY6', 'XPCVTY7', 'XPCVTY8', 'XPCVTY9', 'XPOLTY1',\n",
       "       'XPOLTY2', 'XPOLTY3', 'XPOLTY4', 'XPOLTY5', 'XPOLTY6', 'XPOLTY7',\n",
       "       'XPOLTY8', 'XPOLTY9', 'XROTTY1', 'XROTTY2', 'XROTTY3', 'XROTTY4',\n",
       "       'XROTTY5', 'XROTTY6', 'XROTTY7', 'XROTTY8', 'XROTTY9', 'XVRCTY1',\n",
       "       'XVRCTY2', 'XVRCTY3', 'XVRCTY4', 'XVRCTY5', 'XVRCTY6', 'XVRCTY7',\n",
       "       'XVRCTY8', 'XVRCTY9', 'INS_STAT2_I', 'INS_BREAK_I'], dtype=object)"
      ]
     },
     "execution_count": 56,
     "metadata": {},
     "output_type": "execute_result"
    }
   ],
   "source": [
    "# ever fed breast milk -> CBF_01\n",
    "# total number of seasonal influenza doses -> P_NUMFLU\n",
    "\n",
    "df = pd.read_csv('/Users/jonathansuarezcaceres/Downloads/1_Data Science/Intro to DS with Python/NISPUF17.csv',\n",
    "                index_col = 0)\n",
    "\n",
    "cols = np.array(df.columns)\n",
    "cols"
   ]
  },
  {
   "cell_type": "code",
   "execution_count": 71,
   "metadata": {},
   "outputs": [
    {
     "data": {
      "text/html": [
       "<div>\n",
       "<style scoped>\n",
       "    .dataframe tbody tr th:only-of-type {\n",
       "        vertical-align: middle;\n",
       "    }\n",
       "\n",
       "    .dataframe tbody tr th {\n",
       "        vertical-align: top;\n",
       "    }\n",
       "\n",
       "    .dataframe thead th {\n",
       "        text-align: right;\n",
       "    }\n",
       "</style>\n",
       "<table border=\"1\" class=\"dataframe\">\n",
       "  <thead>\n",
       "    <tr style=\"text-align: right;\">\n",
       "      <th></th>\n",
       "      <th>CBF_01</th>\n",
       "      <th>P_NUMFLU</th>\n",
       "    </tr>\n",
       "  </thead>\n",
       "  <tbody>\n",
       "    <tr>\n",
       "      <th>4</th>\n",
       "      <td>2</td>\n",
       "      <td>3.0</td>\n",
       "    </tr>\n",
       "    <tr>\n",
       "      <th>5</th>\n",
       "      <td>1</td>\n",
       "      <td>0.0</td>\n",
       "    </tr>\n",
       "    <tr>\n",
       "      <th>7</th>\n",
       "      <td>1</td>\n",
       "      <td>0.0</td>\n",
       "    </tr>\n",
       "    <tr>\n",
       "      <th>8</th>\n",
       "      <td>1</td>\n",
       "      <td>0.0</td>\n",
       "    </tr>\n",
       "    <tr>\n",
       "      <th>9</th>\n",
       "      <td>1</td>\n",
       "      <td>0.0</td>\n",
       "    </tr>\n",
       "    <tr>\n",
       "      <th>...</th>\n",
       "      <td>...</td>\n",
       "      <td>...</td>\n",
       "    </tr>\n",
       "    <tr>\n",
       "      <th>28447</th>\n",
       "      <td>1</td>\n",
       "      <td>2.0</td>\n",
       "    </tr>\n",
       "    <tr>\n",
       "      <th>28448</th>\n",
       "      <td>2</td>\n",
       "      <td>1.0</td>\n",
       "    </tr>\n",
       "    <tr>\n",
       "      <th>28450</th>\n",
       "      <td>1</td>\n",
       "      <td>4.0</td>\n",
       "    </tr>\n",
       "    <tr>\n",
       "      <th>28453</th>\n",
       "      <td>2</td>\n",
       "      <td>2.0</td>\n",
       "    </tr>\n",
       "    <tr>\n",
       "      <th>28455</th>\n",
       "      <td>1</td>\n",
       "      <td>0.0</td>\n",
       "    </tr>\n",
       "  </tbody>\n",
       "</table>\n",
       "<p>15288 rows × 2 columns</p>\n",
       "</div>"
      ],
      "text/plain": [
       "       CBF_01  P_NUMFLU\n",
       "4           2       3.0\n",
       "5           1       0.0\n",
       "7           1       0.0\n",
       "8           1       0.0\n",
       "9           1       0.0\n",
       "...       ...       ...\n",
       "28447       1       2.0\n",
       "28448       2       1.0\n",
       "28450       1       4.0\n",
       "28453       2       2.0\n",
       "28455       1       0.0\n",
       "\n",
       "[15288 rows x 2 columns]"
      ]
     },
     "execution_count": 71,
     "metadata": {},
     "output_type": "execute_result"
    }
   ],
   "source": [
    "new_df = df[['CBF_01', 'P_NUMFLU']]\n",
    "\n",
    "new_df = new_df.dropna()\n",
    "new_df = new_df[new_df['CBF_01'] != 77]\n",
    "new_df = new_df[new_df['CBF_01'] != 99]\n",
    "\n",
    "new_df"
   ]
  },
  {
   "cell_type": "code",
   "execution_count": 73,
   "metadata": {},
   "outputs": [
    {
     "name": "stdout",
     "output_type": "stream",
     "text": [
      "[2 1]\n",
      "[3. 0. 2. 1. 4. 5. 6.]\n"
     ]
    }
   ],
   "source": [
    "print(new_df['CBF_01'].unique())\n",
    "print(new_df['P_NUMFLU'].unique())"
   ]
  },
  {
   "cell_type": "code",
   "execution_count": 88,
   "metadata": {},
   "outputs": [
    {
     "name": "stdout",
     "output_type": "stream",
     "text": [
      "24986.0\n",
      "13291\n",
      "\n",
      "\n",
      "3188.0\n",
      "1997\n",
      "\n",
      "\n",
      "15288\n"
     ]
    }
   ],
   "source": [
    "total_pos = np.sum(new_df[new_df['CBF_01'] == 1]['P_NUMFLU'])\n",
    "len_pos = len(new_df[new_df['CBF_01'] == 1])\n",
    "print(test1)\n",
    "print(len_pos)\n",
    "print('\\n')\n",
    "total_neg = np.sum(new_df[new_df['CBF_01'] == 2]['P_NUMFLU'])\n",
    "len_neg = len(new_df[new_df['CBF_01'] == 2])\n",
    "print(test2)\n",
    "print(len_neg)\n",
    "print('\\n')\n",
    "print(len_pos + len_neg)"
   ]
  },
  {
   "cell_type": "code",
   "execution_count": null,
   "metadata": {},
   "outputs": [],
   "source": [
    "# SOLUTION\n",
    "# Change the path when submitting\n",
    "\n",
    "def average_influenza_doses():\n",
    "    \n",
    "    import pandas as pd\n",
    "    import numpy as np\n",
    "    \n",
    "    df = pd.read_csv('/Users/jonathansuarezcaceres/Downloads/1_Data Science/Intro to DS with Python/NISPUF17.csv',\n",
    "                index_col = 0)\n",
    "    \n",
    "    # Step 1 : create a new dataframe with the data we are interested in\n",
    "    new_df = df[['CBF_01', 'P_NUMFLU']]\n",
    "    \n",
    "    # Step 2 : We clean the data\n",
    "    new_df = new_df.dropna()\n",
    "    new_df = new_df[new_df['CBF_01'] != 77]\n",
    "    new_df = new_df[new_df['CBF_01'] != 99]\n",
    "    \n",
    "    # Step 3 : We calculate the totals\n",
    "    totalWithBreastFeed = np.sum(new_df[new_df['CBF_01'] == 1]['P_NUMFLU'])\n",
    "    totalWithoutBreastFeed = np.sum(new_df[new_df['CBF_01'] == 2]['P_NUMFLU'])\n",
    "    \n",
    "    # Step 4 : We calculate the averages\n",
    "    avgWithBreastFeed = totalWithBreastFeed / len(new_df[new_df['CBF_01'] == 1])\n",
    "    avgWithoutBreastFeed = totalWithoutBreastFeed / len(new_df[new_df['CBF_01'] == 2])\n",
    "    \n",
    "    # Step 5 : Create the tuple\n",
    "    avgDoses = (avgWithBreastFeed, avgWithoutBreastFeed)\n",
    "    \n",
    "    return avgDoses\n",
    "    \n",
    "    raise NotImplementedError()"
   ]
  },
  {
   "cell_type": "markdown",
   "metadata": {},
   "source": [
    "## Question 3"
   ]
  },
  {
   "cell_type": "code",
   "execution_count": 113,
   "metadata": {},
   "outputs": [
    {
     "data": {
      "text/plain": [
       "1        NaN\n",
       "2        NaN\n",
       "3        NaN\n",
       "4        1.0\n",
       "5        0.0\n",
       "        ... \n",
       "28461    NaN\n",
       "28462    NaN\n",
       "28463    NaN\n",
       "28464    NaN\n",
       "28465    NaN\n",
       "Name: P_NUMVRC, Length: 28465, dtype: float64"
      ]
     },
     "execution_count": 113,
     "metadata": {},
     "output_type": "execute_result"
    }
   ],
   "source": [
    "df = pd.read_csv('/Users/jonathansuarezcaceres/Downloads/1_Data Science/Intro to DS with Python/NISPUF17.csv',\n",
    "                index_col = 0)\n",
    "\n",
    "df['P_NUMVRC']"
   ]
  },
  {
   "cell_type": "code",
   "execution_count": 128,
   "metadata": {},
   "outputs": [
    {
     "name": "stdout",
     "output_type": "stream",
     "text": [
      "[1 2]\n",
      "[nan  1.  0.  2.  3.]\n",
      "[ 2  1 77 99]\n"
     ]
    }
   ],
   "source": [
    "# sexo del niño -> SEX\n",
    "# -> 1 : Male\n",
    "# -> 2 : Female\n",
    "\n",
    "# total number of varicella doses -> P_NUMVRC\n",
    "# did child ever have chicken pox -> HAD_CPOX\n",
    "# -> 1 : Yes\n",
    "# -> 2 : No\n",
    "\n",
    "\n",
    "print(df['SEX'].unique())\n",
    "print(df['P_NUMVRC'].unique())\n",
    "print(df['HAD_CPOX'].unique())"
   ]
  },
  {
   "cell_type": "code",
   "execution_count": 129,
   "metadata": {},
   "outputs": [
    {
     "data": {
      "text/html": [
       "<div>\n",
       "<style scoped>\n",
       "    .dataframe tbody tr th:only-of-type {\n",
       "        vertical-align: middle;\n",
       "    }\n",
       "\n",
       "    .dataframe tbody tr th {\n",
       "        vertical-align: top;\n",
       "    }\n",
       "\n",
       "    .dataframe thead th {\n",
       "        text-align: right;\n",
       "    }\n",
       "</style>\n",
       "<table border=\"1\" class=\"dataframe\">\n",
       "  <thead>\n",
       "    <tr style=\"text-align: right;\">\n",
       "      <th></th>\n",
       "      <th>SEX</th>\n",
       "      <th>P_NUMVRC</th>\n",
       "      <th>HAD_CPOX</th>\n",
       "    </tr>\n",
       "  </thead>\n",
       "  <tbody>\n",
       "    <tr>\n",
       "      <th>1</th>\n",
       "      <td>1</td>\n",
       "      <td>NaN</td>\n",
       "      <td>2</td>\n",
       "    </tr>\n",
       "    <tr>\n",
       "      <th>2</th>\n",
       "      <td>1</td>\n",
       "      <td>NaN</td>\n",
       "      <td>2</td>\n",
       "    </tr>\n",
       "    <tr>\n",
       "      <th>3</th>\n",
       "      <td>2</td>\n",
       "      <td>NaN</td>\n",
       "      <td>2</td>\n",
       "    </tr>\n",
       "    <tr>\n",
       "      <th>4</th>\n",
       "      <td>2</td>\n",
       "      <td>1.0</td>\n",
       "      <td>2</td>\n",
       "    </tr>\n",
       "    <tr>\n",
       "      <th>5</th>\n",
       "      <td>2</td>\n",
       "      <td>0.0</td>\n",
       "      <td>2</td>\n",
       "    </tr>\n",
       "    <tr>\n",
       "      <th>...</th>\n",
       "      <td>...</td>\n",
       "      <td>...</td>\n",
       "      <td>...</td>\n",
       "    </tr>\n",
       "    <tr>\n",
       "      <th>28461</th>\n",
       "      <td>2</td>\n",
       "      <td>NaN</td>\n",
       "      <td>2</td>\n",
       "    </tr>\n",
       "    <tr>\n",
       "      <th>28462</th>\n",
       "      <td>2</td>\n",
       "      <td>NaN</td>\n",
       "      <td>2</td>\n",
       "    </tr>\n",
       "    <tr>\n",
       "      <th>28463</th>\n",
       "      <td>2</td>\n",
       "      <td>NaN</td>\n",
       "      <td>2</td>\n",
       "    </tr>\n",
       "    <tr>\n",
       "      <th>28464</th>\n",
       "      <td>2</td>\n",
       "      <td>NaN</td>\n",
       "      <td>2</td>\n",
       "    </tr>\n",
       "    <tr>\n",
       "      <th>28465</th>\n",
       "      <td>2</td>\n",
       "      <td>NaN</td>\n",
       "      <td>2</td>\n",
       "    </tr>\n",
       "  </tbody>\n",
       "</table>\n",
       "<p>28465 rows × 3 columns</p>\n",
       "</div>"
      ],
      "text/plain": [
       "       SEX  P_NUMVRC  HAD_CPOX\n",
       "1        1       NaN         2\n",
       "2        1       NaN         2\n",
       "3        2       NaN         2\n",
       "4        2       1.0         2\n",
       "5        2       0.0         2\n",
       "...    ...       ...       ...\n",
       "28461    2       NaN         2\n",
       "28462    2       NaN         2\n",
       "28463    2       NaN         2\n",
       "28464    2       NaN         2\n",
       "28465    2       NaN         2\n",
       "\n",
       "[28465 rows x 3 columns]"
      ]
     },
     "execution_count": 129,
     "metadata": {},
     "output_type": "execute_result"
    }
   ],
   "source": [
    "# step 1 : new dataframe with data of interest\n",
    "new_df = df[['SEX', 'P_NUMVRC', 'HAD_CPOX']]\n",
    "new_df"
   ]
  },
  {
   "cell_type": "code",
   "execution_count": 131,
   "metadata": {},
   "outputs": [
    {
     "data": {
      "text/html": [
       "<div>\n",
       "<style scoped>\n",
       "    .dataframe tbody tr th:only-of-type {\n",
       "        vertical-align: middle;\n",
       "    }\n",
       "\n",
       "    .dataframe tbody tr th {\n",
       "        vertical-align: top;\n",
       "    }\n",
       "\n",
       "    .dataframe thead th {\n",
       "        text-align: right;\n",
       "    }\n",
       "</style>\n",
       "<table border=\"1\" class=\"dataframe\">\n",
       "  <thead>\n",
       "    <tr style=\"text-align: right;\">\n",
       "      <th></th>\n",
       "      <th>SEX</th>\n",
       "      <th>P_NUMVRC</th>\n",
       "      <th>HAD_CPOX</th>\n",
       "    </tr>\n",
       "  </thead>\n",
       "  <tbody>\n",
       "    <tr>\n",
       "      <th>4</th>\n",
       "      <td>2</td>\n",
       "      <td>1.0</td>\n",
       "      <td>2</td>\n",
       "    </tr>\n",
       "    <tr>\n",
       "      <th>7</th>\n",
       "      <td>2</td>\n",
       "      <td>1.0</td>\n",
       "      <td>2</td>\n",
       "    </tr>\n",
       "    <tr>\n",
       "      <th>11</th>\n",
       "      <td>1</td>\n",
       "      <td>1.0</td>\n",
       "      <td>2</td>\n",
       "    </tr>\n",
       "    <tr>\n",
       "      <th>13</th>\n",
       "      <td>1</td>\n",
       "      <td>1.0</td>\n",
       "      <td>2</td>\n",
       "    </tr>\n",
       "    <tr>\n",
       "      <th>17</th>\n",
       "      <td>1</td>\n",
       "      <td>2.0</td>\n",
       "      <td>2</td>\n",
       "    </tr>\n",
       "    <tr>\n",
       "      <th>...</th>\n",
       "      <td>...</td>\n",
       "      <td>...</td>\n",
       "      <td>...</td>\n",
       "    </tr>\n",
       "    <tr>\n",
       "      <th>28447</th>\n",
       "      <td>2</td>\n",
       "      <td>1.0</td>\n",
       "      <td>2</td>\n",
       "    </tr>\n",
       "    <tr>\n",
       "      <th>28448</th>\n",
       "      <td>1</td>\n",
       "      <td>1.0</td>\n",
       "      <td>2</td>\n",
       "    </tr>\n",
       "    <tr>\n",
       "      <th>28450</th>\n",
       "      <td>1</td>\n",
       "      <td>1.0</td>\n",
       "      <td>2</td>\n",
       "    </tr>\n",
       "    <tr>\n",
       "      <th>28453</th>\n",
       "      <td>2</td>\n",
       "      <td>1.0</td>\n",
       "      <td>2</td>\n",
       "    </tr>\n",
       "    <tr>\n",
       "      <th>28455</th>\n",
       "      <td>2</td>\n",
       "      <td>1.0</td>\n",
       "      <td>2</td>\n",
       "    </tr>\n",
       "  </tbody>\n",
       "</table>\n",
       "<p>13951 rows × 3 columns</p>\n",
       "</div>"
      ],
      "text/plain": [
       "       SEX  P_NUMVRC  HAD_CPOX\n",
       "4        2       1.0         2\n",
       "7        2       1.0         2\n",
       "11       1       1.0         2\n",
       "13       1       1.0         2\n",
       "17       1       2.0         2\n",
       "...    ...       ...       ...\n",
       "28447    2       1.0         2\n",
       "28448    1       1.0         2\n",
       "28450    1       1.0         2\n",
       "28453    2       1.0         2\n",
       "28455    2       1.0         2\n",
       "\n",
       "[13951 rows x 3 columns]"
      ]
     },
     "execution_count": 131,
     "metadata": {},
     "output_type": "execute_result"
    }
   ],
   "source": [
    "# Step 2: cleaning\n",
    "\n",
    "# From HAD_CPOX\n",
    "new_df = new_df.dropna()\n",
    "new_df = new_df[new_df['HAD_CPOX'] != 77]\n",
    "new_df = new_df[new_df['HAD_CPOX'] != 99]\n",
    "\n",
    "# From P_NUMVRC\n",
    "new_df = new_df[new_df['P_NUMVRC'] > 0]\n",
    "\n",
    "new_df"
   ]
  },
  {
   "cell_type": "code",
   "execution_count": 132,
   "metadata": {},
   "outputs": [
    {
     "name": "stdout",
     "output_type": "stream",
     "text": [
      "13951\n",
      "\n",
      "\n",
      "[2 1]\n",
      "[1. 2. 3.]\n",
      "[2 1]\n"
     ]
    }
   ],
   "source": [
    "print(len(new_df))\n",
    "print('\\n')\n",
    "print(new_df['SEX'].unique())\n",
    "print(new_df['P_NUMVRC'].unique())\n",
    "print(new_df['HAD_CPOX'].unique())"
   ]
  },
  {
   "cell_type": "code",
   "execution_count": 133,
   "metadata": {},
   "outputs": [
    {
     "name": "stdout",
     "output_type": "stream",
     "text": [
      "7096\n",
      "6855\n"
     ]
    }
   ],
   "source": [
    "# Step 2 : Create a new dataframefor each sex\n",
    "\n",
    "vaccMale = new_df[new_df['SEX'] == 1]\n",
    "vaccFemale = new_df[new_df['SEX'] == 2]\n",
    "\n",
    "print(len(vaccMale))\n",
    "print(len(vaccFemale))"
   ]
  },
  {
   "cell_type": "code",
   "execution_count": 136,
   "metadata": {},
   "outputs": [
    {
     "name": "stdout",
     "output_type": "stream",
     "text": [
      "      SEX  P_NUMVRC  HAD_CPOX\n",
      "462     1       1.0         1\n",
      "688     1       1.0         1\n",
      "864     1       1.0         1\n",
      "1480    1       1.0         1\n",
      "1907    1       1.0         1\n",
      "\n",
      "\n",
      "    SEX  P_NUMVRC  HAD_CPOX\n",
      "4     2       1.0         2\n",
      "7     2       1.0         2\n",
      "21    2       1.0         2\n",
      "23    2       1.0         2\n",
      "25    2       1.0         2\n"
     ]
    }
   ],
   "source": [
    "print(vaccMale.head())\n",
    "print('\\n')\n",
    "print(vaccFemale.head())"
   ]
  },
  {
   "cell_type": "code",
   "execution_count": 137,
   "metadata": {},
   "outputs": [
    {
     "name": "stdout",
     "output_type": "stream",
     "text": [
      "0.009675583380762664\n",
      "0.0077918259335489565\n"
     ]
    }
   ],
   "source": [
    "# Step 3 : Calculate ratios\n",
    "\n",
    "RatioMale = len(vaccMale[vaccMale['HAD_CPOX'] == 1]) / len(vaccMale[vaccMale['HAD_CPOX'] == 2])\n",
    "RatioFemale = len(vaccFemale[vaccFemale['HAD_CPOX'] == 1]) / len(vaccFemale[vaccFemale['HAD_CPOX'] == 2])\n",
    "\n",
    "print(RatioMale)\n",
    "print(RatioFemale)"
   ]
  },
  {
   "cell_type": "code",
   "execution_count": 138,
   "metadata": {},
   "outputs": [
    {
     "data": {
      "text/plain": [
       "{'male': 0.009675583380762664, 'female': 0.0077918259335489565}"
      ]
     },
     "execution_count": 138,
     "metadata": {},
     "output_type": "execute_result"
    }
   ],
   "source": [
    "# SOLUTION\n",
    "# Change the path when submitting\n",
    "\n",
    "def chickenpox_by_sex():\n",
    "    import pandas as pd\n",
    "    import numpy as np\n",
    "    \n",
    "    df = pd.read_csv('/Users/jonathansuarezcaceres/Downloads/1_Data Science/Intro to DS with Python/NISPUF17.csv',\n",
    "                index_col = 0)\n",
    "    \n",
    "    # Step 1: New dataframe with the data of interest\n",
    "    new_df = df[['SEX', 'P_NUMVRC', 'HAD_CPOX']]\n",
    "    \n",
    "    # Step 2: Data cleaning\n",
    "    # HAD_CPOX\n",
    "    new_df = new_df.dropna()\n",
    "    new_df = new_df[new_df['HAD_CPOX'] != 77]\n",
    "    new_df = new_df[new_df['HAD_CPOX'] != 99]\n",
    "    \n",
    "    # P_NUMVRC\n",
    "    new_df = new_df[new_df['P_NUMVRC'] > 0]\n",
    "    \n",
    "    # Step 3: DataFrame for each sex\n",
    "    VaccMale = new_df[new_df['SEX'] == 1]\n",
    "    VaccFemale = new_df[new_df['SEX'] == 2]\n",
    "    \n",
    "    # Step 4: Calculate ratios: had CPOX / didn't have CPOX\n",
    "    RatioMale = len(vaccMale[vaccMale['HAD_CPOX'] == 1]) / len(vaccMale[vaccMale['HAD_CPOX'] == 2])\n",
    "    RatioFemale = len(vaccFemale[vaccFemale['HAD_CPOX'] == 1]) / len(vaccFemale[vaccFemale['HAD_CPOX'] == 2])\n",
    "    \n",
    "    results = {'male' : RatioMale, 'female' : RatioFemale}\n",
    "    \n",
    "    return results\n",
    "    \n",
    "    raise NotImplementedError()\n",
    "    \n",
    "chickenpox_by_sex()"
   ]
  },
  {
   "cell_type": "markdown",
   "metadata": {},
   "source": [
    "## Question 4"
   ]
  },
  {
   "cell_type": "code",
   "execution_count": 140,
   "metadata": {},
   "outputs": [
    {
     "data": {
      "text/plain": [
       "0.11626078345427274"
      ]
     },
     "execution_count": 140,
     "metadata": {},
     "output_type": "execute_result"
    }
   ],
   "source": [
    "def corr_chickenpox():\n",
    "    import scipy.stats as stats\n",
    "    import numpy as np\n",
    "    import pandas as pd\n",
    "    \n",
    "    # this is just an example dataframe\n",
    "    df=pd.DataFrame({\"had_chickenpox_column\":np.random.randint(1,3,size=(100)),\n",
    "                   \"num_chickenpox_vaccine_column\":np.random.randint(0,6,size=(100))})\n",
    "\n",
    "    # here is some stub code to actually run the correlation\n",
    "    corr, pval=stats.pearsonr(df[\"had_chickenpox_column\"],df[\"num_chickenpox_vaccine_column\"])\n",
    "    \n",
    "    # just return the correlation\n",
    "    return corr\n",
    "\n",
    "    # YOUR CODE HERE\n",
    "    raise NotImplementedError()\n",
    "    \n",
    "corr_chickenpox()"
   ]
  },
  {
   "cell_type": "code",
   "execution_count": 142,
   "metadata": {},
   "outputs": [
    {
     "name": "stdout",
     "output_type": "stream",
     "text": [
      "True\n",
      "True\n"
     ]
    }
   ],
   "source": [
    "print(corr_chickenpox() < 1.0)\n",
    "print(corr_chickenpox() > -1.0)"
   ]
  },
  {
   "cell_type": "code",
   "execution_count": 144,
   "metadata": {},
   "outputs": [
    {
     "name": "stdout",
     "output_type": "stream",
     "text": [
      "[1. 0. 2. 3.]\n",
      "[2 1]\n"
     ]
    }
   ],
   "source": [
    "df = pd.read_csv('/Users/jonathansuarezcaceres/Downloads/1_Data Science/Intro to DS with Python/NISPUF17.csv',\n",
    "                index_col = 0)\n",
    "    \n",
    "# Step 1: New dataframe with the data of interest\n",
    "new_df = df[['P_NUMVRC', 'HAD_CPOX']]\n",
    "\n",
    "# Step 2: Data cleaning\n",
    "# HAD_CPOX\n",
    "new_df = new_df.dropna()\n",
    "new_df = new_df[new_df['HAD_CPOX'] != 77]\n",
    "new_df = new_df[new_df['HAD_CPOX'] != 99]\n",
    "\n",
    "print(new_df['P_NUMVRC'].unique())\n",
    "print(new_df['HAD_CPOX'].unique())"
   ]
  },
  {
   "cell_type": "code",
   "execution_count": 151,
   "metadata": {},
   "outputs": [
    {
     "name": "stdout",
     "output_type": "stream",
     "text": [
      "   P_NUMVRC  HAD_CPOX\n",
      "4       1.0         2\n",
      "5       0.0         2\n",
      "7       1.0         2\n",
      "8       0.0         2\n",
      "9       0.0         1\n",
      "\n",
      "\n",
      "15286\n"
     ]
    }
   ],
   "source": [
    "print(new_df.head())\n",
    "print('\\n')\n",
    "print(len(new_df))"
   ]
  },
  {
   "cell_type": "code",
   "execution_count": 156,
   "metadata": {},
   "outputs": [
    {
     "name": "stdout",
     "output_type": "stream",
     "text": [
      "15286\n",
      "15286\n"
     ]
    }
   ],
   "source": [
    "print(len(new_df[\"HAD_CPOX\"]))\n",
    "print(len(new_df[\"P_NUMVRC\"]))"
   ]
  },
  {
   "cell_type": "code",
   "execution_count": 155,
   "metadata": {},
   "outputs": [
    {
     "name": "stdout",
     "output_type": "stream",
     "text": [
      "0.07044873460148\n"
     ]
    }
   ],
   "source": [
    "import scipy.stats as stats\n",
    "\n",
    "corr, pval=stats.pearsonr(new_df[\"HAD_CPOX\"],new_df[\"P_NUMVRC\"])\n",
    "\n",
    "print(corr)"
   ]
  },
  {
   "cell_type": "code",
   "execution_count": 159,
   "metadata": {},
   "outputs": [
    {
     "data": {
      "text/plain": [
       "0.07044873460148"
      ]
     },
     "execution_count": 159,
     "metadata": {},
     "output_type": "execute_result"
    }
   ],
   "source": [
    "# SOLUTION\n",
    "\n",
    "def corr_chickenpox():\n",
    "    import scipy.stats as stats\n",
    "    import numpy as np\n",
    "    import pandas as pd\n",
    "    \n",
    "    # this is just an example dataframe\n",
    "    #df=pd.DataFrame({\"had_chickenpox_column\":np.random.randint(1,3,size=(100)),\n",
    "                   #\"num_chickenpox_vaccine_column\":np.random.randint(0,6,size=(100))})\n",
    "\n",
    "    # here is some stub code to actually run the correlation\n",
    "    #corr, pval=stats.pearsonr(df[\"had_chickenpox_column\"],df[\"num_chickenpox_vaccine_column\"])\n",
    "    \n",
    "    # just return the correlation\n",
    "    # return corr\n",
    "\n",
    "    # Step 1: Import data\n",
    "    df = pd.read_csv('/Users/jonathansuarezcaceres/Downloads/1_Data Science/Intro to DS with Python/NISPUF17.csv',\n",
    "                index_col = 0)\n",
    "    \n",
    "    # Step 2: New dataframe with the data of interest\n",
    "    new_df = df[['P_NUMVRC', 'HAD_CPOX']]\n",
    "\n",
    "    # Step 3: Data cleaning\n",
    "    new_df = new_df.dropna()\n",
    "    new_df = new_df[new_df['HAD_CPOX'] != 77]\n",
    "    new_df = new_df[new_df['HAD_CPOX'] != 99]\n",
    "    \n",
    "    # Step 4: correlation calculation\n",
    "    corr, pval=stats.pearsonr(new_df[\"HAD_CPOX\"],new_df[\"P_NUMVRC\"])\n",
    "\n",
    "    return corr\n",
    "    \n",
    "    raise NotImplementedError()\n",
    "    \n",
    "corr_chickenpox()"
   ]
  },
  {
   "cell_type": "code",
   "execution_count": null,
   "metadata": {},
   "outputs": [],
   "source": []
  }
 ],
 "metadata": {
  "kernelspec": {
   "display_name": "Python 3",
   "language": "python",
   "name": "python3"
  },
  "language_info": {
   "codemirror_mode": {
    "name": "ipython",
    "version": 3
   },
   "file_extension": ".py",
   "mimetype": "text/x-python",
   "name": "python",
   "nbconvert_exporter": "python",
   "pygments_lexer": "ipython3",
   "version": "3.8.5"
  }
 },
 "nbformat": 4,
 "nbformat_minor": 4
}
