{
 "cells": [
  {
   "cell_type": "code",
   "execution_count": 1,
   "metadata": {},
   "outputs": [
    {
     "name": "stdout",
     "output_type": "stream",
     "text": [
      "['bat', 'bot']\n"
     ]
    }
   ],
   "source": [
    "import re\n",
    "string = 'bat, lat, mat, bet, let, met, bit, lit, mit, bot, lot, mot'\n",
    "result = re.findall('b[ao]t', string)\n",
    "print(result)"
   ]
  },
  {
   "cell_type": "code",
   "execution_count": 33,
   "metadata": {},
   "outputs": [],
   "source": [
    "import numpy as np\n",
    "import math\n",
    "\n",
    "def l2_dist(a, b):\n",
    "    result = ((a - b) * (a - b)).sum()\n",
    "    result = result ** 0.5\n",
    "    return result"
   ]
  },
  {
   "cell_type": "code",
   "execution_count": 34,
   "metadata": {},
   "outputs": [
    {
     "name": "stdout",
     "output_type": "stream",
     "text": [
      "[[7 8 2 1 5 2 3 2 4 4 5 0 6 5 4 3 0 2 6 3]\n",
      " [4 1 1 2 7 2 7 6 2 5 2 0 2 7 6 8 3 1 5 8]\n",
      " [3 6 6 1 0 3 2 3 4 8 4 1 8 5 5 4 3 0 0 6]\n",
      " [6 8 7 6 2 4 6 4 2 2 1 0 8 6 7 2 4 2 0 6]\n",
      " [3 8 2 1 4 3 6 0 8 8 8 6 4 8 3 3 2 5 2 3]\n",
      " [6 2 1 6 2 5 4 0 5 5 8 3 3 2 1 2 3 7 5 6]\n",
      " [4 0 8 6 4 1 7 1 7 7 3 8 1 2 0 1 0 0 1 8]\n",
      " [7 4 1 5 1 7 2 6 4 5 0 1 1 4 4 6 2 7 0 7]\n",
      " [0 0 4 0 8 6 0 7 1 7 6 0 5 3 3 5 7 6 6 2]\n",
      " [0 6 2 6 5 7 2 2 3 3 5 6 2 0 7 8 0 3 6 2]\n",
      " [8 8 7 7 8 7 1 0 3 2 2 8 0 5 7 8 6 8 0 3]\n",
      " [0 5 8 1 4 8 0 2 3 5 1 8 8 6 2 8 6 2 3 1]\n",
      " [5 6 2 4 8 1 7 0 4 5 7 8 1 0 5 1 5 4 5 8]\n",
      " [5 2 3 1 6 0 1 3 4 7 2 4 7 5 0 5 8 0 4 8]\n",
      " [5 4 0 4 4 7 5 2 5 3 6 4 0 0 7 6 1 3 6 6]\n",
      " [0 1 3 5 7 2 6 5 3 2 4 1 7 8 0 7 6 4 2 7]\n",
      " [3 3 5 0 4 8 4 7 1 2 6 3 7 8 1 4 8 2 1 5]\n",
      " [1 1 3 4 8 5 8 1 3 6 2 1 1 1 8 6 8 2 4 7]\n",
      " [1 2 8 3 6 5 1 4 6 7 1 5 4 2 8 8 4 4 5 3]\n",
      " [5 8 4 1 3 5 7 6 2 1 3 7 6 8 8 0 2 4 7 7]]\n",
      "\n",
      "\n",
      "[[4 6 8 8 2 5 6 2 5 0 6 2 3 4 5 1 1 1 3 7]\n",
      " [4 5 1 8 4 1 5 0 7 8 5 6 5 4 5 0 3 3 5 2]\n",
      " [8 0 0 8 4 7 0 4 6 5 5 1 4 0 8 2 1 3 1 7]\n",
      " [7 0 6 7 1 7 6 3 4 1 5 7 6 4 8 1 2 5 8 1]\n",
      " [7 0 2 4 1 5 2 3 6 5 4 7 6 3 2 3 8 2 0 3]\n",
      " [2 1 1 5 1 0 8 5 5 7 5 8 0 6 8 7 1 6 4 8]\n",
      " [6 0 4 1 3 2 1 1 1 8 0 1 4 6 8 8 6 4 8 1]\n",
      " [4 6 6 5 4 5 2 6 4 7 5 8 1 3 6 0 1 6 4 6]\n",
      " [4 3 2 7 2 1 1 5 5 4 4 8 6 5 6 8 8 2 5 4]\n",
      " [6 0 1 5 7 4 4 0 1 6 7 4 3 5 1 6 7 0 6 5]\n",
      " [0 1 4 6 1 4 3 7 1 8 8 2 2 6 5 1 1 0 3 1]\n",
      " [3 8 5 5 7 4 8 8 6 0 3 4 5 3 2 6 3 3 6 6]\n",
      " [8 4 1 4 4 4 1 0 0 5 3 2 1 4 4 4 8 0 3 8]\n",
      " [7 4 6 5 4 4 8 0 4 5 0 0 8 4 0 7 5 4 8 7]\n",
      " [6 1 1 3 7 5 0 3 3 3 0 5 6 5 3 0 5 7 4 7]\n",
      " [8 8 7 3 5 1 6 5 8 5 7 5 8 6 0 1 1 6 7 8]\n",
      " [7 2 6 8 8 7 3 4 7 3 6 0 2 6 8 8 7 1 3 6]\n",
      " [1 2 6 0 0 3 6 3 3 4 0 1 8 0 0 7 8 8 6 0]\n",
      " [1 2 2 8 8 8 0 5 4 0 0 5 4 5 5 2 1 1 1 2]\n",
      " [6 6 7 1 4 4 6 8 2 7 5 5 7 3 2 0 5 1 4 1]]\n"
     ]
    }
   ],
   "source": [
    "a = np.random.randint(9, size = (20, 20))\n",
    "b = np.random.randint(9, size = (20, 20))\n",
    "\n",
    "print(a)\n",
    "print('\\n')\n",
    "print(b)"
   ]
  },
  {
   "cell_type": "code",
   "execution_count": 35,
   "metadata": {},
   "outputs": [
    {
     "data": {
      "text/plain": [
       "73.22567855609124"
      ]
     },
     "execution_count": 35,
     "metadata": {},
     "output_type": "execute_result"
    }
   ],
   "source": [
    "l2_dist(a, b)"
   ]
  },
  {
   "cell_type": "code",
   "execution_count": 36,
   "metadata": {},
   "outputs": [
    {
     "data": {
      "text/plain": [
       "73.22567855609124"
      ]
     },
     "execution_count": 36,
     "metadata": {},
     "output_type": "execute_result"
    }
   ],
   "source": [
    "l2_dist(a.T, b.T)"
   ]
  },
  {
   "cell_type": "code",
   "execution_count": 38,
   "metadata": {},
   "outputs": [
    {
     "data": {
      "text/plain": [
       "73.22567855609124"
      ]
     },
     "execution_count": 38,
     "metadata": {},
     "output_type": "execute_result"
    }
   ],
   "source": [
    "l2_dist(np.reshape(a, (20 * 20)), np.reshape(b, (20 * 20)))"
   ]
  },
  {
   "cell_type": "code",
   "execution_count": 39,
   "metadata": {},
   "outputs": [
    {
     "ename": "TypeError",
     "evalue": "order must be str, not numpy.ndarray",
     "output_type": "error",
     "traceback": [
      "\u001b[0;31m---------------------------------------------------------------------------\u001b[0m",
      "\u001b[0;31mTypeError\u001b[0m                                 Traceback (most recent call last)",
      "\u001b[0;32m/opt/anaconda3/lib/python3.8/site-packages/numpy/core/fromnumeric.py\u001b[0m in \u001b[0;36m_wrapfunc\u001b[0;34m(obj, method, *args, **kwds)\u001b[0m\n\u001b[1;32m     57\u001b[0m     \u001b[0;32mtry\u001b[0m\u001b[0;34m:\u001b[0m\u001b[0;34m\u001b[0m\u001b[0;34m\u001b[0m\u001b[0m\n\u001b[0;32m---> 58\u001b[0;31m         \u001b[0;32mreturn\u001b[0m \u001b[0mbound\u001b[0m\u001b[0;34m(\u001b[0m\u001b[0;34m*\u001b[0m\u001b[0margs\u001b[0m\u001b[0;34m,\u001b[0m \u001b[0;34m**\u001b[0m\u001b[0mkwds\u001b[0m\u001b[0;34m)\u001b[0m\u001b[0;34m\u001b[0m\u001b[0;34m\u001b[0m\u001b[0m\n\u001b[0m\u001b[1;32m     59\u001b[0m     \u001b[0;32mexcept\u001b[0m \u001b[0mTypeError\u001b[0m\u001b[0;34m:\u001b[0m\u001b[0;34m\u001b[0m\u001b[0;34m\u001b[0m\u001b[0m\n",
      "\u001b[0;31mTypeError\u001b[0m: order must be str, not numpy.ndarray",
      "\nDuring handling of the above exception, another exception occurred:\n",
      "\u001b[0;31mTypeError\u001b[0m                                 Traceback (most recent call last)",
      "\u001b[0;32m<ipython-input-39-e4386fbadbac>\u001b[0m in \u001b[0;36m<module>\u001b[0;34m\u001b[0m\n\u001b[0;32m----> 1\u001b[0;31m \u001b[0ml2_dist\u001b[0m\u001b[0;34m(\u001b[0m\u001b[0mnp\u001b[0m\u001b[0;34m.\u001b[0m\u001b[0mreshape\u001b[0m\u001b[0;34m(\u001b[0m\u001b[0ma\u001b[0m\u001b[0;34m,\u001b[0m \u001b[0;34m(\u001b[0m\u001b[0;36m20\u001b[0m \u001b[0;34m*\u001b[0m \u001b[0;36m20\u001b[0m\u001b[0;34m)\u001b[0m\u001b[0;34m,\u001b[0m \u001b[0mnp\u001b[0m\u001b[0;34m.\u001b[0m\u001b[0mreshape\u001b[0m\u001b[0;34m(\u001b[0m\u001b[0mb\u001b[0m\u001b[0;34m,\u001b[0m \u001b[0;34m(\u001b[0m\u001b[0;36m20\u001b[0m \u001b[0;34m*\u001b[0m \u001b[0;36m20\u001b[0m\u001b[0;34m,\u001b[0m \u001b[0;36m1\u001b[0m\u001b[0;34m)\u001b[0m\u001b[0;34m)\u001b[0m\u001b[0;34m)\u001b[0m\u001b[0;34m)\u001b[0m\u001b[0;34m\u001b[0m\u001b[0;34m\u001b[0m\u001b[0m\n\u001b[0m",
      "\u001b[0;32m<__array_function__ internals>\u001b[0m in \u001b[0;36mreshape\u001b[0;34m(*args, **kwargs)\u001b[0m\n",
      "\u001b[0;32m/opt/anaconda3/lib/python3.8/site-packages/numpy/core/fromnumeric.py\u001b[0m in \u001b[0;36mreshape\u001b[0;34m(a, newshape, order)\u001b[0m\n\u001b[1;32m    297\u001b[0m            [5, 6]])\n\u001b[1;32m    298\u001b[0m     \"\"\"\n\u001b[0;32m--> 299\u001b[0;31m     \u001b[0;32mreturn\u001b[0m \u001b[0m_wrapfunc\u001b[0m\u001b[0;34m(\u001b[0m\u001b[0ma\u001b[0m\u001b[0;34m,\u001b[0m \u001b[0;34m'reshape'\u001b[0m\u001b[0;34m,\u001b[0m \u001b[0mnewshape\u001b[0m\u001b[0;34m,\u001b[0m \u001b[0morder\u001b[0m\u001b[0;34m=\u001b[0m\u001b[0morder\u001b[0m\u001b[0;34m)\u001b[0m\u001b[0;34m\u001b[0m\u001b[0;34m\u001b[0m\u001b[0m\n\u001b[0m\u001b[1;32m    300\u001b[0m \u001b[0;34m\u001b[0m\u001b[0m\n\u001b[1;32m    301\u001b[0m \u001b[0;34m\u001b[0m\u001b[0m\n",
      "\u001b[0;32m/opt/anaconda3/lib/python3.8/site-packages/numpy/core/fromnumeric.py\u001b[0m in \u001b[0;36m_wrapfunc\u001b[0;34m(obj, method, *args, **kwds)\u001b[0m\n\u001b[1;32m     65\u001b[0m         \u001b[0;31m# Call _wrapit from within the except clause to ensure a potential\u001b[0m\u001b[0;34m\u001b[0m\u001b[0;34m\u001b[0m\u001b[0;34m\u001b[0m\u001b[0m\n\u001b[1;32m     66\u001b[0m         \u001b[0;31m# exception has a traceback chain.\u001b[0m\u001b[0;34m\u001b[0m\u001b[0;34m\u001b[0m\u001b[0;34m\u001b[0m\u001b[0m\n\u001b[0;32m---> 67\u001b[0;31m         \u001b[0;32mreturn\u001b[0m \u001b[0m_wrapit\u001b[0m\u001b[0;34m(\u001b[0m\u001b[0mobj\u001b[0m\u001b[0;34m,\u001b[0m \u001b[0mmethod\u001b[0m\u001b[0;34m,\u001b[0m \u001b[0;34m*\u001b[0m\u001b[0margs\u001b[0m\u001b[0;34m,\u001b[0m \u001b[0;34m**\u001b[0m\u001b[0mkwds\u001b[0m\u001b[0;34m)\u001b[0m\u001b[0;34m\u001b[0m\u001b[0;34m\u001b[0m\u001b[0m\n\u001b[0m\u001b[1;32m     68\u001b[0m \u001b[0;34m\u001b[0m\u001b[0m\n\u001b[1;32m     69\u001b[0m \u001b[0;34m\u001b[0m\u001b[0m\n",
      "\u001b[0;32m/opt/anaconda3/lib/python3.8/site-packages/numpy/core/fromnumeric.py\u001b[0m in \u001b[0;36m_wrapit\u001b[0;34m(obj, method, *args, **kwds)\u001b[0m\n\u001b[1;32m     42\u001b[0m     \u001b[0;32mexcept\u001b[0m \u001b[0mAttributeError\u001b[0m\u001b[0;34m:\u001b[0m\u001b[0;34m\u001b[0m\u001b[0;34m\u001b[0m\u001b[0m\n\u001b[1;32m     43\u001b[0m         \u001b[0mwrap\u001b[0m \u001b[0;34m=\u001b[0m \u001b[0;32mNone\u001b[0m\u001b[0;34m\u001b[0m\u001b[0;34m\u001b[0m\u001b[0m\n\u001b[0;32m---> 44\u001b[0;31m     \u001b[0mresult\u001b[0m \u001b[0;34m=\u001b[0m \u001b[0mgetattr\u001b[0m\u001b[0;34m(\u001b[0m\u001b[0masarray\u001b[0m\u001b[0;34m(\u001b[0m\u001b[0mobj\u001b[0m\u001b[0;34m)\u001b[0m\u001b[0;34m,\u001b[0m \u001b[0mmethod\u001b[0m\u001b[0;34m)\u001b[0m\u001b[0;34m(\u001b[0m\u001b[0;34m*\u001b[0m\u001b[0margs\u001b[0m\u001b[0;34m,\u001b[0m \u001b[0;34m**\u001b[0m\u001b[0mkwds\u001b[0m\u001b[0;34m)\u001b[0m\u001b[0;34m\u001b[0m\u001b[0;34m\u001b[0m\u001b[0m\n\u001b[0m\u001b[1;32m     45\u001b[0m     \u001b[0;32mif\u001b[0m \u001b[0mwrap\u001b[0m\u001b[0;34m:\u001b[0m\u001b[0;34m\u001b[0m\u001b[0;34m\u001b[0m\u001b[0m\n\u001b[1;32m     46\u001b[0m         \u001b[0;32mif\u001b[0m \u001b[0;32mnot\u001b[0m \u001b[0misinstance\u001b[0m\u001b[0;34m(\u001b[0m\u001b[0mresult\u001b[0m\u001b[0;34m,\u001b[0m \u001b[0mmu\u001b[0m\u001b[0;34m.\u001b[0m\u001b[0mndarray\u001b[0m\u001b[0;34m)\u001b[0m\u001b[0;34m:\u001b[0m\u001b[0;34m\u001b[0m\u001b[0;34m\u001b[0m\u001b[0m\n",
      "\u001b[0;31mTypeError\u001b[0m: order must be str, not numpy.ndarray"
     ]
    }
   ],
   "source": [
    "l2_dist(np.reshape(a, (20 * 20), np.reshape(b, (20 * 20, 1))))"
   ]
  },
  {
   "cell_type": "code",
   "execution_count": 40,
   "metadata": {},
   "outputs": [],
   "source": [
    "a1 = np.random.rand(4)\n",
    "a2 = np.random.rand(4, 1)\n",
    "a3 = np.array([[1, 2, 3, 4]])\n",
    "a4 = np.arange(1, 4, 1)\n",
    "a5 = np.linspace(1 ,4, 4)"
   ]
  },
  {
   "cell_type": "code",
   "execution_count": 42,
   "metadata": {},
   "outputs": [
    {
     "data": {
      "text/plain": [
       "False"
      ]
     },
     "execution_count": 42,
     "metadata": {},
     "output_type": "execute_result"
    }
   ],
   "source": [
    "a1.shape == a2.shape"
   ]
  },
  {
   "cell_type": "code",
   "execution_count": 43,
   "metadata": {},
   "outputs": [
    {
     "data": {
      "text/plain": [
       "False"
      ]
     },
     "execution_count": 43,
     "metadata": {},
     "output_type": "execute_result"
    }
   ],
   "source": [
    "a3.shape == a4.shape"
   ]
  },
  {
   "cell_type": "code",
   "execution_count": 44,
   "metadata": {},
   "outputs": [
    {
     "data": {
      "text/plain": [
       "True"
      ]
     },
     "execution_count": 44,
     "metadata": {},
     "output_type": "execute_result"
    }
   ],
   "source": [
    "a5.shape == a1.shape"
   ]
  },
  {
   "cell_type": "code",
   "execution_count": 45,
   "metadata": {},
   "outputs": [
    {
     "name": "stdout",
     "output_type": "stream",
     "text": [
      "(4,)\n",
      "(4,)\n"
     ]
    }
   ],
   "source": [
    "print(a1.shape)\n",
    "print(a5.shape)"
   ]
  },
  {
   "cell_type": "code",
   "execution_count": 49,
   "metadata": {},
   "outputs": [
    {
     "name": "stdout",
     "output_type": "stream",
     "text": [
      "[0.84411091 0.05833831 0.59505659 0.06531741]\n",
      "[1. 2. 3. 4.]\n"
     ]
    }
   ],
   "source": [
    "print(a1)\n",
    "print(a5)"
   ]
  },
  {
   "cell_type": "code",
   "execution_count": 50,
   "metadata": {},
   "outputs": [
    {
     "name": "stdout",
     "output_type": "stream",
     "text": [
      "[[0 0 1]\n",
      " [1 1 1]]\n"
     ]
    }
   ],
   "source": [
    "old = np.array([[1, 1, 1], [1, 1, 1]])\n",
    "new = old\n",
    "new[0, :2] = 0\n",
    "print(old)"
   ]
  },
  {
   "cell_type": "code",
   "execution_count": 65,
   "metadata": {},
   "outputs": [
    {
     "name": "stdout",
     "output_type": "stream",
     "text": [
      "[[ 0  1  2  3  4  5]\n",
      " [ 6  7  8  9 10 11]\n",
      " [12 13 14 15 16 17]\n",
      " [18 19 20 21 22 23]\n",
      " [24 25 26 27 28 29]\n",
      " [30 31 32 33 34 35]]\n",
      "\n",
      "\n",
      "[[14 15]\n",
      " [20 21]]\n"
     ]
    }
   ],
   "source": [
    "r = np.arange(0, 36, 1)\n",
    "r2 = r.reshape(6, 6)\n",
    "print(r2)\n",
    "print('\\n')\n",
    "print(r2[2:4, 2:4])"
   ]
  },
  {
   "cell_type": "code",
   "execution_count": 66,
   "metadata": {},
   "outputs": [],
   "source": [
    "import re\n",
    "s = 'ACBCAC'"
   ]
  },
  {
   "cell_type": "code",
   "execution_count": 70,
   "metadata": {},
   "outputs": [
    {
     "data": {
      "text/plain": [
       "['AC']"
      ]
     },
     "execution_count": 70,
     "metadata": {},
     "output_type": "execute_result"
    }
   ],
   "source": [
    "re.findall('^AC', s)"
   ]
  },
  {
   "cell_type": "code",
   "execution_count": 74,
   "metadata": {},
   "outputs": [
    {
     "name": "stdout",
     "output_type": "stream",
     "text": [
      "5\n"
     ]
    }
   ],
   "source": [
    "s2 = 'ACAABAACAAAB'\n",
    "result = re.findall('A{1,2}', s2)\n",
    "L = len(result)\n",
    "print(L)"
   ]
  },
  {
   "cell_type": "code",
   "execution_count": 77,
   "metadata": {},
   "outputs": [
    {
     "name": "stdout",
     "output_type": "stream",
     "text": [
      "pattern1:\n",
      " ['(734) 647-6333', '(734) 647-8044', '(734) 763-2285', '(734) 647-3576', '(734) 763-1251', '(734) 764-9376'] \n",
      "-------\n",
      "\n",
      "pattern2:\n",
      " [] \n",
      "-------\n",
      "\n",
      "pattern3:\n",
      " [] \n",
      "-------\n",
      "\n",
      "pattern4:\n",
      " [] \n",
      "-------\n",
      "\n"
     ]
    }
   ],
   "source": [
    "text = '''\n",
    "Office of Research Administration: (734) 647-6333 | 4325 North Quad\n",
    "Office of Budget and Financial Administration: (734) 647-8044 | 309 Maynard, Suite 205\n",
    "Health Informatics Program: (734) 763-2285 | 333 Maynard, Suite 500\n",
    "Office of the Dean: (734) 647-3576 | 4322 North Quad\n",
    "UMSI Engagement Center: (734) 763-1251 | 777 North University\n",
    "Faculty Adminstrative Support Staff: (734) 764-9376 | 4322 North Quad\n",
    "'''\n",
    "\n",
    "pattern1 = '[(]\\d{3}[)]\\s\\d{3}[-]\\d{4}'\n",
    "pattern2 = '\\d{3}\\s\\d{3][-]\\d{4}'\n",
    "pattern3 = '\\d{3}[-]\\d{3}[-]\\d{4}'\n",
    "pattern4 = '[(]\\d{3}[)]\\d{3}[-]\\d{4}'\n",
    "\n",
    "print('pattern1:\\n', re.findall(pattern1, text), '\\n-------\\n')\n",
    "print('pattern2:\\n', re.findall(pattern2, text), '\\n-------\\n')\n",
    "print('pattern3:\\n', re.findall(pattern3, text), '\\n-------\\n')\n",
    "print('pattern4:\\n', re.findall(pattern4, text), '\\n-------\\n')"
   ]
  },
  {
   "cell_type": "code",
   "execution_count": 79,
   "metadata": {},
   "outputs": [
    {
     "name": "stdout",
     "output_type": "stream",
     "text": [
      "pattern11:\n",
      " ['google.com', 'www.baidu.com'] \n",
      "-------\n",
      "\n",
      "pattern22:\n",
      " [''] \n",
      "-------\n",
      "\n",
      "pattern33:\n",
      " ['google'] \n",
      "-------\n",
      "\n",
      "pattern44:\n",
      " ['google.com'] \n",
      "-------\n",
      "\n"
     ]
    }
   ],
   "source": [
    "sentence = 'I refer to https://google.com and I never refer http://www.baidu.com if I have to search anything'\n",
    "\n",
    "pattern11 = '(?<=[https]:\\/\\/)([A-Za-z0-9.]*)'\n",
    "pattern22 = '(?<=https:\\/\\/)([.]*)'\n",
    "pattern33 = '(?<=https:\\/\\/)([A-Za-z0-9]*)'\n",
    "pattern44 = '(?<=https:\\/\\/)([A-Za-z0-9.]*)'\n",
    "\n",
    "print('pattern11:\\n', re.findall(pattern11, sentence), '\\n-------\\n')\n",
    "print('pattern22:\\n', re.findall(pattern22, sentence), '\\n-------\\n')\n",
    "print('pattern33:\\n', re.findall(pattern33, sentence), '\\n-------\\n')\n",
    "print('pattern44:\\n', re.findall(pattern44, sentence), '\\n-------\\n')"
   ]
  },
  {
   "cell_type": "code",
   "execution_count": 82,
   "metadata": {},
   "outputs": [
    {
     "name": "stdout",
     "output_type": "stream",
     "text": [
      "4\n"
     ]
    }
   ],
   "source": [
    "canadian = r'''Everyone has the following fundamental freedoms:\n",
    "(a) freedom of conscience and religion;\n",
    "(b) freedom of thought, belief, opinion and expression, including freedom of the press and other media of communication;\n",
    "(c) freedom of peaceful assembly; and\n",
    "(d) freedom of association.\n",
    "'''\n",
    "\n",
    "pattern = '\\(.\\) '\n",
    "print(len(re.findall(pattern, canadian)))"
   ]
  },
  {
   "cell_type": "code",
   "execution_count": null,
   "metadata": {},
   "outputs": [],
   "source": []
  }
 ],
 "metadata": {
  "kernelspec": {
   "display_name": "Python 3",
   "language": "python",
   "name": "python3"
  },
  "language_info": {
   "codemirror_mode": {
    "name": "ipython",
    "version": 3
   },
   "file_extension": ".py",
   "mimetype": "text/x-python",
   "name": "python",
   "nbconvert_exporter": "python",
   "pygments_lexer": "ipython3",
   "version": "3.8.5"
  }
 },
 "nbformat": 4,
 "nbformat_minor": 4
}
