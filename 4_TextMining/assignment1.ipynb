{
 "cells": [
  {
   "cell_type": "markdown",
   "source": [
    "# Assignment 1"
   ],
   "metadata": {}
  },
  {
   "cell_type": "code",
   "execution_count": 1,
   "source": [
    "import re\n",
    "import numpy as np\n",
    "import pandas as pd"
   ],
   "outputs": [],
   "metadata": {}
  },
  {
   "cell_type": "code",
   "execution_count": 2,
   "source": [
    "doc = []\n",
    "with open(\"data/dates.txt\") as file:\n",
    "    for line in file:\n",
    "        doc.append(line)\n",
    "\n",
    "df = pd.Series(doc)\n",
    "df.head()"
   ],
   "outputs": [
    {
     "output_type": "execute_result",
     "data": {
      "text/plain": [
       "0         03/25/93 Total time of visit (in minutes):\\n\n",
       "1                       6/18/85 Primary Care Doctor:\\n\n",
       "2    sshe plans to move as of 7/8/71 In-Home Servic...\n",
       "3                7 on 9/27/75 Audit C Score Current:\\n\n",
       "4    2/6/96 sleep studyPain Treatment Pain Level (N...\n",
       "dtype: object"
      ]
     },
     "metadata": {},
     "execution_count": 2
    }
   ],
   "metadata": {}
  },
  {
   "cell_type": "code",
   "execution_count": 32,
   "source": [
    "##############\n",
    "def matcher1(x):\n",
    "    try:\n",
    "        # 04/20/2009; 04/20/09; 4/20/09; 4/3/09\n",
    "        match = re.findall(r\"[\\d]{1,2}[/\\-][\\d]{1,2}[/\\-][\\d]{2,4}\", x)[0]\n",
    "        return match\n",
    "    except:\n",
    "        return np.nan\n",
    "\n",
    "##############\n",
    "def matcher2(x):\n",
    "    try:\n",
    "        # Mar-20-2009; Mar 20, 2009; March 20, 2009; Mar. 20, 2009; Mar 20 2009\n",
    "        match = re.findall(r\"[^\\W\\d_]{3,}[\\-\\s\\.]{1,2}[\\d]{1,2}[\\-\\s\\,]{1,2}[\\d]{4}\", x)[0]\n",
    "        return match\n",
    "    except:\n",
    "        return np.nan\n",
    "\n",
    "##############\n",
    "def matcher3(x):\n",
    "    try:\n",
    "        # 20 Mar 2009; 20 March 2009; 20 Mar. 2009; 20 March, 2009\n",
    "        match = re.findall(r\"[\\d]{1,2}\\s[^\\W\\d_]{3,}[\\-\\s\\.]{1,2}[\\d]{4}\", x)[0]\n",
    "        return match\n",
    "    except:\n",
    "        return np.nan\n",
    "\n",
    "##############\n",
    "def matcher4(x):\n",
    "    try:\n",
    "        # Feb 2009; Sep 2009; Oct 2010\n",
    "        match = re.findall(r\"[^\\W\\d_]{3,}\\s[\\d]{4}\", x)[0]\n",
    "        return match\n",
    "    except:\n",
    "        return np.nan\n",
    "\n",
    "##############\n",
    "def matcher5(x):\n",
    "    try:\n",
    "        # 6/2008; 12/2009\n",
    "        match = re.findall(r\"[\\d]{1,2}/[\\d]{4}\", x)[0]\n",
    "        return match\n",
    "    except:\n",
    "        return np.nan\n",
    "\n",
    "##############\n",
    "def matcher6(x):\n",
    "    try:\n",
    "        # 2009; 2010\n",
    "        match = re.findall(r\"[\\d]{4}\", x)[0]\n",
    "        return match\n",
    "    except:\n",
    "        return np.nan\n",
    "\n",
    "######################################################################\n",
    "test = df.apply(lambda x: matcher4(x))\n",
    "\n",
    "print(f\"Solved cases: {test.notna().sum()}\")\n",
    "test[test.notna()].head(60)"
   ],
   "outputs": [
    {
     "output_type": "stream",
     "name": "stdout",
     "text": [
      "Solved cases: 178\n"
     ]
    },
    {
     "output_type": "execute_result",
     "data": {
      "text/plain": [
       "125         Jan 2001\n",
       "126         Sep 2004\n",
       "127         May 1982\n",
       "128        June 2002\n",
       "129         May 1972\n",
       "130         Oct 1987\n",
       "131         Oct 1996\n",
       "132         Nov 2007\n",
       "133        June 1994\n",
       "134         Jan 1981\n",
       "135         Oct 1985\n",
       "136    February 1985\n",
       "137         Feb 1983\n",
       "138         Feb 1992\n",
       "139         Oct 2012\n",
       "140         Feb 1995\n",
       "141         May 2016\n",
       "142         Jan 1996\n",
       "143         Oct 1992\n",
       "144         Oct 2003\n",
       "145         Oct 1999\n",
       "146         Nov 2004\n",
       "147         May 2001\n",
       "148         Feb 1978\n",
       "149         Sep 1989\n",
       "150       March 1980\n",
       "151        June 1990\n",
       "152         Sep 2015\n",
       "153         Jan 1972\n",
       "154         Mar 1974\n",
       "155         Oct 1974\n",
       "156         May 1974\n",
       "157         Feb 1990\n",
       "158         Aug 2000\n",
       "159         May 2001\n",
       "160         Oct 2007\n",
       "161         Oct 2016\n",
       "162         Mar 1974\n",
       "163         Jan 1994\n",
       "164         Oct 1978\n",
       "165      August 1975\n",
       "166         Nov 1996\n",
       "167         Oct 1979\n",
       "168         Oct 1986\n",
       "169         Oct 1995\n",
       "170         Jan 2011\n",
       "171         Oct 1972\n",
       "172         Aug 1993\n",
       "173         Oct 2006\n",
       "174         Dec 1988\n",
       "175         Oct 1983\n",
       "176         May 2010\n",
       "177         Jan 1990\n",
       "178         Jun 1985\n",
       "179         Dec 1982\n",
       "180         Dec 1988\n",
       "181      August 1995\n",
       "182        June 1974\n",
       "183         May 2008\n",
       "184         Nov 2002\n",
       "dtype: object"
      ]
     },
     "metadata": {},
     "execution_count": 32
    }
   ],
   "metadata": {}
  },
  {
   "cell_type": "code",
   "execution_count": 4,
   "source": [
    "x = df[265]\n",
    "print(x)\n",
    "\n",
    "print(f\"Match result: {matcher1(x)}\")"
   ],
   "outputs": [
    {
     "output_type": "stream",
     "name": "stdout",
     "text": [
      ".  Pt reports h/o difficulty with EtOH and opioids. EtOH: 1st use at age 10, regular use beginning in high school, more problematic at age 25 when started losing things.  Drinking 12 beers/day over past year since returning to State College from Alaska.  Unsure of heaviest use period.  h/o frequent blackouts.  Has passed out and woken up in variety of places.  h/o withdrawal symptoms, 1st detox at age 25, no h/o withdrawal seizure, no DTs.  opioids: 1st use at age 21 (perocet).  Began using daily at age 25, at worst was using 8 to 10 percocets per day (depending on dose).  Detox in April 1989, was using perioidically since back in State College, but has primarily been drinking.  Last use 3 mths ago.  no h/o suboxone or methadone.  No h/o accidental OD.  No h/o heroin use.  No h/o IVDU.  tobacco: 1 ppd since age 16, some interest in quitting, not right now.  H/o quitting for a week.\n",
      "\n",
      "Match result: nan\n"
     ]
    }
   ],
   "metadata": {}
  },
  {
   "cell_type": "code",
   "execution_count": 5,
   "source": [
    "df[df.str.contains(\"1st\")]"
   ],
   "outputs": [
    {
     "output_type": "execute_result",
     "data": {
      "text/plain": [
       "241    sLanguage based learning disorder, dyslexia.  ...\n",
       "265    .  Pt reports h/o difficulty with EtOH and opi...\n",
       "dtype: object"
      ]
     },
     "metadata": {},
     "execution_count": 5
    }
   ],
   "metadata": {}
  },
  {
   "cell_type": "code",
   "execution_count": 37,
   "source": [
    "def matcher(x):\n",
    "    ### MATCHER 1\n",
    "    try:\n",
    "        # 04/20/2009; 04/20/09; 4/20/09; 4/3/09\n",
    "        match = re.findall(r\"[\\d]{1,2}[/\\-][\\d]{1,2}[/\\-][\\d]{2,4}\", x)[0]\n",
    "\n",
    "        \n",
    "\n",
    "        return match\n",
    "    except:        \n",
    "        ### MATCHER 2\n",
    "        try:\n",
    "            # Mar-20-2009; Mar 20, 2009; March 20, 2009; Mar. 20, 2009; Mar 20 2009\n",
    "            match = re.findall(r\"[^\\W\\d_]{3,}[\\-\\s\\.]{1,2}[\\d]{1,2}[\\-\\s\\,]{1,2}[\\d]{4}\", x)[0]\n",
    "            return match\n",
    "        except:\n",
    "            ### MATCHER 3\n",
    "            try:\n",
    "                # 20 Mar 2009; 20 March 2009; 20 Mar. 2009; 20 March, 2009\n",
    "                match = re.findall(r\"[\\d]{1,2}\\s[^\\W\\d_]{3,}[\\-\\s\\.]{1,2}[\\d]{4}\", x)[0]\n",
    "                return match\n",
    "            except:\n",
    "                ### MATCHER 4\n",
    "                try:\n",
    "                    # Feb 2009; Sep 2009; Oct 2010\n",
    "                    match = re.findall(r\"[^\\W\\d_]{3,}\\s[\\d]{4}\", x)[0]\n",
    "                    return match\n",
    "                except:\n",
    "                    ### MATCHER 5\n",
    "                    try:\n",
    "                        # 6/2008; 12/2009\n",
    "                        match = re.findall(r\"[\\d]{1,2}/[\\d]{4}\", x)[0]\n",
    "                        return match\n",
    "                    except:\n",
    "                        ### MATCHER 6\n",
    "                        try:\n",
    "                            # 2009; 2010\n",
    "                            match = re.findall(r\"[\\d]{4}\", x)[0]\n",
    "                            return match\n",
    "                        except:\n",
    "                            return np.nan\n",
    "\n",
    "######################################################################\n",
    "test = df.apply(lambda x: matcher(x))\n",
    "\n",
    "print(f\"Solved cases: {test.notna().sum()}\")\n",
    "test[test.notna()]"
   ],
   "outputs": [
    {
     "output_type": "stream",
     "name": "stdout",
     "text": [
      "Solved cases: 500\n"
     ]
    },
    {
     "output_type": "execute_result",
     "data": {
      "text/plain": [
       "0      03/25/93\n",
       "1       6/18/85\n",
       "2        7/8/71\n",
       "3       9/27/75\n",
       "4        2/6/96\n",
       "         ...   \n",
       "495        1979\n",
       "496        2006\n",
       "497        2008\n",
       "498        2005\n",
       "499        1980\n",
       "Length: 500, dtype: object"
      ]
     },
     "metadata": {},
     "execution_count": 37
    }
   ],
   "metadata": {}
  },
  {
   "cell_type": "code",
   "execution_count": 14,
   "source": [
    "### CASE 1\n",
    "\n",
    "elem = 25\n",
    "if \"/\" in test[elem]:\n",
    "    items = test[elem].split(\"/\")\n",
    "if \"-\" in test[elem]:\n",
    "    items = test[elem].split(\"-\")\n",
    "\n",
    "print(items)\n",
    "\n",
    "if len(items[0]) == 1:\n",
    "    items[0] = \"0\" + items[0]\n",
    "\n",
    "if len(items[1]) == 1:\n",
    "    items[1] = \"0\" + items[1]\n",
    "\n",
    "if len(items[2]) == 2:\n",
    "    items[2] = \"19\" + items[-1]\n",
    "\n",
    "new_item = \"/\".join(items)\n",
    "\n",
    "new_item"
   ],
   "outputs": [
    {
     "output_type": "stream",
     "name": "stdout",
     "text": [
      "['4', '13', '82']\n"
     ]
    },
    {
     "output_type": "execute_result",
     "data": {
      "text/plain": [
       "'04/13/1982'"
      ]
     },
     "metadata": {},
     "execution_count": 14
    }
   ],
   "metadata": {}
  },
  {
   "cell_type": "code",
   "execution_count": 26,
   "source": [
    "### CASE 2\n",
    "month_mapper = {\n",
    "    1 : (\"Jan\", \"Jan.\", \"January\", \"January.\"),\n",
    "    2 : (\"Feb\", \"Feb.\", \"February\", \"February.\"),\n",
    "    3 : (\"Mar\", \"Mar.\", \"March\", \"March.\"),\n",
    "    4 : (\"Apr\", \"Apr.\", \"April\", \"April.\"),\n",
    "    5 : (\"May\", \"May.\", \"May\", \"May.\"),\n",
    "    6 : (\"Jun\", \"Jun.\", \"June\", \"June.\"),\n",
    "    7 : (\"Jul\", \"Jul.\", \"July\", \"July.\"),\n",
    "    8 : (\"Aug\", \"Aug.\", \"August\", \"August.\"),\n",
    "    9 : (\"Sep\", \"Sep.\", \"September\", \"September.\"),\n",
    "    10 : (\"Oct\", \"Oct.\", \"October\", \"October.\"),\n",
    "    11 : (\"Nov\", \"Nov.\", \"November\", \"November.\"),\n",
    "    12 : (\"Dec\", \"Dec.\", \"December\", \"December.\"),\n",
    "}\n",
    "\n",
    "elem = 194\n",
    "items = test[elem].replace(\",\", \"\").split(\" \")\n",
    "\n",
    "for i, k in month_mapper.items():\n",
    "    if items[0] in k:\n",
    "        items[0] = str(i)\n",
    "\n",
    "if len(items[0]) == 1:\n",
    "    items[0] = \"0\" + items[0]\n",
    "\n",
    "if len(items[1]) == 1:\n",
    "    items[1] = \"0\" + items[1]\n",
    "\n",
    "new_item = \"/\".join(items)\n",
    "new_item"
   ],
   "outputs": [
    {
     "output_type": "execute_result",
     "data": {
      "text/plain": [
       "'04/11/1990'"
      ]
     },
     "metadata": {},
     "execution_count": 26
    }
   ],
   "metadata": {}
  },
  {
   "cell_type": "code",
   "execution_count": 30,
   "source": [
    "### CASE 3\n",
    "elem = 150\n",
    "items = test[elem].replace(\",\", \"\").split(\" \")\n",
    "\n",
    "for i, k in month_mapper.items():\n",
    "    if items[1] in k:\n",
    "        items[1] = str(i)\n",
    "\n",
    "if len(items[0]) == 1:\n",
    "    items[0] = \"0\" + items[0]\n",
    "\n",
    "if len(items[1]) == 1:\n",
    "    items[1] = \"0\" + items[1]\n",
    "\n",
    "day = items[0]\n",
    "month = items[1]\n",
    "\n",
    "items[1] = day\n",
    "items[0] = month\n",
    "\n",
    "new_item = \"/\".join(items)\n",
    "new_item"
   ],
   "outputs": [
    {
     "output_type": "execute_result",
     "data": {
      "text/plain": [
       "'03/12/1980'"
      ]
     },
     "metadata": {},
     "execution_count": 30
    }
   ],
   "metadata": {}
  },
  {
   "cell_type": "code",
   "execution_count": 44,
   "source": [
    "### CASE 4: Feb 2009; Sep 2009; Oct 2010\n",
    "elem = 229\n",
    "items = test[elem].replace(\",\", \"\").split(\" \")\n",
    "\n",
    "for i, k in month_mapper.items():\n",
    "    if items[0] in k:\n",
    "        items[0] = str(i)\n",
    "\n",
    "if len(items[0]) == 1:\n",
    "    items[0] = \"0\" + items[0]\n",
    "\n",
    "items.insert(0, \"01\")\n",
    "\n",
    "new_item = \"/\".join(items)\n",
    "new_item"
   ],
   "outputs": [
    {
     "output_type": "execute_result",
     "data": {
      "text/plain": [
       "'01/06/2011'"
      ]
     },
     "metadata": {},
     "execution_count": 44
    }
   ],
   "metadata": {}
  },
  {
   "cell_type": "code",
   "execution_count": 38,
   "source": [
    "test[200:250]"
   ],
   "outputs": [
    {
     "output_type": "execute_result",
     "data": {
      "text/plain": [
       "200          July 26, 1978\n",
       "201      December 23, 1999\n",
       "202           May 15, 1989\n",
       "203     September 06, 1995\n",
       "204          Mar. 10, 1976\n",
       "205           Jan 27, 1983\n",
       "206        October 23 1990\n",
       "207         August 12 2004\n",
       "208     September 01, 2012\n",
       "209          July 25, 1983\n",
       "210        August 11, 1989\n",
       "211         April 17, 1992\n",
       "212          July 24, 1999\n",
       "213          July 11, 1997\n",
       "214          Sep. 10, 1974\n",
       "215        August 14, 1981\n",
       "216           Nov 11, 1988\n",
       "217          June 13, 2011\n",
       "218           May 14, 1989\n",
       "219            Dec 14 1975\n",
       "220          June 25, 2012\n",
       "221           Oct 18, 1980\n",
       "222           May 15, 1998\n",
       "223        October 14 1974\n",
       "224          July 25, 1998\n",
       "225          June 15, 1972\n",
       "226       January 07, 1991\n",
       "227    September. 15, 2011\n",
       "228         September 1985\n",
       "229              June 2011\n",
       "230               May 1986\n",
       "231               May 2016\n",
       "232              July 1977\n",
       "233                   1990\n",
       "234               Jul 2003\n",
       "235              pOct 2015\n",
       "236               May 1995\n",
       "237          February 1976\n",
       "238           January 1995\n",
       "239               Feb 1978\n",
       "240                   2011\n",
       "241               May 2004\n",
       "242               Nov 2010\n",
       "243               Sep 2012\n",
       "244                   2013\n",
       "245         lNovember 1990\n",
       "246              July 1981\n",
       "247               May 1983\n",
       "248              July 1995\n",
       "249             April 1993\n",
       "dtype: object"
      ]
     },
     "metadata": {},
     "execution_count": 38
    }
   ],
   "metadata": {}
  },
  {
   "cell_type": "code",
   "execution_count": null,
   "source": [],
   "outputs": [],
   "metadata": {}
  }
 ],
 "metadata": {
  "orig_nbformat": 4,
  "language_info": {
   "name": "python",
   "version": "3.7.4",
   "mimetype": "text/x-python",
   "codemirror_mode": {
    "name": "ipython",
    "version": 3
   },
   "pygments_lexer": "ipython3",
   "nbconvert_exporter": "python",
   "file_extension": ".py"
  },
  "kernelspec": {
   "name": "python3",
   "display_name": "Python 3.7.4 64-bit"
  },
  "interpreter": {
   "hash": "aee8b7b246df8f9039afb4144a1f6fd8d2ca17a180786b69acc140d282b71a49"
  }
 },
 "nbformat": 4,
 "nbformat_minor": 2
}