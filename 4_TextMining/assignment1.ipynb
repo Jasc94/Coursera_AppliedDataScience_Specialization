{
 "cells": [
  {
   "cell_type": "markdown",
   "source": [
    "# Assignment 1"
   ],
   "metadata": {}
  },
  {
   "cell_type": "code",
   "execution_count": 41,
   "source": [
    "import re\n",
    "import numpy as np\n",
    "import pandas as pd"
   ],
   "outputs": [],
   "metadata": {}
  },
  {
   "cell_type": "code",
   "execution_count": 1,
   "source": [
    "doc = []\n",
    "with open(\"data/dates.txt\") as file:\n",
    "    for line in file:\n",
    "        doc.append(line)\n",
    "\n",
    "df = pd.Series(doc)\n",
    "df.head()"
   ],
   "outputs": [
    {
     "output_type": "execute_result",
     "data": {
      "text/plain": [
       "0         03/25/93 Total time of visit (in minutes):\\n\n",
       "1                       6/18/85 Primary Care Doctor:\\n\n",
       "2    sshe plans to move as of 7/8/71 In-Home Servic...\n",
       "3                7 on 9/27/75 Audit C Score Current:\\n\n",
       "4    2/6/96 sleep studyPain Treatment Pain Level (N...\n",
       "dtype: object"
      ]
     },
     "metadata": {},
     "execution_count": 1
    }
   ],
   "metadata": {}
  },
  {
   "cell_type": "code",
   "execution_count": 147,
   "source": [
    "##############\n",
    "def matcher1(x):\n",
    "    try:\n",
    "        # 04/20/2009; 04/20/09; 4/20/09; 4/3/09\n",
    "        match = re.findall(r\"[\\d]{1,2}[/\\-][\\d]{1,2}[/\\-][\\d]{2,4}\", x)[0]\n",
    "        return match\n",
    "    except:\n",
    "        return np.nan\n",
    "\n",
    "##############\n",
    "def matcher2(x):\n",
    "    try:\n",
    "        # Mar-20-2009; Mar 20, 2009; March 20, 2009; Mar. 20, 2009; Mar 20 2009\n",
    "        match = re.findall(r\"[^\\W\\d_]{3,}[\\-\\s\\.]{1,2}[\\d]{1,2}[\\-\\s\\,]{1,2}[\\d]{4}\", x)[0]\n",
    "        return match\n",
    "    except:\n",
    "        return np.nan\n",
    "\n",
    "##############\n",
    "def matcher3(x):\n",
    "    try:\n",
    "        # 20 Mar 2009; 20 March 2009; 20 Mar. 2009; 20 March, 2009\n",
    "        match = re.findall(r\"[\\d]{1,2}\\s[^\\W\\d_]{3,}[\\-\\s\\.]{1,2}[\\d]{4}\", x)[0]\n",
    "        return match\n",
    "    except:\n",
    "        return np.nan\n",
    "\n",
    "##############\n",
    "def matcher4(x):\n",
    "    try:\n",
    "        # Feb 2009; Sep 2009; Oct 2010\n",
    "        match = re.findall(r\"[^\\W\\d_]{3}\\s[\\d]{4}\", x)[0]\n",
    "        return match\n",
    "    except:\n",
    "        return np.nan\n",
    "\n",
    "##############\n",
    "def matcher5(x):\n",
    "    try:\n",
    "        # 6/2008; 12/2009\n",
    "        match = re.findall(r\"[\\d]{1,2}/[\\d]{4}\", x)[0]\n",
    "        return match\n",
    "    except:\n",
    "        return np.nan\n",
    "\n",
    "##############\n",
    "def matcher6(x):\n",
    "    try:\n",
    "        # 2009; 2010\n",
    "        match = re.findall(r\"[\\d]{4}\", x)[0]\n",
    "        return match\n",
    "    except:\n",
    "        return np.nan\n",
    "\n",
    "######################################################################\n",
    "test = df.apply(lambda x: matcher6(x))\n",
    "\n",
    "print(f\"Solved cases: {test.notna().sum()}\")\n",
    "test[test.notna()]"
   ],
   "outputs": [
    {
     "output_type": "stream",
     "name": "stdout",
     "text": [
      "Solved cases: 428\n"
     ]
    },
    {
     "output_type": "execute_result",
     "data": {
      "text/plain": [
       "7      9080\n",
       "14     1990\n",
       "15     2011\n",
       "17     1976\n",
       "22     9079\n",
       "       ... \n",
       "495    1979\n",
       "496    2006\n",
       "497    2008\n",
       "498    2005\n",
       "499    1980\n",
       "Length: 428, dtype: object"
      ]
     },
     "metadata": {},
     "execution_count": 147
    }
   ],
   "metadata": {}
  },
  {
   "cell_type": "code",
   "execution_count": 142,
   "source": [
    "x = df[265]\n",
    "print(x)\n",
    "\n",
    "print(f\"Match result: {matcher1(x)}\")"
   ],
   "outputs": [
    {
     "output_type": "stream",
     "name": "stdout",
     "text": [
      ".  Pt reports h/o difficulty with EtOH and opioids. EtOH: 1st use at age 10, regular use beginning in high school, more problematic at age 25 when started losing things.  Drinking 12 beers/day over past year since returning to State College from Alaska.  Unsure of heaviest use period.  h/o frequent blackouts.  Has passed out and woken up in variety of places.  h/o withdrawal symptoms, 1st detox at age 25, no h/o withdrawal seizure, no DTs.  opioids: 1st use at age 21 (perocet).  Began using daily at age 25, at worst was using 8 to 10 percocets per day (depending on dose).  Detox in April 1989, was using perioidically since back in State College, but has primarily been drinking.  Last use 3 mths ago.  no h/o suboxone or methadone.  No h/o accidental OD.  No h/o heroin use.  No h/o IVDU.  tobacco: 1 ppd since age 16, some interest in quitting, not right now.  H/o quitting for a week.\n",
      "\n",
      "Match result: nan\n"
     ]
    }
   ],
   "metadata": {}
  },
  {
   "cell_type": "code",
   "execution_count": 140,
   "source": [
    "df[df.str.contains(\"1st\")]"
   ],
   "outputs": [
    {
     "output_type": "execute_result",
     "data": {
      "text/plain": [
       "241    sLanguage based learning disorder, dyslexia.  ...\n",
       "265    .  Pt reports h/o difficulty with EtOH and opi...\n",
       "dtype: object"
      ]
     },
     "metadata": {},
     "execution_count": 140
    }
   ],
   "metadata": {}
  },
  {
   "cell_type": "code",
   "execution_count": 149,
   "source": [
    "def matcher(x):\n",
    "    ### MATCHER 1\n",
    "    try:\n",
    "        # 04/20/2009; 04/20/09; 4/20/09; 4/3/09\n",
    "        match = re.findall(r\"[\\d]{1,2}[/\\-][\\d]{1,2}[/\\-][\\d]{2,4}\", x)[0]\n",
    "        return match\n",
    "    except:        \n",
    "        ### MATCHER 2\n",
    "        try:\n",
    "            # Mar-20-2009; Mar 20, 2009; March 20, 2009; Mar. 20, 2009; Mar 20 2009\n",
    "            match = re.findall(r\"[^\\W\\d_]{3,}[\\-\\s\\.]{1,2}[\\d]{1,2}[\\-\\s\\,]{1,2}[\\d]{4}\", x)[0]\n",
    "            return match\n",
    "        except:\n",
    "            ### MATCHER 3\n",
    "            try:\n",
    "                # 20 Mar 2009; 20 March 2009; 20 Mar. 2009; 20 March, 2009\n",
    "                match = re.findall(r\"[\\d]{1,2}\\s[^\\W\\d_]{3,}[\\-\\s\\.]{1,2}[\\d]{4}\", x)[0]\n",
    "                return match\n",
    "            except:\n",
    "                ### MATCHER 4\n",
    "                try:\n",
    "                    # Feb 2009; Sep 2009; Oct 2010\n",
    "                    match = re.findall(r\"[^\\W\\d_]{3}\\s[\\d]{4}\", x)[0]\n",
    "                    return match\n",
    "                except:\n",
    "                    ### MATCHER 5\n",
    "                    try:\n",
    "                        # 6/2008; 12/2009\n",
    "                        match = re.findall(r\"[\\d]{1,2}/[\\d]{4}\", x)[0]\n",
    "                        return match\n",
    "                    except:\n",
    "                        ### MATCHER 6\n",
    "                        try:\n",
    "                            # 2009; 2010\n",
    "                            match = re.findall(r\"[\\d]{4}\", x)[0]\n",
    "                            return match\n",
    "                        except:\n",
    "                            return np.nan\n",
    "\n",
    "######################################################################\n",
    "test = df.apply(lambda x: matcher(x))\n",
    "\n",
    "print(f\"Solved cases: {test.notna().sum()}\")\n",
    "test[test.notna()]"
   ],
   "outputs": [
    {
     "output_type": "stream",
     "name": "stdout",
     "text": [
      "Solved cases: 500\n"
     ]
    },
    {
     "output_type": "execute_result",
     "data": {
      "text/plain": [
       "0      03/25/93\n",
       "1       6/18/85\n",
       "2        7/8/71\n",
       "3       9/27/75\n",
       "4        2/6/96\n",
       "         ...   \n",
       "495        1979\n",
       "496        2006\n",
       "497        2008\n",
       "498        2005\n",
       "499        1980\n",
       "Length: 500, dtype: object"
      ]
     },
     "metadata": {},
     "execution_count": 149
    }
   ],
   "metadata": {}
  },
  {
   "cell_type": "code",
   "execution_count": 161,
   "source": [
    "items = test[2].split(\"/\")\n",
    "\n",
    "if len(items[0]) == 1:\n",
    "    items[0] = \"0\" + items[0]\n",
    "\n",
    "if len(items[1]) == 1:\n",
    "    items[1] = \"0\" + items[1]\n",
    "\n",
    "if len(items[2]) == 2:\n",
    "    items[2] = \"19\" + items[-1]\n",
    "\n",
    "new_item = \"/\".join(items)\n",
    "\n",
    "new_item"
   ],
   "outputs": [
    {
     "output_type": "execute_result",
     "data": {
      "text/plain": [
       "'07/08/1971'"
      ]
     },
     "metadata": {},
     "execution_count": 161
    }
   ],
   "metadata": {}
  },
  {
   "cell_type": "code",
   "execution_count": null,
   "source": [],
   "outputs": [],
   "metadata": {}
  }
 ],
 "metadata": {
  "orig_nbformat": 4,
  "language_info": {
   "name": "python",
   "version": "3.7.4",
   "mimetype": "text/x-python",
   "codemirror_mode": {
    "name": "ipython",
    "version": 3
   },
   "pygments_lexer": "ipython3",
   "nbconvert_exporter": "python",
   "file_extension": ".py"
  },
  "kernelspec": {
   "name": "python3",
   "display_name": "Python 3.7.4 64-bit"
  },
  "interpreter": {
   "hash": "aee8b7b246df8f9039afb4144a1f6fd8d2ca17a180786b69acc140d282b71a49"
  }
 },
 "nbformat": 4,
 "nbformat_minor": 2
}