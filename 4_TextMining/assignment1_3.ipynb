{
 "cells": [
  {
   "cell_type": "code",
   "execution_count": 26,
   "source": [
    "import re\n",
    "import numpy as np\n",
    "import pandas as pd\n",
    "from functools import reduce\n",
    "\n",
    "doc = []\n",
    "with open(\"data/dates.txt\") as file:\n",
    "    for line in file:\n",
    "        doc.append(line)\n",
    "\n",
    "df = pd.Series(doc)\n",
    "df.head()"
   ],
   "outputs": [
    {
     "output_type": "execute_result",
     "data": {
      "text/plain": [
       "0         03/25/93 Total time of visit (in minutes):\\n\n",
       "1                       6/18/85 Primary Care Doctor:\\n\n",
       "2    sshe plans to move as of 7/8/71 In-Home Servic...\n",
       "3                7 on 9/27/75 Audit C Score Current:\\n\n",
       "4    2/6/96 sleep studyPain Treatment Pain Level (N...\n",
       "dtype: object"
      ]
     },
     "metadata": {},
     "execution_count": 26
    }
   ],
   "metadata": {}
  },
  {
   "cell_type": "code",
   "execution_count": 88,
   "source": [
    "### Case 1\n",
    "def matcher(df):\n",
    "    # For later use\n",
    "    months = [\"jan\", \"feb\", \"mar\", \"apr\", \"may\", \"jun\", \"jul\", \"aug\", \"sep\", \"oct\", \"nov\", \"dec\"]\n",
    "    mon2int = {m:(i + 1) for (i, m) in enumerate(months)}\n",
    "\n",
    "    ########## RULES ##########\n",
    "    # 04/20/2009; 04/20/09; 4/20/09; 4/3/09\n",
    "    rule1 = r\"(?P<month>\\d{1,2})[/-](?P<day>\\d{1,2})[/-](?P<year>\\d{2,4})\"\n",
    "    # Mar-20-2009; Mar 20, 2009; March 20, 2009; Mar. 20, 2009; Mar 20 2009\n",
    "    rule2 = r\"(?P<month>jan|feb|mar|apr|may|jun|jul|aug|sep|oct|nov|dec\\w*)[-]?[ -](?P<day>\\d{1,2})[,]?[ -](?P<year>\\d{4})\"\n",
    "    # 20 Mar 2009; 20 March 2009; 20 Mar. 2009; 20 March, 2009\n",
    "    rule3 = r\"(?P<day>\\d{1,2}) (?P<month>jan|feb|mar|apr|may|jun|jul|aug|sep|oct|nov|dec\\w*)[.]?[ -](?P<year>\\d{4})\"\n",
    "    # Feb 2009; Sep 2009; Oct 2010\n",
    "    rule4 = r\"(?P<day>)(?P<month>jan|feb|mar|apr|may|jun|jul|aug|sep|oct|nov|dec\\w*) (?P<year>\\d{4})\"\n",
    "    # 6/2008; 12/2009\n",
    "    rule5 = r\"(?P<day>)(?P<month>\\d{1,2})/(?P<year>\\d{4})\"\n",
    "    # 2009; 2010\n",
    "    rule6 = r\"(?P<day>)(?P<month>)(?P<year>\\d{4})\"\n",
    "\n",
    "    rules = [rule1, rule2, rule3, rule4, rule5, rule6]\n",
    "\n",
    "    ########## MATCHING ##########\n",
    "    extract_df_list = [df.str.lower().str.extract(rule) for rule in rules]\n",
    "    final_df = reduce(lambda x, y: x.fillna(y), extract_df_list)\n",
    "\n",
    "    # Adding original column to final df\n",
    "    final_df[\"text\"] = df\n",
    "\n",
    "    ########## EXTRA PROCESSING ##########\n",
    "    # Map months\n",
    "    final_df[\"month\"] = final_df[\"month\"].apply(lambda x: mon2int.get(str(x)[:3], x))\n",
    "    # Fill NaNs in months\n",
    "    final_df[\"month\"] = final_df[\"month\"].fillna(\"1\").apply(lambda x: \"1\" if x == \"\" else x)\n",
    "    # Years\n",
    "    final_df[\"year\"] = final_df[\"year\"].apply(lambda x: \"19\" + x if len(x) == 2 else x)\n",
    "    # Days\n",
    "    final_df[\"day\"] = final_df[\"day\"].fillna(\"1\").apply(lambda x: \"1\" if x == \"\" else x)\n",
    "\n",
    "    final_df = final_df[[\"year\",\"month\",\"day\"]].astype(int)\n",
    "    index_df = final_df.sort_values(['year','month','day'], axis=0).reset_index()\n",
    "    index_df = index_df['index']\n",
    "    return index_df\n",
    "\n",
    "matcher(df)"
   ],
   "outputs": [
    {
     "output_type": "execute_result",
     "data": {
      "text/plain": [
       "0        9\n",
       "1       84\n",
       "2        2\n",
       "3       53\n",
       "4       28\n",
       "      ... \n",
       "495    141\n",
       "496    186\n",
       "497    161\n",
       "498    413\n",
       "499    271\n",
       "Name: index, Length: 500, dtype: int64"
      ]
     },
     "metadata": {},
     "execution_count": 88
    }
   ],
   "metadata": {}
  },
  {
   "cell_type": "code",
   "execution_count": null,
   "source": [],
   "outputs": [],
   "metadata": {}
  }
 ],
 "metadata": {
  "orig_nbformat": 4,
  "language_info": {
   "name": "python",
   "version": "3.7.4",
   "mimetype": "text/x-python",
   "codemirror_mode": {
    "name": "ipython",
    "version": 3
   },
   "pygments_lexer": "ipython3",
   "nbconvert_exporter": "python",
   "file_extension": ".py"
  },
  "kernelspec": {
   "name": "python3",
   "display_name": "Python 3.7.4 64-bit"
  },
  "interpreter": {
   "hash": "aee8b7b246df8f9039afb4144a1f6fd8d2ca17a180786b69acc140d282b71a49"
  }
 },
 "nbformat": 4,
 "nbformat_minor": 2
}