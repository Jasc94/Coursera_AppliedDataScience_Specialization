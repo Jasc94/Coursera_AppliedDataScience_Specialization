{
 "cells": [
  {
   "cell_type": "markdown",
   "source": [
    "# Assignment 1"
   ],
   "metadata": {}
  },
  {
   "cell_type": "code",
   "execution_count": 1,
   "source": [
    "import re\n",
    "import numpy as np\n",
    "import pandas as pd"
   ],
   "outputs": [],
   "metadata": {}
  },
  {
   "cell_type": "code",
   "execution_count": 2,
   "source": [
    "doc = []\n",
    "with open(\"data/dates.txt\") as file:\n",
    "    for line in file:\n",
    "        doc.append(line)\n",
    "\n",
    "df = pd.Series(doc)\n",
    "df.head()"
   ],
   "outputs": [
    {
     "output_type": "execute_result",
     "data": {
      "text/plain": [
       "0         03/25/93 Total time of visit (in minutes):\\n\n",
       "1                       6/18/85 Primary Care Doctor:\\n\n",
       "2    sshe plans to move as of 7/8/71 In-Home Servic...\n",
       "3                7 on 9/27/75 Audit C Score Current:\\n\n",
       "4    2/6/96 sleep studyPain Treatment Pain Level (N...\n",
       "dtype: object"
      ]
     },
     "metadata": {},
     "execution_count": 2
    }
   ],
   "metadata": {}
  },
  {
   "cell_type": "code",
   "execution_count": 3,
   "source": [
    "##############\n",
    "def matcher1(x):\n",
    "    try:\n",
    "        # 04/20/2009; 04/20/09; 4/20/09; 4/3/09\n",
    "        match = re.findall(r\"[\\d]{1,2}[/\\-][\\d]{1,2}[/\\-][\\d]{2,4}\", x)[0]\n",
    "        return match\n",
    "    except:\n",
    "        return np.nan\n",
    "\n",
    "##############\n",
    "def matcher2(x):\n",
    "    try:\n",
    "        # Mar-20-2009; Mar 20, 2009; March 20, 2009; Mar. 20, 2009; Mar 20 2009\n",
    "        match = re.findall(r\"[^\\W\\d_]{3,}[\\-\\s\\.]{1,2}[\\d]{1,2}[\\-\\s\\,]{1,2}[\\d]{4}\", x)[0]\n",
    "        return match\n",
    "    except:\n",
    "        return np.nan\n",
    "\n",
    "##############\n",
    "def matcher3(x):\n",
    "    try:\n",
    "        # 20 Mar 2009; 20 March 2009; 20 Mar. 2009; 20 March, 2009\n",
    "        match = re.findall(r\"[\\d]{1,2}\\s[^\\W\\d_]{3,}[\\-\\s\\.]{1,2}[\\d]{4}\", x)[0]\n",
    "        return match\n",
    "    except:\n",
    "        return np.nan\n",
    "\n",
    "##############\n",
    "def matcher4(x):\n",
    "    try:\n",
    "        # Feb 2009; Sep 2009; Oct 2010\n",
    "        match = re.findall(r\"[^\\W\\d_]{3,}\\s[\\d]{4}\", x)[0]\n",
    "        return match\n",
    "    except:\n",
    "        return np.nan\n",
    "\n",
    "##############\n",
    "def matcher5(x):\n",
    "    try:\n",
    "        # 6/2008; 12/2009\n",
    "        match = re.findall(r\"[\\d]{1,2}/[\\d]{4}\", x)[0]\n",
    "        return match\n",
    "    except:\n",
    "        return np.nan\n",
    "\n",
    "##############\n",
    "def matcher6(x):\n",
    "    try:\n",
    "        # 2009; 2010\n",
    "        match = re.findall(r\"[\\d]{4}\", x)[0]\n",
    "        return match\n",
    "    except:\n",
    "        return np.nan\n",
    "\n",
    "######################################################################\n",
    "test = df.apply(lambda x: matcher4(x))\n",
    "\n",
    "print(f\"Solved cases: {test.notna().sum()}\")\n",
    "test[test.notna()].head(60)"
   ],
   "outputs": [
    {
     "output_type": "stream",
     "name": "stdout",
     "text": [
      "Solved cases: 178\n"
     ]
    },
    {
     "output_type": "execute_result",
     "data": {
      "text/plain": [
       "125         Jan 2001\n",
       "126         Sep 2004\n",
       "127         May 1982\n",
       "128        June 2002\n",
       "129         May 1972\n",
       "130         Oct 1987\n",
       "131         Oct 1996\n",
       "132         Nov 2007\n",
       "133        June 1994\n",
       "134         Jan 1981\n",
       "135         Oct 1985\n",
       "136    February 1985\n",
       "137         Feb 1983\n",
       "138         Feb 1992\n",
       "139         Oct 2012\n",
       "140         Feb 1995\n",
       "141         May 2016\n",
       "142         Jan 1996\n",
       "143         Oct 1992\n",
       "144         Oct 2003\n",
       "145         Oct 1999\n",
       "146         Nov 2004\n",
       "147         May 2001\n",
       "148         Feb 1978\n",
       "149         Sep 1989\n",
       "150       March 1980\n",
       "151        June 1990\n",
       "152         Sep 2015\n",
       "153         Jan 1972\n",
       "154         Mar 1974\n",
       "155         Oct 1974\n",
       "156         May 1974\n",
       "157         Feb 1990\n",
       "158         Aug 2000\n",
       "159         May 2001\n",
       "160         Oct 2007\n",
       "161         Oct 2016\n",
       "162         Mar 1974\n",
       "163         Jan 1994\n",
       "164         Oct 1978\n",
       "165      August 1975\n",
       "166         Nov 1996\n",
       "167         Oct 1979\n",
       "168         Oct 1986\n",
       "169         Oct 1995\n",
       "170         Jan 2011\n",
       "171         Oct 1972\n",
       "172         Aug 1993\n",
       "173         Oct 2006\n",
       "174         Dec 1988\n",
       "175         Oct 1983\n",
       "176         May 2010\n",
       "177         Jan 1990\n",
       "178         Jun 1985\n",
       "179         Dec 1982\n",
       "180         Dec 1988\n",
       "181      August 1995\n",
       "182        June 1974\n",
       "183         May 2008\n",
       "184         Nov 2002\n",
       "dtype: object"
      ]
     },
     "metadata": {},
     "execution_count": 3
    }
   ],
   "metadata": {}
  },
  {
   "cell_type": "code",
   "execution_count": 4,
   "source": [
    "x = df[265]\n",
    "print(x)\n",
    "\n",
    "print(f\"Match result: {matcher1(x)}\")"
   ],
   "outputs": [
    {
     "output_type": "stream",
     "name": "stdout",
     "text": [
      ".  Pt reports h/o difficulty with EtOH and opioids. EtOH: 1st use at age 10, regular use beginning in high school, more problematic at age 25 when started losing things.  Drinking 12 beers/day over past year since returning to State College from Alaska.  Unsure of heaviest use period.  h/o frequent blackouts.  Has passed out and woken up in variety of places.  h/o withdrawal symptoms, 1st detox at age 25, no h/o withdrawal seizure, no DTs.  opioids: 1st use at age 21 (perocet).  Began using daily at age 25, at worst was using 8 to 10 percocets per day (depending on dose).  Detox in April 1989, was using perioidically since back in State College, but has primarily been drinking.  Last use 3 mths ago.  no h/o suboxone or methadone.  No h/o accidental OD.  No h/o heroin use.  No h/o IVDU.  tobacco: 1 ppd since age 16, some interest in quitting, not right now.  H/o quitting for a week.\n",
      "\n",
      "Match result: nan\n"
     ]
    }
   ],
   "metadata": {}
  },
  {
   "cell_type": "code",
   "execution_count": 5,
   "source": [
    "df[df.str.contains(\"1st\")]"
   ],
   "outputs": [
    {
     "output_type": "execute_result",
     "data": {
      "text/plain": [
       "241    sLanguage based learning disorder, dyslexia.  ...\n",
       "265    .  Pt reports h/o difficulty with EtOH and opi...\n",
       "dtype: object"
      ]
     },
     "metadata": {},
     "execution_count": 5
    }
   ],
   "metadata": {}
  },
  {
   "cell_type": "code",
   "execution_count": 6,
   "source": [
    "def matcher(x):\n",
    "    ### MATCHER 1\n",
    "    try:\n",
    "        # 04/20/2009; 04/20/09; 4/20/09; 4/3/09\n",
    "        match = re.findall(r\"[\\d]{1,2}[/\\-][\\d]{1,2}[/\\-][\\d]{2,4}\", x)[0]\n",
    "        return match\n",
    "    except:        \n",
    "        ### MATCHER 2\n",
    "        try:\n",
    "            # Mar-20-2009; Mar 20, 2009; March 20, 2009; Mar. 20, 2009; Mar 20 2009\n",
    "            match = re.findall(r\"[^\\W\\d_]{3,}[\\-\\s\\.]{1,2}[\\d]{1,2}[\\-\\s\\,]{1,2}[\\d]{4}\", x)[0]\n",
    "            return match\n",
    "        except:\n",
    "            ### MATCHER 3\n",
    "            try:\n",
    "                # 20 Mar 2009; 20 March 2009; 20 Mar. 2009; 20 March, 2009\n",
    "                match = re.findall(r\"[\\d]{1,2}\\s[^\\W\\d_]{3,}[\\-\\s\\.]{1,2}[\\d]{4}\", x)[0]\n",
    "                return match\n",
    "            except:\n",
    "                ### MATCHER 4\n",
    "                try:\n",
    "                    # Feb 2009; Sep 2009; Oct 2010\n",
    "                    match = re.findall(r\"[^\\W\\d_]{3,}\\s[\\d]{4}\", x)[0]\n",
    "                    return match\n",
    "                except:\n",
    "                    ### MATCHER 5\n",
    "                    try:\n",
    "                        # 6/2008; 12/2009\n",
    "                        match = re.findall(r\"[\\d]{1,2}/[\\d]{4}\", x)[0]\n",
    "                        return match\n",
    "                    except:\n",
    "                        ### MATCHER 6\n",
    "                        try:\n",
    "                            # 2009; 2010\n",
    "                            match = re.findall(r\"[\\d]{4}\", x)[0]\n",
    "                            return match\n",
    "                        except:\n",
    "                            return np.nan\n",
    "\n",
    "######################################################################\n",
    "test = df.apply(lambda x: matcher(x))\n",
    "\n",
    "print(f\"Solved cases: {test.notna().sum()}\")\n",
    "test[test.notna()]"
   ],
   "outputs": [
    {
     "output_type": "stream",
     "name": "stdout",
     "text": [
      "Solved cases: 500\n"
     ]
    },
    {
     "output_type": "execute_result",
     "data": {
      "text/plain": [
       "0      03/25/93\n",
       "1       6/18/85\n",
       "2        7/8/71\n",
       "3       9/27/75\n",
       "4        2/6/96\n",
       "         ...   \n",
       "495        1979\n",
       "496        2006\n",
       "497        2008\n",
       "498        2005\n",
       "499        1980\n",
       "Length: 500, dtype: object"
      ]
     },
     "metadata": {},
     "execution_count": 6
    }
   ],
   "metadata": {}
  },
  {
   "cell_type": "code",
   "execution_count": 7,
   "source": [
    "### CASE 1\n",
    "\n",
    "elem = 25\n",
    "if \"/\" in test[elem]:\n",
    "    items = test[elem].split(\"/\")\n",
    "if \"-\" in test[elem]:\n",
    "    items = test[elem].split(\"-\")\n",
    "\n",
    "print(items)\n",
    "\n",
    "if len(items[0]) == 1:\n",
    "    items[0] = \"0\" + items[0]\n",
    "\n",
    "if len(items[1]) == 1:\n",
    "    items[1] = \"0\" + items[1]\n",
    "\n",
    "if len(items[2]) == 2:\n",
    "    items[2] = \"19\" + items[-1]\n",
    "\n",
    "new_item = \"/\".join(items)\n",
    "\n",
    "new_item"
   ],
   "outputs": [
    {
     "output_type": "stream",
     "name": "stdout",
     "text": [
      "['4', '13', '82']\n"
     ]
    },
    {
     "output_type": "execute_result",
     "data": {
      "text/plain": [
       "'04/13/1982'"
      ]
     },
     "metadata": {},
     "execution_count": 7
    }
   ],
   "metadata": {}
  },
  {
   "cell_type": "code",
   "execution_count": 8,
   "source": [
    "### CASE 2\n",
    "month_mapper = {\n",
    "    1 : (\"Jan\", \"Jan.\", \"January\", \"January.\"),\n",
    "    2 : (\"Feb\", \"Feb.\", \"February\", \"February.\"),\n",
    "    3 : (\"Mar\", \"Mar.\", \"March\", \"March.\"),\n",
    "    4 : (\"Apr\", \"Apr.\", \"April\", \"April.\"),\n",
    "    5 : (\"May\", \"May.\", \"May\", \"May.\"),\n",
    "    6 : (\"Jun\", \"Jun.\", \"June\", \"June.\"),\n",
    "    7 : (\"Jul\", \"Jul.\", \"July\", \"July.\"),\n",
    "    8 : (\"Aug\", \"Aug.\", \"August\", \"August.\"),\n",
    "    9 : (\"Sep\", \"Sep.\", \"September\", \"September.\"),\n",
    "    10 : (\"Oct\", \"Oct.\", \"October\", \"October.\"),\n",
    "    11 : (\"Nov\", \"Nov.\", \"November\", \"November.\"),\n",
    "    12 : (\"Dec\", \"Dec.\", \"December\", \"December.\"),\n",
    "}\n",
    "\n",
    "elem = 194\n",
    "items = test[elem].replace(\",\", \"\").split(\" \")\n",
    "\n",
    "for i, k in month_mapper.items():\n",
    "    if items[0] in k:\n",
    "        items[0] = str(i)\n",
    "\n",
    "if len(items[0]) == 1:\n",
    "    items[0] = \"0\" + items[0]\n",
    "\n",
    "if len(items[1]) == 1:\n",
    "    items[1] = \"0\" + items[1]\n",
    "\n",
    "new_item = \"/\".join(items)\n",
    "new_item"
   ],
   "outputs": [
    {
     "output_type": "execute_result",
     "data": {
      "text/plain": [
       "'04/11/1990'"
      ]
     },
     "metadata": {},
     "execution_count": 8
    }
   ],
   "metadata": {}
  },
  {
   "cell_type": "code",
   "execution_count": 9,
   "source": [
    "### CASE 3\n",
    "elem = 150\n",
    "items = test[elem].replace(\",\", \"\").split(\" \")\n",
    "\n",
    "for i, k in month_mapper.items():\n",
    "    if items[1] in k:\n",
    "        items[1] = str(i)\n",
    "\n",
    "if len(items[0]) == 1:\n",
    "    items[0] = \"0\" + items[0]\n",
    "\n",
    "if len(items[1]) == 1:\n",
    "    items[1] = \"0\" + items[1]\n",
    "\n",
    "day = items[0]\n",
    "month = items[1]\n",
    "\n",
    "items[1] = day\n",
    "items[0] = month\n",
    "\n",
    "new_item = \"/\".join(items)\n",
    "new_item"
   ],
   "outputs": [
    {
     "output_type": "execute_result",
     "data": {
      "text/plain": [
       "'03/12/1980'"
      ]
     },
     "metadata": {},
     "execution_count": 9
    }
   ],
   "metadata": {}
  },
  {
   "cell_type": "code",
   "execution_count": 15,
   "source": [
    "### CASE 4: Feb 2009; Sep 2009; Oct 2010\n",
    "elem = 229\n",
    "items = test[elem].replace(\",\", \"\").split(\" \")\n",
    "\n",
    "for i, k in month_mapper.items():\n",
    "    if items[0] in k:\n",
    "        items[0] = str(i)\n",
    "\n",
    "if len(items[0]) == 1:\n",
    "    items[0] = \"0\" + items[0]\n",
    "\n",
    "items.insert(1, \"01\")\n",
    "\n",
    "new_item = \"/\".join(items)\n",
    "new_item"
   ],
   "outputs": [
    {
     "output_type": "execute_result",
     "data": {
      "text/plain": [
       "'06/01/2011'"
      ]
     },
     "metadata": {},
     "execution_count": 15
    }
   ],
   "metadata": {}
  },
  {
   "cell_type": "code",
   "execution_count": 16,
   "source": [
    "### CASE 5: 6/2008; 12/2009\n",
    "elem = 343\n",
    "items = test[elem].replace(\",\", \"\").split(\"/\")\n",
    "\n",
    "if len(items[0]) == 1:\n",
    "    items[0] = \"0\" + items[0]\n",
    "\n",
    "items.insert(1, \"01\")\n",
    "\n",
    "new_item = \"/\".join(items)\n",
    "new_item"
   ],
   "outputs": [
    {
     "output_type": "execute_result",
     "data": {
      "text/plain": [
       "'06/01/1998'"
      ]
     },
     "metadata": {},
     "execution_count": 16
    }
   ],
   "metadata": {}
  },
  {
   "cell_type": "code",
   "execution_count": 20,
   "source": [
    "### CASE 6: 2009; 2010\n",
    "elem = 455\n",
    "items = test[elem].replace(\",\", \"\").split(\"/\")\n",
    "\n",
    "items.insert(0, \"01\")\n",
    "items.insert(0, \"01\")\n",
    "\n",
    "new_item = \"/\".join(items)\n",
    "new_item"
   ],
   "outputs": [
    {
     "output_type": "execute_result",
     "data": {
      "text/plain": [
       "'01/01/1984'"
      ]
     },
     "metadata": {},
     "execution_count": 20
    }
   ],
   "metadata": {}
  },
  {
   "cell_type": "code",
   "execution_count": 17,
   "source": [
    "test[450:500]"
   ],
   "outputs": [
    {
     "output_type": "execute_result",
     "data": {
      "text/plain": [
       "450              1/1994\n",
       "451             12/2004\n",
       "452              3/2003\n",
       "453              7/1991\n",
       "454              7/1982\n",
       "455                1984\n",
       "456                2000\n",
       "457                2001\n",
       "458                1982\n",
       "459         sSince 1998\n",
       "460           quit 2012\n",
       "461        Age 16, 1991\n",
       "462                1988\n",
       "463                2014\n",
       "464                2016\n",
       "465                1976\n",
       "466                1981\n",
       "467        attempt 2011\n",
       "468          since 1997\n",
       "469                2003\n",
       "470                1983\n",
       "471                1999\n",
       "472                2010\n",
       "473                1975\n",
       "474                1972\n",
       "475                2015\n",
       "476                1989\n",
       "477                1994\n",
       "478                1993\n",
       "479          since 1996\n",
       "480                2013\n",
       "481                1974\n",
       "482                1990\n",
       "483                1995\n",
       "484                2004\n",
       "485                1987\n",
       "486                1973\n",
       "487       delivery 1992\n",
       "488    nephrectomy 1977\n",
       "489                1985\n",
       "490                2007\n",
       "491                2009\n",
       "492                1986\n",
       "493                1978\n",
       "494                2002\n",
       "495                1979\n",
       "496                2006\n",
       "497                2008\n",
       "498                2005\n",
       "499                1980\n",
       "dtype: object"
      ]
     },
     "metadata": {},
     "execution_count": 17
    }
   ],
   "metadata": {}
  },
  {
   "cell_type": "code",
   "execution_count": null,
   "source": [],
   "outputs": [],
   "metadata": {}
  }
 ],
 "metadata": {
  "orig_nbformat": 4,
  "language_info": {
   "name": "python",
   "version": "3.7.4",
   "mimetype": "text/x-python",
   "codemirror_mode": {
    "name": "ipython",
    "version": 3
   },
   "pygments_lexer": "ipython3",
   "nbconvert_exporter": "python",
   "file_extension": ".py"
  },
  "kernelspec": {
   "name": "python3",
   "display_name": "Python 3.7.4 64-bit"
  },
  "interpreter": {
   "hash": "aee8b7b246df8f9039afb4144a1f6fd8d2ca17a180786b69acc140d282b71a49"
  }
 },
 "nbformat": 4,
 "nbformat_minor": 2
}