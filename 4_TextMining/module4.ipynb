{
 "cells": [
  {
   "cell_type": "markdown",
   "source": [
    "# Semantic Text Similarity\n",
    "\n",
    "## Applications of semantic similarity\n",
    "\n",
    "- Grouping similar words into semantic concepts\n",
    "- As a building block in natural language understanding tasks\n",
    "    - Textual entailment\n",
    "    - Paraphrasing\n",
    "\n",
    "## Wordnet\n",
    "- Semantic dictionary of (mostly) English words, interliked by semantic relations\n",
    "- Includes rich linguistic information\n",
    "    - Part of speech, word senses, synonyms, hypernyms/hyponyms, meronyms, devirationally related forms, ...\n",
    "- Machine-readable. freely available\n",
    "\n",
    "<img src=\"resources/semantic_text_similarity_1.png\" width = \"400\">\n",
    "\n",
    "### Hierarchy types\n",
    "\n",
    "- Path similarity\n",
    "\n",
    "<img src=\"resources/semantic_text_similarity_2.png\" width = \"400\">\n",
    "\n",
    "- Lowest commom subsumer (LCS)\n",
    "\n",
    "<img src=\"resources/semantic_text_similarity_3.png\" width = \"400\">\n",
    "\n",
    "- Lin Similarity\n",
    "\n",
    "<img src=\"resources/semantic_text_similarity_4.png\" width = \"400\">\n",
    "\n",
    "### Collocations and Distributional similarity\n",
    "- Two words that frequently appear in similar contexts are more likely to be semantically related\n",
    "- **Context**\n",
    "    - Words before, after, within a small window\n",
    "    - Parts of speech of words before, after, in a small window\n",
    "    - Specific syntactic relation to the target word\n",
    "    - Words in the same sentence, same document, ...\n",
    "- **Strength of association** between words\n",
    "    - How frequent do these two words appear together?\n",
    "    - How frequent are each of these words indiviaully? -> If they appear alone very often, then they probably have no relation even if they appear together a few times\n"
   ],
   "metadata": {}
  },
  {
   "cell_type": "markdown",
   "source": [
    "# Topic Modeling\n",
    "\n",
    "Documents are a mixture of topics\n",
    "- Topic Modelling is a coarse-level analysis of what's in a text collection\n",
    "- Topic: the subject (theme) of a discourse\n",
    "- Topics are represented as a **word distribution**\n",
    "\n",
    "What's known:\n",
    "- The text collection or corpus\n",
    "- Number of topics\n",
    "\n",
    "What's not known:\n",
    "- The actual topics\n",
    "- Topic distribution for each topic\n",
    "\n",
    "Topic Modelling is\n",
    "- Essentially, **text clustering** problem\n",
    "    - Documents and words are clustered together\n",
    "\n",
    "## Topic modelling approaches\n",
    "- Probabilistic Latent Semantic Analysis (PLSA)\n",
    "- Latent Dirichlet Allocation (LDA)"
   ],
   "metadata": {}
  },
  {
   "cell_type": "code",
   "execution_count": null,
   "source": [],
   "outputs": [],
   "metadata": {}
  }
 ],
 "metadata": {
  "orig_nbformat": 4,
  "language_info": {
   "name": "python"
  }
 },
 "nbformat": 4,
 "nbformat_minor": 2
}