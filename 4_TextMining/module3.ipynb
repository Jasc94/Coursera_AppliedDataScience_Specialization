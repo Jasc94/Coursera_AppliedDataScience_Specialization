{
 "cells": [
  {
   "cell_type": "markdown",
   "source": [
    "# Examples of Text Classification\n",
    "\n",
    "- **Topic Identification**\n",
    "- **Spam Detection**\n",
    "- **Sentiment analysis**\n",
    "- **Spelling correction**\n",
    "\n",
    "## Questions to ask in Supervised Learning\n",
    "\n",
    "### Training phase\n",
    "- What are the features? How do we represent them?\n",
    "- What is the classification model /algorithm?\n",
    "- What are the model parameters?\n",
    "\n",
    "### Inference phase\n",
    "- What is the expected performance? What is a good measure?\n",
    "\n",
    "## Types of textual features\n",
    "- Words\n",
    "    - By far the msot common class of features\n",
    "    - Handling commonly-ocurring words: Stop words\n",
    "    - Normalization: Make lower case vs. leave as-is\n",
    "    - Stemming / Lemmatization\n",
    "\n",
    "- Characteristics of words: Capitalization\n",
    "- Part of speech of words in a sentence\n",
    "- Grammatical structure, sentence parsing\n",
    "- Grouping words of similar meaning, semantics\n",
    "    - {buy, purchase}\n",
    "    - {Mr., Mrs., ...}\n",
    "\n",
    "- Depending on classification tasks, features may come from inside words and word sequences\n",
    "    - bigrams, trigrams, n-grams: \"White House\"\n",
    "    - character sub-sequences in words: \"ing\", \"ion\", ..."
   ],
   "metadata": {}
  },
  {
   "cell_type": "markdown",
   "source": [
    "# Naive Bayes Classifiers\n",
    "\n",
    "It is a probabilistic model\n",
    "- it updates the likelihood of the class given new information\n",
    "\n",
    "They are very strong baselines for text classification problems\n",
    "\n",
    "<img src=\"resources/naive_bayes_1.png\" width = \"400\">\n",
    "\n",
    "## Bayes' Rule\n",
    "<img src=\"resources/naive_bayes_2.png\" width = \"400\">\n",
    "\n",
    "### Example\n",
    "<img src=\"resources/naive_bayes_3.png\" width = \"400\">\n",
    "\n",
    "## Generalization\n",
    "<img src=\"resources/naive_bayes_4.png\" width = \"400\">\n",
    "\n",
    "## Parameters\n",
    "<img src=\"resources/naive_bayes_5.png\" width = \"400\">\n",
    "<img src=\"resources/naive_bayes_6.png\" width = \"400\">\n",
    "<img src=\"resources/naive_bayes_7.png\" width = \"400\">\n",
    "<img src=\"resources/naive_bayes_8.png\" width = \"400\">\n",
    "\n",
    "## Naive Bayes Variations\n",
    "<img src=\"resources/naive_bayes_9.png\" width = \"400\">"
   ],
   "metadata": {}
  },
  {
   "cell_type": "code",
   "execution_count": null,
   "source": [],
   "outputs": [],
   "metadata": {}
  }
 ],
 "metadata": {
  "orig_nbformat": 4,
  "language_info": {
   "name": "python"
  }
 },
 "nbformat": 4,
 "nbformat_minor": 2
}