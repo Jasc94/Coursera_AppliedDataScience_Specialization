{
 "cells": [
  {
   "cell_type": "markdown",
   "source": [
    "# Part1 - Analyzing Moby Dick"
   ],
   "metadata": {}
  },
  {
   "cell_type": "code",
   "execution_count": 1,
   "source": [
    "import nltk\n",
    "import pandas as pd\n",
    "import numpy as np"
   ],
   "outputs": [],
   "metadata": {}
  },
  {
   "cell_type": "code",
   "execution_count": 2,
   "source": [
    "with open(\"data/moby.txt\", \"r\") as f:\n",
    "    moby_raw = f.read()\n",
    "\n",
    "moby_tokens = nltk.word_tokenize(moby_raw)\n",
    "text1 = nltk.Text(moby_tokens)"
   ],
   "outputs": [],
   "metadata": {}
  },
  {
   "cell_type": "markdown",
   "source": [
    "## Examples"
   ],
   "metadata": {}
  },
  {
   "cell_type": "markdown",
   "source": [
    "### Example 1: How many tokens (words and punctuation symbols) are in text1?"
   ],
   "metadata": {}
  },
  {
   "cell_type": "code",
   "execution_count": 3,
   "source": [
    "def example_one():\n",
    "    return len(nltk.word_tokenize(moby_raw))\n",
    "\n",
    "example_one()"
   ],
   "outputs": [
    {
     "output_type": "execute_result",
     "data": {
      "text/plain": [
       "255028"
      ]
     },
     "metadata": {},
     "execution_count": 3
    }
   ],
   "metadata": {}
  },
  {
   "cell_type": "markdown",
   "source": [
    "### Example 2: How many unique tokens (unique words and punctuation) does text1 have?"
   ],
   "metadata": {}
  },
  {
   "cell_type": "code",
   "execution_count": 4,
   "source": [
    "def example_two():\n",
    "    return len(set(nltk.word_tokenize(moby_raw)))\n",
    "\n",
    "example_two()"
   ],
   "outputs": [
    {
     "output_type": "execute_result",
     "data": {
      "text/plain": [
       "20742"
      ]
     },
     "metadata": {},
     "execution_count": 4
    }
   ],
   "metadata": {}
  },
  {
   "cell_type": "markdown",
   "source": [
    "### Example 3: After lemmatizing the verbs, how many unique tokens does text1 have?"
   ],
   "metadata": {}
  },
  {
   "cell_type": "code",
   "execution_count": 5,
   "source": [
    "from nltk.stem import WordNetLemmatizer\n",
    "\n",
    "def example_three():\n",
    "    lemmatizer = WordNetLemmatizer()\n",
    "    lemmatized = [lemmatizer.lemmatize(w, \"v\") for w in text1]\n",
    "\n",
    "    return len(set(lemmatized))\n",
    "\n",
    "example_three()"
   ],
   "outputs": [
    {
     "output_type": "execute_result",
     "data": {
      "text/plain": [
       "16887"
      ]
     },
     "metadata": {},
     "execution_count": 5
    }
   ],
   "metadata": {}
  },
  {
   "cell_type": "markdown",
   "source": [
    "## Questions: Part 1"
   ],
   "metadata": {}
  },
  {
   "cell_type": "markdown",
   "source": [
    "### Question 1: What is the lexical diversity of the given text input? (i.e. ratio of unique tokens to the total number of tokens)"
   ],
   "metadata": {}
  },
  {
   "cell_type": "code",
   "execution_count": 6,
   "source": [
    "def answer_one():\n",
    "    unique_tokens = example_two()\n",
    "    total_words = example_one()\n",
    "    return unique_tokens / total_words\n",
    "\n",
    "answer_one()"
   ],
   "outputs": [
    {
     "output_type": "execute_result",
     "data": {
      "text/plain": [
       "0.08133224587104161"
      ]
     },
     "metadata": {},
     "execution_count": 6
    }
   ],
   "metadata": {}
  },
  {
   "cell_type": "markdown",
   "source": [
    "### Question 2: What percentage of tokens is 'whale'or 'Whale'?"
   ],
   "metadata": {}
  },
  {
   "cell_type": "code",
   "execution_count": 7,
   "source": [
    "def answer_two():\n",
    "    from nltk.book import FreqDist\n",
    "    dist = FreqDist(moby_tokens)\n",
    "    count = dist[\"whale\"] + dist[\"Whale\"]\n",
    "    return count / len(moby_tokens)\n",
    "\n",
    "answer_two()"
   ],
   "outputs": [
    {
     "output_type": "stream",
     "name": "stdout",
     "text": [
      "*** Introductory Examples for the NLTK Book ***\n",
      "Loading text1, ..., text9 and sent1, ..., sent9\n",
      "Type the name of the text or sentence to view it.\n",
      "Type: 'texts()' or 'sents()' to list the materials.\n",
      "text1: Moby Dick by Herman Melville 1851\n",
      "text2: Sense and Sensibility by Jane Austen 1811\n",
      "text3: The Book of Genesis\n",
      "text4: Inaugural Address Corpus\n",
      "text5: Chat Corpus\n",
      "text6: Monty Python and the Holy Grail\n",
      "text7: Wall Street Journal\n",
      "text8: Personals Corpus\n",
      "text9: The Man Who Was Thursday by G . K . Chesterton 1908\n"
     ]
    },
    {
     "output_type": "execute_result",
     "data": {
      "text/plain": [
       "0.004125037250811676"
      ]
     },
     "metadata": {},
     "execution_count": 7
    }
   ],
   "metadata": {}
  },
  {
   "cell_type": "markdown",
   "source": [
    "### Question 3: What are the 20 most frequently occurring (unique) tokens in the text? What is their frequency?"
   ],
   "metadata": {}
  },
  {
   "cell_type": "code",
   "execution_count": 8,
   "source": [
    "def answer_three():\n",
    "    from nltk.book import FreqDist\n",
    "    unique_tokens = list(set(nltk.word_tokenize(moby_raw)))\n",
    "    dist = FreqDist(moby_tokens)\n",
    "    data = [(token, dist[token]) for token in unique_tokens]\n",
    "    data.sort(key = lambda tup: tup[1], reverse = True)\n",
    "    return data[:20]\n",
    "\n",
    "answer_three()"
   ],
   "outputs": [
    {
     "output_type": "execute_result",
     "data": {
      "text/plain": [
       "[(',', 19204),\n",
       " ('the', 13715),\n",
       " ('.', 7306),\n",
       " ('of', 6513),\n",
       " ('and', 6010),\n",
       " ('a', 4545),\n",
       " ('to', 4515),\n",
       " (';', 4173),\n",
       " ('in', 3908),\n",
       " ('that', 2978),\n",
       " ('his', 2459),\n",
       " ('it', 2196),\n",
       " ('I', 2113),\n",
       " ('!', 1767),\n",
       " ('is', 1722),\n",
       " ('--', 1713),\n",
       " ('with', 1659),\n",
       " ('he', 1658),\n",
       " ('was', 1639),\n",
       " ('as', 1620)]"
      ]
     },
     "metadata": {},
     "execution_count": 8
    }
   ],
   "metadata": {}
  },
  {
   "cell_type": "markdown",
   "source": [
    "### Question 4: What tokens have a length of greater than 5 and frequency of more than 150?"
   ],
   "metadata": {}
  },
  {
   "cell_type": "code",
   "execution_count": 9,
   "source": [
    "def answer_four():\n",
    "    from nltk.book import FreqDist\n",
    "    unique_tokens = list(set(nltk.word_tokenize(moby_raw)))\n",
    "    dist = FreqDist(moby_tokens)\n",
    "    freqwords = [w for w in unique_tokens if len(w) > 5 and dist[w] > 150]\n",
    "    return sorted(freqwords, key = lambda tup: tup[0])\n",
    "\n",
    "answer_four()"
   ],
   "outputs": [
    {
     "output_type": "execute_result",
     "data": {
      "text/plain": [
       "['Captain',\n",
       " 'Pequod',\n",
       " 'Queequeg',\n",
       " 'Starbuck',\n",
       " 'almost',\n",
       " 'before',\n",
       " 'himself',\n",
       " 'little',\n",
       " 'should',\n",
       " 'seemed',\n",
       " 'through',\n",
       " 'though',\n",
       " 'whales',\n",
       " 'without']"
      ]
     },
     "metadata": {},
     "execution_count": 9
    }
   ],
   "metadata": {}
  },
  {
   "cell_type": "markdown",
   "source": [
    "### Question 5: Find the longest word in text1 and that word's length."
   ],
   "metadata": {}
  },
  {
   "cell_type": "code",
   "execution_count": 10,
   "source": [
    "def answer_five():\n",
    "    unique_tokens = list(set(nltk.word_tokenize(moby_raw)))\n",
    "    tokens_length = [(token, len(token)) for token in unique_tokens]\n",
    "    tokens_length.sort(key = lambda tup: tup[1], reverse = True)\n",
    "    return tokens_length[0]\n",
    "\n",
    "answer_five()"
   ],
   "outputs": [
    {
     "output_type": "execute_result",
     "data": {
      "text/plain": [
       "(\"twelve-o'clock-at-night\", 23)"
      ]
     },
     "metadata": {},
     "execution_count": 10
    }
   ],
   "metadata": {}
  },
  {
   "cell_type": "markdown",
   "source": [
    "### Question 6: What unique words have a frequency of more than 2000? What is their frequency?"
   ],
   "metadata": {}
  },
  {
   "cell_type": "code",
   "execution_count": 11,
   "source": [
    "def answer_six():\n",
    "    from nltk.book import FreqDist\n",
    "    unique_tokens = list(set(nltk.word_tokenize(moby_raw)))\n",
    "    words = [token for token in unique_tokens if token.isalpha()]\n",
    "    dist = FreqDist(moby_tokens)\n",
    "\n",
    "    output = [(dist[word], word) for word in words if dist[word] > 2000]\n",
    "    output.sort(key = lambda tup: tup[0], reverse = True)\n",
    "    return output\n",
    "\n",
    "answer_six()"
   ],
   "outputs": [
    {
     "output_type": "execute_result",
     "data": {
      "text/plain": [
       "[(13715, 'the'),\n",
       " (6513, 'of'),\n",
       " (6010, 'and'),\n",
       " (4545, 'a'),\n",
       " (4515, 'to'),\n",
       " (3908, 'in'),\n",
       " (2978, 'that'),\n",
       " (2459, 'his'),\n",
       " (2196, 'it'),\n",
       " (2113, 'I')]"
      ]
     },
     "metadata": {},
     "execution_count": 11
    }
   ],
   "metadata": {}
  },
  {
   "cell_type": "markdown",
   "source": [
    "### Question 7: What is the average number of tokens per sentence?"
   ],
   "metadata": {}
  },
  {
   "cell_type": "code",
   "execution_count": 12,
   "source": [
    "def answer_seven():\n",
    "    from functools import reduce\n",
    "    moby_sent = nltk.sent_tokenize(moby_raw)\n",
    "    lengths = [len(nltk.word_tokenize(sent)) for sent in moby_sent]\n",
    "    return reduce(lambda x, y: x + y, lengths) / len(lengths)\n",
    "\n",
    "answer_seven()"
   ],
   "outputs": [
    {
     "output_type": "execute_result",
     "data": {
      "text/plain": [
       "25.88591149005278"
      ]
     },
     "metadata": {},
     "execution_count": 12
    }
   ],
   "metadata": {}
  },
  {
   "cell_type": "markdown",
   "source": [
    "### Question 8: What are the 5 most frequent parts of speech in this text? What is their frequency?"
   ],
   "metadata": {}
  },
  {
   "cell_type": "code",
   "execution_count": 13,
   "source": [
    "def answer_eight():\n",
    "    moby_sent = nltk.sent_tokenize(moby_raw)\n",
    "    moby_sent_tokens = [nltk.word_tokenize(sent) for sent in moby_sent]\n",
    "    list_of_pos_lists = [nltk.pos_tag(token) for token in moby_sent_tokens]\n",
    "    poss_count = dict()\n",
    "\n",
    "    for pos_list in list_of_pos_lists:\n",
    "        for pos in pos_list:\n",
    "            try:\n",
    "                if pos[1] not in poss_count.keys():\n",
    "                    poss_count[pos[1]] = 1\n",
    "                else:\n",
    "                    poss_count[pos[1]] += 1\n",
    "            except:\n",
    "                poss_count[pos[1]] = 1\n",
    "\n",
    "    final_list = list(zip(list(poss_count.keys()), list(poss_count.values())))\n",
    "    final_list.sort(key = lambda tup: tup[1], reverse = True)\n",
    "    return final_list[:5]\n",
    "\n",
    "answer_eight()"
   ],
   "outputs": [
    {
     "output_type": "execute_result",
     "data": {
      "text/plain": [
       "[('NN', 33156), ('IN', 28605), ('DT', 25986), (',', 19204), ('JJ', 17417)]"
      ]
     },
     "metadata": {},
     "execution_count": 13
    }
   ],
   "metadata": {}
  },
  {
   "cell_type": "markdown",
   "source": [
    "## Questions: Part 2"
   ],
   "metadata": {}
  },
  {
   "cell_type": "code",
   "execution_count": 15,
   "source": [
    "from nltk.corpus import words\n",
    "\n",
    "correct_spellings = words.words()"
   ],
   "outputs": [],
   "metadata": {}
  },
  {
   "cell_type": "markdown",
   "source": [
    "### Question 9: For this recommender, your function should provide recommendations for the three default words provided above using the following distance metric:\n",
    "\n",
    "Jaccard distance on the trigrams of the two words."
   ],
   "metadata": {}
  },
  {
   "cell_type": "code",
   "execution_count": 37,
   "source": [
    "def answer_nine(entries=['cormulent', 'incendenece', 'validrate']):\n",
    "    from nltk.metrics.distance import jaccard_distance\n",
    "    from nltk.util import ngrams\n",
    "\n",
    "    ng = 3\n",
    "    # To store the best matches\n",
    "    shortest_distance = [None, None, None]\n",
    "    shortest_distance_word = [\"\", \"\", \"\"]\n",
    "\n",
    "    # Iterate over all the words in the list\n",
    "    for ind, word in enumerate(correct_spellings):\n",
    "        # Calculate the distance of each word with every entry\n",
    "        distance_0 = jaccard_distance(set(ngrams(entries[0], ng)), set(ngrams(word, ng)))\n",
    "        distance_1 = jaccard_distance(set(ngrams(entries[1], ng)), set(ngrams(word, ng)))\n",
    "        distance_2 = jaccard_distance(set(ngrams(entries[2], ng)), set(ngrams(word, ng)))\n",
    "\n",
    "        # For the first case just save results in the lists\n",
    "        if ind == 0:\n",
    "            shortest_distance[0] = distance_0\n",
    "            shortest_distance_word[0] = word\n",
    "            shortest_distance[1] = distance_1\n",
    "            shortest_distance_word[1] = word\n",
    "            shortest_distance[2] = distance_2\n",
    "            shortest_distance_word[2] = word\n",
    "\n",
    "        # For the rest, compare with existing results\n",
    "        else:\n",
    "            # If the word starts with the same letter AND the distance is shorter than the save one\n",
    "            # Then replace existing word with the new one\n",
    "            if (word[0] == entries[0][0]) and (distance_0 < shortest_distance[0]):\n",
    "                shortest_distance[0] = distance_0\n",
    "                shortest_distance_word[0] = word\n",
    "            if (word[0] == entries[1][0]) and (distance_1 < shortest_distance[1]):\n",
    "                shortest_distance[1] = distance_0\n",
    "                shortest_distance_word[1] = word\n",
    "            if (word[0] == entries[2][0]) and (distance_2 < shortest_distance[2]):\n",
    "                shortest_distance[2] = distance_0\n",
    "                shortest_distance_word[2] = word\n",
    "    \n",
    "    return shortest_distance_word\n",
    "\n",
    "answer_nine()"
   ],
   "outputs": [
    {
     "output_type": "execute_result",
     "data": {
      "text/plain": [
       "['corpulent', 'isoxylene', 'value']"
      ]
     },
     "metadata": {},
     "execution_count": 37
    }
   ],
   "metadata": {}
  },
  {
   "cell_type": "markdown",
   "source": [
    "### Question 10: For this recommender, your function should provide recommendations for the three default words provided above using the following distance metric:\n",
    "\n",
    "Jaccard distance on the 4-grams of the two words."
   ],
   "metadata": {}
  },
  {
   "cell_type": "code",
   "execution_count": 38,
   "source": [
    "def answer_nine(entries=['cormulent', 'incendenece', 'validrate']):\n",
    "    from nltk.metrics.distance import jaccard_distance\n",
    "    from nltk.util import ngrams\n",
    "\n",
    "    ng = 4\n",
    "    # To store the best matches\n",
    "    shortest_distance = [None, None, None]\n",
    "    shortest_distance_word = [\"\", \"\", \"\"]\n",
    "\n",
    "    # Iterate over all the words in the list\n",
    "    for ind, word in enumerate(correct_spellings):\n",
    "        # Calculate the distance of each word with every entry\n",
    "        distance_0 = jaccard_distance(set(ngrams(entries[0], ng)), set(ngrams(word, ng)))\n",
    "        distance_1 = jaccard_distance(set(ngrams(entries[1], ng)), set(ngrams(word, ng)))\n",
    "        distance_2 = jaccard_distance(set(ngrams(entries[2], ng)), set(ngrams(word, ng)))\n",
    "\n",
    "        # For the first case just save results in the lists\n",
    "        if ind == 0:\n",
    "            shortest_distance[0] = distance_0\n",
    "            shortest_distance_word[0] = word\n",
    "            shortest_distance[1] = distance_1\n",
    "            shortest_distance_word[1] = word\n",
    "            shortest_distance[2] = distance_2\n",
    "            shortest_distance_word[2] = word\n",
    "\n",
    "        # For the rest, compare with existing results\n",
    "        else:\n",
    "            # If the word starts with the same letter AND the distance is shorter than the save one\n",
    "            # Then replace existing word with the new one\n",
    "            if (word[0] == entries[0][0]) and (distance_0 < shortest_distance[0]):\n",
    "                shortest_distance[0] = distance_0\n",
    "                shortest_distance_word[0] = word\n",
    "            if (word[0] == entries[1][0]) and (distance_1 < shortest_distance[1]):\n",
    "                shortest_distance[1] = distance_0\n",
    "                shortest_distance_word[1] = word\n",
    "            if (word[0] == entries[2][0]) and (distance_2 < shortest_distance[2]):\n",
    "                shortest_distance[2] = distance_0\n",
    "                shortest_distance_word[2] = word\n",
    "    \n",
    "    return shortest_distance_word\n",
    "\n",
    "answer_nine()"
   ],
   "outputs": [
    {
     "output_type": "execute_result",
     "data": {
      "text/plain": [
       "['cormus', 'isoamylidene', 'vulnerate']"
      ]
     },
     "metadata": {},
     "execution_count": 38
    }
   ],
   "metadata": {}
  },
  {
   "cell_type": "code",
   "execution_count": null,
   "source": [],
   "outputs": [],
   "metadata": {}
  }
 ],
 "metadata": {
  "orig_nbformat": 4,
  "language_info": {
   "name": "python",
   "version": "3.7.4",
   "mimetype": "text/x-python",
   "codemirror_mode": {
    "name": "ipython",
    "version": 3
   },
   "pygments_lexer": "ipython3",
   "nbconvert_exporter": "python",
   "file_extension": ".py"
  },
  "kernelspec": {
   "name": "python3",
   "display_name": "Python 3.7.4 64-bit"
  },
  "interpreter": {
   "hash": "aee8b7b246df8f9039afb4144a1f6fd8d2ca17a180786b69acc140d282b71a49"
  }
 },
 "nbformat": 4,
 "nbformat_minor": 2
}