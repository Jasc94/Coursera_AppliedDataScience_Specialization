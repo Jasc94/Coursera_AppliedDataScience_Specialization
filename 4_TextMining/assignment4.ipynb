{
 "cells": [
  {
   "cell_type": "markdown",
   "source": [
    "# Part 1: Document similarity"
   ],
   "metadata": {}
  },
  {
   "cell_type": "code",
   "execution_count": 6,
   "source": [
    "import numpy as np\n",
    "import nltk\n",
    "from nltk.corpus import wordnet as wn\n",
    "import pandas as pd\n",
    "\n",
    "\n",
    "def convert_tag(tag):\n",
    "    \"\"\"Convert the tag given by nltk.pos_tag to the tag used by wordnet.synsets\"\"\"\n",
    "    \n",
    "    tag_dict = {'N': 'n', 'J': 'a', 'R': 'r', 'V': 'v'}\n",
    "    try:\n",
    "        return tag_dict[tag[0]]\n",
    "    except KeyError:\n",
    "        return None\n",
    "\n",
    "\n",
    "def doc_to_synsets(doc):\n",
    "    \"\"\"\n",
    "    Returns a list of synsets in document.\n",
    "\n",
    "    Tokenizes and tags the words in the document doc.\n",
    "    Then finds the first synset for each word/tag combination.\n",
    "    If a synset is not found for that combination it is skipped.\n",
    "\n",
    "    Args:\n",
    "        doc: string to be converted\n",
    "\n",
    "    Returns:\n",
    "        list of synsets\n",
    "\n",
    "    Example:\n",
    "        doc_to_synsets('Fish are nvqjp friends.')\n",
    "        Out: [Synset('fish.n.01'), Synset('be.v.01'), Synset('friend.n.01')]\n",
    "    \"\"\"\n",
    "    tokens = nltk.word_tokenize(doc)\n",
    "    pos = nltk.pos_tag(tokens)\n",
    "\n",
    "    tags = [tag[1] for tag in pos]\n",
    "    wntag = [convert_tag(tag) for tag in tags]\n",
    "\n",
    "    ans = list(zip(tokens, wntag))\n",
    "    sets = [wn.synsets(a, b) for a, b in ans]\n",
    "    \n",
    "    return [val[0] for val in sets if len(val) > 0]\n",
    "\n",
    "\n",
    "def similarity_score(s1, s2):\n",
    "    \"\"\"\n",
    "    Calculate the normalized similarity score of s1 onto s2\n",
    "\n",
    "    For each synset in s1, finds the synset in s2 with the largest similarity value.\n",
    "    Sum of all of the largest similarity values and normalize this value by dividing it by the\n",
    "    number of largest similarity values found.\n",
    "\n",
    "    Args:\n",
    "        s1, s2: list of synsets from doc_to_synsets\n",
    "\n",
    "    Returns:\n",
    "        normalized similarity score of s1 onto s2\n",
    "\n",
    "    Example:\n",
    "        synsets1 = doc_to_synsets('I like cats')\n",
    "        synsets2 = doc_to_synsets('I like dogs')\n",
    "        similarity_score(synsets1, synsets2)\n",
    "        Out: 0.73333333333333339\n",
    "    \"\"\"\n",
    "    s = []\n",
    "    for i in s1:\n",
    "        r = []\n",
    "        scores = [x for x in [i.path_similarity(j) for j in s2] if x is not None]\n",
    "        if scores:\n",
    "            s.append(max(scores))\n",
    "    \n",
    "    return sum(s) / len(s)\n",
    "\n",
    "\n",
    "def document_path_similarity(doc1, doc2):\n",
    "    \"\"\"Finds the symmetrical similarity between doc1 and doc2\"\"\"\n",
    "\n",
    "    synsets1 = doc_to_synsets(doc1)\n",
    "    synsets2 = doc_to_synsets(doc2)\n",
    "\n",
    "    return (similarity_score(synsets1, synsets2) + similarity_score(synsets2, synsets1)) / 2\n",
    "\n",
    "document_path_similarity(\"It's great to be back\", \"It's good to be back\")"
   ],
   "outputs": [
    {
     "output_type": "execute_result",
     "data": {
      "text/plain": [
       "0.8333333333333333"
      ]
     },
     "metadata": {},
     "execution_count": 6
    }
   ],
   "metadata": {}
  },
  {
   "cell_type": "markdown",
   "source": [
    "## test document path similarity"
   ],
   "metadata": {}
  },
  {
   "cell_type": "code",
   "execution_count": 7,
   "source": [
    "def test_document_path_similarity():\n",
    "    doc1 = 'This is a function to test document_path_similarity.'\n",
    "    doc2 = 'Use this function to see if your code in doc_to_synsets \\\n",
    "    and similarity_score is correct!'\n",
    "    return document_path_similarity(doc1, doc2)"
   ],
   "outputs": [],
   "metadata": {}
  },
  {
   "cell_type": "code",
   "execution_count": 9,
   "source": [
    "# Use this dataframe for questions most_similar_docs and label_accuracy\n",
    "paraphrases = pd.read_csv('data/paraphrases.csv')\n",
    "paraphrases.head()"
   ],
   "outputs": [
    {
     "output_type": "execute_result",
     "data": {
      "text/html": [
       "<div>\n",
       "<style scoped>\n",
       "    .dataframe tbody tr th:only-of-type {\n",
       "        vertical-align: middle;\n",
       "    }\n",
       "\n",
       "    .dataframe tbody tr th {\n",
       "        vertical-align: top;\n",
       "    }\n",
       "\n",
       "    .dataframe thead th {\n",
       "        text-align: right;\n",
       "    }\n",
       "</style>\n",
       "<table border=\"1\" class=\"dataframe\">\n",
       "  <thead>\n",
       "    <tr style=\"text-align: right;\">\n",
       "      <th></th>\n",
       "      <th>Quality</th>\n",
       "      <th>D1</th>\n",
       "      <th>D2</th>\n",
       "    </tr>\n",
       "  </thead>\n",
       "  <tbody>\n",
       "    <tr>\n",
       "      <th>0</th>\n",
       "      <td>1</td>\n",
       "      <td>Ms Stewart, the chief executive, was not expec...</td>\n",
       "      <td>Ms Stewart, 61, its chief executive officer an...</td>\n",
       "    </tr>\n",
       "    <tr>\n",
       "      <th>1</th>\n",
       "      <td>1</td>\n",
       "      <td>After more than two years' detention under the...</td>\n",
       "      <td>After more than two years in detention by the ...</td>\n",
       "    </tr>\n",
       "    <tr>\n",
       "      <th>2</th>\n",
       "      <td>1</td>\n",
       "      <td>\"It still remains to be seen whether the reven...</td>\n",
       "      <td>\"It remains to be seen whether the revenue rec...</td>\n",
       "    </tr>\n",
       "    <tr>\n",
       "      <th>3</th>\n",
       "      <td>0</td>\n",
       "      <td>And it's going to be a wild ride,\" said Allan ...</td>\n",
       "      <td>Now the rest is just mechanical,\" said Allan H...</td>\n",
       "    </tr>\n",
       "    <tr>\n",
       "      <th>4</th>\n",
       "      <td>1</td>\n",
       "      <td>The cards are issued by Mexico's consulates to...</td>\n",
       "      <td>The card is issued by Mexico's consulates to i...</td>\n",
       "    </tr>\n",
       "  </tbody>\n",
       "</table>\n",
       "</div>"
      ],
      "text/plain": [
       "   Quality                                                 D1  \\\n",
       "0        1  Ms Stewart, the chief executive, was not expec...   \n",
       "1        1  After more than two years' detention under the...   \n",
       "2        1  \"It still remains to be seen whether the reven...   \n",
       "3        0  And it's going to be a wild ride,\" said Allan ...   \n",
       "4        1  The cards are issued by Mexico's consulates to...   \n",
       "\n",
       "                                                  D2  \n",
       "0  Ms Stewart, 61, its chief executive officer an...  \n",
       "1  After more than two years in detention by the ...  \n",
       "2  \"It remains to be seen whether the revenue rec...  \n",
       "3  Now the rest is just mechanical,\" said Allan H...  \n",
       "4  The card is issued by Mexico's consulates to i...  "
      ]
     },
     "metadata": {},
     "execution_count": 9
    }
   ],
   "metadata": {}
  },
  {
   "cell_type": "markdown",
   "source": [
    "### most similar docs"
   ],
   "metadata": {}
  },
  {
   "cell_type": "code",
   "execution_count": 12,
   "source": [
    "def most_similar_docs():\n",
    "    \n",
    "    temp = paraphrases.copy()\n",
    "    temp[\"similarity\"] = temp.apply(lambda row: document_path_similarity(row[\"D1\"], row[\"D2\"]), axis = 1)\n",
    "    result = temp.loc[temp[\"similarity\"] == temp[\"similarity\"].max()].squeeze().values    \n",
    "    return result[1], result[2], result[3]\n",
    "\n",
    "most_similar_docs()"
   ],
   "outputs": [
    {
     "output_type": "execute_result",
     "data": {
      "text/plain": [
       "('\"Indeed, Iran should be put on notice that efforts to try to remake Iraq in their image will be aggressively put down,\" he said.',\n",
       " '\"Iran should be on notice that attempts to remake Iraq in Iran\\'s image will be aggressively put down,\" he said.\\n',\n",
       " 0.9590643274853801)"
      ]
     },
     "metadata": {},
     "execution_count": 12
    }
   ],
   "metadata": {}
  },
  {
   "cell_type": "markdown",
   "source": [
    "## label accuracy"
   ],
   "metadata": {}
  },
  {
   "cell_type": "code",
   "execution_count": 14,
   "source": [
    "def label_accuracy():\n",
    "    from sklearn.metrics import accuracy_score\n",
    "    def get_label(row):\n",
    "        if row['similarity'] > 0.75:\n",
    "            row['label'] = 1\n",
    "        else:\n",
    "            row['label'] = 0\n",
    "        return row\n",
    "\n",
    "    temp = paraphrases.copy()\n",
    "    temp['similarity'] = temp.apply(lambda row: document_path_similarity(row['D1'], row['D2']), axis=1)\n",
    "    temp = temp.apply(get_label, axis=1)\n",
    "    \n",
    "    return accuracy_score(temp['Quality'], temp['label'])\n",
    "\n",
    "label_accuracy()"
   ],
   "outputs": [
    {
     "output_type": "execute_result",
     "data": {
      "text/plain": [
       "0.7"
      ]
     },
     "metadata": {},
     "execution_count": 14
    }
   ],
   "metadata": {}
  },
  {
   "cell_type": "markdown",
   "source": [
    "## Part 2: Topic Modelling"
   ],
   "metadata": {}
  },
  {
   "cell_type": "code",
   "execution_count": 15,
   "source": [
    "import pickle\n",
    "import gensim\n",
    "from sklearn.feature_extraction.text import CountVectorizer\n",
    "\n",
    "# Load the list of documents\n",
    "with open('data/newsgroups', 'rb') as f:\n",
    "    newsgroup_data = pickle.load(f)\n",
    "\n",
    "# Use CountVectorizor to find three letter tokens, remove stop_words, \n",
    "# remove tokens that don't appear in at least 20 documents,\n",
    "# remove tokens that appear in more than 20% of the documents\n",
    "vect = CountVectorizer(min_df=20, max_df=0.2, stop_words='english', \n",
    "                       token_pattern='(?u)\\\\b\\\\w\\\\w\\\\w+\\\\b')\n",
    "# Fit and transform\n",
    "X = vect.fit_transform(newsgroup_data)\n",
    "\n",
    "# Convert sparse matrix to gensim corpus.\n",
    "corpus = gensim.matutils.Sparse2Corpus(X, documents_columns=False)\n",
    "\n",
    "# Mapping from word IDs to words (To be used in LdaModel's id2word parameter)\n",
    "id_map = dict((v, k) for k, v in vect.vocabulary_.items())\n"
   ],
   "outputs": [
    {
     "output_type": "stream",
     "name": "stderr",
     "text": [
      "/Library/Frameworks/Python.framework/Versions/3.7/lib/python3.7/site-packages/gensim/similarities/__init__.py:15: UserWarning: The gensim.similarities.levenshtein submodule is disabled, because the optional Levenshtein package <https://pypi.org/project/python-Levenshtein/> is unavailable. Install Levenhstein (e.g. `pip install python-Levenshtein`) to suppress this warning.\n",
      "  warnings.warn(msg)\n"
     ]
    }
   ],
   "metadata": {}
  },
  {
   "cell_type": "code",
   "execution_count": 16,
   "source": [
    "# Use the gensim.models.ldamodel.LdaModel constructor to estimate \n",
    "# LDA model parameters on the corpus, and save to the variable `ldamodel`\n",
    "\n",
    "# Your code here:\n",
    "ldamodel = gensim.models.ldamodel.LdaModel(corpus, id2word = id_map, num_topics = 10, passes = 25, random_state = 42)"
   ],
   "outputs": [],
   "metadata": {}
  },
  {
   "cell_type": "markdown",
   "source": [
    "### lda topics"
   ],
   "metadata": {}
  },
  {
   "cell_type": "code",
   "execution_count": 17,
   "source": [
    "def lda_topics():\n",
    "    return ldamodel.print_topics(num_topics = 10, num_words = 10)\n",
    "\n",
    "lda_topics()"
   ],
   "outputs": [
    {
     "output_type": "execute_result",
     "data": {
      "text/plain": [
       "[(0,\n",
       "  '0.070*\"edu\" + 0.048*\"com\" + 0.020*\"don\" + 0.013*\"want\" + 0.012*\"people\" + 0.012*\"know\" + 0.011*\"food\" + 0.009*\"article\" + 0.009*\"just\" + 0.009*\"blood\"'),\n",
       " (1,\n",
       "  '0.027*\"game\" + 0.025*\"year\" + 0.020*\"team\" + 0.016*\"games\" + 0.015*\"play\" + 0.012*\"good\" + 0.012*\"season\" + 0.011*\"win\" + 0.010*\"don\" + 0.010*\"players\"'),\n",
       " (2,\n",
       "  '0.027*\"drive\" + 0.026*\"scsi\" + 0.022*\"card\" + 0.016*\"does\" + 0.016*\"use\" + 0.014*\"cable\" + 0.013*\"bus\" + 0.013*\"controller\" + 0.013*\"mac\" + 0.013*\"board\"'),\n",
       " (3,\n",
       "  '0.032*\"ground\" + 0.026*\"current\" + 0.025*\"time\" + 0.023*\"use\" + 0.018*\"used\" + 0.016*\"box\" + 0.013*\"circuit\" + 0.012*\"way\" + 0.011*\"power\" + 0.011*\"left\"'),\n",
       " (4,\n",
       "  '0.016*\"don\" + 0.015*\"just\" + 0.015*\"day\" + 0.015*\"hockey\" + 0.014*\"know\" + 0.014*\"time\" + 0.013*\"does\" + 0.013*\"bike\" + 0.013*\"little\" + 0.011*\"got\"'),\n",
       " (5,\n",
       "  '0.027*\"thanks\" + 0.022*\"know\" + 0.021*\"does\" + 0.017*\"new\" + 0.016*\"mail\" + 0.014*\"help\" + 0.012*\"info\" + 0.011*\"used\" + 0.011*\"available\" + 0.011*\"apple\"'),\n",
       " (6,\n",
       "  '0.021*\"god\" + 0.020*\"people\" + 0.018*\"think\" + 0.017*\"don\" + 0.014*\"just\" + 0.012*\"say\" + 0.012*\"atheism\" + 0.011*\"does\" + 0.011*\"believe\" + 0.010*\"argument\"'),\n",
       " (7,\n",
       "  '0.021*\"science\" + 0.020*\"research\" + 0.017*\"april\" + 0.017*\"university\" + 0.015*\"new\" + 0.014*\"center\" + 0.013*\"medical\" + 0.013*\"1993\" + 0.012*\"earth\" + 0.011*\"national\"'),\n",
       " (8,\n",
       "  '0.053*\"space\" + 0.035*\"data\" + 0.030*\"nasa\" + 0.028*\"disk\" + 0.023*\"drives\" + 0.021*\"drive\" + 0.017*\"hard\" + 0.017*\"available\" + 0.016*\"rom\" + 0.014*\"shuttle\"'),\n",
       " (9,\n",
       "  '0.020*\"car\" + 0.017*\"just\" + 0.016*\"don\" + 0.014*\"good\" + 0.012*\"time\" + 0.009*\"way\" + 0.008*\"think\" + 0.008*\"make\" + 0.008*\"know\" + 0.007*\"sure\"')]"
      ]
     },
     "metadata": {},
     "execution_count": 17
    }
   ],
   "metadata": {}
  },
  {
   "cell_type": "markdown",
   "source": [
    "### topic distribution"
   ],
   "metadata": {}
  },
  {
   "cell_type": "code",
   "execution_count": 18,
   "source": [
    "new_doc = [\"\\n\\nIt's my understanding that the freezing will start to occur because \\\n",
    "of the\\ngrowing distance of Pluto and Charon from the Sun, due to it's\\nelliptical orbit. \\\n",
    "It is not due to shadowing effects. \\n\\n\\nPluto can shadow Charon, and vice-versa.\\n\\nGeorge \\\n",
    "Krumins\\n-- \"]"
   ],
   "outputs": [],
   "metadata": {}
  },
  {
   "cell_type": "code",
   "execution_count": 19,
   "source": [
    "def topic_distribution():\n",
    "    \n",
    "    transformed_doc = vect.transform(new_doc)\n",
    "    corpus = gensim.matutils.Sparse2Corpus(transformed_doc, documents_columns = False)\n",
    "    doc_topics = ldamodel.get_document_topics(corpus)\n",
    "\n",
    "    topic_dist = []\n",
    "    for val in list(doc_topics):\n",
    "        for val2 in val:\n",
    "            topic_dist.append(val2)\n",
    "    \n",
    "    return topic_dist\n",
    "\n",
    "topic_distribution()"
   ],
   "outputs": [
    {
     "output_type": "execute_result",
     "data": {
      "text/plain": [
       "[(0, 0.020007791),\n",
       " (1, 0.020009624),\n",
       " (2, 0.020002503),\n",
       " (3, 0.02000374),\n",
       " (4, 0.020016167),\n",
       " (5, 0.020002745),\n",
       " (6, 0.020010378),\n",
       " (7, 0.81993306),\n",
       " (8, 0.020004725),\n",
       " (9, 0.020009309)]"
      ]
     },
     "metadata": {},
     "execution_count": 19
    }
   ],
   "metadata": {}
  },
  {
   "cell_type": "markdown",
   "source": [
    "### Topic names"
   ],
   "metadata": {}
  },
  {
   "cell_type": "code",
   "execution_count": 23,
   "source": [
    "def topic_names():\n",
    "    \n",
    "    topic_names = ['Health', 'Automobiles', 'Government', 'Travel', 'Computers & IT', 'Sports', 'Business', 'Society & Lifestyle', 'Region', 'Education']\n",
    "    topics = lda_topics()\n",
    "    results = []\n",
    "    for _, dis in topics:\n",
    "        #print(dis)\n",
    "        similarity = []\n",
    "        for topic in topic_names:\n",
    "            similarity.append(document_path_similarity(dis, topic))\n",
    "        best_topic = sorted(zip(similarity, topic_names))[-1][1]\n",
    "        results.append(best_topic)\n",
    "    return results\n",
    "\n",
    "topic_names()"
   ],
   "outputs": [
    {
     "output_type": "execute_result",
     "data": {
      "text/plain": [
       "['Society & Lifestyle',\n",
       " 'Education',\n",
       " 'Education',\n",
       " 'Society & Lifestyle',\n",
       " 'Automobiles',\n",
       " 'Education',\n",
       " 'Society & Lifestyle',\n",
       " 'Region',\n",
       " 'Society & Lifestyle',\n",
       " 'Automobiles']"
      ]
     },
     "metadata": {},
     "execution_count": 23
    }
   ],
   "metadata": {}
  },
  {
   "cell_type": "code",
   "execution_count": null,
   "source": [],
   "outputs": [],
   "metadata": {}
  }
 ],
 "metadata": {
  "orig_nbformat": 4,
  "language_info": {
   "name": "python",
   "version": "3.7.4",
   "mimetype": "text/x-python",
   "codemirror_mode": {
    "name": "ipython",
    "version": 3
   },
   "pygments_lexer": "ipython3",
   "nbconvert_exporter": "python",
   "file_extension": ".py"
  },
  "kernelspec": {
   "name": "python3",
   "display_name": "Python 3.7.4 64-bit"
  },
  "interpreter": {
   "hash": "aee8b7b246df8f9039afb4144a1f6fd8d2ca17a180786b69acc140d282b71a49"
  }
 },
 "nbformat": 4,
 "nbformat_minor": 2
}