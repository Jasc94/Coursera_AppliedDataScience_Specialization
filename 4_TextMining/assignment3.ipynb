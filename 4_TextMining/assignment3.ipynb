{
 "cells": [
  {
   "cell_type": "markdown",
   "source": [
    "## Data prep"
   ],
   "metadata": {}
  },
  {
   "cell_type": "code",
   "execution_count": 1,
   "source": [
    "import pandas as pd\n",
    "import numpy as np\n",
    "import warnings\n",
    "\n",
    "warnings.filterwarnings(\"ignore\")\n",
    "\n",
    "spam_data = pd.read_csv('data/spam.csv')\n",
    "\n",
    "spam_data['target'] = np.where(spam_data['target']=='spam',1,0)\n",
    "spam_data.head(10)"
   ],
   "outputs": [
    {
     "output_type": "execute_result",
     "data": {
      "text/html": [
       "<div>\n",
       "<style scoped>\n",
       "    .dataframe tbody tr th:only-of-type {\n",
       "        vertical-align: middle;\n",
       "    }\n",
       "\n",
       "    .dataframe tbody tr th {\n",
       "        vertical-align: top;\n",
       "    }\n",
       "\n",
       "    .dataframe thead th {\n",
       "        text-align: right;\n",
       "    }\n",
       "</style>\n",
       "<table border=\"1\" class=\"dataframe\">\n",
       "  <thead>\n",
       "    <tr style=\"text-align: right;\">\n",
       "      <th></th>\n",
       "      <th>text</th>\n",
       "      <th>target</th>\n",
       "    </tr>\n",
       "  </thead>\n",
       "  <tbody>\n",
       "    <tr>\n",
       "      <th>0</th>\n",
       "      <td>Go until jurong point, crazy.. Available only ...</td>\n",
       "      <td>0</td>\n",
       "    </tr>\n",
       "    <tr>\n",
       "      <th>1</th>\n",
       "      <td>Ok lar... Joking wif u oni...</td>\n",
       "      <td>0</td>\n",
       "    </tr>\n",
       "    <tr>\n",
       "      <th>2</th>\n",
       "      <td>Free entry in 2 a wkly comp to win FA Cup fina...</td>\n",
       "      <td>1</td>\n",
       "    </tr>\n",
       "    <tr>\n",
       "      <th>3</th>\n",
       "      <td>U dun say so early hor... U c already then say...</td>\n",
       "      <td>0</td>\n",
       "    </tr>\n",
       "    <tr>\n",
       "      <th>4</th>\n",
       "      <td>Nah I don't think he goes to usf, he lives aro...</td>\n",
       "      <td>0</td>\n",
       "    </tr>\n",
       "    <tr>\n",
       "      <th>5</th>\n",
       "      <td>FreeMsg Hey there darling it's been 3 week's n...</td>\n",
       "      <td>1</td>\n",
       "    </tr>\n",
       "    <tr>\n",
       "      <th>6</th>\n",
       "      <td>Even my brother is not like to speak with me. ...</td>\n",
       "      <td>0</td>\n",
       "    </tr>\n",
       "    <tr>\n",
       "      <th>7</th>\n",
       "      <td>As per your request 'Melle Melle (Oru Minnamin...</td>\n",
       "      <td>0</td>\n",
       "    </tr>\n",
       "    <tr>\n",
       "      <th>8</th>\n",
       "      <td>WINNER!! As a valued network customer you have...</td>\n",
       "      <td>1</td>\n",
       "    </tr>\n",
       "    <tr>\n",
       "      <th>9</th>\n",
       "      <td>Had your mobile 11 months or more? U R entitle...</td>\n",
       "      <td>1</td>\n",
       "    </tr>\n",
       "  </tbody>\n",
       "</table>\n",
       "</div>"
      ],
      "text/plain": [
       "                                                text  target\n",
       "0  Go until jurong point, crazy.. Available only ...       0\n",
       "1                      Ok lar... Joking wif u oni...       0\n",
       "2  Free entry in 2 a wkly comp to win FA Cup fina...       1\n",
       "3  U dun say so early hor... U c already then say...       0\n",
       "4  Nah I don't think he goes to usf, he lives aro...       0\n",
       "5  FreeMsg Hey there darling it's been 3 week's n...       1\n",
       "6  Even my brother is not like to speak with me. ...       0\n",
       "7  As per your request 'Melle Melle (Oru Minnamin...       0\n",
       "8  WINNER!! As a valued network customer you have...       1\n",
       "9  Had your mobile 11 months or more? U R entitle...       1"
      ]
     },
     "metadata": {},
     "execution_count": 1
    }
   ],
   "metadata": {}
  },
  {
   "cell_type": "code",
   "execution_count": 2,
   "source": [
    "from sklearn.model_selection import train_test_split\n",
    "\n",
    "\n",
    "X_train, X_test, y_train, y_test = train_test_split(spam_data['text'], \n",
    "                                                    spam_data['target'], \n",
    "                                                    random_state=0)"
   ],
   "outputs": [],
   "metadata": {}
  },
  {
   "cell_type": "code",
   "execution_count": 3,
   "source": [
    "X_train"
   ],
   "outputs": [
    {
     "output_type": "execute_result",
     "data": {
      "text/plain": [
       "872                       I'll text you when I drop x off\n",
       "831     Hi mate its RV did u hav a nice hol just a mes...\n",
       "1273    network operator. The service is free. For T &...\n",
       "3314    FREE MESSAGE Activate your 500 FREE Text Messa...\n",
       "4929    Hi, the SEXYCHAT girls are waiting for you to ...\n",
       "                              ...                        \n",
       "4931                Match started.india  &lt;#&gt;  for 2\n",
       "3264    44 7732584351, Do you want a New Nokia 3510i c...\n",
       "1653    I was at bugis juz now wat... But now i'm walk...\n",
       "2607    :-) yeah! Lol. Luckily i didn't have a starrin...\n",
       "2732    How dare you stupid. I wont tell anything to y...\n",
       "Name: text, Length: 4179, dtype: object"
      ]
     },
     "metadata": {},
     "execution_count": 3
    }
   ],
   "metadata": {}
  },
  {
   "cell_type": "markdown",
   "source": [
    "## Questions"
   ],
   "metadata": {}
  },
  {
   "cell_type": "markdown",
   "source": [
    "### Question 1: What percentage of the documents in spam_data are spam?"
   ],
   "metadata": {}
  },
  {
   "cell_type": "code",
   "execution_count": 4,
   "source": [
    "def answer_one():\n",
    "    return len(spam_data[spam_data[\"target\"] == 1]) / len(spam_data) * 100\n",
    "\n",
    "answer_one()"
   ],
   "outputs": [
    {
     "output_type": "execute_result",
     "data": {
      "text/plain": [
       "13.406317300789663"
      ]
     },
     "metadata": {},
     "execution_count": 4
    }
   ],
   "metadata": {}
  },
  {
   "cell_type": "markdown",
   "source": [
    "### Question 2: Fit the training data X_train using a Count Vectorizer with default parameters.\n",
    "\n",
    "What is the longest token in the vocabulary?"
   ],
   "metadata": {}
  },
  {
   "cell_type": "code",
   "execution_count": 5,
   "source": [
    "def answer_two():\n",
    "    from sklearn.feature_extraction.text import CountVectorizer\n",
    "\n",
    "    vect = CountVectorizer().fit(X_train)\n",
    "\n",
    "    return max(vect.get_feature_names(), key = len)\n",
    "\n",
    "answer_two()"
   ],
   "outputs": [
    {
     "output_type": "execute_result",
     "data": {
      "text/plain": [
       "'com1win150ppmx3age16subscription'"
      ]
     },
     "metadata": {},
     "execution_count": 5
    }
   ],
   "metadata": {}
  },
  {
   "cell_type": "markdown",
   "source": [
    "### Question 3: Fit and transform the training data X_train using a Count Vectorizer with default parameters.\n",
    "\n",
    "Next, fit a fit a multinomial Naive Bayes classifier model with smoothing alpha=0.1. Find the area under the curve (AUC) score using the transformed test data.\n",
    "\n"
   ],
   "metadata": {}
  },
  {
   "cell_type": "code",
   "execution_count": 35,
   "source": [
    "def answer_three():\n",
    "    from sklearn.feature_extraction.text import CountVectorizer\n",
    "    from sklearn.naive_bayes import MultinomialNB\n",
    "    from sklearn.metrics import roc_auc_score\n",
    "\n",
    "    vect = CountVectorizer().fit(X_train)\n",
    "    X_train_vectorized = vect.transform(X_train).toarray()\n",
    "\n",
    "    model = MultinomialNB(alpha = 0.1)\n",
    "    model.fit(X_train_vectorized, y_train)\n",
    "\n",
    "    predictions = model.predict(vect.transform(X_test).toarray())\n",
    "\n",
    "    return roc_auc_score(y_test, predictions)\n",
    "\n",
    "answer_three()"
   ],
   "outputs": [
    {
     "output_type": "execute_result",
     "data": {
      "text/plain": [
       "0.9720812182741116"
      ]
     },
     "metadata": {},
     "execution_count": 35
    }
   ],
   "metadata": {}
  },
  {
   "cell_type": "markdown",
   "source": [
    "### Question 4: Fit and transform the training data X_train using a Tfidf Vectorizer with default parameters.\n",
    "\n",
    "What 20 features have the smallest tf-idf and what 20 have the largest tf-idf?\n",
    "\n",
    "Put these features in a two series where each series is sorted by tf-idf value and then alphabetically by feature name. The index of the series should be the feature name, and the data should be the tf-idf.\n",
    "\n",
    "The series of 20 features with smallest tf-idfs should be sorted smallest tfidf first, the list of 20 features with largest tf-idfs should be sorted largest first."
   ],
   "metadata": {}
  },
  {
   "cell_type": "code",
   "execution_count": 38,
   "source": [
    "def answer_four():\n",
    "    from sklearn.feature_extraction.text import TfidfVectorizer\n",
    "\n",
    "    vect = TfidfVectorizer()\n",
    "    X_train_vectorized = vect.fit_transform(X_train)\n",
    "\n",
    "    feature_names = np.array(vect.get_feature_names())\n",
    "    sorted_coef = X_train_vectorized.max(0).toarray()[0]\n",
    "    sorted_coef_index = sorted_coef.argsort()\n",
    "\n",
    "    #s = pd.Series(sorted_coef, index = feature_names).sort_values()\n",
    "    df = pd.DataFrame([feature_names, sorted_coef]).T\n",
    "    df = df.sort_values(by = [1, 0])\n",
    "    df.set_index(0, inplace = True)\n",
    "\n",
    "    return df.iloc[:20, 0], df.iloc[:-21:-1, 0]\n",
    "\n",
    "answer_four()"
   ],
   "outputs": [
    {
     "output_type": "execute_result",
     "data": {
      "text/plain": [
       "(0\n",
       " aaniye          0.074475\n",
       " athletic        0.074475\n",
       " chef            0.074475\n",
       " companion       0.074475\n",
       " courageous      0.074475\n",
       " dependable      0.074475\n",
       " determined      0.074475\n",
       " exterminator    0.074475\n",
       " healer          0.074475\n",
       " listener        0.074475\n",
       " organizer       0.074475\n",
       " pest            0.074475\n",
       " psychiatrist    0.074475\n",
       " psychologist    0.074475\n",
       " pudunga         0.074475\n",
       " stylist         0.074475\n",
       " sympathetic     0.074475\n",
       " venaam          0.074475\n",
       " afternoons       0.09125\n",
       " approaching      0.09125\n",
       " Name: 1, dtype: object,\n",
       " 0\n",
       " yup               1.0\n",
       " where             1.0\n",
       " too               1.0\n",
       " thanx             1.0\n",
       " thank             1.0\n",
       " okie              1.0\n",
       " ok                1.0\n",
       " nite              1.0\n",
       " lei               1.0\n",
       " home              1.0\n",
       " havent            1.0\n",
       " er                1.0\n",
       " done              1.0\n",
       " beerage           1.0\n",
       " anytime           1.0\n",
       " anything          1.0\n",
       " 645               1.0\n",
       " 146tf150p         1.0\n",
       " tick         0.980166\n",
       " blank        0.932702\n",
       " Name: 1, dtype: object)"
      ]
     },
     "metadata": {},
     "execution_count": 38
    }
   ],
   "metadata": {}
  },
  {
   "cell_type": "markdown",
   "source": [
    "### Question 5: Fit and transform the training data X_train using a Tfidf Vectorizer ignoring terms that have a document frequency strictly lower than 3.\n",
    "\n",
    "Then fit a multinomial Naive Bayes classifier model with smoothing alpha=0.1 and compute the area under the curve (AUC) score using the transformed test data."
   ],
   "metadata": {}
  },
  {
   "cell_type": "code",
   "execution_count": 8,
   "source": [
    "def answer_five():\n",
    "    from sklearn.feature_extraction.text import TfidfVectorizer\n",
    "    from sklearn.naive_bayes import MultinomialNB\n",
    "    from sklearn.metrics import roc_auc_score\n",
    "\n",
    "    vect = TfidfVectorizer(min_df = 3)\n",
    "    X_train_vectorized = vect.fit_transform(X_train)\n",
    "\n",
    "    model = MultinomialNB(alpha = 0.1)\n",
    "    model.fit(X_train_vectorized, y_train)\n",
    "\n",
    "    predictions = model.predict(vect.transform(X_test))\n",
    "    \n",
    "    return roc_auc_score(y_test, predictions)\n",
    "\n",
    "answer_five()"
   ],
   "outputs": [
    {
     "output_type": "execute_result",
     "data": {
      "text/plain": [
       "0.9416243654822335"
      ]
     },
     "metadata": {},
     "execution_count": 8
    }
   ],
   "metadata": {}
  },
  {
   "cell_type": "markdown",
   "source": [
    "### What is the average length of documents (number of characters) for not spam and spam documents?"
   ],
   "metadata": {}
  },
  {
   "cell_type": "code",
   "execution_count": 9,
   "source": [
    "def answer_six():\n",
    "    spam_data[\"len\"] = spam_data[\"text\"].apply(lambda x: len(x))\n",
    "    text_lenghts = spam_data.groupby(\"target\").agg({\"len\": np.average})\n",
    "    return text_lenghts.iloc[0, 0], text_lenghts.iloc[1, 0]\n",
    "\n",
    "answer_six()"
   ],
   "outputs": [
    {
     "output_type": "execute_result",
     "data": {
      "text/plain": [
       "(71.02362694300518, 138.8661311914324)"
      ]
     },
     "metadata": {},
     "execution_count": 9
    }
   ],
   "metadata": {}
  },
  {
   "cell_type": "markdown",
   "source": [
    "### Extra helper"
   ],
   "metadata": {}
  },
  {
   "cell_type": "code",
   "execution_count": 10,
   "source": [
    "def add_feature(X, feature_to_add):\n",
    "    \"\"\"\n",
    "    Returns sparse feature matrix with added feature.\n",
    "    feature_to_add can also be a list of features.\n",
    "    \"\"\"\n",
    "    from scipy.sparse import csr_matrix, hstack\n",
    "    return hstack([X, csr_matrix(feature_to_add).T], 'csr')"
   ],
   "outputs": [],
   "metadata": {}
  },
  {
   "cell_type": "markdown",
   "source": [
    "### Question 7: Fit and transform the training data X_train using a Tfidf Vectorizer ignoring terms that have a document frequency strictly lower than 5.\n",
    "\n",
    "Using this document-term matrix and an additional feature, the length of document (number of characters), fit a Support Vector Classification model with regularization C=10000. Then compute the area under the curve (AUC) score using the transformed test data.\n",
    "\n"
   ],
   "metadata": {}
  },
  {
   "cell_type": "code",
   "execution_count": 11,
   "source": [
    "def answer_seven():\n",
    "    from sklearn.feature_extraction.text import TfidfVectorizer\n",
    "    from sklearn.svm import SVC\n",
    "    from sklearn.metrics import roc_auc_score\n",
    "\n",
    "    vect = TfidfVectorizer(min_df = 5)\n",
    "    X_train_vectorized = vect.fit_transform(X_train)\n",
    "    X_train_vectorized = add_feature(X_train_vectorized, X_train.apply(lambda x: len(x)))\n",
    "\n",
    "    model = SVC(C = 10000)\n",
    "    model.fit(X_train_vectorized, y_train)\n",
    "\n",
    "    X_test_vectorized = vect.transform(X_test)\n",
    "    X_test_vectorized = add_feature(X_test_vectorized, X_test.apply(lambda x: len(x)))\n",
    "    predictions = model.predict(X_test_vectorized)\n",
    "\n",
    "    return roc_auc_score(y_test, predictions)\n",
    "\n",
    "answer_seven()"
   ],
   "outputs": [
    {
     "output_type": "execute_result",
     "data": {
      "text/plain": [
       "0.9661689557407943"
      ]
     },
     "metadata": {},
     "execution_count": 11
    }
   ],
   "metadata": {}
  },
  {
   "cell_type": "markdown",
   "source": [
    "### Question 8: What is the average number of digits per document for not spam and spam documents?"
   ],
   "metadata": {}
  },
  {
   "cell_type": "code",
   "execution_count": 12,
   "source": [
    "def answer_eight():\n",
    "    spam_data[\"digits\"] = spam_data[\"text\"].apply(lambda x: len(\"\".join(d for d in x if d.isdigit())))\n",
    "    digits = spam_data.groupby(\"target\").agg({\"digits\": np.average})\n",
    "    return digits.iloc[0, 0], digits.iloc[1, 0]\n",
    "\n",
    "answer_eight()"
   ],
   "outputs": [
    {
     "output_type": "execute_result",
     "data": {
      "text/plain": [
       "(0.2992746113989637, 15.759036144578314)"
      ]
     },
     "metadata": {},
     "execution_count": 12
    }
   ],
   "metadata": {}
  },
  {
   "cell_type": "markdown",
   "source": [
    "### Question 9: Fit and transform the training data X_train using a Tfidf Vectorizer ignoring terms that have a document frequency strictly lower than 5 and using word n-grams from n=1 to n=3 (unigrams, bigrams, and trigrams).\n",
    "\n",
    "Using this document-term matrix and the following additional features:\n",
    "\n",
    "the length of document (number of characters)\n",
    "number of digits per document\n",
    "fit a Logistic Regression model with regularization C=100. Then compute the area under the curve (AUC) score using the transformed test data."
   ],
   "metadata": {}
  },
  {
   "cell_type": "code",
   "execution_count": 39,
   "source": [
    "def answer_nine():\n",
    "    from sklearn.feature_extraction.text import TfidfVectorizer\n",
    "    from sklearn.linear_model import LogisticRegression\n",
    "    from sklearn.metrics import roc_auc_score\n",
    "\n",
    "    vect = TfidfVectorizer(min_df = 5, ngram_range = (1, 3))\n",
    "    X_train_vectorized = vect.fit_transform(X_train)\n",
    "    # Adding length of texts\n",
    "    X_train_vectorized = add_feature(X_train_vectorized, X_train.apply(lambda x: len(x)))\n",
    "    # Adding number of digits\n",
    "    X_train_vectorized = add_feature(X_train_vectorized, X_train.apply(lambda x: len(\"\".join(d for d in x if d.isdigit()))))\n",
    "\n",
    "    model = LogisticRegression(C = 100)\n",
    "    model.fit(X_train_vectorized, y_train)\n",
    "\n",
    "    X_test_vectorized = vect.transform(X_test)\n",
    "    # Adding length of texts\n",
    "    X_test_vectorized = add_feature(X_test_vectorized, X_test.apply(lambda x: len(x)))\n",
    "    # Adding number of digits\n",
    "    X_test_vectorized = add_feature(X_test_vectorized, X_test.apply(lambda x: len(\"\".join(d for d in x if d.isdigit()))))\n",
    "\n",
    "    predictions = model.predict(X_test_vectorized)\n",
    "    return roc_auc_score(y_test, predictions)\n",
    "\n",
    "answer_nine()"
   ],
   "outputs": [
    {
     "output_type": "execute_result",
     "data": {
      "text/plain": [
       "0.9759031798040846"
      ]
     },
     "metadata": {},
     "execution_count": 39
    }
   ],
   "metadata": {}
  },
  {
   "cell_type": "markdown",
   "source": [
    "### Question 10: What is the average number of non-word characters (anything other than a letter, digit or underscore) per document for not spam and spam documents?\n",
    "\n",
    "Hint: Use \\w and \\W character classes"
   ],
   "metadata": {}
  },
  {
   "cell_type": "code",
   "execution_count": 14,
   "source": [
    "def answer_ten():\n",
    "    import re\n",
    "    spam_data[\"non_word\"] = spam_data[\"text\"].apply(lambda x: len(re.findall(r\"\\W\", x)))\n",
    "    non_word = spam_data.groupby(\"target\").agg({\"non_word\": np.average})\n",
    "\n",
    "    return non_word.iloc[0, 0], non_word.iloc[1, 0]\n",
    "\n",
    "answer_ten()"
   ],
   "outputs": [
    {
     "output_type": "execute_result",
     "data": {
      "text/plain": [
       "(17.29181347150259, 29.041499330655956)"
      ]
     },
     "metadata": {},
     "execution_count": 14
    }
   ],
   "metadata": {}
  },
  {
   "cell_type": "markdown",
   "source": [
    "### Question 11: Fit and transform the training data X_train using a Count Vectorizer ignoring terms that have a document frequency strictly lower than 5 and using character n-grams from n=2 to n=5.\n",
    "\n",
    "To tell Count Vectorizer to use character n-grams pass in analyzer='char_wb' which creates character n-grams only from text inside word boundaries. This should make the model more robust to spelling mistakes.\n",
    "\n",
    "Using this document-term matrix and the following additional features:\n",
    "\n",
    "the length of document (number of characters)\n",
    "number of digits per document\n",
    "number of non-word characters (anything other than a letter, digit or underscore.)\n",
    "fit a Logistic Regression model with regularization C=100. Then compute the area under the curve (AUC) score using the transformed test data.\n",
    "\n",
    "Also find the 10 smallest and 10 largest coefficients from the model and return them along with the AUC score in a tuple.\n",
    "\n",
    "The list of 10 smallest coefficients should be sorted smallest first, the list of 10 largest coefficients should be sorted largest first.\n",
    "\n",
    "The three features that were added to the document term matrix should have the following names should they appear in the list of coefficients: ['length_of_doc', 'digit_count', 'non_word_char_count']"
   ],
   "metadata": {}
  },
  {
   "cell_type": "code",
   "execution_count": 34,
   "source": [
    "def answer_eleven():\n",
    "    from sklearn.feature_extraction.text import CountVectorizer\n",
    "    from sklearn.linear_model import LogisticRegression\n",
    "    from sklearn.metrics import roc_auc_score\n",
    "    import re\n",
    "\n",
    "    ######## X_train vectorization\n",
    "    vect = CountVectorizer(min_df = 5, ngram_range = (2, 5), analyzer = \"char_wb\")\n",
    "    X_train_vectorized = vect.fit_transform(X_train).toarray()\n",
    "    # Adding text length\n",
    "    X_train_vectorized = add_feature(X_train_vectorized, X_train.apply(lambda x: len(x)))\n",
    "    # Adding number of digits\n",
    "    X_train_vectorized = add_feature(X_train_vectorized, X_train.apply(lambda x: len(\"\".join(d for d in x if d.isdigit()))))\n",
    "    # Adding number of non-word characters\n",
    "    X_train_vectorized = add_feature(X_train_vectorized, X_train.apply(lambda x: len(re.findall(r\"\\W\", x))))\n",
    "\n",
    "    ######## Model\n",
    "    model = LogisticRegression(C = 100)\n",
    "    model.fit(X_train_vectorized, y_train)\n",
    "\n",
    "    ######## X_test vectorization\n",
    "    X_test_vectorized = vect.transform(X_test).toarray()\n",
    "    # Adding text length\n",
    "    X_test_vectorized = add_feature(X_test_vectorized, X_test.apply(lambda x: len(x)))\n",
    "    # Adding number of digits\n",
    "    X_test_vectorized = add_feature(X_test_vectorized, X_test.apply(lambda x: len(\"\".join(d for d in x if d.isdigit()))))\n",
    "    # Adding number of non-word characters\n",
    "    X_test_vectorized = add_feature(X_test_vectorized, X_test.apply(lambda x: len(re.findall(r\"\\W\", x))))\n",
    "\n",
    "    ######## Predicitions\n",
    "    predictions = model.predict(X_test_vectorized)\n",
    "\n",
    "    ######## Smallest/largest coefficients\n",
    "    # get the feature names as numpy array\n",
    "    feature_names = np.array(vect.get_feature_names())\n",
    "\n",
    "    # Sort the coefficients from the model\n",
    "    sorted_coef_index = model.coef_[0][:-2].argsort()\n",
    "    smallest = feature_names[sorted_coef_index[:10]]\n",
    "    largest = feature_names[sorted_coef_index[:-11:-1]]\n",
    "\n",
    "    return roc_auc_score(y_test, predictions), smallest, largest\n",
    "\n",
    "answer_eleven()"
   ],
   "outputs": [
    {
     "output_type": "execute_result",
     "data": {
      "text/plain": [
       "(0.9809793219360643,\n",
       " array(['..', '. ', ' i', ' go', '? ', ' y', 'pe', 'ok', 'go', 'ca'],\n",
       "       dtype='<U5'),\n",
       " array(['ww', 'co', 'ne', 'ia', 'ar', 'xt', 'mob', 'uk', ' ch', 'eply '],\n",
       "       dtype='<U5'))"
      ]
     },
     "metadata": {},
     "execution_count": 34
    }
   ],
   "metadata": {}
  },
  {
   "cell_type": "code",
   "execution_count": null,
   "source": [],
   "outputs": [],
   "metadata": {}
  }
 ],
 "metadata": {
  "orig_nbformat": 4,
  "language_info": {
   "name": "python",
   "version": "3.7.4",
   "mimetype": "text/x-python",
   "codemirror_mode": {
    "name": "ipython",
    "version": 3
   },
   "pygments_lexer": "ipython3",
   "nbconvert_exporter": "python",
   "file_extension": ".py"
  },
  "kernelspec": {
   "name": "python3",
   "display_name": "Python 3.7.4 64-bit"
  },
  "interpreter": {
   "hash": "aee8b7b246df8f9039afb4144a1f6fd8d2ca17a180786b69acc140d282b71a49"
  }
 },
 "nbformat": 4,
 "nbformat_minor": 2
}