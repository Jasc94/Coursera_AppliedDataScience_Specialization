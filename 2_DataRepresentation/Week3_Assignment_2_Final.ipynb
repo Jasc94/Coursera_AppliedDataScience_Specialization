{
 "cells": [
  {
   "cell_type": "code",
   "execution_count": 10,
   "metadata": {},
   "outputs": [
    {
     "name": "stdout",
     "output_type": "stream",
     "text": [
      "\n",
      "\n",
      "horizontal line is in: 40000\n",
      "\n",
      "\n"
     ]
    },
    {
     "data": {
      "image/png": "[encoded data removed]",
      "text/plain": [
       "<Figure size 432x288 with 2 Axes>"
      ]
     },
     "metadata": {
      "needs_background": "light"
     },
     "output_type": "display_data"
    }
   ],
   "source": [
    "# ----------------------- First part -----------------------\n",
    "# First, I import all the libraries and data necessary\n",
    "\n",
    "import pandas as pd\n",
    "import numpy as np\n",
    "import math\n",
    "\n",
    "from scipy.stats import norm\n",
    "import math\n",
    "import matplotlib.gridspec as gridspec\n",
    "import matplotlib.pyplot as plt\n",
    "import ipywidgets as wdg\n",
    "from matplotlib.cm import ScalarMappable\n",
    "from matplotlib.backends.backend_agg import FigureCanvasAgg\n",
    "from matplotlib.figure import Figure\n",
    "\n",
    "\n",
    "np.random.seed(12345)\n",
    "\n",
    "df = pd.DataFrame([np.random.normal(32000,200000,3650), \n",
    "                   np.random.normal(43000,100000,3650), \n",
    "                   np.random.normal(43500,140000,3650), \n",
    "                   np.random.normal(48000,70000,3650)], \n",
    "                  index=[1992,1993,1994,1995])\n",
    "\n",
    "# ----------------------- Second part -----------------------\n",
    "\n",
    "# First I create the list to store the parameters I need for every year, such as: mean, standard error, etc...\n",
    "years = list(df.index)\n",
    "means = []\n",
    "# SE = sigma / sqrt(n)\n",
    "SEs = []\n",
    "\n",
    "# Then I define the parameters that remain the same across different years\n",
    "n = 3650\n",
    "z_score = 1.96\n",
    "\n",
    "# I loop through the dataframe index to calculate the sample statistics I need\n",
    "for ind, row in df.iterrows():\n",
    "    means.append(row.mean())\n",
    "    # SE = sigma / sqrt(n)\n",
    "    SEs.append(row.std() / math.sqrt(n))\n",
    "    \n",
    "\n",
    "# Margins of error for later plotting\n",
    "MEs = [x * z_score for x in SEs]\n",
    "\n",
    "# ----------------------- Third part -----------------------\n",
    "# I define the function to calculate the probability for a given value to be above the sample statistic (interval)\n",
    "def calc_prob(point, mean, std):\n",
    "    result = norm.cdf(point, loc = mean, scale = std)\n",
    "    return result\n",
    "\n",
    "# I define the point (line) I want to check the probability for\n",
    "horizontal_line = 40000\n",
    "\n",
    "# Define the probabilities list, where I'll store all the probs for each year to be below the given value -> the\n",
    "# variable I just defined\n",
    "probabilities = []\n",
    "\n",
    "# I loop through all the years to calculate the probs\n",
    "for i in range(len(means)):\n",
    "    prob = calc_prob(horizontal_line, means[i], SEs[i])\n",
    "    probabilities.append(prob)\n",
    "    \n",
    "# ----------------------- Fourth part -----------------------\n",
    "# I start the plot\n",
    "fig = plt.figure()\n",
    "\n",
    "# and associate it with the backend\n",
    "canvas = FigureCanvasAgg(fig)\n",
    "\n",
    "ax = fig.add_subplot(111)\n",
    "\n",
    "# I define the positions for the bars\n",
    "pos = np.arange(len(years))\n",
    "bars = plt.bar(pos, means, width = 0.9, align = 'center', alpha = 0.4,\n",
    "               color = ['#56646B', 'blue', 'red', 'green'], edgecolor = 'grey', yerr = MEs, capsize = 8)\n",
    "\n",
    "# Now the ticks for the plot\n",
    "plt.xticks(pos, years)\n",
    "\n",
    "# Title\n",
    "plt.title('Confidence intervals')\n",
    "\n",
    "# I draw the horizontal line coming from the value we want the means to be compared with\n",
    "plt.axhline(y = horizontal_line, linewidth = 1, color = 'lightgrey')\n",
    "\n",
    "# I set up the scalar plot -> coolwarm\n",
    "my_cmap = plt.cm.get_cmap('coolwarm')\n",
    "sm = ScalarMappable(cmap = my_cmap, norm = plt.Normalize(0,1))\n",
    "sm.set_array([])\n",
    "cbar = plt.colorbar(sm)\n",
    "cbar.set_label('Probability', rotation = 270,labelpad = 25)\n",
    "\n",
    "# I loop through all the bars, plotting them according to the probability they have to be below the given value\n",
    "for index, bar in enumerate(bars):\n",
    "    bar.set_color(c = my_cmap(probabilities[index]))\n",
    "    \n",
    "    \n",
    "print('\\n')\n",
    "print('horizontal line is in:', horizontal_line)\n",
    "print('\\n')\n",
    "\n",
    "canvas.print_png('CustomVisualization.png')"
   ]
  },
  {
   "cell_type": "code",
   "execution_count": null,
   "metadata": {},
   "outputs": [],
   "source": []
  }
 ],
 "metadata": {
  "kernelspec": {
   "display_name": "Python 3",
   "language": "python",
   "name": "python3"
  },
  "language_info": {
   "codemirror_mode": {
    "name": "ipython",
    "version": 3
   },
   "file_extension": ".py",
   "mimetype": "text/x-python",
   "name": "python",
   "nbconvert_exporter": "python",
   "pygments_lexer": "ipython3",
   "version": "3.8.5"
  }
 },
 "nbformat": 4,
 "nbformat_minor": 4
}
