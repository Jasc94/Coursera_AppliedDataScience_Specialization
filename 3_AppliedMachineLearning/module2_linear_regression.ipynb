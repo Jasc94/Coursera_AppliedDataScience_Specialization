{
 "cells": [
  {
   "cell_type": "markdown",
   "source": [
    "# Linear models for regression\n",
    "\n",
    "A linear model is a sum of weighted variables that predicts a target output value given an input data instance.\n",
    "\n",
    "The model has parameters/coefficients.\n",
    "\n",
    "<img src=\"resources/linear_model.png\" width = \"400\">\n",
    "\n",
    "A widely used method for estimating w and b for linear regression problems is called **least-squares linear regression**. This method minimizes what is called the **means squared error** of the model. The mean squared error of the model is  essentially the sum of the squared differences between the predicted target value and the actual target value for all the points in the training set.\n",
    "\n",
    "The technique of least-squares is designed to find the slope (w) and intercept (b) that minimize this mean squared error. Hence, result is always going to be a straight line.\n",
    "\n",
    "Linear models can be very effective for data with many features, and generalize well well to new data beyond the training set.\n",
    "\n",
    "The learning algorithm finds the parameters that optimize an objective function, tipically to minimize some kind of loss function of the predicted targe valeus vs actual target values.\n",
    "\n",
    "Linear models make strong assumptions about the structure of the data (the target value can be predicted using a weighted sum of the input variables). They give stable but potentially inaccurate predictions."
   ],
   "metadata": {}
  },
  {
   "cell_type": "code",
   "execution_count": 4,
   "source": [
    "import numpy as np\n",
    "import pandas as pd\n",
    "\n",
    "import matplotlib.pyplot as plt\n",
    "import seaborn as sns\n",
    "\n",
    "from sklearn.model_selection import train_test_split\n",
    "from sklearn.preprocessing import MinMaxScaler\n",
    "\n",
    "import warnings\n",
    "\n",
    "warnings.filterwarnings('ignore')"
   ],
   "outputs": [],
   "metadata": {}
  },
  {
   "cell_type": "code",
   "execution_count": 9,
   "source": [
    "# Datasets\n",
    "from sklearn.datasets import make_regression, make_friedman1, make_classification, make_blobs\n",
    "from sklearn.datasets import load_breast_cancer\n",
    "from utils.adspy_shared_utilities import load_crime_dataset\n",
    "\n",
    "X_R1, y_R1 = make_regression(n_samples = 100, n_features = 1, n_informative = 1, bias = 150.0, noise = 30, random_state = 0)\n",
    "X_F1, y_F1 = make_friedman1(n_samples = 100, n_features = 7, random_state = 0)\n",
    "X_C2, y_C2 = make_classification(n_samples = 100, n_features = 2, n_redundant = 0, n_informative = 2, n_clusters_per_class = 1, flip_y = .1, class_sep = .5, random_state = 0)\n",
    "X_D2, y_D2 = make_blobs(n_samples = 100, n_features = 2, centers = 8, cluster_std = 1.3, random_state = 4)\n",
    "y_D2 = y_D2 % 2\n",
    "\n",
    "\n",
    "# Breast cancer dataset for classification\n",
    "cancer = load_breast_cancer()\n",
    "(X_cancer, y_cancer) = load_breast_cancer(return_X_y = True)\n",
    "\n",
    "# Communities and Crime dataset\n",
    "(X_crime, y_crime) = load_crime_dataset('data/CommViolPredUnnormalizedData.txt')"
   ],
   "outputs": [],
   "metadata": {}
  },
  {
   "cell_type": "markdown",
   "source": [
    "## Linear regression"
   ],
   "metadata": {}
  },
  {
   "cell_type": "code",
   "execution_count": 6,
   "source": [
    "from sklearn.linear_model import LinearRegression\n",
    "\n",
    "# Train-test split\n",
    "X_train, X_test, y_train, y_test = train_test_split(X_R1, y_R1, random_state = 0)\n",
    "\n",
    "# Model selection and training\n",
    "linreg = LinearRegression().fit(X_train, y_train)\n",
    "\n",
    "# Results\n",
    "print('linear model coeff (w): {}'\n",
    "     .format(linreg.coef_))\n",
    "print('linear model intercept (b): {:.3f}'\n",
    "     .format(linreg.intercept_))\n",
    "print('R-squared score (training): {:.3f}'\n",
    "     .format(linreg.score(X_train, y_train)))\n",
    "print('R-squared score (test): {:.3f}'\n",
    "     .format(linreg.score(X_test, y_test)))"
   ],
   "outputs": [
    {
     "output_type": "stream",
     "name": "stdout",
     "text": [
      "linear model coeff (w): [45.70870465]\n",
      "linear model intercept (b): 148.446\n",
      "R-squared score (training): 0.679\n",
      "R-squared score (test): 0.492\n"
     ]
    }
   ],
   "metadata": {}
  },
  {
   "cell_type": "code",
   "execution_count": 7,
   "source": [
    "# Matplotlib figure\n",
    "plt.figure(figsize=(5,4))\n",
    "# Training data plot\n",
    "plt.scatter(X_R1, y_R1, marker= 'o', s=50, alpha=0.8)\n",
    "# Linear regression plot\n",
    "plt.plot(X_R1, linreg.coef_ * X_R1 + linreg.intercept_, 'r-')\n",
    "\n",
    "# Title and labels\n",
    "plt.title('Least-squares linear regression')\n",
    "plt.xlabel('Feature value (x)')\n",
    "plt.ylabel('Target value (y)')\n",
    "plt.show()"
   ],
   "outputs": [
    {
     "output_type": "display_data",
     "data": {
      "text/plain": [
       "<Figure size 360x288 with 1 Axes>"
      ],
      "image/svg+xml": "<?xml version=\"1.0\" encoding=\"utf-8\" standalone=\"no\"?>\n<!DOCTYPE svg PUBLIC \"-//W3C//DTD SVG 1.1//EN\"\n  \"http://www.w3.org/Graphics/SVG/1.1/DTD/svg11.dtd\">\n<svg height=\"277.314375pt\" version=\"1.1\" viewBox=\"0 0 333.165625 277.314375\" width=\"333.165625pt\" xmlns=\"http://www.w3.org/2000/svg\" xmlns:xlink=\"http://www.w3.org/1999/xlink\">\n <metadata>\n  <rdf:RDF xmlns:cc=\"http://creativecommons.org/ns#\" xmlns:dc=\"http://purl.org/dc/elements/1.1/\" xmlns:rdf=\"http://www.w3.org/1999/02/22-rdf-syntax-ns#\">\n   <cc:Work>\n    <dc:type rdf:resource=\"http://purl.org/dc/dcmitype/StillImage\"/>\n    <dc:date>2021-08-07T13:22:01.859449</dc:date>\n    <dc:format>image/svg+xml</dc:format>\n    <dc:creator>\n     <cc:Agent>\n      <dc:title>Matplotlib v3.4.1, https://matplotlib.org/</dc:title>\n     </cc:Agent>\n    </dc:creator>\n   </cc:Work>\n  </rdf:RDF>\n </metadata>\n <defs>\n  <style type=\"text/css\">*{stroke-linecap:butt;stroke-linejoin:round;}</style>\n </defs>\n <g id=\"figure_1\">\n  <g id=\"patch_1\">\n   <path d=\"M 0 277.314375 \nL 333.165625 277.314375 \nL 333.165625 0 \nL 0 0 \nz\n\" style=\"fill:none;\"/>\n  </g>\n  <g id=\"axes_1\">\n   <g id=\"patch_2\">\n    <path d=\"M 46.965625 239.758125 \nL 325.965625 239.758125 \nL 325.965625 22.318125 \nL 46.965625 22.318125 \nz\n\" style=\"fill:#ffffff;\"/>\n   </g>\n   <g id=\"PathCollection_1\">\n    <defs>\n     <path d=\"M 0 3.535534 \nC 0.937635 3.535534 1.836992 3.163008 2.5 2.5 \nC 3.163008 1.836992 3.535534 0.937635 3.535534 0 \nC 3.535534 -0.937635 3.163008 -1.836992 2.5 -2.5 \nC 1.836992 -3.163008 0.937635 -3.535534 0 -3.535534 \nC -0.937635 -3.535534 -1.836992 -3.163008 -2.5 -2.5 \nC -3.163008 -1.836992 -3.535534 -0.937635 -3.535534 0 \nC -3.535534 0.937635 -3.163008 1.836992 -2.5 2.5 \nC -1.836992 3.163008 -0.937635 3.535534 0 3.535534 \nz\n\" id=\"m0692450877\" style=\"stroke:#1f77b4;stroke-opacity:0.8;\"/>\n    </defs>\n    <g clip-path=\"url(#p57eb37e898)\">\n     <use style=\"fill:#1f77b4;fill-opacity:0.8;stroke:#1f77b4;stroke-opacity:0.8;\" x=\"175.004022\" xlink:href=\"#m0692450877\" y=\"144.111351\"/>\n     <use style=\"fill:#1f77b4;fill-opacity:0.8;stroke:#1f77b4;stroke-opacity:0.8;\" x=\"245.27665\" xlink:href=\"#m0692450877\" y=\"136.025476\"/>\n     <use style=\"fill:#1f77b4;fill-opacity:0.8;stroke:#1f77b4;stroke-opacity:0.8;\" x=\"215.07337\" xlink:href=\"#m0692450877\" y=\"121.299359\"/>\n     <use style=\"fill:#1f77b4;fill-opacity:0.8;stroke:#1f77b4;stroke-opacity:0.8;\" x=\"151.148785\" xlink:href=\"#m0692450877\" y=\"106.568588\"/>\n     <use style=\"fill:#1f77b4;fill-opacity:0.8;stroke:#1f77b4;stroke-opacity:0.8;\" x=\"147.223368\" xlink:href=\"#m0692450877\" y=\"145.981481\"/>\n     <use style=\"fill:#1f77b4;fill-opacity:0.8;stroke:#1f77b4;stroke-opacity:0.8;\" x=\"217.257061\" xlink:href=\"#m0692450877\" y=\"86.420242\"/>\n     <use style=\"fill:#1f77b4;fill-opacity:0.8;stroke:#1f77b4;stroke-opacity:0.8;\" x=\"142.516824\" xlink:href=\"#m0692450877\" y=\"187.32425\"/>\n     <use style=\"fill:#1f77b4;fill-opacity:0.8;stroke:#1f77b4;stroke-opacity:0.8;\" x=\"216.44024\" xlink:href=\"#m0692450877\" y=\"109.145855\"/>\n     <use style=\"fill:#1f77b4;fill-opacity:0.8;stroke:#1f77b4;stroke-opacity:0.8;\" x=\"204.867073\" xlink:href=\"#m0692450877\" y=\"86.162772\"/>\n     <use style=\"fill:#1f77b4;fill-opacity:0.8;stroke:#1f77b4;stroke-opacity:0.8;\" x=\"177.528457\" xlink:href=\"#m0692450877\" y=\"152.687244\"/>\n     <use style=\"fill:#1f77b4;fill-opacity:0.8;stroke:#1f77b4;stroke-opacity:0.8;\" x=\"167.049422\" xlink:href=\"#m0692450877\" y=\"151.508974\"/>\n     <use style=\"fill:#1f77b4;fill-opacity:0.8;stroke:#1f77b4;stroke-opacity:0.8;\" x=\"200.58806\" xlink:href=\"#m0692450877\" y=\"108.668044\"/>\n     <use style=\"fill:#1f77b4;fill-opacity:0.8;stroke:#1f77b4;stroke-opacity:0.8;\" x=\"113.119858\" xlink:href=\"#m0692450877\" y=\"197.313781\"/>\n     <use style=\"fill:#1f77b4;fill-opacity:0.8;stroke:#1f77b4;stroke-opacity:0.8;\" x=\"172.783191\" xlink:href=\"#m0692450877\" y=\"160.529396\"/>\n     <use style=\"fill:#1f77b4;fill-opacity:0.8;stroke:#1f77b4;stroke-opacity:0.8;\" x=\"228.288454\" xlink:href=\"#m0692450877\" y=\"93.802165\"/>\n     <use style=\"fill:#1f77b4;fill-opacity:0.8;stroke:#1f77b4;stroke-opacity:0.8;\" x=\"255.907566\" xlink:href=\"#m0692450877\" y=\"59.73049\"/>\n     <use style=\"fill:#1f77b4;fill-opacity:0.8;stroke:#1f77b4;stroke-opacity:0.8;\" x=\"184.450982\" xlink:href=\"#m0692450877\" y=\"121.825836\"/>\n     <use style=\"fill:#1f77b4;fill-opacity:0.8;stroke:#1f77b4;stroke-opacity:0.8;\" x=\"287.835514\" xlink:href=\"#m0692450877\" y=\"68.270357\"/>\n     <use style=\"fill:#1f77b4;fill-opacity:0.8;stroke:#1f77b4;stroke-opacity:0.8;\" x=\"270.396263\" xlink:href=\"#m0692450877\" y=\"32.201761\"/>\n     <use style=\"fill:#1f77b4;fill-opacity:0.8;stroke:#1f77b4;stroke-opacity:0.8;\" x=\"157.898204\" xlink:href=\"#m0692450877\" y=\"131.928613\"/>\n     <use style=\"fill:#1f77b4;fill-opacity:0.8;stroke:#1f77b4;stroke-opacity:0.8;\" x=\"245.387038\" xlink:href=\"#m0692450877\" y=\"66.580429\"/>\n     <use style=\"fill:#1f77b4;fill-opacity:0.8;stroke:#1f77b4;stroke-opacity:0.8;\" x=\"293.621585\" xlink:href=\"#m0692450877\" y=\"67.120618\"/>\n     <use style=\"fill:#1f77b4;fill-opacity:0.8;stroke:#1f77b4;stroke-opacity:0.8;\" x=\"170.874461\" xlink:href=\"#m0692450877\" y=\"92.838329\"/>\n     <use style=\"fill:#1f77b4;fill-opacity:0.8;stroke:#1f77b4;stroke-opacity:0.8;\" x=\"210.378301\" xlink:href=\"#m0692450877\" y=\"109.572108\"/>\n     <use style=\"fill:#1f77b4;fill-opacity:0.8;stroke:#1f77b4;stroke-opacity:0.8;\" x=\"233.937809\" xlink:href=\"#m0692450877\" y=\"67.654683\"/>\n     <use style=\"fill:#1f77b4;fill-opacity:0.8;stroke:#1f77b4;stroke-opacity:0.8;\" x=\"234.803081\" xlink:href=\"#m0692450877\" y=\"44.43578\"/>\n     <use style=\"fill:#1f77b4;fill-opacity:0.8;stroke:#1f77b4;stroke-opacity:0.8;\" x=\"296.508145\" xlink:href=\"#m0692450877\" y=\"49.297019\"/>\n     <use style=\"fill:#1f77b4;fill-opacity:0.8;stroke:#1f77b4;stroke-opacity:0.8;\" x=\"211.462039\" xlink:href=\"#m0692450877\" y=\"114.585513\"/>\n     <use style=\"fill:#1f77b4;fill-opacity:0.8;stroke:#1f77b4;stroke-opacity:0.8;\" x=\"175.616242\" xlink:href=\"#m0692450877\" y=\"93.197392\"/>\n     <use style=\"fill:#1f77b4;fill-opacity:0.8;stroke:#1f77b4;stroke-opacity:0.8;\" x=\"274.525012\" xlink:href=\"#m0692450877\" y=\"64.012492\"/>\n     <use style=\"fill:#1f77b4;fill-opacity:0.8;stroke:#1f77b4;stroke-opacity:0.8;\" x=\"146.819421\" xlink:href=\"#m0692450877\" y=\"170.682707\"/>\n     <use style=\"fill:#1f77b4;fill-opacity:0.8;stroke:#1f77b4;stroke-opacity:0.8;\" x=\"163.470844\" xlink:href=\"#m0692450877\" y=\"134.436287\"/>\n     <use style=\"fill:#1f77b4;fill-opacity:0.8;stroke:#1f77b4;stroke-opacity:0.8;\" x=\"138.768346\" xlink:href=\"#m0692450877\" y=\"170.683371\"/>\n     <use style=\"fill:#1f77b4;fill-opacity:0.8;stroke:#1f77b4;stroke-opacity:0.8;\" x=\"213.801749\" xlink:href=\"#m0692450877\" y=\"76.508284\"/>\n     <use style=\"fill:#1f77b4;fill-opacity:0.8;stroke:#1f77b4;stroke-opacity:0.8;\" x=\"194.46575\" xlink:href=\"#m0692450877\" y=\"172.076535\"/>\n     <use style=\"fill:#1f77b4;fill-opacity:0.8;stroke:#1f77b4;stroke-opacity:0.8;\" x=\"218.252045\" xlink:href=\"#m0692450877\" y=\"81.291491\"/>\n     <use style=\"fill:#1f77b4;fill-opacity:0.8;stroke:#1f77b4;stroke-opacity:0.8;\" x=\"201.489033\" xlink:href=\"#m0692450877\" y=\"82.25209\"/>\n     <use style=\"fill:#1f77b4;fill-opacity:0.8;stroke:#1f77b4;stroke-opacity:0.8;\" x=\"172.709772\" xlink:href=\"#m0692450877\" y=\"125.531757\"/>\n     <use style=\"fill:#1f77b4;fill-opacity:0.8;stroke:#1f77b4;stroke-opacity:0.8;\" x=\"196.645433\" xlink:href=\"#m0692450877\" y=\"160.435485\"/>\n     <use style=\"fill:#1f77b4;fill-opacity:0.8;stroke:#1f77b4;stroke-opacity:0.8;\" x=\"128.026889\" xlink:href=\"#m0692450877\" y=\"145.852179\"/>\n     <use style=\"fill:#1f77b4;fill-opacity:0.8;stroke:#1f77b4;stroke-opacity:0.8;\" x=\"249.368953\" xlink:href=\"#m0692450877\" y=\"111.27455\"/>\n     <use style=\"fill:#1f77b4;fill-opacity:0.8;stroke:#1f77b4;stroke-opacity:0.8;\" x=\"214.958487\" xlink:href=\"#m0692450877\" y=\"107.592068\"/>\n     <use style=\"fill:#1f77b4;fill-opacity:0.8;stroke:#1f77b4;stroke-opacity:0.8;\" x=\"104.177874\" xlink:href=\"#m0692450877\" y=\"172.294413\"/>\n     <use style=\"fill:#1f77b4;fill-opacity:0.8;stroke:#1f77b4;stroke-opacity:0.8;\" x=\"311.765935\" xlink:href=\"#m0692450877\" y=\"78.566164\"/>\n     <use style=\"fill:#1f77b4;fill-opacity:0.8;stroke:#1f77b4;stroke-opacity:0.8;\" x=\"203.24468\" xlink:href=\"#m0692450877\" y=\"101.121788\"/>\n     <use style=\"fill:#1f77b4;fill-opacity:0.8;stroke:#1f77b4;stroke-opacity:0.8;\" x=\"183.123913\" xlink:href=\"#m0692450877\" y=\"173.838422\"/>\n     <use style=\"fill:#1f77b4;fill-opacity:0.8;stroke:#1f77b4;stroke-opacity:0.8;\" x=\"258.616623\" xlink:href=\"#m0692450877\" y=\"51.305024\"/>\n     <use style=\"fill:#1f77b4;fill-opacity:0.8;stroke:#1f77b4;stroke-opacity:0.8;\" x=\"148.995183\" xlink:href=\"#m0692450877\" y=\"146.676267\"/>\n     <use style=\"fill:#1f77b4;fill-opacity:0.8;stroke:#1f77b4;stroke-opacity:0.8;\" x=\"286.688061\" xlink:href=\"#m0692450877\" y=\"70.290105\"/>\n     <use style=\"fill:#1f77b4;fill-opacity:0.8;stroke:#1f77b4;stroke-opacity:0.8;\" x=\"215.507612\" xlink:href=\"#m0692450877\" y=\"148.300553\"/>\n     <use style=\"fill:#1f77b4;fill-opacity:0.8;stroke:#1f77b4;stroke-opacity:0.8;\" x=\"146.197166\" xlink:href=\"#m0692450877\" y=\"120.413198\"/>\n     <use style=\"fill:#1f77b4;fill-opacity:0.8;stroke:#1f77b4;stroke-opacity:0.8;\" x=\"119.232369\" xlink:href=\"#m0692450877\" y=\"194.535426\"/>\n     <use style=\"fill:#1f77b4;fill-opacity:0.8;stroke:#1f77b4;stroke-opacity:0.8;\" x=\"218.403519\" xlink:href=\"#m0692450877\" y=\"150.122259\"/>\n     <use style=\"fill:#1f77b4;fill-opacity:0.8;stroke:#1f77b4;stroke-opacity:0.8;\" x=\"241.289539\" xlink:href=\"#m0692450877\" y=\"126.599435\"/>\n     <use style=\"fill:#1f77b4;fill-opacity:0.8;stroke:#1f77b4;stroke-opacity:0.8;\" x=\"253.836563\" xlink:href=\"#m0692450877\" y=\"93.724946\"/>\n     <use style=\"fill:#1f77b4;fill-opacity:0.8;stroke:#1f77b4;stroke-opacity:0.8;\" x=\"215.054843\" xlink:href=\"#m0692450877\" y=\"103.230735\"/>\n     <use style=\"fill:#1f77b4;fill-opacity:0.8;stroke:#1f77b4;stroke-opacity:0.8;\" x=\"214.261399\" xlink:href=\"#m0692450877\" y=\"146.278626\"/>\n     <use style=\"fill:#1f77b4;fill-opacity:0.8;stroke:#1f77b4;stroke-opacity:0.8;\" x=\"103.125387\" xlink:href=\"#m0692450877\" y=\"229.874489\"/>\n     <use style=\"fill:#1f77b4;fill-opacity:0.8;stroke:#1f77b4;stroke-opacity:0.8;\" x=\"271.189622\" xlink:href=\"#m0692450877\" y=\"64.96946\"/>\n     <use style=\"fill:#1f77b4;fill-opacity:0.8;stroke:#1f77b4;stroke-opacity:0.8;\" x=\"184.069218\" xlink:href=\"#m0692450877\" y=\"121.20494\"/>\n     <use style=\"fill:#1f77b4;fill-opacity:0.8;stroke:#1f77b4;stroke-opacity:0.8;\" x=\"148.116827\" xlink:href=\"#m0692450877\" y=\"147.364035\"/>\n     <use style=\"fill:#1f77b4;fill-opacity:0.8;stroke:#1f77b4;stroke-opacity:0.8;\" x=\"209.82105\" xlink:href=\"#m0692450877\" y=\"126.385953\"/>\n     <use style=\"fill:#1f77b4;fill-opacity:0.8;stroke:#1f77b4;stroke-opacity:0.8;\" x=\"257.148745\" xlink:href=\"#m0692450877\" y=\"101.609022\"/>\n     <use style=\"fill:#1f77b4;fill-opacity:0.8;stroke:#1f77b4;stroke-opacity:0.8;\" x=\"89.740068\" xlink:href=\"#m0692450877\" y=\"195.288745\"/>\n     <use style=\"fill:#1f77b4;fill-opacity:0.8;stroke:#1f77b4;stroke-opacity:0.8;\" x=\"59.647443\" xlink:href=\"#m0692450877\" y=\"217.529111\"/>\n     <use style=\"fill:#1f77b4;fill-opacity:0.8;stroke:#1f77b4;stroke-opacity:0.8;\" x=\"117.425962\" xlink:href=\"#m0692450877\" y=\"167.53824\"/>\n     <use style=\"fill:#1f77b4;fill-opacity:0.8;stroke:#1f77b4;stroke-opacity:0.8;\" x=\"192.431385\" xlink:href=\"#m0692450877\" y=\"158.191701\"/>\n     <use style=\"fill:#1f77b4;fill-opacity:0.8;stroke:#1f77b4;stroke-opacity:0.8;\" x=\"202.062486\" xlink:href=\"#m0692450877\" y=\"161.069666\"/>\n     <use style=\"fill:#1f77b4;fill-opacity:0.8;stroke:#1f77b4;stroke-opacity:0.8;\" x=\"258.204009\" xlink:href=\"#m0692450877\" y=\"97.895853\"/>\n     <use style=\"fill:#1f77b4;fill-opacity:0.8;stroke:#1f77b4;stroke-opacity:0.8;\" x=\"292.131599\" xlink:href=\"#m0692450877\" y=\"42.299682\"/>\n     <use style=\"fill:#1f77b4;fill-opacity:0.8;stroke:#1f77b4;stroke-opacity:0.8;\" x=\"313.283807\" xlink:href=\"#m0692450877\" y=\"49.50216\"/>\n     <use style=\"fill:#1f77b4;fill-opacity:0.8;stroke:#1f77b4;stroke-opacity:0.8;\" x=\"154.881811\" xlink:href=\"#m0692450877\" y=\"135.74382\"/>\n     <use style=\"fill:#1f77b4;fill-opacity:0.8;stroke:#1f77b4;stroke-opacity:0.8;\" x=\"197.41179\" xlink:href=\"#m0692450877\" y=\"160.966886\"/>\n     <use style=\"fill:#1f77b4;fill-opacity:0.8;stroke:#1f77b4;stroke-opacity:0.8;\" x=\"272.489705\" xlink:href=\"#m0692450877\" y=\"95.524747\"/>\n     <use style=\"fill:#1f77b4;fill-opacity:0.8;stroke:#1f77b4;stroke-opacity:0.8;\" x=\"158.547693\" xlink:href=\"#m0692450877\" y=\"138.970097\"/>\n     <use style=\"fill:#1f77b4;fill-opacity:0.8;stroke:#1f77b4;stroke-opacity:0.8;\" x=\"108.178622\" xlink:href=\"#m0692450877\" y=\"192.115951\"/>\n     <use style=\"fill:#1f77b4;fill-opacity:0.8;stroke:#1f77b4;stroke-opacity:0.8;\" x=\"200.696968\" xlink:href=\"#m0692450877\" y=\"92.675599\"/>\n     <use style=\"fill:#1f77b4;fill-opacity:0.8;stroke:#1f77b4;stroke-opacity:0.8;\" x=\"243.880308\" xlink:href=\"#m0692450877\" y=\"115.511202\"/>\n     <use style=\"fill:#1f77b4;fill-opacity:0.8;stroke:#1f77b4;stroke-opacity:0.8;\" x=\"272.18326\" xlink:href=\"#m0692450877\" y=\"113.945585\"/>\n     <use style=\"fill:#1f77b4;fill-opacity:0.8;stroke:#1f77b4;stroke-opacity:0.8;\" x=\"196.867367\" xlink:href=\"#m0692450877\" y=\"100.305972\"/>\n     <use style=\"fill:#1f77b4;fill-opacity:0.8;stroke:#1f77b4;stroke-opacity:0.8;\" x=\"239.375712\" xlink:href=\"#m0692450877\" y=\"88.744789\"/>\n     <use style=\"fill:#1f77b4;fill-opacity:0.8;stroke:#1f77b4;stroke-opacity:0.8;\" x=\"231.073425\" xlink:href=\"#m0692450877\" y=\"105.68478\"/>\n     <use style=\"fill:#1f77b4;fill-opacity:0.8;stroke:#1f77b4;stroke-opacity:0.8;\" x=\"185.953402\" xlink:href=\"#m0692450877\" y=\"131.393161\"/>\n     <use style=\"fill:#1f77b4;fill-opacity:0.8;stroke:#1f77b4;stroke-opacity:0.8;\" x=\"137.600828\" xlink:href=\"#m0692450877\" y=\"155.22291\"/>\n     <use style=\"fill:#1f77b4;fill-opacity:0.8;stroke:#1f77b4;stroke-opacity:0.8;\" x=\"188.485081\" xlink:href=\"#m0692450877\" y=\"111.247125\"/>\n     <use style=\"fill:#1f77b4;fill-opacity:0.8;stroke:#1f77b4;stroke-opacity:0.8;\" x=\"178.014918\" xlink:href=\"#m0692450877\" y=\"160.986696\"/>\n     <use style=\"fill:#1f77b4;fill-opacity:0.8;stroke:#1f77b4;stroke-opacity:0.8;\" x=\"173.543358\" xlink:href=\"#m0692450877\" y=\"132.342553\"/>\n     <use style=\"fill:#1f77b4;fill-opacity:0.8;stroke:#1f77b4;stroke-opacity:0.8;\" x=\"232.257654\" xlink:href=\"#m0692450877\" y=\"88.495065\"/>\n     <use style=\"fill:#1f77b4;fill-opacity:0.8;stroke:#1f77b4;stroke-opacity:0.8;\" x=\"200.312633\" xlink:href=\"#m0692450877\" y=\"88.081579\"/>\n     <use style=\"fill:#1f77b4;fill-opacity:0.8;stroke:#1f77b4;stroke-opacity:0.8;\" x=\"167.110058\" xlink:href=\"#m0692450877\" y=\"110.82396\"/>\n     <use style=\"fill:#1f77b4;fill-opacity:0.8;stroke:#1f77b4;stroke-opacity:0.8;\" x=\"128.971938\" xlink:href=\"#m0692450877\" y=\"147.146197\"/>\n     <use style=\"fill:#1f77b4;fill-opacity:0.8;stroke:#1f77b4;stroke-opacity:0.8;\" x=\"182.725162\" xlink:href=\"#m0692450877\" y=\"114.633444\"/>\n     <use style=\"fill:#1f77b4;fill-opacity:0.8;stroke:#1f77b4;stroke-opacity:0.8;\" x=\"160.553454\" xlink:href=\"#m0692450877\" y=\"163.413103\"/>\n     <use style=\"fill:#1f77b4;fill-opacity:0.8;stroke:#1f77b4;stroke-opacity:0.8;\" x=\"202.136195\" xlink:href=\"#m0692450877\" y=\"125.000436\"/>\n     <use style=\"fill:#1f77b4;fill-opacity:0.8;stroke:#1f77b4;stroke-opacity:0.8;\" x=\"196.320055\" xlink:href=\"#m0692450877\" y=\"141.627269\"/>\n     <use style=\"fill:#1f77b4;fill-opacity:0.8;stroke:#1f77b4;stroke-opacity:0.8;\" x=\"132.636317\" xlink:href=\"#m0692450877\" y=\"157.186515\"/>\n     <use style=\"fill:#1f77b4;fill-opacity:0.8;stroke:#1f77b4;stroke-opacity:0.8;\" x=\"174.836359\" xlink:href=\"#m0692450877\" y=\"99.377582\"/>\n     <use style=\"fill:#1f77b4;fill-opacity:0.8;stroke:#1f77b4;stroke-opacity:0.8;\" x=\"212.655453\" xlink:href=\"#m0692450877\" y=\"117.811056\"/>\n     <use style=\"fill:#1f77b4;fill-opacity:0.8;stroke:#1f77b4;stroke-opacity:0.8;\" x=\"109.035893\" xlink:href=\"#m0692450877\" y=\"138.090575\"/>\n     <use style=\"fill:#1f77b4;fill-opacity:0.8;stroke:#1f77b4;stroke-opacity:0.8;\" x=\"131.822074\" xlink:href=\"#m0692450877\" y=\"172.130561\"/>\n    </g>\n   </g>\n   <g id=\"matplotlib.axis_1\">\n    <g id=\"xtick_1\">\n     <g id=\"line2d_1\">\n      <defs>\n       <path d=\"M 0 0 \nL 0 3.5 \n\" id=\"m61aaa8da5a\" style=\"stroke:#000000;stroke-width:0.8;\"/>\n      </defs>\n      <g>\n       <use style=\"stroke:#000000;stroke-width:0.8;\" x=\"88.730122\" xlink:href=\"#m61aaa8da5a\" y=\"239.758125\"/>\n      </g>\n     </g>\n     <g id=\"text_1\">\n      <!-- −2 -->\n      <g transform=\"translate(81.359028 254.356562)scale(0.1 -0.1)\">\n       <defs>\n        <path d=\"M 678 2272 \nL 4684 2272 \nL 4684 1741 \nL 678 1741 \nL 678 2272 \nz\n\" id=\"DejaVuSans-2212\" transform=\"scale(0.015625)\"/>\n        <path d=\"M 1228 531 \nL 3431 531 \nL 3431 0 \nL 469 0 \nL 469 531 \nQ 828 903 1448 1529 \nQ 2069 2156 2228 2338 \nQ 2531 2678 2651 2914 \nQ 2772 3150 2772 3378 \nQ 2772 3750 2511 3984 \nQ 2250 4219 1831 4219 \nQ 1534 4219 1204 4116 \nQ 875 4013 500 3803 \nL 500 4441 \nQ 881 4594 1212 4672 \nQ 1544 4750 1819 4750 \nQ 2544 4750 2975 4387 \nQ 3406 4025 3406 3419 \nQ 3406 3131 3298 2873 \nQ 3191 2616 2906 2266 \nQ 2828 2175 2409 1742 \nQ 1991 1309 1228 531 \nz\n\" id=\"DejaVuSans-32\" transform=\"scale(0.015625)\"/>\n       </defs>\n       <use xlink:href=\"#DejaVuSans-2212\"/>\n       <use x=\"83.789062\" xlink:href=\"#DejaVuSans-32\"/>\n      </g>\n     </g>\n    </g>\n    <g id=\"xtick_2\">\n     <g id=\"line2d_2\">\n      <g>\n       <use style=\"stroke:#000000;stroke-width:0.8;\" x=\"141.321829\" xlink:href=\"#m61aaa8da5a\" y=\"239.758125\"/>\n      </g>\n     </g>\n     <g id=\"text_2\">\n      <!-- −1 -->\n      <g transform=\"translate(133.950735 254.356562)scale(0.1 -0.1)\">\n       <defs>\n        <path d=\"M 794 531 \nL 1825 531 \nL 1825 4091 \nL 703 3866 \nL 703 4441 \nL 1819 4666 \nL 2450 4666 \nL 2450 531 \nL 3481 531 \nL 3481 0 \nL 794 0 \nL 794 531 \nz\n\" id=\"DejaVuSans-31\" transform=\"scale(0.015625)\"/>\n       </defs>\n       <use xlink:href=\"#DejaVuSans-2212\"/>\n       <use x=\"83.789062\" xlink:href=\"#DejaVuSans-31\"/>\n      </g>\n     </g>\n    </g>\n    <g id=\"xtick_3\">\n     <g id=\"line2d_3\">\n      <g>\n       <use style=\"stroke:#000000;stroke-width:0.8;\" x=\"193.913536\" xlink:href=\"#m61aaa8da5a\" y=\"239.758125\"/>\n      </g>\n     </g>\n     <g id=\"text_3\">\n      <!-- 0 -->\n      <g transform=\"translate(190.732286 254.356562)scale(0.1 -0.1)\">\n       <defs>\n        <path d=\"M 2034 4250 \nQ 1547 4250 1301 3770 \nQ 1056 3291 1056 2328 \nQ 1056 1369 1301 889 \nQ 1547 409 2034 409 \nQ 2525 409 2770 889 \nQ 3016 1369 3016 2328 \nQ 3016 3291 2770 3770 \nQ 2525 4250 2034 4250 \nz\nM 2034 4750 \nQ 2819 4750 3233 4129 \nQ 3647 3509 3647 2328 \nQ 3647 1150 3233 529 \nQ 2819 -91 2034 -91 \nQ 1250 -91 836 529 \nQ 422 1150 422 2328 \nQ 422 3509 836 4129 \nQ 1250 4750 2034 4750 \nz\n\" id=\"DejaVuSans-30\" transform=\"scale(0.015625)\"/>\n       </defs>\n       <use xlink:href=\"#DejaVuSans-30\"/>\n      </g>\n     </g>\n    </g>\n    <g id=\"xtick_4\">\n     <g id=\"line2d_4\">\n      <g>\n       <use style=\"stroke:#000000;stroke-width:0.8;\" x=\"246.505243\" xlink:href=\"#m61aaa8da5a\" y=\"239.758125\"/>\n      </g>\n     </g>\n     <g id=\"text_4\">\n      <!-- 1 -->\n      <g transform=\"translate(243.323993 254.356562)scale(0.1 -0.1)\">\n       <use xlink:href=\"#DejaVuSans-31\"/>\n      </g>\n     </g>\n    </g>\n    <g id=\"xtick_5\">\n     <g id=\"line2d_5\">\n      <g>\n       <use style=\"stroke:#000000;stroke-width:0.8;\" x=\"299.096951\" xlink:href=\"#m61aaa8da5a\" y=\"239.758125\"/>\n      </g>\n     </g>\n     <g id=\"text_5\">\n      <!-- 2 -->\n      <g transform=\"translate(295.915701 254.356562)scale(0.1 -0.1)\">\n       <use xlink:href=\"#DejaVuSans-32\"/>\n      </g>\n     </g>\n    </g>\n    <g id=\"text_6\">\n     <!-- Feature value (x) -->\n     <g transform=\"translate(143.878906 268.034687)scale(0.1 -0.1)\">\n      <defs>\n       <path d=\"M 628 4666 \nL 3309 4666 \nL 3309 4134 \nL 1259 4134 \nL 1259 2759 \nL 3109 2759 \nL 3109 2228 \nL 1259 2228 \nL 1259 0 \nL 628 0 \nL 628 4666 \nz\n\" id=\"DejaVuSans-46\" transform=\"scale(0.015625)\"/>\n       <path d=\"M 3597 1894 \nL 3597 1613 \nL 953 1613 \nQ 991 1019 1311 708 \nQ 1631 397 2203 397 \nQ 2534 397 2845 478 \nQ 3156 559 3463 722 \nL 3463 178 \nQ 3153 47 2828 -22 \nQ 2503 -91 2169 -91 \nQ 1331 -91 842 396 \nQ 353 884 353 1716 \nQ 353 2575 817 3079 \nQ 1281 3584 2069 3584 \nQ 2775 3584 3186 3129 \nQ 3597 2675 3597 1894 \nz\nM 3022 2063 \nQ 3016 2534 2758 2815 \nQ 2500 3097 2075 3097 \nQ 1594 3097 1305 2825 \nQ 1016 2553 972 2059 \nL 3022 2063 \nz\n\" id=\"DejaVuSans-65\" transform=\"scale(0.015625)\"/>\n       <path d=\"M 2194 1759 \nQ 1497 1759 1228 1600 \nQ 959 1441 959 1056 \nQ 959 750 1161 570 \nQ 1363 391 1709 391 \nQ 2188 391 2477 730 \nQ 2766 1069 2766 1631 \nL 2766 1759 \nL 2194 1759 \nz\nM 3341 1997 \nL 3341 0 \nL 2766 0 \nL 2766 531 \nQ 2569 213 2275 61 \nQ 1981 -91 1556 -91 \nQ 1019 -91 701 211 \nQ 384 513 384 1019 \nQ 384 1609 779 1909 \nQ 1175 2209 1959 2209 \nL 2766 2209 \nL 2766 2266 \nQ 2766 2663 2505 2880 \nQ 2244 3097 1772 3097 \nQ 1472 3097 1187 3025 \nQ 903 2953 641 2809 \nL 641 3341 \nQ 956 3463 1253 3523 \nQ 1550 3584 1831 3584 \nQ 2591 3584 2966 3190 \nQ 3341 2797 3341 1997 \nz\n\" id=\"DejaVuSans-61\" transform=\"scale(0.015625)\"/>\n       <path d=\"M 1172 4494 \nL 1172 3500 \nL 2356 3500 \nL 2356 3053 \nL 1172 3053 \nL 1172 1153 \nQ 1172 725 1289 603 \nQ 1406 481 1766 481 \nL 2356 481 \nL 2356 0 \nL 1766 0 \nQ 1100 0 847 248 \nQ 594 497 594 1153 \nL 594 3053 \nL 172 3053 \nL 172 3500 \nL 594 3500 \nL 594 4494 \nL 1172 4494 \nz\n\" id=\"DejaVuSans-74\" transform=\"scale(0.015625)\"/>\n       <path d=\"M 544 1381 \nL 544 3500 \nL 1119 3500 \nL 1119 1403 \nQ 1119 906 1312 657 \nQ 1506 409 1894 409 \nQ 2359 409 2629 706 \nQ 2900 1003 2900 1516 \nL 2900 3500 \nL 3475 3500 \nL 3475 0 \nL 2900 0 \nL 2900 538 \nQ 2691 219 2414 64 \nQ 2138 -91 1772 -91 \nQ 1169 -91 856 284 \nQ 544 659 544 1381 \nz\nM 1991 3584 \nL 1991 3584 \nz\n\" id=\"DejaVuSans-75\" transform=\"scale(0.015625)\"/>\n       <path d=\"M 2631 2963 \nQ 2534 3019 2420 3045 \nQ 2306 3072 2169 3072 \nQ 1681 3072 1420 2755 \nQ 1159 2438 1159 1844 \nL 1159 0 \nL 581 0 \nL 581 3500 \nL 1159 3500 \nL 1159 2956 \nQ 1341 3275 1631 3429 \nQ 1922 3584 2338 3584 \nQ 2397 3584 2469 3576 \nQ 2541 3569 2628 3553 \nL 2631 2963 \nz\n\" id=\"DejaVuSans-72\" transform=\"scale(0.015625)\"/>\n       <path id=\"DejaVuSans-20\" transform=\"scale(0.015625)\"/>\n       <path d=\"M 191 3500 \nL 800 3500 \nL 1894 563 \nL 2988 3500 \nL 3597 3500 \nL 2284 0 \nL 1503 0 \nL 191 3500 \nz\n\" id=\"DejaVuSans-76\" transform=\"scale(0.015625)\"/>\n       <path d=\"M 603 4863 \nL 1178 4863 \nL 1178 0 \nL 603 0 \nL 603 4863 \nz\n\" id=\"DejaVuSans-6c\" transform=\"scale(0.015625)\"/>\n       <path d=\"M 1984 4856 \nQ 1566 4138 1362 3434 \nQ 1159 2731 1159 2009 \nQ 1159 1288 1364 580 \nQ 1569 -128 1984 -844 \nL 1484 -844 \nQ 1016 -109 783 600 \nQ 550 1309 550 2009 \nQ 550 2706 781 3412 \nQ 1013 4119 1484 4856 \nL 1984 4856 \nz\n\" id=\"DejaVuSans-28\" transform=\"scale(0.015625)\"/>\n       <path d=\"M 3513 3500 \nL 2247 1797 \nL 3578 0 \nL 2900 0 \nL 1881 1375 \nL 863 0 \nL 184 0 \nL 1544 1831 \nL 300 3500 \nL 978 3500 \nL 1906 2253 \nL 2834 3500 \nL 3513 3500 \nz\n\" id=\"DejaVuSans-78\" transform=\"scale(0.015625)\"/>\n       <path d=\"M 513 4856 \nL 1013 4856 \nQ 1481 4119 1714 3412 \nQ 1947 2706 1947 2009 \nQ 1947 1309 1714 600 \nQ 1481 -109 1013 -844 \nL 513 -844 \nQ 928 -128 1133 580 \nQ 1338 1288 1338 2009 \nQ 1338 2731 1133 3434 \nQ 928 4138 513 4856 \nz\n\" id=\"DejaVuSans-29\" transform=\"scale(0.015625)\"/>\n      </defs>\n      <use xlink:href=\"#DejaVuSans-46\"/>\n      <use x=\"52.019531\" xlink:href=\"#DejaVuSans-65\"/>\n      <use x=\"113.542969\" xlink:href=\"#DejaVuSans-61\"/>\n      <use x=\"174.822266\" xlink:href=\"#DejaVuSans-74\"/>\n      <use x=\"214.03125\" xlink:href=\"#DejaVuSans-75\"/>\n      <use x=\"277.410156\" xlink:href=\"#DejaVuSans-72\"/>\n      <use x=\"316.273438\" xlink:href=\"#DejaVuSans-65\"/>\n      <use x=\"377.796875\" xlink:href=\"#DejaVuSans-20\"/>\n      <use x=\"409.583984\" xlink:href=\"#DejaVuSans-76\"/>\n      <use x=\"468.763672\" xlink:href=\"#DejaVuSans-61\"/>\n      <use x=\"530.042969\" xlink:href=\"#DejaVuSans-6c\"/>\n      <use x=\"557.826172\" xlink:href=\"#DejaVuSans-75\"/>\n      <use x=\"621.205078\" xlink:href=\"#DejaVuSans-65\"/>\n      <use x=\"682.728516\" xlink:href=\"#DejaVuSans-20\"/>\n      <use x=\"714.515625\" xlink:href=\"#DejaVuSans-28\"/>\n      <use x=\"753.529297\" xlink:href=\"#DejaVuSans-78\"/>\n      <use x=\"812.708984\" xlink:href=\"#DejaVuSans-29\"/>\n     </g>\n    </g>\n   </g>\n   <g id=\"matplotlib.axis_2\">\n    <g id=\"ytick_1\">\n     <g id=\"line2d_6\">\n      <defs>\n       <path d=\"M 0 0 \nL -3.5 0 \n\" id=\"m11e461ceb9\" style=\"stroke:#000000;stroke-width:0.8;\"/>\n      </defs>\n      <g>\n       <use style=\"stroke:#000000;stroke-width:0.8;\" x=\"46.965625\" xlink:href=\"#m11e461ceb9\" y=\"235.972449\"/>\n      </g>\n     </g>\n     <g id=\"text_7\">\n      <!-- 0 -->\n      <g transform=\"translate(33.603125 239.771668)scale(0.1 -0.1)\">\n       <use xlink:href=\"#DejaVuSans-30\"/>\n      </g>\n     </g>\n    </g>\n    <g id=\"ytick_2\">\n     <g id=\"line2d_7\">\n      <g>\n       <use style=\"stroke:#000000;stroke-width:0.8;\" x=\"46.965625\" xlink:href=\"#m11e461ceb9\" y=\"197.891214\"/>\n      </g>\n     </g>\n     <g id=\"text_8\">\n      <!-- 50 -->\n      <g transform=\"translate(27.240625 201.690433)scale(0.1 -0.1)\">\n       <defs>\n        <path d=\"M 691 4666 \nL 3169 4666 \nL 3169 4134 \nL 1269 4134 \nL 1269 2991 \nQ 1406 3038 1543 3061 \nQ 1681 3084 1819 3084 \nQ 2600 3084 3056 2656 \nQ 3513 2228 3513 1497 \nQ 3513 744 3044 326 \nQ 2575 -91 1722 -91 \nQ 1428 -91 1123 -41 \nQ 819 9 494 109 \nL 494 744 \nQ 775 591 1075 516 \nQ 1375 441 1709 441 \nQ 2250 441 2565 725 \nQ 2881 1009 2881 1497 \nQ 2881 1984 2565 2268 \nQ 2250 2553 1709 2553 \nQ 1456 2553 1204 2497 \nQ 953 2441 691 2322 \nL 691 4666 \nz\n\" id=\"DejaVuSans-35\" transform=\"scale(0.015625)\"/>\n       </defs>\n       <use xlink:href=\"#DejaVuSans-35\"/>\n       <use x=\"63.623047\" xlink:href=\"#DejaVuSans-30\"/>\n      </g>\n     </g>\n    </g>\n    <g id=\"ytick_3\">\n     <g id=\"line2d_8\">\n      <g>\n       <use style=\"stroke:#000000;stroke-width:0.8;\" x=\"46.965625\" xlink:href=\"#m11e461ceb9\" y=\"159.80998\"/>\n      </g>\n     </g>\n     <g id=\"text_9\">\n      <!-- 100 -->\n      <g transform=\"translate(20.878125 163.609199)scale(0.1 -0.1)\">\n       <use xlink:href=\"#DejaVuSans-31\"/>\n       <use x=\"63.623047\" xlink:href=\"#DejaVuSans-30\"/>\n       <use x=\"127.246094\" xlink:href=\"#DejaVuSans-30\"/>\n      </g>\n     </g>\n    </g>\n    <g id=\"ytick_4\">\n     <g id=\"line2d_9\">\n      <g>\n       <use style=\"stroke:#000000;stroke-width:0.8;\" x=\"46.965625\" xlink:href=\"#m11e461ceb9\" y=\"121.728745\"/>\n      </g>\n     </g>\n     <g id=\"text_10\">\n      <!-- 150 -->\n      <g transform=\"translate(20.878125 125.527964)scale(0.1 -0.1)\">\n       <use xlink:href=\"#DejaVuSans-31\"/>\n       <use x=\"63.623047\" xlink:href=\"#DejaVuSans-35\"/>\n       <use x=\"127.246094\" xlink:href=\"#DejaVuSans-30\"/>\n      </g>\n     </g>\n    </g>\n    <g id=\"ytick_5\">\n     <g id=\"line2d_10\">\n      <g>\n       <use style=\"stroke:#000000;stroke-width:0.8;\" x=\"46.965625\" xlink:href=\"#m11e461ceb9\" y=\"83.647511\"/>\n      </g>\n     </g>\n     <g id=\"text_11\">\n      <!-- 200 -->\n      <g transform=\"translate(20.878125 87.44673)scale(0.1 -0.1)\">\n       <use xlink:href=\"#DejaVuSans-32\"/>\n       <use x=\"63.623047\" xlink:href=\"#DejaVuSans-30\"/>\n       <use x=\"127.246094\" xlink:href=\"#DejaVuSans-30\"/>\n      </g>\n     </g>\n    </g>\n    <g id=\"ytick_6\">\n     <g id=\"line2d_11\">\n      <g>\n       <use style=\"stroke:#000000;stroke-width:0.8;\" x=\"46.965625\" xlink:href=\"#m11e461ceb9\" y=\"45.566276\"/>\n      </g>\n     </g>\n     <g id=\"text_12\">\n      <!-- 250 -->\n      <g transform=\"translate(20.878125 49.365495)scale(0.1 -0.1)\">\n       <use xlink:href=\"#DejaVuSans-32\"/>\n       <use x=\"63.623047\" xlink:href=\"#DejaVuSans-35\"/>\n       <use x=\"127.246094\" xlink:href=\"#DejaVuSans-30\"/>\n      </g>\n     </g>\n    </g>\n    <g id=\"text_13\">\n     <!-- Target value (y) -->\n     <g transform=\"translate(14.798437 170.206875)rotate(-90)scale(0.1 -0.1)\">\n      <defs>\n       <path d=\"M -19 4666 \nL 3928 4666 \nL 3928 4134 \nL 2272 4134 \nL 2272 0 \nL 1638 0 \nL 1638 4134 \nL -19 4134 \nL -19 4666 \nz\n\" id=\"DejaVuSans-54\" transform=\"scale(0.015625)\"/>\n       <path d=\"M 2906 1791 \nQ 2906 2416 2648 2759 \nQ 2391 3103 1925 3103 \nQ 1463 3103 1205 2759 \nQ 947 2416 947 1791 \nQ 947 1169 1205 825 \nQ 1463 481 1925 481 \nQ 2391 481 2648 825 \nQ 2906 1169 2906 1791 \nz\nM 3481 434 \nQ 3481 -459 3084 -895 \nQ 2688 -1331 1869 -1331 \nQ 1566 -1331 1297 -1286 \nQ 1028 -1241 775 -1147 \nL 775 -588 \nQ 1028 -725 1275 -790 \nQ 1522 -856 1778 -856 \nQ 2344 -856 2625 -561 \nQ 2906 -266 2906 331 \nL 2906 616 \nQ 2728 306 2450 153 \nQ 2172 0 1784 0 \nQ 1141 0 747 490 \nQ 353 981 353 1791 \nQ 353 2603 747 3093 \nQ 1141 3584 1784 3584 \nQ 2172 3584 2450 3431 \nQ 2728 3278 2906 2969 \nL 2906 3500 \nL 3481 3500 \nL 3481 434 \nz\n\" id=\"DejaVuSans-67\" transform=\"scale(0.015625)\"/>\n       <path d=\"M 2059 -325 \nQ 1816 -950 1584 -1140 \nQ 1353 -1331 966 -1331 \nL 506 -1331 \nL 506 -850 \nL 844 -850 \nQ 1081 -850 1212 -737 \nQ 1344 -625 1503 -206 \nL 1606 56 \nL 191 3500 \nL 800 3500 \nL 1894 763 \nL 2988 3500 \nL 3597 3500 \nL 2059 -325 \nz\n\" id=\"DejaVuSans-79\" transform=\"scale(0.015625)\"/>\n      </defs>\n      <use xlink:href=\"#DejaVuSans-54\"/>\n      <use x=\"44.583984\" xlink:href=\"#DejaVuSans-61\"/>\n      <use x=\"105.863281\" xlink:href=\"#DejaVuSans-72\"/>\n      <use x=\"145.226562\" xlink:href=\"#DejaVuSans-67\"/>\n      <use x=\"208.703125\" xlink:href=\"#DejaVuSans-65\"/>\n      <use x=\"270.226562\" xlink:href=\"#DejaVuSans-74\"/>\n      <use x=\"309.435547\" xlink:href=\"#DejaVuSans-20\"/>\n      <use x=\"341.222656\" xlink:href=\"#DejaVuSans-76\"/>\n      <use x=\"400.402344\" xlink:href=\"#DejaVuSans-61\"/>\n      <use x=\"461.681641\" xlink:href=\"#DejaVuSans-6c\"/>\n      <use x=\"489.464844\" xlink:href=\"#DejaVuSans-75\"/>\n      <use x=\"552.84375\" xlink:href=\"#DejaVuSans-65\"/>\n      <use x=\"614.367188\" xlink:href=\"#DejaVuSans-20\"/>\n      <use x=\"646.154297\" xlink:href=\"#DejaVuSans-28\"/>\n      <use x=\"685.167969\" xlink:href=\"#DejaVuSans-79\"/>\n      <use x=\"744.347656\" xlink:href=\"#DejaVuSans-29\"/>\n     </g>\n    </g>\n   </g>\n   <g id=\"line2d_12\">\n    <path clip-path=\"url(#p57eb37e898)\" d=\"M 175.004022 135.429578 \nL 245.27665 88.912882 \nL 215.07337 108.905827 \nL 151.148785 151.22046 \nL 147.223368 153.818875 \nL 217.257061 107.460341 \nL 142.516824 156.934354 \nL 216.44024 108.001033 \nL 204.867073 115.661847 \nL 177.528457 133.758538 \nL 167.049422 140.695095 \nL 200.58806 118.494323 \nL 113.119858 176.393562 \nL 172.783191 136.899649 \nL 228.288454 100.158154 \nL 255.907566 81.875789 \nL 184.450982 129.176199 \nL 287.835514 60.741206 \nL 270.396263 72.285052 \nL 157.898204 146.752708 \nL 245.387038 88.839812 \nL 293.621585 56.911139 \nL 170.874461 138.163125 \nL 210.378301 112.01371 \nL 233.937809 96.418584 \nL 234.803081 95.845821 \nL 296.508145 55.000392 \nL 211.462039 111.296334 \nL 175.616242 135.024321 \nL 274.525012 69.552042 \nL 146.819421 154.086266 \nL 163.470844 143.063921 \nL 138.768346 159.415644 \nL 213.801749 109.747572 \nL 194.46575 122.546962 \nL 218.252045 106.801716 \nL 201.489033 117.897927 \nL 172.709772 136.948248 \nL 196.645433 121.104129 \nL 128.026889 166.52591 \nL 249.368953 86.203999 \nL 214.958487 108.981874 \nL 104.177874 182.312674 \nL 311.765935 44.900556 \nL 203.24468 116.735783 \nL 183.123913 130.054648 \nL 258.616623 80.082539 \nL 148.995183 152.646029 \nL 286.688061 61.500759 \nL 215.507612 108.618382 \nL 146.197166 154.498165 \nL 119.232369 172.347409 \nL 218.403519 106.701448 \nL 241.289539 91.552135 \nL 253.836563 83.246681 \nL 215.054843 108.918091 \nL 214.261399 109.443308 \nL 103.125387 183.009364 \nL 271.189622 71.75989 \nL 184.069218 129.428906 \nL 148.116827 153.227453 \nL 209.82105 112.382581 \nL 257.148745 81.054195 \nL 89.740068 191.869724 \nL 59.647443 211.789421 \nL 117.425962 173.543153 \nL 192.431385 123.893602 \nL 202.062486 117.518332 \nL 258.204009 80.355667 \nL 292.131599 57.897429 \nL 313.283807 43.895807 \nL 154.881811 148.749398 \nL 197.41179 120.596842 \nL 272.489705 70.899305 \nL 158.547693 146.322781 \nL 108.178622 179.664394 \nL 200.696968 118.422232 \nL 243.880308 89.837186 \nL 272.18326 71.102156 \nL 196.867367 120.957221 \nL 239.375712 92.818986 \nL 231.073425 98.314652 \nL 185.953402 128.181678 \nL 137.600828 160.188478 \nL 188.485081 126.505843 \nL 178.014918 133.436527 \nL 173.543358 136.396459 \nL 232.257654 97.530757 \nL 200.312633 118.67664 \nL 167.110058 140.654957 \nL 128.971938 165.900339 \nL 182.725162 130.318599 \nL 160.553454 144.995076 \nL 202.136195 117.46954 \nL 196.320055 121.319512 \nL 132.636317 163.474717 \nL 174.836359 135.540562 \nL 212.655453 110.506358 \nL 109.035893 179.096927 \nL 131.822074 164.013702 \n\" style=\"fill:none;stroke:#ff0000;stroke-linecap:square;stroke-width:1.5;\"/>\n   </g>\n   <g id=\"patch_3\">\n    <path d=\"M 46.965625 239.758125 \nL 46.965625 22.318125 \n\" style=\"fill:none;stroke:#000000;stroke-linecap:square;stroke-linejoin:miter;stroke-width:0.8;\"/>\n   </g>\n   <g id=\"patch_4\">\n    <path d=\"M 325.965625 239.758125 \nL 325.965625 22.318125 \n\" style=\"fill:none;stroke:#000000;stroke-linecap:square;stroke-linejoin:miter;stroke-width:0.8;\"/>\n   </g>\n   <g id=\"patch_5\">\n    <path d=\"M 46.965625 239.758125 \nL 325.965625 239.758125 \n\" style=\"fill:none;stroke:#000000;stroke-linecap:square;stroke-linejoin:miter;stroke-width:0.8;\"/>\n   </g>\n   <g id=\"patch_6\">\n    <path d=\"M 46.965625 22.318125 \nL 325.965625 22.318125 \n\" style=\"fill:none;stroke:#000000;stroke-linecap:square;stroke-linejoin:miter;stroke-width:0.8;\"/>\n   </g>\n   <g id=\"text_14\">\n    <!-- Least-squares linear regression -->\n    <g transform=\"translate(92.62 16.318125)scale(0.12 -0.12)\">\n     <defs>\n      <path d=\"M 628 4666 \nL 1259 4666 \nL 1259 531 \nL 3531 531 \nL 3531 0 \nL 628 0 \nL 628 4666 \nz\n\" id=\"DejaVuSans-4c\" transform=\"scale(0.015625)\"/>\n      <path d=\"M 2834 3397 \nL 2834 2853 \nQ 2591 2978 2328 3040 \nQ 2066 3103 1784 3103 \nQ 1356 3103 1142 2972 \nQ 928 2841 928 2578 \nQ 928 2378 1081 2264 \nQ 1234 2150 1697 2047 \nL 1894 2003 \nQ 2506 1872 2764 1633 \nQ 3022 1394 3022 966 \nQ 3022 478 2636 193 \nQ 2250 -91 1575 -91 \nQ 1294 -91 989 -36 \nQ 684 19 347 128 \nL 347 722 \nQ 666 556 975 473 \nQ 1284 391 1588 391 \nQ 1994 391 2212 530 \nQ 2431 669 2431 922 \nQ 2431 1156 2273 1281 \nQ 2116 1406 1581 1522 \nL 1381 1569 \nQ 847 1681 609 1914 \nQ 372 2147 372 2553 \nQ 372 3047 722 3315 \nQ 1072 3584 1716 3584 \nQ 2034 3584 2315 3537 \nQ 2597 3491 2834 3397 \nz\n\" id=\"DejaVuSans-73\" transform=\"scale(0.015625)\"/>\n      <path d=\"M 313 2009 \nL 1997 2009 \nL 1997 1497 \nL 313 1497 \nL 313 2009 \nz\n\" id=\"DejaVuSans-2d\" transform=\"scale(0.015625)\"/>\n      <path d=\"M 947 1747 \nQ 947 1113 1208 752 \nQ 1469 391 1925 391 \nQ 2381 391 2643 752 \nQ 2906 1113 2906 1747 \nQ 2906 2381 2643 2742 \nQ 2381 3103 1925 3103 \nQ 1469 3103 1208 2742 \nQ 947 2381 947 1747 \nz\nM 2906 525 \nQ 2725 213 2448 61 \nQ 2172 -91 1784 -91 \nQ 1150 -91 751 415 \nQ 353 922 353 1747 \nQ 353 2572 751 3078 \nQ 1150 3584 1784 3584 \nQ 2172 3584 2448 3432 \nQ 2725 3281 2906 2969 \nL 2906 3500 \nL 3481 3500 \nL 3481 -1331 \nL 2906 -1331 \nL 2906 525 \nz\n\" id=\"DejaVuSans-71\" transform=\"scale(0.015625)\"/>\n      <path d=\"M 603 3500 \nL 1178 3500 \nL 1178 0 \nL 603 0 \nL 603 3500 \nz\nM 603 4863 \nL 1178 4863 \nL 1178 4134 \nL 603 4134 \nL 603 4863 \nz\n\" id=\"DejaVuSans-69\" transform=\"scale(0.015625)\"/>\n      <path d=\"M 3513 2113 \nL 3513 0 \nL 2938 0 \nL 2938 2094 \nQ 2938 2591 2744 2837 \nQ 2550 3084 2163 3084 \nQ 1697 3084 1428 2787 \nQ 1159 2491 1159 1978 \nL 1159 0 \nL 581 0 \nL 581 3500 \nL 1159 3500 \nL 1159 2956 \nQ 1366 3272 1645 3428 \nQ 1925 3584 2291 3584 \nQ 2894 3584 3203 3211 \nQ 3513 2838 3513 2113 \nz\n\" id=\"DejaVuSans-6e\" transform=\"scale(0.015625)\"/>\n      <path d=\"M 1959 3097 \nQ 1497 3097 1228 2736 \nQ 959 2375 959 1747 \nQ 959 1119 1226 758 \nQ 1494 397 1959 397 \nQ 2419 397 2687 759 \nQ 2956 1122 2956 1747 \nQ 2956 2369 2687 2733 \nQ 2419 3097 1959 3097 \nz\nM 1959 3584 \nQ 2709 3584 3137 3096 \nQ 3566 2609 3566 1747 \nQ 3566 888 3137 398 \nQ 2709 -91 1959 -91 \nQ 1206 -91 779 398 \nQ 353 888 353 1747 \nQ 353 2609 779 3096 \nQ 1206 3584 1959 3584 \nz\n\" id=\"DejaVuSans-6f\" transform=\"scale(0.015625)\"/>\n     </defs>\n     <use xlink:href=\"#DejaVuSans-4c\"/>\n     <use x=\"53.962891\" xlink:href=\"#DejaVuSans-65\"/>\n     <use x=\"115.486328\" xlink:href=\"#DejaVuSans-61\"/>\n     <use x=\"176.765625\" xlink:href=\"#DejaVuSans-73\"/>\n     <use x=\"228.865234\" xlink:href=\"#DejaVuSans-74\"/>\n     <use x=\"268.074219\" xlink:href=\"#DejaVuSans-2d\"/>\n     <use x=\"304.158203\" xlink:href=\"#DejaVuSans-73\"/>\n     <use x=\"356.257812\" xlink:href=\"#DejaVuSans-71\"/>\n     <use x=\"419.734375\" xlink:href=\"#DejaVuSans-75\"/>\n     <use x=\"483.113281\" xlink:href=\"#DejaVuSans-61\"/>\n     <use x=\"544.392578\" xlink:href=\"#DejaVuSans-72\"/>\n     <use x=\"583.255859\" xlink:href=\"#DejaVuSans-65\"/>\n     <use x=\"644.779297\" xlink:href=\"#DejaVuSans-73\"/>\n     <use x=\"696.878906\" xlink:href=\"#DejaVuSans-20\"/>\n     <use x=\"728.666016\" xlink:href=\"#DejaVuSans-6c\"/>\n     <use x=\"756.449219\" xlink:href=\"#DejaVuSans-69\"/>\n     <use x=\"784.232422\" xlink:href=\"#DejaVuSans-6e\"/>\n     <use x=\"847.611328\" xlink:href=\"#DejaVuSans-65\"/>\n     <use x=\"909.134766\" xlink:href=\"#DejaVuSans-61\"/>\n     <use x=\"970.414062\" xlink:href=\"#DejaVuSans-72\"/>\n     <use x=\"1011.527344\" xlink:href=\"#DejaVuSans-20\"/>\n     <use x=\"1043.314453\" xlink:href=\"#DejaVuSans-72\"/>\n     <use x=\"1082.177734\" xlink:href=\"#DejaVuSans-65\"/>\n     <use x=\"1143.701172\" xlink:href=\"#DejaVuSans-67\"/>\n     <use x=\"1207.177734\" xlink:href=\"#DejaVuSans-72\"/>\n     <use x=\"1246.041016\" xlink:href=\"#DejaVuSans-65\"/>\n     <use x=\"1307.564453\" xlink:href=\"#DejaVuSans-73\"/>\n     <use x=\"1359.664062\" xlink:href=\"#DejaVuSans-73\"/>\n     <use x=\"1411.763672\" xlink:href=\"#DejaVuSans-69\"/>\n     <use x=\"1439.546875\" xlink:href=\"#DejaVuSans-6f\"/>\n     <use x=\"1500.728516\" xlink:href=\"#DejaVuSans-6e\"/>\n    </g>\n   </g>\n  </g>\n </g>\n <defs>\n  <clipPath id=\"p57eb37e898\">\n   <rect height=\"217.44\" width=\"279\" x=\"46.965625\" y=\"22.318125\"/>\n  </clipPath>\n </defs>\n</svg>\n",
      "image/png": "[encoded data removed]"
     },
     "metadata": {
      "needs_background": "light"
     }
    }
   ],
   "metadata": {}
  },
  {
   "cell_type": "code",
   "execution_count": 10,
   "source": [
    "# Train-test split\n",
    "X_train, X_test, y_train, y_test = train_test_split(X_crime, y_crime, random_state = 0)\n",
    "\n",
    "# Model selection and training\n",
    "linreg = LinearRegression().fit(X_train, y_train)\n",
    "\n",
    "# Results\n",
    "print('Crime dataset')\n",
    "print('linear model intercept: {}'.format(linreg.intercept_))\n",
    "print('linear model coeff:\\n{}'.format(linreg.coef_))\n",
    "print('R-squared score (training): {:.3f}'.format(linreg.score(X_train, y_train)))\n",
    "print('R-squared score (test): {:.3f}'.format(linreg.score(X_test, y_test)))"
   ],
   "outputs": [
    {
     "output_type": "stream",
     "name": "stdout",
     "text": [
      "Crime dataset\n",
      "linear model intercept: -1728.1306725979102\n",
      "linear model coeff:\n",
      "[ 1.61892346e-03 -9.43009110e+01  1.36067510e+01 -3.13380670e+01\n",
      " -8.15482726e-02 -1.69455128e+01 -2.42730375e-03  1.53013232e+00\n",
      " -1.39193248e-02 -7.72112833e+00  2.28112354e+01 -5.65708295e+00\n",
      "  9.34751364e+00  2.06969566e-01 -7.43413626e+00  9.65856476e-03\n",
      "  4.38030290e-03  4.79754625e-03 -4.46469212e+00 -1.60907140e+01\n",
      "  8.82778012e+00 -5.06734503e-01 -1.42198055e+00  8.17551991e+00\n",
      " -3.87048268e+00 -3.54209213e+00  4.48758304e+00  9.30645715e+00\n",
      "  1.73644996e+02  1.18220766e+01  1.51120836e+02 -3.29613007e+02\n",
      " -1.35343395e+02  6.95380108e-01 -2.38369008e+01  2.77038981e+00\n",
      "  3.82248925e-01  4.38813358e+00 -1.06410851e+01 -4.92294176e-03\n",
      "  4.14031827e+01 -1.16206866e-03  1.18568968e+00  1.75418465e+00\n",
      " -3.68283678e+00  1.59679443e+00 -8.42180230e+00 -3.79703897e+01\n",
      "  4.74076990e+01 -2.50768374e+01 -2.88246410e-01 -3.65633234e+01\n",
      "  1.89516080e+01 -4.53336736e+01  6.82698598e+02  1.04478671e+02\n",
      " -3.28575414e+02 -3.14364068e+01  2.74053494e+01  5.12336432e+00\n",
      "  6.91580764e+01  1.98267157e-02 -6.12133638e-01  2.65335065e+01\n",
      "  1.00704633e+01 -1.58621594e+00  2.24025322e+00  7.38288450e+00\n",
      " -3.13915504e+01 -9.77773885e-05  5.01970945e-05 -3.48067770e-04\n",
      " -2.50217578e-04 -5.26610456e-01 -5.16564774e-01 -4.10464090e-01\n",
      "  1.16146366e-01  1.46167357e+00 -3.04019816e-01  2.43792841e+00\n",
      " -3.65615457e+01  1.41488917e-01  2.88800603e-01  1.77464865e+01\n",
      "  5.96587698e-01  1.98257510e+00 -1.36380442e-01 -1.85303461e+00]\n",
      "R-squared score (training): 0.673\n",
      "R-squared score (test): 0.496\n"
     ]
    }
   ],
   "metadata": {}
  },
  {
   "cell_type": "markdown",
   "source": [
    "# Ridge Regression\n",
    "\n",
    "- It uses the same least-squares method but **adds a penalty for large variations in w parameters**.\n",
    "- Prediction formula is the same as ordinary least-squares\n",
    "- The addition of a parameter penalt is called **regularization**. This prevents overfitting by restricting the model, tipically to reduce its complexity.\n",
    "- Ridge regression uses L2 regularization: minimize sum of squares of w entries.\n",
    "- Regularization influence is controlled by **alpha**. The higher the value, the more regularization and simpler methods.\n",
    "\n",
    "<img src=\"resources/ridge_regression.png\" width = \"400\">\n",
    "\n",
    "### What is ridge regression doing?\n",
    "It's regularizing the linear regression by imposing that sum of squares penalty on the size of the W coefficients. So the effect of increasing alpha is to shrink the AW coefficients toward zero and towards each other. But if the input variables (features) have very different scales, then when this shrinkage happens on the coefficients, input variables with different scales will have different contributions to this L2 penalty, because the L2 penalty is a sum of squares of all the coefficients. So transforming the input features, so they are all on the same scale, means the ridge penalty is in some sense applied more failry to all features without unduly weighting some more than others, just because of the difference in scales."
   ],
   "metadata": {}
  },
  {
   "cell_type": "code",
   "execution_count": 11,
   "source": [
    "from sklearn.linear_model import Ridge\n",
    "\n",
    "# Train-test split\n",
    "X_train, X_test, y_train, y_test = train_test_split(X_crime, y_crime, random_state = 0)\n",
    "\n",
    "# Model selection and training\n",
    "linridge = Ridge(alpha=20.0).fit(X_train, y_train)\n",
    "\n",
    "# Results\n",
    "print('Crime dataset')\n",
    "print('ridge regression linear model intercept: {}'.format(linridge.intercept_))\n",
    "print('ridge regression linear model coeff:\\n{}'.format(linridge.coef_))\n",
    "print('R-squared score (training): {:.3f}'.format(linridge.score(X_train, y_train)))\n",
    "print('R-squared score (test): {:.3f}'.format(linridge.score(X_test, y_test)))\n",
    "print('Number of non-zero features: {}'.format(np.sum(linridge.coef_ != 0)))"
   ],
   "outputs": [
    {
     "output_type": "stream",
     "name": "stdout",
     "text": [
      "Crime dataset\n",
      "ridge regression linear model intercept: -3352.423035846137\n",
      "ridge regression linear model coeff:\n",
      "[ 1.95091438e-03  2.19322667e+01  9.56286607e+00 -3.59178973e+01\n",
      "  6.36465325e+00 -1.96885471e+01 -2.80715856e-03  1.66254486e+00\n",
      " -6.61426604e-03 -6.95450680e+00  1.71944731e+01 -5.62819154e+00\n",
      "  8.83525114e+00  6.79085746e-01 -7.33614221e+00  6.70389803e-03\n",
      "  9.78505502e-04  5.01202169e-03 -4.89870524e+00 -1.79270062e+01\n",
      "  9.17572382e+00 -1.24454193e+00  1.21845360e+00  1.03233089e+01\n",
      " -3.78037278e+00 -3.73428973e+00  4.74595305e+00  8.42696855e+00\n",
      "  3.09250005e+01  1.18644167e+01 -2.05183675e+00 -3.82210450e+01\n",
      "  1.85081589e+01  1.52510829e+00 -2.20086608e+01  2.46283912e+00\n",
      "  3.29328703e-01  4.02228467e+00 -1.12903533e+01 -4.69567413e-03\n",
      "  4.27046505e+01 -1.22507167e-03  1.40795790e+00  9.35041855e-01\n",
      " -3.00464253e+00  1.12390514e+00 -1.82487653e+01 -1.54653407e+01\n",
      "  2.41917002e+01 -1.32497562e+01 -4.20113118e-01 -3.59710660e+01\n",
      "  1.29786751e+01 -2.80765995e+01  4.38513476e+01  3.86590044e+01\n",
      " -6.46024046e+01 -1.63714023e+01  2.90397330e+01  4.15472907e+00\n",
      "  5.34033563e+01  1.98773191e-02 -5.47413979e-01  1.23883518e+01\n",
      "  1.03526583e+01 -1.57238894e+00  3.15887097e+00  8.77757987e+00\n",
      " -2.94724962e+01 -2.32633553e-04  3.13528914e-04 -4.13990258e-04\n",
      " -1.79489212e-04 -5.74054527e-01 -5.17742507e-01 -4.20670931e-01\n",
      "  1.53383594e-01  1.32725423e+00  3.84863158e+00  3.03024594e+00\n",
      " -3.77692644e+01  1.37933464e-01  3.07676522e-01  1.57128807e+01\n",
      "  3.31418306e-01  3.35994414e+00  1.61265911e-01 -2.67619878e+00]\n",
      "R-squared score (training): 0.671\n",
      "R-squared score (test): 0.494\n",
      "Number of non-zero features: 88\n"
     ]
    }
   ],
   "metadata": {}
  },
  {
   "cell_type": "code",
   "execution_count": 13,
   "source": [
    "# WITH FEATURE NORMALIZATION\n",
    "\n",
    "scaler = MinMaxScaler()\n",
    "\n",
    "# Train-test split\n",
    "X_train, X_test, y_train, y_test = train_test_split(X_crime, y_crime,\n",
    "random_state = 0)\n",
    " \n",
    "# Scaling data\n",
    "X_train_scaled = scaler.fit_transform(X_train)\n",
    "X_test_scaled = scaler.transform(X_test)\n",
    "\n",
    "# Model selection and training\n",
    "linridge = Ridge(alpha=20.0).fit(X_train_scaled, y_train)\n",
    "\n",
    "# Results\n",
    "print('Crime dataset')\n",
    "print('ridge regression linear model intercept: {}'.format(linridge.intercept_))\n",
    "print('ridge regression linear model coeff:\\n{}'.format(linridge.coef_))\n",
    "print('R-squared score (training): {:.3f}'.format(linridge.score(X_train_scaled, y_train)))\n",
    "print('R-squared score (test): {:.3f}'.format(linridge.score(X_test_scaled, y_test)))\n",
    "print('Number of non-zero features: {}'.format(np.sum(linridge.coef_ != 0)))"
   ],
   "outputs": [
    {
     "output_type": "stream",
     "name": "stdout",
     "text": [
      "Crime dataset\n",
      "ridge regression linear model intercept: 933.3906385044153\n",
      "ridge regression linear model coeff:\n",
      "[  88.68827454   16.48947987  -50.30285445  -82.90507574  -65.89507244\n",
      "   -2.27674244   87.74108514  150.94862182   18.8802613   -31.05554992\n",
      "  -43.13536109 -189.44266328   -4.52658099  107.97866804  -76.53358414\n",
      "    2.86032762   34.95230077   90.13523036   52.46428263  -62.10898424\n",
      "  115.01780357    2.66942023    6.94331369   -5.66646499 -101.55269144\n",
      "  -36.9087526    -8.7053343    29.11999068  171.25963057   99.36919476\n",
      "   75.06611841  123.63522539   95.24316483 -330.61044265 -442.30179004\n",
      " -284.49744001 -258.37150609   17.66431072 -101.70717151  110.64762887\n",
      "  523.13611718   24.8208959     4.86533322  -30.46775619   -3.51753937\n",
      "   50.57947231   10.84840601   18.27680946   44.11189865   58.33588176\n",
      "   67.08698975  -57.93524659  116.1446052    53.81163718   49.01607711\n",
      "   -7.62262031   55.14288543  -52.08878272  123.39291017   77.12562171\n",
      "   45.49795317  184.91229771  -91.35721203    1.07975971  234.09267451\n",
      "   10.3887921    94.7171829   167.91856631  -25.14025088   -1.18242839\n",
      "   14.60362467   36.77122659   53.19878339  -78.86365997   -5.89858411\n",
      "   26.04790298  115.1534917    68.74143311   68.28588166   16.5260514\n",
      "  -97.90513652  205.20448474   75.97304123   61.3791085   -79.83157049\n",
      "   67.26700741   95.67094538  -11.88380569]\n",
      "R-squared score (training): 0.615\n",
      "R-squared score (test): 0.599\n",
      "Number of non-zero features: 88\n"
     ]
    }
   ],
   "metadata": {}
  },
  {
   "cell_type": "markdown",
   "source": [
    "Results improved with feature normalization."
   ],
   "metadata": {}
  },
  {
   "cell_type": "markdown",
   "source": [
    "# Lasso Regression\n",
    "\n",
    "- It uses a slightly different regularisation term called an **L1 penalty**, instead of ridge regression's L2 penalty.\n",
    "- L1 penalty computes the sum of the absolute values of the W-coefficients, instead of the sum of squares (L2).\n",
    "- With lasso regression, a subset of the coefficients are forced to be precisely zero (kind of an automatic feature selection).\n",
    "- This sparse solution where only a subset of the most important features are left with non-zero weights, also makes the model easier to interpret\n",
    "\n",
    "<img src=\"resources/lasso_regression.png\" width = \"400\">\n",
    "\n",
    "\n",
    "### Ridge vs Lasso Regression\n",
    "- Many small/medium sized effects -> Ridge\n",
    "- Only a few variables with medium/large effect -> Lasso"
   ],
   "metadata": {}
  },
  {
   "cell_type": "code",
   "execution_count": 14,
   "source": [
    "from sklearn.linear_model import Lasso\n",
    "\n",
    "# Train-test split\n",
    "X_train, X_test, y_train, y_test = train_test_split(X_crime, y_crime, random_state = 0)\n",
    "\n",
    "# Data scaling\n",
    "X_train_scaled = scaler.fit_transform(X_train)\n",
    "X_test_scaled = scaler.transform(X_test)\n",
    "\n",
    "# Model selection and training\n",
    "linlasso = Lasso(alpha=2.0, max_iter = 10000).fit(X_train_scaled, y_train)\n",
    "\n",
    "# Results\n",
    "print('Crime dataset')\n",
    "print('lasso regression linear model intercept: {}'.format(linlasso.intercept_))\n",
    "print('lasso regression linear model coeff:\\n{}'.format(linlasso.coef_))\n",
    "print('Non-zero features: {}'.format(np.sum(linlasso.coef_ != 0)))\n",
    "print('R-squared score (training): {:.3f}'.format(linlasso.score(X_train_scaled, y_train)))\n",
    "print('R-squared score (test): {:.3f}\\n'.format(linlasso.score(X_test_scaled, y_test)))\n",
    "print('Features with non-zero weight (sorted by absolute magnitude):')\n",
    "\n",
    "# Iterate over the list of features and their coefficients\n",
    "# Sorted by their absolute value\n",
    "for e in sorted(list(zip(list(X_crime), linlasso.coef_)),\n",
    "                key = lambda e: -abs(e[1])):\n",
    "    if e[1] != 0:\n",
    "        print('\\t{}, {:.3f}'.format(e[0], e[1]))"
   ],
   "outputs": [
    {
     "output_type": "stream",
     "name": "stdout",
     "text": [
      "Crime dataset\n",
      "lasso regression linear model intercept: 1186.612061998579\n",
      "lasso regression linear model coeff:\n",
      "[    0.             0.            -0.          -168.18346054\n",
      "    -0.            -0.             0.           119.6938194\n",
      "     0.            -0.             0.          -169.67564456\n",
      "    -0.             0.            -0.             0.\n",
      "     0.             0.            -0.            -0.\n",
      "     0.            -0.             0.             0.\n",
      "   -57.52991966    -0.            -0.             0.\n",
      "   259.32889226    -0.             0.             0.\n",
      "     0.            -0.         -1188.7396867     -0.\n",
      "    -0.            -0.          -231.42347299     0.\n",
      "  1488.36512229     0.            -0.            -0.\n",
      "    -0.             0.             0.             0.\n",
      "     0.             0.            -0.             0.\n",
      "    20.14419415     0.             0.             0.\n",
      "     0.             0.           339.04468804     0.\n",
      "     0.           459.53799903    -0.             0.\n",
      "   122.69221826    -0.            91.41202242     0.\n",
      "    -0.             0.             0.            73.14365856\n",
      "     0.            -0.             0.             0.\n",
      "    86.35600042     0.             0.             0.\n",
      "  -104.57143405   264.93206555     0.            23.4488645\n",
      "   -49.39355188     0.             5.19775369     0.        ]\n",
      "Non-zero features: 20\n",
      "R-squared score (training): 0.631\n",
      "R-squared score (test): 0.624\n",
      "\n",
      "Features with non-zero weight (sorted by absolute magnitude):\n",
      "\tPctKidsBornNeverMar, 1488.365\n",
      "\tPctKids2Par, -1188.740\n",
      "\tHousVacant, 459.538\n",
      "\tPctPersDenseHous, 339.045\n",
      "\tNumInShelters, 264.932\n",
      "\tMalePctDivorce, 259.329\n",
      "\tPctWorkMom, -231.423\n",
      "\tpctWInvInc, -169.676\n",
      "\tagePct12t29, -168.183\n",
      "\tPctVacantBoarded, 122.692\n",
      "\tpctUrban, 119.694\n",
      "\tMedOwnCostPctIncNoMtg, -104.571\n",
      "\tMedYrHousBuilt, 91.412\n",
      "\tRentQrange, 86.356\n",
      "\tOwnOccHiQuart, 73.144\n",
      "\tPctEmplManu, -57.530\n",
      "\tPctBornSameState, -49.394\n",
      "\tPctForeignBorn, 23.449\n",
      "\tPctLargHouseFam, 20.144\n",
      "\tPctSameCity85, 5.198\n"
     ]
    }
   ],
   "metadata": {}
  },
  {
   "cell_type": "code",
   "execution_count": 15,
   "source": [
    "# WITH DIFFERENT ALPHA VALUES\n",
    "\n",
    "print('Lasso regression: effect of alpha regularization\\n\\\n",
    "parameter on number of features kept in final model\\n')\n",
    "\n",
    "for alpha in [0.5, 1, 2, 3, 5, 10, 20, 50]:\n",
    "    # Model selection and training\n",
    "    linlasso = Lasso(alpha, max_iter = 10000).fit(X_train_scaled, y_train)\n",
    "    # Scores\n",
    "    r2_train = linlasso.score(X_train_scaled, y_train)\n",
    "    r2_test = linlasso.score(X_test_scaled, y_test)\n",
    "    \n",
    "    print('Alpha = {:.2f}\\nFeatures kept: {}, r-squared training: {:.2f}, \\\n",
    "r-squared test: {:.2f}\\n'.format(alpha, np.sum(linlasso.coef_ != 0), r2_train, r2_test))"
   ],
   "outputs": [
    {
     "output_type": "stream",
     "name": "stdout",
     "text": [
      "Lasso regression: effect of alpha regularization\n",
      "parameter on number of features kept in final model\n",
      "\n",
      "Alpha = 0.50\n",
      "Features kept: 35, r-squared training: 0.65, r-squared test: 0.58\n",
      "\n",
      "Alpha = 1.00\n",
      "Features kept: 25, r-squared training: 0.64, r-squared test: 0.60\n",
      "\n",
      "Alpha = 2.00\n",
      "Features kept: 20, r-squared training: 0.63, r-squared test: 0.62\n",
      "\n",
      "Alpha = 3.00\n",
      "Features kept: 17, r-squared training: 0.62, r-squared test: 0.63\n",
      "\n",
      "Alpha = 5.00\n",
      "Features kept: 12, r-squared training: 0.60, r-squared test: 0.61\n",
      "\n",
      "Alpha = 10.00\n",
      "Features kept: 6, r-squared training: 0.57, r-squared test: 0.58\n",
      "\n",
      "Alpha = 20.00\n",
      "Features kept: 2, r-squared training: 0.51, r-squared test: 0.50\n",
      "\n",
      "Alpha = 50.00\n",
      "Features kept: 1, r-squared training: 0.31, r-squared test: 0.30\n",
      "\n"
     ]
    }
   ],
   "metadata": {}
  },
  {
   "cell_type": "markdown",
   "source": [
    "The best test scores is obtained for alpha = 3.00"
   ],
   "metadata": {}
  },
  {
   "cell_type": "markdown",
   "source": [
    "# Polynomial Features\n",
    "\n",
    "- This is still a linear regression problem: the afeatures are just numbers within a weighted sum, so we can use the same least-squares techniques to estimate the model coefficients.\n",
    "- This way we can transform a problem into a higher dimensional regression space.\n",
    "- This is very effective with classification.\n",
    "- When we add these new polynomial features, we're essentially adding to the model's ability to capture interactions between the different variables by adding them as features to the linear model.\n",
    "- Polynomial feature expansion with high degree can lead to complex model and hence overfitting. For this reason, polynomial regrssion is often done with a regularized method like ridge regression.\n",
    "\n",
    "<img src=\"resources/polynomial_features.png\" width = \"400\">"
   ],
   "metadata": {}
  },
  {
   "cell_type": "code",
   "execution_count": 16,
   "source": [
    "from sklearn.preprocessing import PolynomialFeatures\n",
    "\n",
    "### Simple linear regression\n",
    "# Train-test split\n",
    "X_train, X_test, y_train, y_test = train_test_split(X_F1, y_F1,random_state = 0)\n",
    "# Model selection and training (linear regression)\n",
    "linreg = LinearRegression().fit(X_train, y_train)\n",
    "\n",
    "# Results\n",
    "print('linear model coeff (w): {}'.format(linreg.coef_))\n",
    "print('linear model intercept (b): {:.3f}'.format(linreg.intercept_))\n",
    "print('R-squared score (training): {:.3f}'.format(linreg.score(X_train, y_train)))\n",
    "print('R-squared score (test): {:.3f}'.format(linreg.score(X_test, y_test)))\n",
    "\n",
    "print('\\nNow we transform the original input data to add\\n\\\n",
    "polynomial features up to degree 2 (quadratic)\\n')"
   ],
   "outputs": [
    {
     "output_type": "stream",
     "name": "stdout",
     "text": [
      "linear model coeff (w): [ 4.42036739  5.99661447  0.52894712 10.23751345  6.5507973  -2.02082636\n",
      " -0.32378811]\n",
      "linear model intercept (b): 1.543\n",
      "R-squared score (training): 0.722\n",
      "R-squared score (test): 0.722\n",
      "\n",
      "Now we transform the original input data to add\n",
      "polynomial features up to degree 2 (quadratic)\n",
      "\n"
     ]
    }
   ],
   "metadata": {}
  },
  {
   "cell_type": "code",
   "execution_count": 17,
   "source": [
    "### Polynomial linear regression\n",
    "# Transforming features into polynomial features\n",
    "poly = PolynomialFeatures(degree=2)\n",
    "X_F1_poly = poly.fit_transform(X_F1)\n",
    "\n",
    "# Train-test split\n",
    "X_train, X_test, y_train, y_test = train_test_split(X_F1_poly, y_F1,random_state = 0)\n",
    "# Model selection and training with polynomial features\n",
    "linreg = LinearRegression().fit(X_train, y_train)\n",
    "\n",
    "# Results\n",
    "print('(poly deg 2) linear model coeff (w):\\n{}'.format(linreg.coef_))\n",
    "print('(poly deg 2) linear model intercept (b): {:.3f}'.format(linreg.intercept_))\n",
    "print('(poly deg 2) R-squared score (training): {:.3f}'.format(linreg.score(X_train, y_train)))\n",
    "print('(poly deg 2) R-squared score (test): {:.3f}\\n'.format(linreg.score(X_test, y_test)))\n",
    "\n",
    "print('\\nAddition of many polynomial features often leads to\\n\\\n",
    "overfitting, so we often use polynomial features in combination\\n\\\n",
    "with regression that has a regularization penalty, like ridge\\n\\\n",
    "regression.\\n')"
   ],
   "outputs": [
    {
     "output_type": "stream",
     "name": "stdout",
     "text": [
      "(poly deg 2) linear model coeff (w):\n",
      "[ 3.40951018e-12  1.66452443e+01  2.67285381e+01 -2.21348316e+01\n",
      "  1.24359227e+01  6.93086826e+00  1.04772675e+00  3.71352773e+00\n",
      " -1.33785505e+01 -5.73177185e+00  1.61813184e+00  3.66399592e+00\n",
      "  5.04513181e+00 -1.45835979e+00  1.95156872e+00 -1.51297378e+01\n",
      "  4.86762224e+00 -2.97084269e+00 -7.78370522e+00  5.14696078e+00\n",
      " -4.65479361e+00  1.84147395e+01 -2.22040650e+00  2.16572630e+00\n",
      " -1.27989481e+00  1.87946559e+00  1.52962716e-01  5.62073813e-01\n",
      " -8.91697516e-01 -2.18481128e+00  1.37595426e+00 -4.90336041e+00\n",
      " -2.23535458e+00  1.38268439e+00 -5.51908208e-01 -1.08795007e+00]\n",
      "(poly deg 2) linear model intercept (b): -3.206\n",
      "(poly deg 2) R-squared score (training): 0.969\n",
      "(poly deg 2) R-squared score (test): 0.805\n",
      "\n",
      "\n",
      "Addition of many polynomial features often leads to\n",
      "overfitting, so we often use polynomial features in combination\n",
      "with regression that has a regularization penalty, like ridge\n",
      "regression.\n",
      "\n"
     ]
    }
   ],
   "metadata": {}
  },
  {
   "cell_type": "code",
   "execution_count": 18,
   "source": [
    "### Polynomial ridge regression\n",
    "# Train-test split\n",
    "X_train, X_test, y_train, y_test = train_test_split(X_F1_poly, y_F1,random_state = 0)\n",
    "# Model selection and training\n",
    "linreg = Ridge().fit(X_train, y_train)\n",
    "\n",
    "# Results\n",
    "print('(poly deg 2 + ridge) linear model coeff (w):\\n{}'.format(linreg.coef_))\n",
    "print('(poly deg 2 + ridge) linear model intercept (b): {:.3f}'.format(linreg.intercept_))\n",
    "print('(poly deg 2 + ridge) R-squared score (training): {:.3f}'.format(linreg.score(X_train, y_train)))\n",
    "print('(poly deg 2 + ridge) R-squared score (test): {:.3f}'.format(linreg.score(X_test, y_test)))"
   ],
   "outputs": [
    {
     "output_type": "stream",
     "name": "stdout",
     "text": [
      "(poly deg 2 + ridge) linear model coeff (w):\n",
      "[ 0.          2.229281    4.73349734 -3.15432089  3.8585194   1.60970912\n",
      " -0.76967054 -0.14956002 -1.75215371  1.5970487   1.37080607  2.51598244\n",
      "  2.71746523  0.48531538 -1.9356048  -1.62914955  1.51474518  0.88674141\n",
      "  0.26141199  2.04931775 -1.93025705  3.61850966 -0.71788143  0.63173956\n",
      " -3.16429847  1.29161448  3.545085    1.73422041  0.94347654 -0.51207219\n",
      "  1.70114448 -1.97949067  1.80687548 -0.2173863   2.87585898 -0.89423157]\n",
      "(poly deg 2 + ridge) linear model intercept (b): 5.418\n",
      "(poly deg 2 + ridge) R-squared score (training): 0.826\n",
      "(poly deg 2 + ridge) R-squared score (test): 0.825\n"
     ]
    }
   ],
   "metadata": {}
  },
  {
   "cell_type": "markdown",
   "source": [
    "#### Extra Notes\n",
    "- **Regularisation** is an extremely important concept in machine learning. It's a way to prevent overfitting, and thus, improve the likely generalization performance of a model, by restricting the models possible parameter settings. Usually the effect of this restriction from regularisation, is to reduce the complexity of the final estimated model\n",
    "- **Feature normalization**: it is important for some machine learning methods that all features are on the same scale:\n",
    "    - Faster convergence in learning\n",
    "    - More uniform or fair influence for all weights\n",
    "    - ...\n",
    "    - Downside: the results can be harder to interpret\n",
    "    - Note: regularisation works especially well then we have relatively small amounts of training data compared to the number of features in our model. As the training data increases, the regularization becomes less important."
   ],
   "metadata": {}
  }
 ],
 "metadata": {
  "orig_nbformat": 4,
  "language_info": {
   "name": "python",
   "version": "3.7.4",
   "mimetype": "text/x-python",
   "codemirror_mode": {
    "name": "ipython",
    "version": 3
   },
   "pygments_lexer": "ipython3",
   "nbconvert_exporter": "python",
   "file_extension": ".py"
  },
  "kernelspec": {
   "name": "python3",
   "display_name": "Python 3.7.4 64-bit"
  },
  "interpreter": {
   "hash": "aee8b7b246df8f9039afb4144a1f6fd8d2ca17a180786b69acc140d282b71a49"
  }
 },
 "nbformat": 4,
 "nbformat_minor": 2
}