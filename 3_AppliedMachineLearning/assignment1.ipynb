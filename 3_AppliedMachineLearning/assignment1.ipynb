{
 "cells": [
  {
   "cell_type": "code",
   "execution_count": 1,
   "source": [
    "# Libraries\n",
    "import numpy as np\n",
    "import pandas as pd\n",
    "\n",
    "from sklearn.model_selection import train_test_split\n",
    "from sklearn.neighbors import KNeighborsClassifier\n",
    "\n",
    "from sklearn.datasets import load_breast_cancer"
   ],
   "outputs": [],
   "metadata": {}
  },
  {
   "cell_type": "code",
   "execution_count": 2,
   "source": [
    "# Loading the data\n",
    "cancer = load_breast_cancer()\n",
    "cancer.keys()"
   ],
   "outputs": [
    {
     "output_type": "execute_result",
     "data": {
      "text/plain": [
       "dict_keys(['data', 'target', 'frame', 'target_names', 'DESCR', 'feature_names', 'filename'])"
      ]
     },
     "metadata": {},
     "execution_count": 2
    }
   ],
   "metadata": {}
  },
  {
   "cell_type": "code",
   "execution_count": 3,
   "source": [
    "def answer_one():\n",
    "    # Features\n",
    "    X = pd.DataFrame(cancer[\"data\"], columns = cancer[\"feature_names\"])\n",
    "    # Target variable\n",
    "    y = pd.Series(cancer[\"target\"], name = \"target\")\n",
    "\n",
    "    return pd.concat([X, y], axis = 1)      # full dataframe"
   ],
   "outputs": [],
   "metadata": {}
  },
  {
   "cell_type": "code",
   "execution_count": 4,
   "source": [
    "df = answer_one()\n",
    "df.shape"
   ],
   "outputs": [
    {
     "output_type": "execute_result",
     "data": {
      "text/plain": [
       "(569, 31)"
      ]
     },
     "metadata": {},
     "execution_count": 4
    }
   ],
   "metadata": {}
  },
  {
   "cell_type": "code",
   "execution_count": 5,
   "source": [
    "def answer_two():\n",
    "    cancerdf = answer_one()\n",
    "    # Values distribution\n",
    "    class_dist = cancerdf['target'].value_counts()\n",
    "    # Renaming index\n",
    "    class_dist.index = [\"maignant\", \"benign\"]\n",
    "    \n",
    "    return class_dist"
   ],
   "outputs": [],
   "metadata": {}
  },
  {
   "cell_type": "code",
   "execution_count": 6,
   "source": [
    "answer_two()"
   ],
   "outputs": [
    {
     "output_type": "execute_result",
     "data": {
      "text/plain": [
       "maignant    357\n",
       "benign      212\n",
       "Name: target, dtype: int64"
      ]
     },
     "metadata": {},
     "execution_count": 6
    }
   ],
   "metadata": {}
  },
  {
   "cell_type": "code",
   "execution_count": 7,
   "source": [
    "def answer_three():\n",
    "    cancerdf = answer_one()\n",
    "\n",
    "    # Independent variables\n",
    "    X = cancerdf.drop(\"target\", axis = 1)\n",
    "\n",
    "    # Target variable\n",
    "    y = cancerdf[\"target\"]\n",
    "\n",
    "    return X, y"
   ],
   "outputs": [],
   "metadata": {}
  },
  {
   "cell_type": "code",
   "execution_count": 8,
   "source": [
    "answer_three()"
   ],
   "outputs": [
    {
     "output_type": "execute_result",
     "data": {
      "text/plain": [
       "(     mean radius  mean texture  mean perimeter  mean area  mean smoothness  \\\n",
       " 0          17.99         10.38          122.80     1001.0          0.11840   \n",
       " 1          20.57         17.77          132.90     1326.0          0.08474   \n",
       " 2          19.69         21.25          130.00     1203.0          0.10960   \n",
       " 3          11.42         20.38           77.58      386.1          0.14250   \n",
       " 4          20.29         14.34          135.10     1297.0          0.10030   \n",
       " ..           ...           ...             ...        ...              ...   \n",
       " 564        21.56         22.39          142.00     1479.0          0.11100   \n",
       " 565        20.13         28.25          131.20     1261.0          0.09780   \n",
       " 566        16.60         28.08          108.30      858.1          0.08455   \n",
       " 567        20.60         29.33          140.10     1265.0          0.11780   \n",
       " 568         7.76         24.54           47.92      181.0          0.05263   \n",
       " \n",
       "      mean compactness  mean concavity  mean concave points  mean symmetry  \\\n",
       " 0             0.27760         0.30010              0.14710         0.2419   \n",
       " 1             0.07864         0.08690              0.07017         0.1812   \n",
       " 2             0.15990         0.19740              0.12790         0.2069   \n",
       " 3             0.28390         0.24140              0.10520         0.2597   \n",
       " 4             0.13280         0.19800              0.10430         0.1809   \n",
       " ..                ...             ...                  ...            ...   \n",
       " 564           0.11590         0.24390              0.13890         0.1726   \n",
       " 565           0.10340         0.14400              0.09791         0.1752   \n",
       " 566           0.10230         0.09251              0.05302         0.1590   \n",
       " 567           0.27700         0.35140              0.15200         0.2397   \n",
       " 568           0.04362         0.00000              0.00000         0.1587   \n",
       " \n",
       "      mean fractal dimension  ...  worst radius  worst texture  \\\n",
       " 0                   0.07871  ...        25.380          17.33   \n",
       " 1                   0.05667  ...        24.990          23.41   \n",
       " 2                   0.05999  ...        23.570          25.53   \n",
       " 3                   0.09744  ...        14.910          26.50   \n",
       " 4                   0.05883  ...        22.540          16.67   \n",
       " ..                      ...  ...           ...            ...   \n",
       " 564                 0.05623  ...        25.450          26.40   \n",
       " 565                 0.05533  ...        23.690          38.25   \n",
       " 566                 0.05648  ...        18.980          34.12   \n",
       " 567                 0.07016  ...        25.740          39.42   \n",
       " 568                 0.05884  ...         9.456          30.37   \n",
       " \n",
       "      worst perimeter  worst area  worst smoothness  worst compactness  \\\n",
       " 0             184.60      2019.0           0.16220            0.66560   \n",
       " 1             158.80      1956.0           0.12380            0.18660   \n",
       " 2             152.50      1709.0           0.14440            0.42450   \n",
       " 3              98.87       567.7           0.20980            0.86630   \n",
       " 4             152.20      1575.0           0.13740            0.20500   \n",
       " ..               ...         ...               ...                ...   \n",
       " 564           166.10      2027.0           0.14100            0.21130   \n",
       " 565           155.00      1731.0           0.11660            0.19220   \n",
       " 566           126.70      1124.0           0.11390            0.30940   \n",
       " 567           184.60      1821.0           0.16500            0.86810   \n",
       " 568            59.16       268.6           0.08996            0.06444   \n",
       " \n",
       "      worst concavity  worst concave points  worst symmetry  \\\n",
       " 0             0.7119                0.2654          0.4601   \n",
       " 1             0.2416                0.1860          0.2750   \n",
       " 2             0.4504                0.2430          0.3613   \n",
       " 3             0.6869                0.2575          0.6638   \n",
       " 4             0.4000                0.1625          0.2364   \n",
       " ..               ...                   ...             ...   \n",
       " 564           0.4107                0.2216          0.2060   \n",
       " 565           0.3215                0.1628          0.2572   \n",
       " 566           0.3403                0.1418          0.2218   \n",
       " 567           0.9387                0.2650          0.4087   \n",
       " 568           0.0000                0.0000          0.2871   \n",
       " \n",
       "      worst fractal dimension  \n",
       " 0                    0.11890  \n",
       " 1                    0.08902  \n",
       " 2                    0.08758  \n",
       " 3                    0.17300  \n",
       " 4                    0.07678  \n",
       " ..                       ...  \n",
       " 564                  0.07115  \n",
       " 565                  0.06637  \n",
       " 566                  0.07820  \n",
       " 567                  0.12400  \n",
       " 568                  0.07039  \n",
       " \n",
       " [569 rows x 30 columns],\n",
       " 0      0\n",
       " 1      0\n",
       " 2      0\n",
       " 3      0\n",
       " 4      0\n",
       "       ..\n",
       " 564    0\n",
       " 565    0\n",
       " 566    0\n",
       " 567    0\n",
       " 568    1\n",
       " Name: target, Length: 569, dtype: int64)"
      ]
     },
     "metadata": {},
     "execution_count": 8
    }
   ],
   "metadata": {}
  },
  {
   "cell_type": "code",
   "execution_count": 9,
   "source": [
    "def answer_four():\n",
    "    X, y = answer_three()\n",
    "\n",
    "    # Data split\n",
    "    X_train, X_test, y_train, y_test = train_test_split(X, y, random_state = 0)\n",
    "\n",
    "    return X_train, X_test, y_train, y_test"
   ],
   "outputs": [],
   "metadata": {}
  },
  {
   "cell_type": "code",
   "execution_count": 10,
   "source": [
    "answer_four()"
   ],
   "outputs": [
    {
     "output_type": "execute_result",
     "data": {
      "text/plain": [
       "(     mean radius  mean texture  mean perimeter  mean area  mean smoothness  \\\n",
       " 293       11.850         17.46           75.54      432.7          0.08372   \n",
       " 332       11.220         19.86           71.94      387.3          0.10540   \n",
       " 565       20.130         28.25          131.20     1261.0          0.09780   \n",
       " 278       13.590         17.84           86.24      572.3          0.07948   \n",
       " 489       16.690         20.20          107.10      857.6          0.07497   \n",
       " ..           ...           ...             ...        ...              ...   \n",
       " 277       18.810         19.98          120.90     1102.0          0.08923   \n",
       " 9         12.460         24.04           83.97      475.9          0.11860   \n",
       " 359        9.436         18.32           59.82      278.6          0.10090   \n",
       " 192        9.720         18.22           60.73      288.1          0.06950   \n",
       " 559       11.510         23.93           74.52      403.5          0.09261   \n",
       " \n",
       "      mean compactness  mean concavity  mean concave points  mean symmetry  \\\n",
       " 293           0.05642        0.026880             0.022800         0.1875   \n",
       " 332           0.06779        0.005006             0.007583         0.1940   \n",
       " 565           0.10340        0.144000             0.097910         0.1752   \n",
       " 278           0.04052        0.019970             0.012380         0.1573   \n",
       " 489           0.07112        0.036490             0.023070         0.1846   \n",
       " ..                ...             ...                  ...            ...   \n",
       " 277           0.05884        0.080200             0.058430         0.1550   \n",
       " 9             0.23960        0.227300             0.085430         0.2030   \n",
       " 359           0.05956        0.027100             0.014060         0.1506   \n",
       " 192           0.02344        0.000000             0.000000         0.1653   \n",
       " 559           0.10210        0.111200             0.041050         0.1388   \n",
       " \n",
       "      mean fractal dimension  ...  worst radius  worst texture  \\\n",
       " 293                 0.05715  ...        13.060          25.75   \n",
       " 332                 0.06028  ...        11.980          25.78   \n",
       " 565                 0.05533  ...        23.690          38.25   \n",
       " 278                 0.05520  ...        15.500          26.10   \n",
       " 489                 0.05325  ...        19.180          26.56   \n",
       " ..                      ...  ...           ...            ...   \n",
       " 277                 0.04996  ...        19.960          24.30   \n",
       " 9                   0.08243  ...        15.090          40.68   \n",
       " 359                 0.06959  ...        12.020          25.02   \n",
       " 192                 0.06447  ...         9.968          20.83   \n",
       " 559                 0.06570  ...        12.480          37.16   \n",
       " \n",
       "      worst perimeter  worst area  worst smoothness  worst compactness  \\\n",
       " 293            84.35       517.8           0.13690            0.17580   \n",
       " 332            76.91       436.1           0.14240            0.09669   \n",
       " 565           155.00      1731.0           0.11660            0.19220   \n",
       " 278            98.91       739.1           0.10500            0.07622   \n",
       " 489           127.30      1084.0           0.10090            0.29200   \n",
       " ..               ...         ...               ...                ...   \n",
       " 277           129.00      1236.0           0.12430            0.11600   \n",
       " 9              97.65       711.4           0.18530            1.05800   \n",
       " 359            75.79       439.6           0.13330            0.10490   \n",
       " 192            62.25       303.8           0.07117            0.02729   \n",
       " 559            82.28       474.2           0.12980            0.25170   \n",
       " \n",
       "      worst concavity  worst concave points  worst symmetry  \\\n",
       " 293          0.13160               0.09140          0.3101   \n",
       " 332          0.01335               0.02022          0.3292   \n",
       " 565          0.32150               0.16280          0.2572   \n",
       " 278          0.10600               0.05185          0.2335   \n",
       " 489          0.24770               0.08737          0.4677   \n",
       " ..               ...                   ...             ...   \n",
       " 277          0.22100               0.12940          0.2567   \n",
       " 9            1.10500               0.22100          0.4366   \n",
       " 359          0.11440               0.05052          0.2454   \n",
       " 192          0.00000               0.00000          0.1909   \n",
       " 559          0.36300               0.09653          0.2112   \n",
       " \n",
       "      worst fractal dimension  \n",
       " 293                  0.07007  \n",
       " 332                  0.06522  \n",
       " 565                  0.06637  \n",
       " 278                  0.06263  \n",
       " 489                  0.07623  \n",
       " ..                       ...  \n",
       " 277                  0.05737  \n",
       " 9                    0.20750  \n",
       " 359                  0.08136  \n",
       " 192                  0.06559  \n",
       " 559                  0.08732  \n",
       " \n",
       " [426 rows x 30 columns],\n",
       "      mean radius  mean texture  mean perimeter  mean area  mean smoothness  \\\n",
       " 512        13.40         20.52           88.64      556.7          0.11060   \n",
       " 457        13.21         25.25           84.10      537.9          0.08791   \n",
       " 439        14.02         15.66           89.59      606.5          0.07966   \n",
       " 298        14.26         18.17           91.22      633.1          0.06576   \n",
       " 37         13.03         18.42           82.61      523.8          0.08983   \n",
       " ..           ...           ...             ...        ...              ...   \n",
       " 236        23.21         26.97          153.50     1670.0          0.09509   \n",
       " 113        10.51         20.19           68.64      334.2          0.11220   \n",
       " 527        12.34         12.27           78.94      468.5          0.09003   \n",
       " 76         13.53         10.94           87.91      559.2          0.12910   \n",
       " 162        19.59         18.15          130.70     1214.0          0.11200   \n",
       " \n",
       "      mean compactness  mean concavity  mean concave points  mean symmetry  \\\n",
       " 512           0.14690         0.14450              0.08172         0.2116   \n",
       " 457           0.05205         0.02772              0.02068         0.1619   \n",
       " 439           0.05581         0.02087              0.02652         0.1589   \n",
       " 298           0.05220         0.02475              0.01374         0.1635   \n",
       " 37            0.03766         0.02562              0.02923         0.1467   \n",
       " ..                ...             ...                  ...            ...   \n",
       " 236           0.16820         0.19500              0.12370         0.1909   \n",
       " 113           0.13030         0.06476              0.03068         0.1922   \n",
       " 527           0.06307         0.02958              0.02647         0.1689   \n",
       " 76            0.10470         0.06877              0.06556         0.2403   \n",
       " 162           0.16660         0.25080              0.12860         0.2027   \n",
       " \n",
       "      mean fractal dimension  ...  worst radius  worst texture  \\\n",
       " 512                 0.07325  ...         16.41          29.66   \n",
       " 457                 0.05584  ...         14.35          34.23   \n",
       " 439                 0.05586  ...         14.91          19.31   \n",
       " 298                 0.05586  ...         16.22          25.26   \n",
       " 37                  0.05863  ...         13.30          22.81   \n",
       " ..                      ...  ...           ...            ...   \n",
       " 236                 0.06309  ...         31.01          34.51   \n",
       " 113                 0.07782  ...         11.16          22.75   \n",
       " 527                 0.05808  ...         13.61          19.27   \n",
       " 76                  0.06641  ...         14.08          12.49   \n",
       " 162                 0.06082  ...         26.73          26.39   \n",
       " \n",
       "      worst perimeter  worst area  worst smoothness  worst compactness  \\\n",
       " 512           113.30       844.4           0.15740            0.38560   \n",
       " 457            91.29       632.9           0.12890            0.10630   \n",
       " 439            96.53       688.9           0.10340            0.10170   \n",
       " 298           105.80       819.7           0.09445            0.21670   \n",
       " 37             84.46       545.9           0.09701            0.04619   \n",
       " ..               ...         ...               ...                ...   \n",
       " 236           206.00      2944.0           0.14810            0.41260   \n",
       " 113            72.62       374.4           0.13000            0.20490   \n",
       " 527            87.22       564.9           0.12920            0.20740   \n",
       " 76             91.36       605.5           0.14510            0.13790   \n",
       " 162           174.90      2232.0           0.14380            0.38460   \n",
       " \n",
       "      worst concavity  worst concave points  worst symmetry  \\\n",
       " 512          0.51060               0.20510          0.3585   \n",
       " 457          0.13900               0.06005          0.2444   \n",
       " 439          0.06260               0.08216          0.2136   \n",
       " 298          0.15650               0.07530          0.2636   \n",
       " 37           0.04833               0.05013          0.1987   \n",
       " ..               ...                   ...             ...   \n",
       " 236          0.58200               0.25930          0.3103   \n",
       " 113          0.12950               0.06136          0.2383   \n",
       " 527          0.17910               0.10700          0.3110   \n",
       " 76           0.08539               0.07407          0.2710   \n",
       " 162          0.68100               0.22470          0.3643   \n",
       " \n",
       "      worst fractal dimension  \n",
       " 512                  0.11090  \n",
       " 457                  0.06788  \n",
       " 439                  0.06710  \n",
       " 298                  0.07676  \n",
       " 37                   0.06169  \n",
       " ..                       ...  \n",
       " 236                  0.08677  \n",
       " 113                  0.09026  \n",
       " 527                  0.07592  \n",
       " 76                   0.07191  \n",
       " 162                  0.09223  \n",
       " \n",
       " [143 rows x 30 columns],\n",
       " 293    1\n",
       " 332    1\n",
       " 565    0\n",
       " 278    1\n",
       " 489    0\n",
       "       ..\n",
       " 277    0\n",
       " 9      0\n",
       " 359    1\n",
       " 192    1\n",
       " 559    1\n",
       " Name: target, Length: 426, dtype: int64,\n",
       " 512    0\n",
       " 457    1\n",
       " 439    1\n",
       " 298    1\n",
       " 37     1\n",
       "       ..\n",
       " 236    0\n",
       " 113    1\n",
       " 527    1\n",
       " 76     1\n",
       " 162    0\n",
       " Name: target, Length: 143, dtype: int64)"
      ]
     },
     "metadata": {},
     "execution_count": 10
    }
   ],
   "metadata": {}
  },
  {
   "cell_type": "code",
   "execution_count": 11,
   "source": [
    "def answer_five():\n",
    "    X_train, X_test, y_train, y_test = answer_four()\n",
    "\n",
    "    # Model selection\n",
    "    model = KNeighborsClassifier(n_neighbors = 1, n_jobs = -1)\n",
    "\n",
    "    # Model training\n",
    "    model.fit(X_train, y_train)\n",
    "\n",
    "    return model"
   ],
   "outputs": [],
   "metadata": {}
  },
  {
   "cell_type": "code",
   "execution_count": 12,
   "source": [
    "answer_five()"
   ],
   "outputs": [
    {
     "output_type": "execute_result",
     "data": {
      "text/plain": [
       "KNeighborsClassifier(n_jobs=-1, n_neighbors=1)"
      ]
     },
     "metadata": {},
     "execution_count": 12
    }
   ],
   "metadata": {}
  },
  {
   "cell_type": "code",
   "execution_count": 13,
   "source": [
    "def answer_six():\n",
    "    cancerdf = answer_one()\n",
    "    means = cancerdf.mean()[:-1].values.reshape(1, -1)\n",
    "\n",
    "    # Load the model\n",
    "    model = answer_five()\n",
    "    # Prediction\n",
    "    prediction = model.predict(means)\n",
    "\n",
    "    return prediction"
   ],
   "outputs": [],
   "metadata": {}
  },
  {
   "cell_type": "code",
   "execution_count": 14,
   "source": [
    "answer_six()"
   ],
   "outputs": [
    {
     "output_type": "execute_result",
     "data": {
      "text/plain": [
       "array([1])"
      ]
     },
     "metadata": {},
     "execution_count": 14
    }
   ],
   "metadata": {}
  },
  {
   "cell_type": "code",
   "execution_count": 15,
   "source": [
    "def answer_seven():\n",
    "    X_train, X_test, y_train, y_test = answer_four()\n",
    "    knn = answer_five()\n",
    "\n",
    "    # Predictions\n",
    "    predictions = knn.predict(X_test)\n",
    "\n",
    "    return predictions"
   ],
   "outputs": [],
   "metadata": {}
  },
  {
   "cell_type": "code",
   "execution_count": 16,
   "source": [
    "answer_seven().shape"
   ],
   "outputs": [
    {
     "output_type": "execute_result",
     "data": {
      "text/plain": [
       "(143,)"
      ]
     },
     "metadata": {},
     "execution_count": 16
    }
   ],
   "metadata": {}
  },
  {
   "cell_type": "code",
   "execution_count": 17,
   "source": [
    "def answer_eight():\n",
    "    X_train, X_test, y_train, y_test = answer_four()\n",
    "    knn = answer_five()\n",
    "\n",
    "    # Calculate score\n",
    "    score = knn.score(X_test, y_test)\n",
    "\n",
    "    return score"
   ],
   "outputs": [],
   "metadata": {}
  },
  {
   "cell_type": "code",
   "execution_count": 18,
   "source": [
    "answer_eight()"
   ],
   "outputs": [
    {
     "output_type": "execute_result",
     "data": {
      "text/plain": [
       "0.916083916083916"
      ]
     },
     "metadata": {},
     "execution_count": 18
    }
   ],
   "metadata": {}
  },
  {
   "cell_type": "code",
   "execution_count": 19,
   "source": [
    "def accuracy_plot():\n",
    "    import matplotlib.pyplot as plt\n",
    "\n",
    "    X_train, X_test, y_train, y_test = answer_four()\n",
    "\n",
    "    # Find the training and testing accuracies by target value (i.e. malignant, benign)\n",
    "    # Training set\n",
    "    mal_train_X = X_train[y_train==0]   # Benign\n",
    "    mal_train_y = y_train[y_train==0]   # Benign\n",
    "    ben_train_X = X_train[y_train==1]   # Malignant\n",
    "    ben_train_y = y_train[y_train==1]   # Malignant\n",
    "\n",
    "    # Test set\n",
    "    mal_test_X = X_test[y_test==0]   # Benign\n",
    "    mal_test_y = y_test[y_test==0]   # Benign\n",
    "    ben_test_X = X_test[y_test==1]   # Malignant\n",
    "    ben_test_y = y_test[y_test==1]   # Malignant\n",
    "\n",
    "    # Model\n",
    "    knn = answer_five()\n",
    "\n",
    "    # Calculate scores for each subset\n",
    "    scores = [knn.score(mal_train_X, mal_train_y), knn.score(ben_train_X, ben_train_y), \n",
    "              knn.score(mal_test_X, mal_test_y), knn.score(ben_test_X, ben_test_y)]\n",
    "\n",
    "\n",
    "    # Matplotlib figure\n",
    "    plt.figure()\n",
    "\n",
    "    # Plot the scores as a bar chart\n",
    "    bars = plt.bar(np.arange(4), scores, color=['#4c72b0','#4c72b0','#55a868','#55a868'])\n",
    "\n",
    "    # directly label the score onto the bars\n",
    "    for bar in bars:\n",
    "        height = bar.get_height()\n",
    "        plt.gca().text(bar.get_x() + bar.get_width()/2, height*.90, '{0:.{1}f}'.format(height, 2), \n",
    "                     ha='center', color='w', fontsize=11)\n",
    "\n",
    "    # remove all the ticks (both axes), and tick labels on the Y axis\n",
    "    plt.tick_params(top='off', bottom='off', left='off', right='off', labelleft='off', labelbottom='on')\n",
    "\n",
    "    # remove the frame of the chart\n",
    "    for spine in plt.gca().spines.values():\n",
    "        spine.set_visible(False)\n",
    "\n",
    "    plt.xticks([0,1,2,3], ['Malignant\\nTraining', 'Benign\\nTraining', 'Malignant\\nTest', 'Benign\\nTest'], alpha=0.8);\n",
    "    plt.title('Training and Test Accuracies for Malignant and Benign Cells', alpha=0.8)\n",
    "\n",
    "    plt.show()"
   ],
   "outputs": [],
   "metadata": {}
  },
  {
   "cell_type": "code",
   "execution_count": 20,
   "source": [
    "accuracy_plot()"
   ],
   "outputs": [
    {
     "output_type": "display_data",
     "data": {
      "text/plain": [
       "<Figure size 432x288 with 1 Axes>"
      ],
      "image/svg+xml": "<?xml version=\"1.0\" encoding=\"utf-8\" standalone=\"no\"?>\n<!DOCTYPE svg PUBLIC \"-//W3C//DTD SVG 1.1//EN\"\n  \"http://www.w3.org/Graphics/SVG/1.1/DTD/svg11.dtd\">\n<svg height=\"274.834063pt\" version=\"1.1\" viewBox=\"0 0 383.458125 274.834063\" width=\"383.458125pt\" xmlns=\"http://www.w3.org/2000/svg\" xmlns:xlink=\"http://www.w3.org/1999/xlink\">\n <metadata>\n  <rdf:RDF xmlns:cc=\"http://creativecommons.org/ns#\" xmlns:dc=\"http://purl.org/dc/elements/1.1/\" xmlns:rdf=\"http://www.w3.org/1999/02/22-rdf-syntax-ns#\">\n   <cc:Work>\n    <dc:type rdf:resource=\"http://purl.org/dc/dcmitype/StillImage\"/>\n    <dc:date>2021-08-06T13:31:28.294065</dc:date>\n    <dc:format>image/svg+xml</dc:format>\n    <dc:creator>\n     <cc:Agent>\n      <dc:title>Matplotlib v3.4.1, https://matplotlib.org/</dc:title>\n     </cc:Agent>\n    </dc:creator>\n   </cc:Work>\n  </rdf:RDF>\n </metadata>\n <defs>\n  <style type=\"text/css\">*{stroke-linecap:butt;stroke-linejoin:round;}</style>\n </defs>\n <g id=\"figure_1\">\n  <g id=\"patch_1\">\n   <path d=\"M 0 274.834063 \nL 383.458125 274.834063 \nL 383.458125 0 \nL 0 0 \nz\n\" style=\"fill:none;\"/>\n  </g>\n  <g id=\"axes_1\">\n   <g id=\"patch_2\">\n    <path d=\"M 30.103125 239.758125 \nL 364.903125 239.758125 \nL 364.903125 22.318125 \nL 30.103125 22.318125 \nz\n\" style=\"fill:#ffffff;\"/>\n   </g>\n   <g id=\"patch_3\">\n    <path clip-path=\"url(#pe1672c8295)\" d=\"M 45.321307 239.758125 \nL 109.397862 239.758125 \nL 109.397862 32.672411 \nL 45.321307 32.672411 \nz\n\" style=\"fill:#4c72b0;\"/>\n   </g>\n   <g id=\"patch_4\">\n    <path clip-path=\"url(#pe1672c8295)\" d=\"M 125.417001 239.758125 \nL 189.493556 239.758125 \nL 189.493556 32.672411 \nL 125.417001 32.672411 \nz\n\" style=\"fill:#4c72b0;\"/>\n   </g>\n   <g id=\"patch_5\">\n    <path clip-path=\"url(#pe1672c8295)\" d=\"M 205.512694 239.758125 \nL 269.589249 239.758125 \nL 269.589249 60.023354 \nL 205.512694 60.023354 \nz\n\" style=\"fill:#55a868;\"/>\n   </g>\n   <g id=\"patch_6\">\n    <path clip-path=\"url(#pe1672c8295)\" d=\"M 285.608388 239.758125 \nL 349.684943 239.758125 \nL 349.684943 44.177173 \nL 285.608388 44.177173 \nz\n\" style=\"fill:#55a868;\"/>\n   </g>\n   <g id=\"matplotlib.axis_1\">\n    <g id=\"xtick_1\">\n     <g id=\"line2d_1\">\n      <defs>\n       <path d=\"M 0 0 \nL 0 3.5 \n\" id=\"m65909058ff\" style=\"stroke:#000000;stroke-width:0.8;\"/>\n      </defs>\n      <g>\n       <use style=\"stroke:#000000;stroke-width:0.8;\" x=\"77.359584\" xlink:href=\"#m65909058ff\" y=\"239.758125\"/>\n      </g>\n     </g>\n     <g id=\"line2d_2\">\n      <defs>\n       <path d=\"M 0 0 \nL 0 -3.5 \n\" id=\"m91bc451dae\" style=\"stroke:#000000;stroke-width:0.8;\"/>\n      </defs>\n      <g>\n       <use style=\"stroke:#000000;stroke-width:0.8;\" x=\"77.359584\" xlink:href=\"#m91bc451dae\" y=\"22.318125\"/>\n      </g>\n     </g>\n     <g id=\"text_1\">\n      <!-- Malignant -->\n      <g style=\"opacity:0.8;\" transform=\"translate(52.667397 254.356563)scale(0.1 -0.1)\">\n       <defs>\n        <path d=\"M 628 4666 \nL 1569 4666 \nL 2759 1491 \nL 3956 4666 \nL 4897 4666 \nL 4897 0 \nL 4281 0 \nL 4281 4097 \nL 3078 897 \nL 2444 897 \nL 1241 4097 \nL 1241 0 \nL 628 0 \nL 628 4666 \nz\n\" id=\"DejaVuSans-4d\" transform=\"scale(0.015625)\"/>\n        <path d=\"M 2194 1759 \nQ 1497 1759 1228 1600 \nQ 959 1441 959 1056 \nQ 959 750 1161 570 \nQ 1363 391 1709 391 \nQ 2188 391 2477 730 \nQ 2766 1069 2766 1631 \nL 2766 1759 \nL 2194 1759 \nz\nM 3341 1997 \nL 3341 0 \nL 2766 0 \nL 2766 531 \nQ 2569 213 2275 61 \nQ 1981 -91 1556 -91 \nQ 1019 -91 701 211 \nQ 384 513 384 1019 \nQ 384 1609 779 1909 \nQ 1175 2209 1959 2209 \nL 2766 2209 \nL 2766 2266 \nQ 2766 2663 2505 2880 \nQ 2244 3097 1772 3097 \nQ 1472 3097 1187 3025 \nQ 903 2953 641 2809 \nL 641 3341 \nQ 956 3463 1253 3523 \nQ 1550 3584 1831 3584 \nQ 2591 3584 2966 3190 \nQ 3341 2797 3341 1997 \nz\n\" id=\"DejaVuSans-61\" transform=\"scale(0.015625)\"/>\n        <path d=\"M 603 4863 \nL 1178 4863 \nL 1178 0 \nL 603 0 \nL 603 4863 \nz\n\" id=\"DejaVuSans-6c\" transform=\"scale(0.015625)\"/>\n        <path d=\"M 603 3500 \nL 1178 3500 \nL 1178 0 \nL 603 0 \nL 603 3500 \nz\nM 603 4863 \nL 1178 4863 \nL 1178 4134 \nL 603 4134 \nL 603 4863 \nz\n\" id=\"DejaVuSans-69\" transform=\"scale(0.015625)\"/>\n        <path d=\"M 2906 1791 \nQ 2906 2416 2648 2759 \nQ 2391 3103 1925 3103 \nQ 1463 3103 1205 2759 \nQ 947 2416 947 1791 \nQ 947 1169 1205 825 \nQ 1463 481 1925 481 \nQ 2391 481 2648 825 \nQ 2906 1169 2906 1791 \nz\nM 3481 434 \nQ 3481 -459 3084 -895 \nQ 2688 -1331 1869 -1331 \nQ 1566 -1331 1297 -1286 \nQ 1028 -1241 775 -1147 \nL 775 -588 \nQ 1028 -725 1275 -790 \nQ 1522 -856 1778 -856 \nQ 2344 -856 2625 -561 \nQ 2906 -266 2906 331 \nL 2906 616 \nQ 2728 306 2450 153 \nQ 2172 0 1784 0 \nQ 1141 0 747 490 \nQ 353 981 353 1791 \nQ 353 2603 747 3093 \nQ 1141 3584 1784 3584 \nQ 2172 3584 2450 3431 \nQ 2728 3278 2906 2969 \nL 2906 3500 \nL 3481 3500 \nL 3481 434 \nz\n\" id=\"DejaVuSans-67\" transform=\"scale(0.015625)\"/>\n        <path d=\"M 3513 2113 \nL 3513 0 \nL 2938 0 \nL 2938 2094 \nQ 2938 2591 2744 2837 \nQ 2550 3084 2163 3084 \nQ 1697 3084 1428 2787 \nQ 1159 2491 1159 1978 \nL 1159 0 \nL 581 0 \nL 581 3500 \nL 1159 3500 \nL 1159 2956 \nQ 1366 3272 1645 3428 \nQ 1925 3584 2291 3584 \nQ 2894 3584 3203 3211 \nQ 3513 2838 3513 2113 \nz\n\" id=\"DejaVuSans-6e\" transform=\"scale(0.015625)\"/>\n        <path d=\"M 1172 4494 \nL 1172 3500 \nL 2356 3500 \nL 2356 3053 \nL 1172 3053 \nL 1172 1153 \nQ 1172 725 1289 603 \nQ 1406 481 1766 481 \nL 2356 481 \nL 2356 0 \nL 1766 0 \nQ 1100 0 847 248 \nQ 594 497 594 1153 \nL 594 3053 \nL 172 3053 \nL 172 3500 \nL 594 3500 \nL 594 4494 \nL 1172 4494 \nz\n\" id=\"DejaVuSans-74\" transform=\"scale(0.015625)\"/>\n       </defs>\n       <use xlink:href=\"#DejaVuSans-4d\"/>\n       <use x=\"86.279297\" xlink:href=\"#DejaVuSans-61\"/>\n       <use x=\"147.558594\" xlink:href=\"#DejaVuSans-6c\"/>\n       <use x=\"175.341797\" xlink:href=\"#DejaVuSans-69\"/>\n       <use x=\"203.125\" xlink:href=\"#DejaVuSans-67\"/>\n       <use x=\"266.601562\" xlink:href=\"#DejaVuSans-6e\"/>\n       <use x=\"329.980469\" xlink:href=\"#DejaVuSans-61\"/>\n       <use x=\"391.259766\" xlink:href=\"#DejaVuSans-6e\"/>\n       <use x=\"454.638672\" xlink:href=\"#DejaVuSans-74\"/>\n      </g>\n      <!-- Training -->\n      <g style=\"opacity:0.8;\" transform=\"translate(57.633803 265.554375)scale(0.1 -0.1)\">\n       <defs>\n        <path d=\"M -19 4666 \nL 3928 4666 \nL 3928 4134 \nL 2272 4134 \nL 2272 0 \nL 1638 0 \nL 1638 4134 \nL -19 4134 \nL -19 4666 \nz\n\" id=\"DejaVuSans-54\" transform=\"scale(0.015625)\"/>\n        <path d=\"M 2631 2963 \nQ 2534 3019 2420 3045 \nQ 2306 3072 2169 3072 \nQ 1681 3072 1420 2755 \nQ 1159 2438 1159 1844 \nL 1159 0 \nL 581 0 \nL 581 3500 \nL 1159 3500 \nL 1159 2956 \nQ 1341 3275 1631 3429 \nQ 1922 3584 2338 3584 \nQ 2397 3584 2469 3576 \nQ 2541 3569 2628 3553 \nL 2631 2963 \nz\n\" id=\"DejaVuSans-72\" transform=\"scale(0.015625)\"/>\n       </defs>\n       <use xlink:href=\"#DejaVuSans-54\"/>\n       <use x=\"46.333984\" xlink:href=\"#DejaVuSans-72\"/>\n       <use x=\"87.447266\" xlink:href=\"#DejaVuSans-61\"/>\n       <use x=\"148.726562\" xlink:href=\"#DejaVuSans-69\"/>\n       <use x=\"176.509766\" xlink:href=\"#DejaVuSans-6e\"/>\n       <use x=\"239.888672\" xlink:href=\"#DejaVuSans-69\"/>\n       <use x=\"267.671875\" xlink:href=\"#DejaVuSans-6e\"/>\n       <use x=\"331.050781\" xlink:href=\"#DejaVuSans-67\"/>\n      </g>\n     </g>\n    </g>\n    <g id=\"xtick_2\">\n     <g id=\"line2d_3\">\n      <g>\n       <use style=\"stroke:#000000;stroke-width:0.8;\" x=\"157.455278\" xlink:href=\"#m65909058ff\" y=\"239.758125\"/>\n      </g>\n     </g>\n     <g id=\"line2d_4\">\n      <g>\n       <use style=\"stroke:#000000;stroke-width:0.8;\" x=\"157.455278\" xlink:href=\"#m91bc451dae\" y=\"22.318125\"/>\n      </g>\n     </g>\n     <g id=\"text_2\">\n      <!-- Benign -->\n      <g style=\"opacity:0.8;\" transform=\"translate(140.047466 254.356563)scale(0.1 -0.1)\">\n       <defs>\n        <path d=\"M 1259 2228 \nL 1259 519 \nL 2272 519 \nQ 2781 519 3026 730 \nQ 3272 941 3272 1375 \nQ 3272 1813 3026 2020 \nQ 2781 2228 2272 2228 \nL 1259 2228 \nz\nM 1259 4147 \nL 1259 2741 \nL 2194 2741 \nQ 2656 2741 2882 2914 \nQ 3109 3088 3109 3444 \nQ 3109 3797 2882 3972 \nQ 2656 4147 2194 4147 \nL 1259 4147 \nz\nM 628 4666 \nL 2241 4666 \nQ 2963 4666 3353 4366 \nQ 3744 4066 3744 3513 \nQ 3744 3084 3544 2831 \nQ 3344 2578 2956 2516 \nQ 3422 2416 3680 2098 \nQ 3938 1781 3938 1306 \nQ 3938 681 3513 340 \nQ 3088 0 2303 0 \nL 628 0 \nL 628 4666 \nz\n\" id=\"DejaVuSans-42\" transform=\"scale(0.015625)\"/>\n        <path d=\"M 3597 1894 \nL 3597 1613 \nL 953 1613 \nQ 991 1019 1311 708 \nQ 1631 397 2203 397 \nQ 2534 397 2845 478 \nQ 3156 559 3463 722 \nL 3463 178 \nQ 3153 47 2828 -22 \nQ 2503 -91 2169 -91 \nQ 1331 -91 842 396 \nQ 353 884 353 1716 \nQ 353 2575 817 3079 \nQ 1281 3584 2069 3584 \nQ 2775 3584 3186 3129 \nQ 3597 2675 3597 1894 \nz\nM 3022 2063 \nQ 3016 2534 2758 2815 \nQ 2500 3097 2075 3097 \nQ 1594 3097 1305 2825 \nQ 1016 2553 972 2059 \nL 3022 2063 \nz\n\" id=\"DejaVuSans-65\" transform=\"scale(0.015625)\"/>\n       </defs>\n       <use xlink:href=\"#DejaVuSans-42\"/>\n       <use x=\"68.603516\" xlink:href=\"#DejaVuSans-65\"/>\n       <use x=\"130.126953\" xlink:href=\"#DejaVuSans-6e\"/>\n       <use x=\"193.505859\" xlink:href=\"#DejaVuSans-69\"/>\n       <use x=\"221.289062\" xlink:href=\"#DejaVuSans-67\"/>\n       <use x=\"284.765625\" xlink:href=\"#DejaVuSans-6e\"/>\n      </g>\n      <!-- Training -->\n      <g style=\"opacity:0.8;\" transform=\"translate(137.729497 265.554375)scale(0.1 -0.1)\">\n       <use xlink:href=\"#DejaVuSans-54\"/>\n       <use x=\"46.333984\" xlink:href=\"#DejaVuSans-72\"/>\n       <use x=\"87.447266\" xlink:href=\"#DejaVuSans-61\"/>\n       <use x=\"148.726562\" xlink:href=\"#DejaVuSans-69\"/>\n       <use x=\"176.509766\" xlink:href=\"#DejaVuSans-6e\"/>\n       <use x=\"239.888672\" xlink:href=\"#DejaVuSans-69\"/>\n       <use x=\"267.671875\" xlink:href=\"#DejaVuSans-6e\"/>\n       <use x=\"331.050781\" xlink:href=\"#DejaVuSans-67\"/>\n      </g>\n     </g>\n    </g>\n    <g id=\"xtick_3\">\n     <g id=\"line2d_5\">\n      <g>\n       <use style=\"stroke:#000000;stroke-width:0.8;\" x=\"237.550972\" xlink:href=\"#m65909058ff\" y=\"239.758125\"/>\n      </g>\n     </g>\n     <g id=\"line2d_6\">\n      <g>\n       <use style=\"stroke:#000000;stroke-width:0.8;\" x=\"237.550972\" xlink:href=\"#m91bc451dae\" y=\"22.318125\"/>\n      </g>\n     </g>\n     <g id=\"text_3\">\n      <!-- Malignant -->\n      <g style=\"opacity:0.8;\" transform=\"translate(212.858784 254.356563)scale(0.1 -0.1)\">\n       <use xlink:href=\"#DejaVuSans-4d\"/>\n       <use x=\"86.279297\" xlink:href=\"#DejaVuSans-61\"/>\n       <use x=\"147.558594\" xlink:href=\"#DejaVuSans-6c\"/>\n       <use x=\"175.341797\" xlink:href=\"#DejaVuSans-69\"/>\n       <use x=\"203.125\" xlink:href=\"#DejaVuSans-67\"/>\n       <use x=\"266.601562\" xlink:href=\"#DejaVuSans-6e\"/>\n       <use x=\"329.980469\" xlink:href=\"#DejaVuSans-61\"/>\n       <use x=\"391.259766\" xlink:href=\"#DejaVuSans-6e\"/>\n       <use x=\"454.638672\" xlink:href=\"#DejaVuSans-74\"/>\n      </g>\n      <!-- Test -->\n      <g style=\"opacity:0.8;\" transform=\"translate(227.705659 265.554375)scale(0.1 -0.1)\">\n       <defs>\n        <path d=\"M 2834 3397 \nL 2834 2853 \nQ 2591 2978 2328 3040 \nQ 2066 3103 1784 3103 \nQ 1356 3103 1142 2972 \nQ 928 2841 928 2578 \nQ 928 2378 1081 2264 \nQ 1234 2150 1697 2047 \nL 1894 2003 \nQ 2506 1872 2764 1633 \nQ 3022 1394 3022 966 \nQ 3022 478 2636 193 \nQ 2250 -91 1575 -91 \nQ 1294 -91 989 -36 \nQ 684 19 347 128 \nL 347 722 \nQ 666 556 975 473 \nQ 1284 391 1588 391 \nQ 1994 391 2212 530 \nQ 2431 669 2431 922 \nQ 2431 1156 2273 1281 \nQ 2116 1406 1581 1522 \nL 1381 1569 \nQ 847 1681 609 1914 \nQ 372 2147 372 2553 \nQ 372 3047 722 3315 \nQ 1072 3584 1716 3584 \nQ 2034 3584 2315 3537 \nQ 2597 3491 2834 3397 \nz\n\" id=\"DejaVuSans-73\" transform=\"scale(0.015625)\"/>\n       </defs>\n       <use xlink:href=\"#DejaVuSans-54\"/>\n       <use x=\"44.083984\" xlink:href=\"#DejaVuSans-65\"/>\n       <use x=\"105.607422\" xlink:href=\"#DejaVuSans-73\"/>\n       <use x=\"157.707031\" xlink:href=\"#DejaVuSans-74\"/>\n      </g>\n     </g>\n    </g>\n    <g id=\"xtick_4\">\n     <g id=\"line2d_7\">\n      <g>\n       <use style=\"stroke:#000000;stroke-width:0.8;\" x=\"317.646666\" xlink:href=\"#m65909058ff\" y=\"239.758125\"/>\n      </g>\n     </g>\n     <g id=\"line2d_8\">\n      <g>\n       <use style=\"stroke:#000000;stroke-width:0.8;\" x=\"317.646666\" xlink:href=\"#m91bc451dae\" y=\"22.318125\"/>\n      </g>\n     </g>\n     <g id=\"text_4\">\n      <!-- Benign -->\n      <g style=\"opacity:0.8;\" transform=\"translate(300.238853 254.356563)scale(0.1 -0.1)\">\n       <use xlink:href=\"#DejaVuSans-42\"/>\n       <use x=\"68.603516\" xlink:href=\"#DejaVuSans-65\"/>\n       <use x=\"130.126953\" xlink:href=\"#DejaVuSans-6e\"/>\n       <use x=\"193.505859\" xlink:href=\"#DejaVuSans-69\"/>\n       <use x=\"221.289062\" xlink:href=\"#DejaVuSans-67\"/>\n       <use x=\"284.765625\" xlink:href=\"#DejaVuSans-6e\"/>\n      </g>\n      <!-- Test -->\n      <g style=\"opacity:0.8;\" transform=\"translate(307.801353 265.554375)scale(0.1 -0.1)\">\n       <use xlink:href=\"#DejaVuSans-54\"/>\n       <use x=\"44.083984\" xlink:href=\"#DejaVuSans-65\"/>\n       <use x=\"105.607422\" xlink:href=\"#DejaVuSans-73\"/>\n       <use x=\"157.707031\" xlink:href=\"#DejaVuSans-74\"/>\n      </g>\n     </g>\n    </g>\n   </g>\n   <g id=\"matplotlib.axis_2\">\n    <g id=\"ytick_1\">\n     <g id=\"line2d_9\">\n      <defs>\n       <path d=\"M 0 0 \nL -3.5 0 \n\" id=\"m4169c87608\" style=\"stroke:#000000;stroke-width:0.8;\"/>\n      </defs>\n      <g>\n       <use style=\"stroke:#000000;stroke-width:0.8;\" x=\"30.103125\" xlink:href=\"#m4169c87608\" y=\"239.758125\"/>\n      </g>\n     </g>\n     <g id=\"line2d_10\">\n      <defs>\n       <path d=\"M 0 0 \nL 3.5 0 \n\" id=\"m81b512c5be\" style=\"stroke:#000000;stroke-width:0.8;\"/>\n      </defs>\n      <g>\n       <use style=\"stroke:#000000;stroke-width:0.8;\" x=\"364.903125\" xlink:href=\"#m81b512c5be\" y=\"239.758125\"/>\n      </g>\n     </g>\n     <g id=\"text_5\">\n      <!-- 0.0 -->\n      <g transform=\"translate(7.2 243.557344)scale(0.1 -0.1)\">\n       <defs>\n        <path d=\"M 2034 4250 \nQ 1547 4250 1301 3770 \nQ 1056 3291 1056 2328 \nQ 1056 1369 1301 889 \nQ 1547 409 2034 409 \nQ 2525 409 2770 889 \nQ 3016 1369 3016 2328 \nQ 3016 3291 2770 3770 \nQ 2525 4250 2034 4250 \nz\nM 2034 4750 \nQ 2819 4750 3233 4129 \nQ 3647 3509 3647 2328 \nQ 3647 1150 3233 529 \nQ 2819 -91 2034 -91 \nQ 1250 -91 836 529 \nQ 422 1150 422 2328 \nQ 422 3509 836 4129 \nQ 1250 4750 2034 4750 \nz\n\" id=\"DejaVuSans-30\" transform=\"scale(0.015625)\"/>\n        <path d=\"M 684 794 \nL 1344 794 \nL 1344 0 \nL 684 0 \nL 684 794 \nz\n\" id=\"DejaVuSans-2e\" transform=\"scale(0.015625)\"/>\n       </defs>\n       <use xlink:href=\"#DejaVuSans-30\"/>\n       <use x=\"63.623047\" xlink:href=\"#DejaVuSans-2e\"/>\n       <use x=\"95.410156\" xlink:href=\"#DejaVuSans-30\"/>\n      </g>\n     </g>\n    </g>\n    <g id=\"ytick_2\">\n     <g id=\"line2d_11\">\n      <g>\n       <use style=\"stroke:#000000;stroke-width:0.8;\" x=\"30.103125\" xlink:href=\"#m4169c87608\" y=\"198.340982\"/>\n      </g>\n     </g>\n     <g id=\"line2d_12\">\n      <g>\n       <use style=\"stroke:#000000;stroke-width:0.8;\" x=\"364.903125\" xlink:href=\"#m81b512c5be\" y=\"198.340982\"/>\n      </g>\n     </g>\n     <g id=\"text_6\">\n      <!-- 0.2 -->\n      <g transform=\"translate(7.2 202.140201)scale(0.1 -0.1)\">\n       <defs>\n        <path d=\"M 1228 531 \nL 3431 531 \nL 3431 0 \nL 469 0 \nL 469 531 \nQ 828 903 1448 1529 \nQ 2069 2156 2228 2338 \nQ 2531 2678 2651 2914 \nQ 2772 3150 2772 3378 \nQ 2772 3750 2511 3984 \nQ 2250 4219 1831 4219 \nQ 1534 4219 1204 4116 \nQ 875 4013 500 3803 \nL 500 4441 \nQ 881 4594 1212 4672 \nQ 1544 4750 1819 4750 \nQ 2544 4750 2975 4387 \nQ 3406 4025 3406 3419 \nQ 3406 3131 3298 2873 \nQ 3191 2616 2906 2266 \nQ 2828 2175 2409 1742 \nQ 1991 1309 1228 531 \nz\n\" id=\"DejaVuSans-32\" transform=\"scale(0.015625)\"/>\n       </defs>\n       <use xlink:href=\"#DejaVuSans-30\"/>\n       <use x=\"63.623047\" xlink:href=\"#DejaVuSans-2e\"/>\n       <use x=\"95.410156\" xlink:href=\"#DejaVuSans-32\"/>\n      </g>\n     </g>\n    </g>\n    <g id=\"ytick_3\">\n     <g id=\"line2d_13\">\n      <g>\n       <use style=\"stroke:#000000;stroke-width:0.8;\" x=\"30.103125\" xlink:href=\"#m4169c87608\" y=\"156.923839\"/>\n      </g>\n     </g>\n     <g id=\"line2d_14\">\n      <g>\n       <use style=\"stroke:#000000;stroke-width:0.8;\" x=\"364.903125\" xlink:href=\"#m81b512c5be\" y=\"156.923839\"/>\n      </g>\n     </g>\n     <g id=\"text_7\">\n      <!-- 0.4 -->\n      <g transform=\"translate(7.2 160.723058)scale(0.1 -0.1)\">\n       <defs>\n        <path d=\"M 2419 4116 \nL 825 1625 \nL 2419 1625 \nL 2419 4116 \nz\nM 2253 4666 \nL 3047 4666 \nL 3047 1625 \nL 3713 1625 \nL 3713 1100 \nL 3047 1100 \nL 3047 0 \nL 2419 0 \nL 2419 1100 \nL 313 1100 \nL 313 1709 \nL 2253 4666 \nz\n\" id=\"DejaVuSans-34\" transform=\"scale(0.015625)\"/>\n       </defs>\n       <use xlink:href=\"#DejaVuSans-30\"/>\n       <use x=\"63.623047\" xlink:href=\"#DejaVuSans-2e\"/>\n       <use x=\"95.410156\" xlink:href=\"#DejaVuSans-34\"/>\n      </g>\n     </g>\n    </g>\n    <g id=\"ytick_4\">\n     <g id=\"line2d_15\">\n      <g>\n       <use style=\"stroke:#000000;stroke-width:0.8;\" x=\"30.103125\" xlink:href=\"#m4169c87608\" y=\"115.506696\"/>\n      </g>\n     </g>\n     <g id=\"line2d_16\">\n      <g>\n       <use style=\"stroke:#000000;stroke-width:0.8;\" x=\"364.903125\" xlink:href=\"#m81b512c5be\" y=\"115.506696\"/>\n      </g>\n     </g>\n     <g id=\"text_8\">\n      <!-- 0.6 -->\n      <g transform=\"translate(7.2 119.305915)scale(0.1 -0.1)\">\n       <defs>\n        <path d=\"M 2113 2584 \nQ 1688 2584 1439 2293 \nQ 1191 2003 1191 1497 \nQ 1191 994 1439 701 \nQ 1688 409 2113 409 \nQ 2538 409 2786 701 \nQ 3034 994 3034 1497 \nQ 3034 2003 2786 2293 \nQ 2538 2584 2113 2584 \nz\nM 3366 4563 \nL 3366 3988 \nQ 3128 4100 2886 4159 \nQ 2644 4219 2406 4219 \nQ 1781 4219 1451 3797 \nQ 1122 3375 1075 2522 \nQ 1259 2794 1537 2939 \nQ 1816 3084 2150 3084 \nQ 2853 3084 3261 2657 \nQ 3669 2231 3669 1497 \nQ 3669 778 3244 343 \nQ 2819 -91 2113 -91 \nQ 1303 -91 875 529 \nQ 447 1150 447 2328 \nQ 447 3434 972 4092 \nQ 1497 4750 2381 4750 \nQ 2619 4750 2861 4703 \nQ 3103 4656 3366 4563 \nz\n\" id=\"DejaVuSans-36\" transform=\"scale(0.015625)\"/>\n       </defs>\n       <use xlink:href=\"#DejaVuSans-30\"/>\n       <use x=\"63.623047\" xlink:href=\"#DejaVuSans-2e\"/>\n       <use x=\"95.410156\" xlink:href=\"#DejaVuSans-36\"/>\n      </g>\n     </g>\n    </g>\n    <g id=\"ytick_5\">\n     <g id=\"line2d_17\">\n      <g>\n       <use style=\"stroke:#000000;stroke-width:0.8;\" x=\"30.103125\" xlink:href=\"#m4169c87608\" y=\"74.089554\"/>\n      </g>\n     </g>\n     <g id=\"line2d_18\">\n      <g>\n       <use style=\"stroke:#000000;stroke-width:0.8;\" x=\"364.903125\" xlink:href=\"#m81b512c5be\" y=\"74.089554\"/>\n      </g>\n     </g>\n     <g id=\"text_9\">\n      <!-- 0.8 -->\n      <g transform=\"translate(7.2 77.888772)scale(0.1 -0.1)\">\n       <defs>\n        <path d=\"M 2034 2216 \nQ 1584 2216 1326 1975 \nQ 1069 1734 1069 1313 \nQ 1069 891 1326 650 \nQ 1584 409 2034 409 \nQ 2484 409 2743 651 \nQ 3003 894 3003 1313 \nQ 3003 1734 2745 1975 \nQ 2488 2216 2034 2216 \nz\nM 1403 2484 \nQ 997 2584 770 2862 \nQ 544 3141 544 3541 \nQ 544 4100 942 4425 \nQ 1341 4750 2034 4750 \nQ 2731 4750 3128 4425 \nQ 3525 4100 3525 3541 \nQ 3525 3141 3298 2862 \nQ 3072 2584 2669 2484 \nQ 3125 2378 3379 2068 \nQ 3634 1759 3634 1313 \nQ 3634 634 3220 271 \nQ 2806 -91 2034 -91 \nQ 1263 -91 848 271 \nQ 434 634 434 1313 \nQ 434 1759 690 2068 \nQ 947 2378 1403 2484 \nz\nM 1172 3481 \nQ 1172 3119 1398 2916 \nQ 1625 2713 2034 2713 \nQ 2441 2713 2670 2916 \nQ 2900 3119 2900 3481 \nQ 2900 3844 2670 4047 \nQ 2441 4250 2034 4250 \nQ 1625 4250 1398 4047 \nQ 1172 3844 1172 3481 \nz\n\" id=\"DejaVuSans-38\" transform=\"scale(0.015625)\"/>\n       </defs>\n       <use xlink:href=\"#DejaVuSans-30\"/>\n       <use x=\"63.623047\" xlink:href=\"#DejaVuSans-2e\"/>\n       <use x=\"95.410156\" xlink:href=\"#DejaVuSans-38\"/>\n      </g>\n     </g>\n    </g>\n    <g id=\"ytick_6\">\n     <g id=\"line2d_19\">\n      <g>\n       <use style=\"stroke:#000000;stroke-width:0.8;\" x=\"30.103125\" xlink:href=\"#m4169c87608\" y=\"32.672411\"/>\n      </g>\n     </g>\n     <g id=\"line2d_20\">\n      <g>\n       <use style=\"stroke:#000000;stroke-width:0.8;\" x=\"364.903125\" xlink:href=\"#m81b512c5be\" y=\"32.672411\"/>\n      </g>\n     </g>\n     <g id=\"text_10\">\n      <!-- 1.0 -->\n      <g transform=\"translate(7.2 36.471629)scale(0.1 -0.1)\">\n       <defs>\n        <path d=\"M 794 531 \nL 1825 531 \nL 1825 4091 \nL 703 3866 \nL 703 4441 \nL 1819 4666 \nL 2450 4666 \nL 2450 531 \nL 3481 531 \nL 3481 0 \nL 794 0 \nL 794 531 \nz\n\" id=\"DejaVuSans-31\" transform=\"scale(0.015625)\"/>\n       </defs>\n       <use xlink:href=\"#DejaVuSans-31\"/>\n       <use x=\"63.623047\" xlink:href=\"#DejaVuSans-2e\"/>\n       <use x=\"95.410156\" xlink:href=\"#DejaVuSans-30\"/>\n      </g>\n     </g>\n    </g>\n   </g>\n   <g id=\"text_11\">\n    <!-- 1.00 -->\n    <g style=\"fill:#ffffff;\" transform=\"translate(65.113491 53.380982)scale(0.11 -0.11)\">\n     <use xlink:href=\"#DejaVuSans-31\"/>\n     <use x=\"63.623047\" xlink:href=\"#DejaVuSans-2e\"/>\n     <use x=\"95.410156\" xlink:href=\"#DejaVuSans-30\"/>\n     <use x=\"159.033203\" xlink:href=\"#DejaVuSans-30\"/>\n    </g>\n   </g>\n   <g id=\"text_12\">\n    <!-- 1.00 -->\n    <g style=\"fill:#ffffff;\" transform=\"translate(145.209184 53.380982)scale(0.11 -0.11)\">\n     <use xlink:href=\"#DejaVuSans-31\"/>\n     <use x=\"63.623047\" xlink:href=\"#DejaVuSans-2e\"/>\n     <use x=\"95.410156\" xlink:href=\"#DejaVuSans-30\"/>\n     <use x=\"159.033203\" xlink:href=\"#DejaVuSans-30\"/>\n    </g>\n   </g>\n   <g id=\"text_13\">\n    <!-- 0.87 -->\n    <g style=\"fill:#ffffff;\" transform=\"translate(225.304878 77.996831)scale(0.11 -0.11)\">\n     <defs>\n      <path d=\"M 525 4666 \nL 3525 4666 \nL 3525 4397 \nL 1831 0 \nL 1172 0 \nL 2766 4134 \nL 525 4134 \nL 525 4666 \nz\n\" id=\"DejaVuSans-37\" transform=\"scale(0.015625)\"/>\n     </defs>\n     <use xlink:href=\"#DejaVuSans-30\"/>\n     <use x=\"63.623047\" xlink:href=\"#DejaVuSans-2e\"/>\n     <use x=\"95.410156\" xlink:href=\"#DejaVuSans-38\"/>\n     <use x=\"159.033203\" xlink:href=\"#DejaVuSans-37\"/>\n    </g>\n   </g>\n   <g id=\"text_14\">\n    <!-- 0.94 -->\n    <g style=\"fill:#ffffff;\" transform=\"translate(305.400572 63.735268)scale(0.11 -0.11)\">\n     <defs>\n      <path d=\"M 703 97 \nL 703 672 \nQ 941 559 1184 500 \nQ 1428 441 1663 441 \nQ 2288 441 2617 861 \nQ 2947 1281 2994 2138 \nQ 2813 1869 2534 1725 \nQ 2256 1581 1919 1581 \nQ 1219 1581 811 2004 \nQ 403 2428 403 3163 \nQ 403 3881 828 4315 \nQ 1253 4750 1959 4750 \nQ 2769 4750 3195 4129 \nQ 3622 3509 3622 2328 \nQ 3622 1225 3098 567 \nQ 2575 -91 1691 -91 \nQ 1453 -91 1209 -44 \nQ 966 3 703 97 \nz\nM 1959 2075 \nQ 2384 2075 2632 2365 \nQ 2881 2656 2881 3163 \nQ 2881 3666 2632 3958 \nQ 2384 4250 1959 4250 \nQ 1534 4250 1286 3958 \nQ 1038 3666 1038 3163 \nQ 1038 2656 1286 2365 \nQ 1534 2075 1959 2075 \nz\n\" id=\"DejaVuSans-39\" transform=\"scale(0.015625)\"/>\n     </defs>\n     <use xlink:href=\"#DejaVuSans-30\"/>\n     <use x=\"63.623047\" xlink:href=\"#DejaVuSans-2e\"/>\n     <use x=\"95.410156\" xlink:href=\"#DejaVuSans-39\"/>\n     <use x=\"159.033203\" xlink:href=\"#DejaVuSans-34\"/>\n    </g>\n   </g>\n   <g id=\"text_15\">\n    <!-- Training and Test Accuracies for Malignant and Benign Cells -->\n    <g style=\"opacity:0.8;\" transform=\"translate(18.748125 16.318125)scale(0.12 -0.12)\">\n     <defs>\n      <path id=\"DejaVuSans-20\" transform=\"scale(0.015625)\"/>\n      <path d=\"M 2906 2969 \nL 2906 4863 \nL 3481 4863 \nL 3481 0 \nL 2906 0 \nL 2906 525 \nQ 2725 213 2448 61 \nQ 2172 -91 1784 -91 \nQ 1150 -91 751 415 \nQ 353 922 353 1747 \nQ 353 2572 751 3078 \nQ 1150 3584 1784 3584 \nQ 2172 3584 2448 3432 \nQ 2725 3281 2906 2969 \nz\nM 947 1747 \nQ 947 1113 1208 752 \nQ 1469 391 1925 391 \nQ 2381 391 2643 752 \nQ 2906 1113 2906 1747 \nQ 2906 2381 2643 2742 \nQ 2381 3103 1925 3103 \nQ 1469 3103 1208 2742 \nQ 947 2381 947 1747 \nz\n\" id=\"DejaVuSans-64\" transform=\"scale(0.015625)\"/>\n      <path d=\"M 2188 4044 \nL 1331 1722 \nL 3047 1722 \nL 2188 4044 \nz\nM 1831 4666 \nL 2547 4666 \nL 4325 0 \nL 3669 0 \nL 3244 1197 \nL 1141 1197 \nL 716 0 \nL 50 0 \nL 1831 4666 \nz\n\" id=\"DejaVuSans-41\" transform=\"scale(0.015625)\"/>\n      <path d=\"M 3122 3366 \nL 3122 2828 \nQ 2878 2963 2633 3030 \nQ 2388 3097 2138 3097 \nQ 1578 3097 1268 2742 \nQ 959 2388 959 1747 \nQ 959 1106 1268 751 \nQ 1578 397 2138 397 \nQ 2388 397 2633 464 \nQ 2878 531 3122 666 \nL 3122 134 \nQ 2881 22 2623 -34 \nQ 2366 -91 2075 -91 \nQ 1284 -91 818 406 \nQ 353 903 353 1747 \nQ 353 2603 823 3093 \nQ 1294 3584 2113 3584 \nQ 2378 3584 2631 3529 \nQ 2884 3475 3122 3366 \nz\n\" id=\"DejaVuSans-63\" transform=\"scale(0.015625)\"/>\n      <path d=\"M 544 1381 \nL 544 3500 \nL 1119 3500 \nL 1119 1403 \nQ 1119 906 1312 657 \nQ 1506 409 1894 409 \nQ 2359 409 2629 706 \nQ 2900 1003 2900 1516 \nL 2900 3500 \nL 3475 3500 \nL 3475 0 \nL 2900 0 \nL 2900 538 \nQ 2691 219 2414 64 \nQ 2138 -91 1772 -91 \nQ 1169 -91 856 284 \nQ 544 659 544 1381 \nz\nM 1991 3584 \nL 1991 3584 \nz\n\" id=\"DejaVuSans-75\" transform=\"scale(0.015625)\"/>\n      <path d=\"M 2375 4863 \nL 2375 4384 \nL 1825 4384 \nQ 1516 4384 1395 4259 \nQ 1275 4134 1275 3809 \nL 1275 3500 \nL 2222 3500 \nL 2222 3053 \nL 1275 3053 \nL 1275 0 \nL 697 0 \nL 697 3053 \nL 147 3053 \nL 147 3500 \nL 697 3500 \nL 697 3744 \nQ 697 4328 969 4595 \nQ 1241 4863 1831 4863 \nL 2375 4863 \nz\n\" id=\"DejaVuSans-66\" transform=\"scale(0.015625)\"/>\n      <path d=\"M 1959 3097 \nQ 1497 3097 1228 2736 \nQ 959 2375 959 1747 \nQ 959 1119 1226 758 \nQ 1494 397 1959 397 \nQ 2419 397 2687 759 \nQ 2956 1122 2956 1747 \nQ 2956 2369 2687 2733 \nQ 2419 3097 1959 3097 \nz\nM 1959 3584 \nQ 2709 3584 3137 3096 \nQ 3566 2609 3566 1747 \nQ 3566 888 3137 398 \nQ 2709 -91 1959 -91 \nQ 1206 -91 779 398 \nQ 353 888 353 1747 \nQ 353 2609 779 3096 \nQ 1206 3584 1959 3584 \nz\n\" id=\"DejaVuSans-6f\" transform=\"scale(0.015625)\"/>\n      <path d=\"M 4122 4306 \nL 4122 3641 \nQ 3803 3938 3442 4084 \nQ 3081 4231 2675 4231 \nQ 1875 4231 1450 3742 \nQ 1025 3253 1025 2328 \nQ 1025 1406 1450 917 \nQ 1875 428 2675 428 \nQ 3081 428 3442 575 \nQ 3803 722 4122 1019 \nL 4122 359 \nQ 3791 134 3420 21 \nQ 3050 -91 2638 -91 \nQ 1578 -91 968 557 \nQ 359 1206 359 2328 \nQ 359 3453 968 4101 \nQ 1578 4750 2638 4750 \nQ 3056 4750 3426 4639 \nQ 3797 4528 4122 4306 \nz\n\" id=\"DejaVuSans-43\" transform=\"scale(0.015625)\"/>\n     </defs>\n     <use xlink:href=\"#DejaVuSans-54\"/>\n     <use x=\"46.333984\" xlink:href=\"#DejaVuSans-72\"/>\n     <use x=\"87.447266\" xlink:href=\"#DejaVuSans-61\"/>\n     <use x=\"148.726562\" xlink:href=\"#DejaVuSans-69\"/>\n     <use x=\"176.509766\" xlink:href=\"#DejaVuSans-6e\"/>\n     <use x=\"239.888672\" xlink:href=\"#DejaVuSans-69\"/>\n     <use x=\"267.671875\" xlink:href=\"#DejaVuSans-6e\"/>\n     <use x=\"331.050781\" xlink:href=\"#DejaVuSans-67\"/>\n     <use x=\"394.527344\" xlink:href=\"#DejaVuSans-20\"/>\n     <use x=\"426.314453\" xlink:href=\"#DejaVuSans-61\"/>\n     <use x=\"487.59375\" xlink:href=\"#DejaVuSans-6e\"/>\n     <use x=\"550.972656\" xlink:href=\"#DejaVuSans-64\"/>\n     <use x=\"614.449219\" xlink:href=\"#DejaVuSans-20\"/>\n     <use x=\"646.236328\" xlink:href=\"#DejaVuSans-54\"/>\n     <use x=\"690.320312\" xlink:href=\"#DejaVuSans-65\"/>\n     <use x=\"751.84375\" xlink:href=\"#DejaVuSans-73\"/>\n     <use x=\"803.943359\" xlink:href=\"#DejaVuSans-74\"/>\n     <use x=\"843.152344\" xlink:href=\"#DejaVuSans-20\"/>\n     <use x=\"874.939453\" xlink:href=\"#DejaVuSans-41\"/>\n     <use x=\"941.597656\" xlink:href=\"#DejaVuSans-63\"/>\n     <use x=\"996.578125\" xlink:href=\"#DejaVuSans-63\"/>\n     <use x=\"1051.558594\" xlink:href=\"#DejaVuSans-75\"/>\n     <use x=\"1114.9375\" xlink:href=\"#DejaVuSans-72\"/>\n     <use x=\"1156.050781\" xlink:href=\"#DejaVuSans-61\"/>\n     <use x=\"1217.330078\" xlink:href=\"#DejaVuSans-63\"/>\n     <use x=\"1272.310547\" xlink:href=\"#DejaVuSans-69\"/>\n     <use x=\"1300.09375\" xlink:href=\"#DejaVuSans-65\"/>\n     <use x=\"1361.617188\" xlink:href=\"#DejaVuSans-73\"/>\n     <use x=\"1413.716797\" xlink:href=\"#DejaVuSans-20\"/>\n     <use x=\"1445.503906\" xlink:href=\"#DejaVuSans-66\"/>\n     <use x=\"1480.708984\" xlink:href=\"#DejaVuSans-6f\"/>\n     <use x=\"1541.890625\" xlink:href=\"#DejaVuSans-72\"/>\n     <use x=\"1583.003906\" xlink:href=\"#DejaVuSans-20\"/>\n     <use x=\"1614.791016\" xlink:href=\"#DejaVuSans-4d\"/>\n     <use x=\"1701.070312\" xlink:href=\"#DejaVuSans-61\"/>\n     <use x=\"1762.349609\" xlink:href=\"#DejaVuSans-6c\"/>\n     <use x=\"1790.132812\" xlink:href=\"#DejaVuSans-69\"/>\n     <use x=\"1817.916016\" xlink:href=\"#DejaVuSans-67\"/>\n     <use x=\"1881.392578\" xlink:href=\"#DejaVuSans-6e\"/>\n     <use x=\"1944.771484\" xlink:href=\"#DejaVuSans-61\"/>\n     <use x=\"2006.050781\" xlink:href=\"#DejaVuSans-6e\"/>\n     <use x=\"2069.429688\" xlink:href=\"#DejaVuSans-74\"/>\n     <use x=\"2108.638672\" xlink:href=\"#DejaVuSans-20\"/>\n     <use x=\"2140.425781\" xlink:href=\"#DejaVuSans-61\"/>\n     <use x=\"2201.705078\" xlink:href=\"#DejaVuSans-6e\"/>\n     <use x=\"2265.083984\" xlink:href=\"#DejaVuSans-64\"/>\n     <use x=\"2328.560547\" xlink:href=\"#DejaVuSans-20\"/>\n     <use x=\"2360.347656\" xlink:href=\"#DejaVuSans-42\"/>\n     <use x=\"2428.951172\" xlink:href=\"#DejaVuSans-65\"/>\n     <use x=\"2490.474609\" xlink:href=\"#DejaVuSans-6e\"/>\n     <use x=\"2553.853516\" xlink:href=\"#DejaVuSans-69\"/>\n     <use x=\"2581.636719\" xlink:href=\"#DejaVuSans-67\"/>\n     <use x=\"2645.113281\" xlink:href=\"#DejaVuSans-6e\"/>\n     <use x=\"2708.492188\" xlink:href=\"#DejaVuSans-20\"/>\n     <use x=\"2740.279297\" xlink:href=\"#DejaVuSans-43\"/>\n     <use x=\"2810.103516\" xlink:href=\"#DejaVuSans-65\"/>\n     <use x=\"2871.626953\" xlink:href=\"#DejaVuSans-6c\"/>\n     <use x=\"2899.410156\" xlink:href=\"#DejaVuSans-6c\"/>\n     <use x=\"2927.193359\" xlink:href=\"#DejaVuSans-73\"/>\n    </g>\n   </g>\n  </g>\n </g>\n <defs>\n  <clipPath id=\"pe1672c8295\">\n   <rect height=\"217.44\" width=\"334.8\" x=\"30.103125\" y=\"22.318125\"/>\n  </clipPath>\n </defs>\n</svg>\n",
      "image/png": "[encoded data removed]"
     },
     "metadata": {
      "needs_background": "light"
     }
    }
   ],
   "metadata": {}
  },
  {
   "cell_type": "code",
   "execution_count": null,
   "source": [],
   "outputs": [],
   "metadata": {}
  }
 ],
 "metadata": {
  "orig_nbformat": 4,
  "language_info": {
   "name": "python",
   "version": "3.7.4",
   "mimetype": "text/x-python",
   "codemirror_mode": {
    "name": "ipython",
    "version": 3
   },
   "pygments_lexer": "ipython3",
   "nbconvert_exporter": "python",
   "file_extension": ".py"
  },
  "kernelspec": {
   "name": "python3",
   "display_name": "Python 3.7.4 64-bit"
  },
  "interpreter": {
   "hash": "aee8b7b246df8f9039afb4144a1f6fd8d2ca17a180786b69acc140d282b71a49"
  }
 },
 "nbformat": 4,
 "nbformat_minor": 2
}