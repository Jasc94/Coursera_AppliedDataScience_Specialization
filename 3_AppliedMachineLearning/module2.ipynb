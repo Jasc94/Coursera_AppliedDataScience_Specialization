{
 "cells": [
  {
   "cell_type": "markdown",
   "source": [
    "# Intro\n",
    "\n",
    "- Multi-class classification: the target can be only one value. Example: apple, orange, lemon\n",
    "- Multi-label classification: the target can be multiple differente values at the same time. Example: labels: computer sience, data science, etc...\n",
    "\n",
    "### Supervised learning models\n",
    "- KNN makes few assumptions about the structure of the data and it's quite accurate. However, it is also a bit unstable as changes in the data can strongly affect the predictions\n",
    "- Linear Regression on the other hand makes strong assumptions about the structure of the data and give stable but potentially inaccurate predictions\n",
    "\n",
    "### Model complexity vs performance\n",
    "\n",
    "The higher the model complexity the better it will fit the training data. However, at some point more details is just going to overfit the model and this won't generalize as good.\n",
    "\n",
    "<img src=\"resources/model_complexity.png\" width = \"400\">\n",
    "\n"
   ],
   "metadata": {}
  },
  {
   "cell_type": "code",
   "execution_count": 1,
   "source": [
    "import numpy as np\n",
    "import pandas as pd\n",
    "\n",
    "import matplotlib.pyplot as plt\n",
    "import seaborn as sns\n",
    "\n",
    "from sklearn.neighbors import KNeighborsClassifier\n",
    "\n",
    "from sklearn.model_selection import train_test_split"
   ],
   "outputs": [],
   "metadata": {}
  },
  {
   "cell_type": "code",
   "execution_count": null,
   "source": [],
   "outputs": [],
   "metadata": {}
  }
 ],
 "metadata": {
  "orig_nbformat": 4,
  "language_info": {
   "name": "python",
   "version": "3.7.4",
   "mimetype": "text/x-python",
   "codemirror_mode": {
    "name": "ipython",
    "version": 3
   },
   "pygments_lexer": "ipython3",
   "nbconvert_exporter": "python",
   "file_extension": ".py"
  },
  "kernelspec": {
   "name": "python3",
   "display_name": "Python 3.7.4 64-bit"
  },
  "interpreter": {
   "hash": "aee8b7b246df8f9039afb4144a1f6fd8d2ca17a180786b69acc140d282b71a49"
  }
 },
 "nbformat": 4,
 "nbformat_minor": 2
}