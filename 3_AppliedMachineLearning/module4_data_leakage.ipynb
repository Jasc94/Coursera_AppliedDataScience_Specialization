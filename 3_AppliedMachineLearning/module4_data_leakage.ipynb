{
 "cells": [
  {
   "cell_type": "markdown",
   "source": [
    "# Data Leakage\n",
    "\n",
    "- It describes the situation where the data we're using to train the machine learning algorithm happens to include unexpected extra information about the very thing we're trying yo predict.\n",
    "- It occurs anytime that information is introduced about the target label or value during training that would not legitimately be available during actual use\n",
    "- If the model performance is too good to be true, it probably is due to \"giveaway\" features\n",
    "- Leakage can cause the model to learn a sub-optimal solution that does much worse in actual deployment than a model without leak.\n",
    "- It is one of the most serious and widespread problems in data mining and machine learning\n",
    "\n",
    "## Obvious examples\n",
    "- Including the label to be predicted as a feature\n",
    "- Including test data with training data\n",
    "\n",
    "## Real examples\n",
    "\n",
    "<img src=\"resources/data_leakage_examples.png\" width = \"600\">\n",
    "\n",
    "## Leakage types\n",
    "Leakage in **training data**\n",
    "- Performing datapreprocessing using parameters or results from analyzing the entire dataset:\n",
    "    - Normalizing and rescaling\n",
    "    - Detecting and removing outliers\n",
    "    - Estimating missing values\n",
    "    - Feature selection\n",
    "- Time-series datasets: using records from the future when computing features for the current prediction\n",
    "- Errors in data values/gathering or missing variable indicators (eg eh special value 999)can encode information about missing data that reveals information about the future\n",
    "\n",
    "Leakage in **features**\n",
    "- Removing variables that are no legitimate without also removing variables that encode the same or related information (eg diagnosis info may still exist in patient ID)\n",
    "- Reversing of intentional randomization or anonymization that reveals specific informatino about eg users not legitimately available in actual use\n",
    "\n",
    "## Detecting data leakage\n",
    "\n",
    "<img src=\"resources/data_leakage_detection.png\" width = \"600\">\n",
    "\n",
    "## Minimizing data leakage\n",
    "\n",
    "<img src=\"resources/data_leakage_minimization.png\" width = \"600\">"
   ],
   "metadata": {}
  }
 ],
 "metadata": {
  "orig_nbformat": 4,
  "language_info": {
   "name": "python"
  }
 },
 "nbformat": 4,
 "nbformat_minor": 2
}