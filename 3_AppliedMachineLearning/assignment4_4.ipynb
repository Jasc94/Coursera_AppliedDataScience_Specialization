{
 "cells": [
  {
   "cell_type": "code",
   "execution_count": 2,
   "source": [
    "import numpy as np\n",
    "import pandas as pd\n",
    "\n",
    "import matplotlib.pyplot as plt\n",
    "import seaborn as sns\n",
    "\n",
    "import warnings\n",
    "\n",
    "warnings.filterwarnings(\"ignore\")"
   ],
   "outputs": [],
   "metadata": {}
  },
  {
   "cell_type": "markdown",
   "source": [
    "# Packing everything into one function"
   ],
   "metadata": {}
  },
  {
   "cell_type": "code",
   "execution_count": 3,
   "source": [
    "def blight_model():\n",
    "    #################### DATA PROCESSING ####################\n",
    "    # Load dataframes\n",
    "    train = pd.read_csv(\"data/train.csv\", index_col = 0)\n",
    "    test = pd.read_csv(\"data/test.csv\", index_col = 0)\n",
    "\n",
    "    # Get the ids to differentiate them after joining\n",
    "    train_ids = list(train.index)\n",
    "    test_ids = list(test.index)\n",
    "\n",
    "    # Join dataframes vertically\n",
    "    full = pd.concat([train, test], axis = 0)\n",
    "\n",
    "    # Variables to keep\n",
    "    to_keep = [\"ticket_issued_date\", \"hearing_date\", \"violation_code\", \"judgment_amount\", \"compliance\"]\n",
    "    full = full.loc[:, to_keep]\n",
    "\n",
    "    # Datetime variables processing\n",
    "    full.ticket_issued_date = pd.to_datetime(full.ticket_issued_date)\n",
    "    full.hearing_date = pd.to_datetime(full.hearing_date)\n",
    "\n",
    "    full[\"hearing_month\"] = full.hearing_date.dt.month\n",
    "    full[\"ticket_issued_month\"] = full.ticket_issued_date.dt.month\n",
    "\n",
    "    full.hearing_month = full.hearing_month.fillna(0)\n",
    "\n",
    "    full = full.drop([\"hearing_date\", \"ticket_issued_date\"], axis = 1)\n",
    "\n",
    "    # Encoding object variables\n",
    "    from sklearn.preprocessing import LabelEncoder\n",
    "    full.violation_code = LabelEncoder().fit_transform(full.violation_code)\n",
    "    \n",
    "    # I split back the full dataframe into train and test\n",
    "    # I add dropna to remove those rows where compliance is null, meaning that the subject\n",
    "    # wasn't responsible after all\n",
    "    train2 = full.loc[train_ids, :].dropna()\n",
    "\n",
    "    # From test I remove compliance as I don't have the info for those rows\n",
    "    # In fact, it is what I'm trying to predict\n",
    "    test2 = full.loc[test_ids, :].drop(\"compliance\", axis = 1)\n",
    "\n",
    "    #################### MODEL SELECTION AND TRAINING ####################\n",
    "    # Libraries\n",
    "    from sklearn.model_selection import train_test_split\n",
    "    from sklearn.preprocessing import MinMaxScaler\n",
    "    from sklearn.ensemble import RandomForestClassifier\n",
    "\n",
    "    #### 1) General parameters\n",
    "    seed = 42\n",
    "    scaler = MinMaxScaler()\n",
    "\n",
    "    #### 2) Train-test split\n",
    "    X = train2.drop(\"compliance\", axis = 1)\n",
    "    X = scaler.fit_transform(X)\n",
    "    y = train2.compliance\n",
    "\n",
    "    X_train, X_test, y_train, y_test = train_test_split(X, y, random_state = seed)\n",
    "\n",
    "    #### 3) Model selection, training and predictions\n",
    "    model = RandomForestClassifier(n_jobs = -1, random_state = seed)\n",
    "\n",
    "    model.fit(X_train, y_train)\n",
    "\n",
    "    predictions = model.predict_proba(test2)\n",
    "    # predict_proba outputs 2 probabilities: of being negative and of being positive\n",
    "    # As I only need the second one, I do some further processing\n",
    "    predictions = [prediction[1] for prediction in predictions]\n",
    "\n",
    "    predictions = pd.Series(predictions, index = test_ids)\n",
    "    predictions.name = \"compliance\"\n",
    "    predictions.rename_axis(\"ticket_id\", inplace = True)\n",
    "\n",
    "    return predictions\n",
    "\n",
    "blight_model().shape"
   ],
   "outputs": [
    {
     "output_type": "execute_result",
     "data": {
      "text/plain": [
       "(61001,)"
      ]
     },
     "metadata": {},
     "execution_count": 3
    }
   ],
   "metadata": {}
  },
  {
   "cell_type": "code",
   "execution_count": null,
   "source": [],
   "outputs": [],
   "metadata": {}
  }
 ],
 "metadata": {
  "orig_nbformat": 4,
  "language_info": {
   "name": "python",
   "version": "3.7.4",
   "mimetype": "text/x-python",
   "codemirror_mode": {
    "name": "ipython",
    "version": 3
   },
   "pygments_lexer": "ipython3",
   "nbconvert_exporter": "python",
   "file_extension": ".py"
  },
  "kernelspec": {
   "name": "python3",
   "display_name": "Python 3.7.4 64-bit"
  },
  "interpreter": {
   "hash": "aee8b7b246df8f9039afb4144a1f6fd8d2ca17a180786b69acc140d282b71a49"
  }
 },
 "nbformat": 4,
 "nbformat_minor": 2
}