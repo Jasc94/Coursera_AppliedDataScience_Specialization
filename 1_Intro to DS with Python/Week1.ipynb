{
 "cells": [
  {
   "cell_type": "code",
   "execution_count": 1,
   "metadata": {},
   "outputs": [
    {
     "name": "stdout",
     "output_type": "stream",
     "text": [
      "5\n"
     ]
    }
   ],
   "source": [
    "x = 5\n",
    "print(x)"
   ]
  },
  {
   "cell_type": "code",
   "execution_count": 7,
   "metadata": {},
   "outputs": [
    {
     "name": "stdout",
     "output_type": "stream",
     "text": [
      "10\n"
     ]
    }
   ],
   "source": [
    "y = 10\n",
    "print(y)"
   ]
  },
  {
   "cell_type": "code",
   "execution_count": 5,
   "metadata": {},
   "outputs": [
    {
     "name": "stdout",
     "output_type": "stream",
     "text": [
      "4950\n"
     ]
    }
   ],
   "source": [
    "m = 0\n",
    "for i in range(0,100):\n",
    "    m = m + i    \n",
    "print(m)"
   ]
  },
  {
   "cell_type": "code",
   "execution_count": 6,
   "metadata": {
    "scrolled": true
   },
   "outputs": [
    {
     "name": "stdout",
     "output_type": "stream",
     "text": [
      "100\n"
     ]
    }
   ],
   "source": [
    "# Comment\n",
    "\n",
    "i = 0\n",
    "while i < 100:\n",
    "    i = i + 1\n",
    "\n",
    "print(i)"
   ]
  },
  {
   "cell_type": "code",
   "execution_count": 8,
   "metadata": {},
   "outputs": [
    {
     "data": {
      "text/plain": [
       "5"
      ]
     },
     "execution_count": 8,
     "metadata": {},
     "output_type": "execute_result"
    }
   ],
   "source": [
    "x"
   ]
  },
  {
   "cell_type": "code",
   "execution_count": 12,
   "metadata": {},
   "outputs": [
    {
     "data": {
      "text/plain": [
       "6"
      ]
     },
     "execution_count": 12,
     "metadata": {},
     "output_type": "execute_result"
    }
   ],
   "source": [
    "def add_numbers(x, y, z = None):\n",
    "    if (z == None):\n",
    "        return x + y\n",
    "    else:\n",
    "        return x + y + z\n",
    "\n",
    "add_numbers(2, 2, 2)"
   ]
  },
  {
   "cell_type": "code",
   "execution_count": 16,
   "metadata": {},
   "outputs": [
    {
     "name": "stdout",
     "output_type": "stream",
     "text": [
      "3\n",
      "-1\n"
     ]
    }
   ],
   "source": [
    "def do_math(a, b, kind = 'add'):\n",
    "    if kind == 'add':\n",
    "        return a + b\n",
    "    else:\n",
    "        return a - b\n",
    "    \n",
    "result_a = do_math(1, 2)\n",
    "result_b = do_math(1, 2, 'else')\n",
    "\n",
    "print(result_a)\n",
    "print(result_b)"
   ]
  },
  {
   "cell_type": "code",
   "execution_count": 18,
   "metadata": {},
   "outputs": [
    {
     "data": {
      "text/plain": [
       "tuple"
      ]
     },
     "execution_count": 18,
     "metadata": {},
     "output_type": "execute_result"
    }
   ],
   "source": [
    "t = (1, 'a', 2.0)\n",
    "type(t)"
   ]
  },
  {
   "cell_type": "code",
   "execution_count": 19,
   "metadata": {},
   "outputs": [
    {
     "name": "stdout",
     "output_type": "stream",
     "text": [
      "1\n",
      "1\n",
      "word\n",
      "2.37\n"
     ]
    }
   ],
   "source": [
    "l = [1, '1', 'word', 2.37]\n",
    "\n",
    "for i in l:\n",
    "    print(i)"
   ]
  },
  {
   "cell_type": "code",
   "execution_count": 20,
   "metadata": {},
   "outputs": [
    {
     "name": "stdout",
     "output_type": "stream",
     "text": [
      "1\n",
      "1\n",
      "word\n",
      "2.37\n"
     ]
    }
   ],
   "source": [
    "i = 0\n",
    "while i != len(l):\n",
    "    print(l[i])\n",
    "    i = i +1"
   ]
  },
  {
   "cell_type": "markdown",
   "metadata": {},
   "source": [
    "---------------------------------x--------------------------------------"
   ]
  },
  {
   "cell_type": "code",
   "execution_count": 22,
   "metadata": {},
   "outputs": [
    {
     "data": {
      "text/plain": [
       "True"
      ]
     },
     "execution_count": 22,
     "metadata": {},
     "output_type": "execute_result"
    }
   ],
   "source": [
    "# We can use the 'in' operator to find if an element is part of a list\n",
    "'a' in t"
   ]
  },
  {
   "cell_type": "code",
   "execution_count": 25,
   "metadata": {},
   "outputs": [
    {
     "name": "stdout",
     "output_type": "stream",
     "text": [
      "Thi\n",
      " a string\n",
      " a strin\n"
     ]
    }
   ],
   "source": [
    "# Slicing\n",
    "st = 'This is a string'\n",
    "\n",
    "a1 = st[:3]  # From beginning to 3\n",
    "a2 = st[7:]  # From 3 to end\n",
    "a3 = st[7:-1]\n",
    "\n",
    "print(a1)\n",
    "print(a2)\n",
    "print(a3)"
   ]
  },
  {
   "cell_type": "code",
   "execution_count": 27,
   "metadata": {},
   "outputs": [
    {
     "name": "stdout",
     "output_type": "stream",
     "text": [
      "Christopher Brooks\n",
      "ChristopherChristopherChristopher\n",
      "True\n"
     ]
    }
   ],
   "source": [
    "# Strings are just a list of characters in Python\n",
    "# Hence, we can use same methods in lists and strings\n",
    "\n",
    "firstname = 'Christopher'\n",
    "lastname ='Brooks'\n",
    "\n",
    "print(firstname + ' ' + lastname)\n",
    "print(firstname * 3)\n",
    "print('Chris' in firstname)  # We can find a substring in a string"
   ]
  },
  {
   "cell_type": "code",
   "execution_count": 29,
   "metadata": {},
   "outputs": [
    {
     "name": "stdout",
     "output_type": "stream",
     "text": [
      "Jonathan Caceres\n"
     ]
    }
   ],
   "source": [
    "# We can split the string based on patterns and pick a specific element\n",
    "firstname = 'Jonathan Alberto Suarez Caceres'.split()[0]\n",
    "lastname = 'Jonathan Alberto Suarez Caceres'.split()[-1]\n",
    "\n",
    "print(firstname + ' ' + lastname)"
   ]
  },
  {
   "cell_type": "code",
   "execution_count": 30,
   "metadata": {},
   "outputs": [
    {
     "data": {
      "text/plain": [
       "'brooksch@umich.edu'"
      ]
     },
     "execution_count": 30,
     "metadata": {},
     "output_type": "execute_result"
    }
   ],
   "source": [
    "# Dictionaries are labeled collections that don't have an order\n",
    "# It is often called a map in other languages\n",
    "\n",
    "dic = {'Christopher Brooks': 'brooksch@umich.edu', 'Bill Gates': 'billg@microsoft.com'}\n",
    "dic['Christopher Brooks']"
   ]
  },
  {
   "cell_type": "code",
   "execution_count": 32,
   "metadata": {},
   "outputs": [
    {
     "name": "stdout",
     "output_type": "stream",
     "text": [
      "{'Christopher Brooks': 'brooksch@umich.edu', 'Bill Gates': 'billg@microsoft.com', 'Kevin Collins-Thompson': None}\n"
     ]
    }
   ],
   "source": [
    "# Adding elements to the dictionary\n",
    "dic['Kevin Collins-Thompson'] = None\n",
    "print(dic)"
   ]
  },
  {
   "cell_type": "code",
   "execution_count": 34,
   "metadata": {},
   "outputs": [
    {
     "name": "stdout",
     "output_type": "stream",
     "text": [
      "brooksch@umich.edu\n",
      "billg@microsoft.com\n",
      "None\n"
     ]
    }
   ],
   "source": [
    "# Iterating in dicts through the keys\n",
    "for name in dic:\n",
    "    print(dic[name])"
   ]
  },
  {
   "cell_type": "code",
   "execution_count": 35,
   "metadata": {},
   "outputs": [
    {
     "name": "stdout",
     "output_type": "stream",
     "text": [
      "brooksch@umich.edu\n",
      "billg@microsoft.com\n",
      "None\n"
     ]
    }
   ],
   "source": [
    "# Iterating through the values\n",
    "for email in dic.values():\n",
    "    print(email)"
   ]
  },
  {
   "cell_type": "code",
   "execution_count": 39,
   "metadata": {},
   "outputs": [
    {
     "name": "stdout",
     "output_type": "stream",
     "text": [
      "Christopher Brooks  :  brooksch@umich.edu\n",
      "Bill Gates  :  billg@microsoft.com\n",
      "Kevin Collins-Thompson  :  None\n"
     ]
    }
   ],
   "source": [
    "# Iterating dicts through both keys and values\n",
    "# This is 'unpacking'\n",
    "for name, email in dic.items():\n",
    "    print(name, ' : ', email)"
   ]
  },
  {
   "cell_type": "code",
   "execution_count": 40,
   "metadata": {},
   "outputs": [],
   "source": [
    "# We can unpack values of a list, tuple, dict in variables\n",
    "t2 = ('Jonathan', 'Suarez', 'jsuarez@example.com')\n",
    "fname, lname, email = t2"
   ]
  },
  {
   "cell_type": "code",
   "execution_count": 41,
   "metadata": {},
   "outputs": [
    {
     "data": {
      "text/plain": [
       "'Jonathan'"
      ]
     },
     "execution_count": 41,
     "metadata": {},
     "output_type": "execute_result"
    }
   ],
   "source": [
    "fname"
   ]
  },
  {
   "cell_type": "code",
   "execution_count": 42,
   "metadata": {},
   "outputs": [
    {
     "data": {
      "text/plain": [
       "'Suarez'"
      ]
     },
     "execution_count": 42,
     "metadata": {},
     "output_type": "execute_result"
    }
   ],
   "source": [
    "lname"
   ]
  },
  {
   "cell_type": "code",
   "execution_count": 43,
   "metadata": {},
   "outputs": [
    {
     "data": {
      "text/plain": [
       "'jsuarez@example.com'"
      ]
     },
     "execution_count": 43,
     "metadata": {},
     "output_type": "execute_result"
    }
   ],
   "source": [
    "email"
   ]
  },
  {
   "cell_type": "markdown",
   "metadata": {},
   "source": [
    "---------------------------------x--------------------------------------"
   ]
  },
  {
   "cell_type": "code",
   "execution_count": null,
   "metadata": {},
   "outputs": [],
   "source": [
    "# Python 3 uses unicode by default"
   ]
  },
  {
   "cell_type": "code",
   "execution_count": 44,
   "metadata": {},
   "outputs": [
    {
     "name": "stdout",
     "output_type": "stream",
     "text": [
      "Chris34\n"
     ]
    }
   ],
   "source": [
    "n_st = 'Chris' + str(34)\n",
    "print(n_st)"
   ]
  },
  {
   "cell_type": "code",
   "execution_count": 45,
   "metadata": {},
   "outputs": [
    {
     "name": "stdout",
     "output_type": "stream",
     "text": [
      "Chris bought 4 item(s) at a price of 3.24 each for a total of 12.96\n"
     ]
    }
   ],
   "source": [
    "sales_record = {'price' : 3.24,\n",
    "               'num_items' : 4,\n",
    "               'person' : 'Chris'}\n",
    "\n",
    "sales_statement = '{} bought {} item(s) at a price of {} each for a total of {}'\n",
    "\n",
    "print(sales_statement.format(sales_record['person'],\n",
    "                            sales_record['num_items'],\n",
    "                            sales_record['price'],\n",
    "                            sales_record['num_items']*sales_record['price']))"
   ]
  },
  {
   "cell_type": "code",
   "execution_count": null,
   "metadata": {},
   "outputs": [],
   "source": []
  }
 ],
 "metadata": {
  "kernelspec": {
   "display_name": "Python 3",
   "language": "python",
   "name": "python3"
  },
  "language_info": {
   "codemirror_mode": {
    "name": "ipython",
    "version": 3
   },
   "file_extension": ".py",
   "mimetype": "text/x-python",
   "name": "python",
   "nbconvert_exporter": "python",
   "pygments_lexer": "ipython3",
   "version": "3.8.5"
  }
 },
 "nbformat": 4,
 "nbformat_minor": 4
}
