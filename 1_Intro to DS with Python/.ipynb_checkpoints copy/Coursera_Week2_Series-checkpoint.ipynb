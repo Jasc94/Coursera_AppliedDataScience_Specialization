{
 "cells": [
  {
   "cell_type": "markdown",
   "metadata": {},
   "source": [
    "# Series Data Structure"
   ]
  },
  {
   "cell_type": "markdown",
   "metadata": {},
   "source": [
    "The Series is a cross between a list and a dictionary. The items are all stored in an order and there's labels with which we can retrieve them. An easy way to visualize this is two columns of data. The first is the special index (like keys in a dictionary) and the second is the actual data. It's important to note that the data column hasa label of its own and can be retrieved using the .name attribute. This is different than with dictionaries and is useful when it comes to merging multiple columns of data"
   ]
  },
  {
   "cell_type": "code",
   "execution_count": 1,
   "metadata": {},
   "outputs": [],
   "source": [
    "import pandas as pd"
   ]
  },
  {
   "cell_type": "code",
   "execution_count": 2,
   "metadata": {},
   "outputs": [
    {
     "data": {
      "text/plain": [
       "0    Alice\n",
       "1     Jack\n",
       "2    Molly\n",
       "dtype: object"
      ]
     },
     "execution_count": 2,
     "metadata": {},
     "output_type": "execute_result"
    }
   ],
   "source": [
    "# We can create a series by passing in a list of values. When we do this, Pandas\n",
    "# automatically assigns an index starting with zero and sets the anem of the Series to None.\n",
    "\n",
    "# One of the easiest ways to create a Series is to use an array-like object, like a list.\n",
    "students = ['Alice', 'Jack', 'Molly']\n",
    "\n",
    "# Now we just call the Series funciton in pandas and pass in the 'students'\n",
    "pd.Series(students)"
   ]
  },
  {
   "cell_type": "code",
   "execution_count": 3,
   "metadata": {},
   "outputs": [],
   "source": [
    "# The result is a Series object\n",
    "# Pandas has automatically identified the type of data in this Series as 'object' and set the\n",
    "# dtype parameter as appropiate.\n",
    "# The values are indexed with integers, starting at zero"
   ]
  },
  {
   "cell_type": "code",
   "execution_count": 4,
   "metadata": {},
   "outputs": [
    {
     "data": {
      "text/plain": [
       "0    1\n",
       "1    2\n",
       "2    3\n",
       "dtype: int64"
      ]
     },
     "execution_count": 4,
     "metadata": {},
     "output_type": "execute_result"
    }
   ],
   "source": [
    "# We can also use whole numbers, in which case the type would be int64\n",
    "# Underneath pandas stores series values in a typed array using the Numpy library. This offer\n",
    "# significant speedup when compared versus traditional python lists\n",
    "\n",
    "numbers = [1, 2, 3]\n",
    "pd.Series(numbers)"
   ]
  },
  {
   "cell_type": "code",
   "execution_count": 5,
   "metadata": {},
   "outputs": [
    {
     "data": {
      "text/plain": [
       "0    Alice\n",
       "1     Jack\n",
       "2     None\n",
       "dtype: object"
      ]
     },
     "execution_count": 5,
     "metadata": {},
     "output_type": "execute_result"
    }
   ],
   "source": [
    "# How Numpy and thus Pandas handle missing data?\n",
    "\n",
    "# Underneath, pandas does some type conversion. If we create a list of strings and we have one\n",
    "# element, a None type, pandas inserts it as a None nd uses the type 'object' for the\n",
    "# underlying array\n",
    "\n",
    "students2 = ['Alice', 'Jack', None]\n",
    "\n",
    "pd.Series(students2)"
   ]
  },
  {
   "cell_type": "code",
   "execution_count": 6,
   "metadata": {},
   "outputs": [
    {
     "data": {
      "text/plain": [
       "0    1.0\n",
       "1    2.0\n",
       "2    NaN\n",
       "dtype: float64"
      ]
     },
     "execution_count": 6,
     "metadata": {},
     "output_type": "execute_result"
    }
   ],
   "source": [
    "# However, if we create a list of numbers (integers or floats) and put in the None type,\n",
    "# pandas automatically converts this to a special floating point value designated as NaN,\n",
    "# which stands for 'Not a Number'\n",
    "\n",
    "numbers = [1, 2, None]\n",
    "pd.Series(numbers)"
   ]
  },
  {
   "cell_type": "code",
   "execution_count": 7,
   "metadata": {},
   "outputs": [],
   "source": [
    "# This to mention:\n",
    "# 1) NaN is a different value\n",
    "# 2) Underneath pandas represents NaN as a floating point number, and because integers can be\n",
    "# typecast to floats, pandas went and converted out integers to floats.\n",
    "\n",
    "# So, when we're wondering why the list of integers we put into a Series is not floats, it's\n",
    "# probably because there is some missing data"
   ]
  },
  {
   "cell_type": "code",
   "execution_count": 8,
   "metadata": {},
   "outputs": [
    {
     "data": {
      "text/plain": [
       "False"
      ]
     },
     "execution_count": 8,
     "metadata": {},
     "output_type": "execute_result"
    }
   ],
   "source": [
    "# None and NaN might be used by the data scientists in the same way, to denote missing data,\n",
    "# but underneath these are not represented by Pandas in the same way\n",
    "\n",
    "# NaN is NOT equivalent to None and when we try the equality test, the result is False.\n",
    "\n",
    "import numpy as np\n",
    "\n",
    "np.nan == None"
   ]
  },
  {
   "cell_type": "code",
   "execution_count": 9,
   "metadata": {},
   "outputs": [
    {
     "data": {
      "text/plain": [
       "False"
      ]
     },
     "execution_count": 9,
     "metadata": {},
     "output_type": "execute_result"
    }
   ],
   "source": [
    "# We can't do an equality test of NaN to itself either. When we do, the answer is always false\n",
    "\n",
    "np.nan == np.nan"
   ]
  },
  {
   "cell_type": "code",
   "execution_count": 10,
   "metadata": {},
   "outputs": [
    {
     "data": {
      "text/plain": [
       "True"
      ]
     },
     "execution_count": 10,
     "metadata": {},
     "output_type": "execute_result"
    }
   ],
   "source": [
    "# Instead, we need to use special funcitons to test for the presence of NaN, such as the\n",
    "# Numpy library isnan()\n",
    "\n",
    "np.isnan(np.nan)"
   ]
  },
  {
   "cell_type": "code",
   "execution_count": 11,
   "metadata": {},
   "outputs": [],
   "source": [
    "# To keep in mind: when we see NaN, its meaning is similar to None, but it's a numeric value\n",
    "# and treated differently for efficiency reasons"
   ]
  },
  {
   "cell_type": "code",
   "execution_count": 12,
   "metadata": {},
   "outputs": [
    {
     "data": {
      "text/plain": [
       "Alice      Physics\n",
       "Jack     Chemistry\n",
       "Molly      English\n",
       "dtype: object"
      ]
     },
     "execution_count": 12,
     "metadata": {},
     "output_type": "execute_result"
    }
   ],
   "source": [
    "# Other ways of creating pandas Series\n",
    "\n",
    "# A Series can be created directly from dictionary data. If we do this, the index is\n",
    "# automatically assigned to the keys of the dictionary that we provided.\n",
    "\n",
    "students_courses = {'Alice' : 'Physics',\n",
    "                  'Jack' : 'Chemistry',\n",
    "                  'Molly' : 'English'}\n",
    "\n",
    "s = pd.Series(students_courses)\n",
    "s"
   ]
  },
  {
   "cell_type": "code",
   "execution_count": 13,
   "metadata": {},
   "outputs": [],
   "source": [
    "# Since it was string data, pandas set the data type of the Series to 'object'"
   ]
  },
  {
   "cell_type": "code",
   "execution_count": 14,
   "metadata": {},
   "outputs": [
    {
     "data": {
      "text/plain": [
       "Index(['Alice', 'Jack', 'Molly'], dtype='object')"
      ]
     },
     "execution_count": 14,
     "metadata": {},
     "output_type": "execute_result"
    }
   ],
   "source": [
    "# Once the series has been created, we can get the index object using the index attribute\n",
    "\n",
    "s.index"
   ]
  },
  {
   "cell_type": "code",
   "execution_count": null,
   "metadata": {},
   "outputs": [],
   "source": [
    "# A lot of things in pandas are implemented as numpy arrays and have the dtype value set.\n",
    "# This is true of indices, and here pandas infered that we were using objects for the index"
   ]
  },
  {
   "cell_type": "code",
   "execution_count": 15,
   "metadata": {},
   "outputs": [
    {
     "name": "stdout",
     "output_type": "stream",
     "text": [
      "Alice            3\n",
      "5        Chemistry\n",
      "17.1       English\n",
      "dtype: object\n",
      "\n",
      "\n",
      "Index(['Alice', 5, 17.1], dtype='object')\n"
     ]
    }
   ],
   "source": [
    "# My own example\n",
    "\n",
    "test = {'Alice' : 3,\n",
    "        5 : 'Chemistry',\n",
    "        17.1 : 'English'}\n",
    "\n",
    "test_s = pd.Series(test)\n",
    "\n",
    "print(test_s)\n",
    "print('\\n')\n",
    "print(test_s.index)"
   ]
  },
  {
   "cell_type": "code",
   "execution_count": 16,
   "metadata": {},
   "outputs": [
    {
     "data": {
      "text/plain": [
       "0    (Alice, Brown)\n",
       "1     (Jack, White)\n",
       "2    (Molly, Green)\n",
       "dtype: object"
      ]
     },
     "execution_count": 16,
     "metadata": {},
     "output_type": "execute_result"
    }
   ],
   "source": [
    "# The dtype of object is not just for strings, but for arbitrary objects.\n",
    "# Let's do an example with tuples\n",
    "\n",
    "students2 = [('Alice', 'Brown'), ('Jack', 'White'), ('Molly', 'Green')]\n",
    "pd.Series(students2)"
   ]
  },
  {
   "cell_type": "code",
   "execution_count": 17,
   "metadata": {},
   "outputs": [],
   "source": [
    "# Each of the tuples is stored in the series object, and the type is object"
   ]
  },
  {
   "cell_type": "code",
   "execution_count": 18,
   "metadata": {},
   "outputs": [
    {
     "data": {
      "text/plain": [
       "Alice      Physics\n",
       "Jack     Chemistry\n",
       "Molly      English\n",
       "dtype: object"
      ]
     },
     "execution_count": 18,
     "metadata": {},
     "output_type": "execute_result"
    }
   ],
   "source": [
    "# We can also separate our index creation from the data by passing in the index as a list\n",
    "# explicitly to the Series\n",
    "\n",
    "courses = ['Physics', 'Chemistry', 'English']\n",
    "names = ['Alice', 'Jack', 'Molly']\n",
    "\n",
    "s2 = pd.Series(courses, index = names)\n",
    "s2"
   ]
  },
  {
   "cell_type": "code",
   "execution_count": 20,
   "metadata": {},
   "outputs": [
    {
     "data": {
      "text/plain": [
       "Alice    Physics\n",
       "Molly    English\n",
       "Sam          NaN\n",
       "dtype: object"
      ]
     },
     "execution_count": 20,
     "metadata": {},
     "output_type": "execute_result"
    }
   ],
   "source": [
    "# What happens if our list of values in the index object are not aligned with the keys in our\n",
    "# dictionary for creating the series?\n",
    "\n",
    "# Then, pandas overrides the automatic creation to favor only and all of the indices values\n",
    "# that we provided. So it will ignore from our dic\n",
    "tionary all keys which are not in our index,\n",
    "# and pandas will add None or NaN type values for any index value we provide which is not in\n",
    "# out dictionary key list\n",
    "\n",
    "students_courses2 = {'Alice' : 'Physics',\n",
    "                  'Jack' : 'Chemistry',\n",
    "                  'Molly' : 'English'}\n",
    "\n",
    "s3 = pd.Series(students_courses2, index = ['Alice', 'Molly', 'Sam'])\n",
    "s3"
   ]
  },
  {
   "cell_type": "code",
   "execution_count": 21,
   "metadata": {},
   "outputs": [],
   "source": [
    "# The result is that the Series object doesn't have Jack in it, even though he was in our\n",
    "# original dataset, but it explicitly does have Sam in it as a missing value"
   ]
  },
  {
   "cell_type": "markdown",
   "metadata": {},
   "source": [
    "## Querying Series"
   ]
  },
  {
   "cell_type": "code",
   "execution_count": 22,
   "metadata": {},
   "outputs": [
    {
     "data": {
      "text/plain": [
       "Alice      Physics\n",
       "Jack     Chemistry\n",
       "Molly      English\n",
       "Sam        History\n",
       "dtype: object"
      ]
     },
     "execution_count": 22,
     "metadata": {},
     "output_type": "execute_result"
    }
   ],
   "source": [
    "# A pandas Series can be queried either by the **index position** or the **index label**. If\n",
    "# we don't give an index to the Series when querying, the position and the label are \n",
    "# effectively the same values.\n",
    "\n",
    "# To query by **numeric location** starting at zero --> .iloc attribute\n",
    "# To query by **index label** -> .loc attribute\n",
    "\n",
    "students_classes = {'Alice' : 'Physics',\n",
    "                  'Jack' : 'Chemistry',\n",
    "                  'Molly' : 'English',\n",
    "                   'Sam' : 'History'}\n",
    "\n",
    "s4 = pd.Series(students_classes)\n",
    "s4"
   ]
  },
  {
   "cell_type": "code",
   "execution_count": 24,
   "metadata": {},
   "outputs": [
    {
     "data": {
      "text/plain": [
       "'History'"
      ]
     },
     "execution_count": 24,
     "metadata": {},
     "output_type": "execute_result"
    }
   ],
   "source": [
    "# For the fourth entry, we'd use the **iloc** attribute with the parameter 3\n",
    "s4.iloc[3]"
   ]
  },
  {
   "cell_type": "code",
   "execution_count": 25,
   "metadata": {},
   "outputs": [
    {
     "data": {
      "text/plain": [
       "'English'"
      ]
     },
     "execution_count": 25,
     "metadata": {},
     "output_type": "execute_result"
    }
   ],
   "source": [
    "# To see what class Molly has, we'd use the **loc** attribute with a parameter of Molly\n",
    "s4.loc['Molly']"
   ]
  },
  {
   "cell_type": "code",
   "execution_count": 26,
   "metadata": {},
   "outputs": [],
   "source": [
    "# Keep in mind that iloc and loc are NOT methods, they are attributes. So we don't use\n",
    "# parentheses to query them, but square brackets instead, which is called the indexing operator.\n",
    "\n",
    "# In Python this calls get or set for an item depending on the context of its use."
   ]
  },
  {
   "cell_type": "code",
   "execution_count": 27,
   "metadata": {},
   "outputs": [
    {
     "data": {
      "text/plain": [
       "'History'"
      ]
     },
     "execution_count": 27,
     "metadata": {},
     "output_type": "execute_result"
    }
   ],
   "source": [
    "# Pandas tries to make our code more readable and provides a sort of smart syntax using the\n",
    "# indexing operator directly on the Series itself\n",
    "\n",
    "# If we pass in an integer parameter, the operator will behave as if we want it to query via\n",
    "# the iloc attribute\n",
    "s4[3]"
   ]
  },
  {
   "cell_type": "code",
   "execution_count": 28,
   "metadata": {},
   "outputs": [
    {
     "data": {
      "text/plain": [
       "'English'"
      ]
     },
     "execution_count": 28,
     "metadata": {},
     "output_type": "execute_result"
    }
   ],
   "source": [
    "# If we pass in an object, it will query as if we wanted to use the label based loc attribute\n",
    "s4['Molly']"
   ]
  },
  {
   "cell_type": "code",
   "execution_count": 29,
   "metadata": {},
   "outputs": [],
   "source": [
    "# So : \n",
    "\n",
    "# Series.loc['x'] == Series['x']\n",
    "# Series.iloc[2] == Series[2]"
   ]
  },
  {
   "cell_type": "code",
   "execution_count": 30,
   "metadata": {},
   "outputs": [],
   "source": [
    "# What happens if our index is a list of integers?\n",
    "\n",
    "# Pandas can't determine automatically whether we're intending to query by index position or\n",
    "# index label. So we need to be more careful when using the indexing operator on the Series\n",
    "# itself. The safer option is to be more explicit and use the iloc or loc attributes directly.\n",
    "\n",
    "class_code = {99 : 'Physics',\n",
    "             100 : 'Chemistry',\n",
    "             101 : 'English',\n",
    "             102 : 'History'}\n",
    "\n",
    "s5 = pd.Series(class_code)"
   ]
  },
  {
   "cell_type": "code",
   "execution_count": 32,
   "metadata": {},
   "outputs": [
    {
     "data": {
      "text/plain": [
       "'Physics'"
      ]
     },
     "execution_count": 32,
     "metadata": {},
     "output_type": "execute_result"
    }
   ],
   "source": [
    "# If we try and call s[0], we get a ket error because there's no item in the classes list with\n",
    "# an index of zero. Instead we have to call iloc explicitly if we want the first item\n",
    "\n",
    "# s[0] --> error\n",
    "\n",
    "# Correct way to do it\n",
    "s.iloc[0]"
   ]
  },
  {
   "cell_type": "markdown",
   "metadata": {},
   "source": [
    "## Operating within Series"
   ]
  },
  {
   "cell_type": "code",
   "execution_count": 33,
   "metadata": {},
   "outputs": [],
   "source": [
    "# A common task is to want to consider all of the values inside of a Series and do some sort\n",
    "# of operation: find a certain number, summarizing data or transforming the data in some way."
   ]
  },
  {
   "cell_type": "code",
   "execution_count": 34,
   "metadata": {},
   "outputs": [
    {
     "name": "stdout",
     "output_type": "stream",
     "text": [
      "75.0\n"
     ]
    }
   ],
   "source": [
    "# A typical programmatic approach to this would be to iterate over all the items in the Series,\n",
    "# and invoke the operation one is interested in.\n",
    "\n",
    "# Average student's grade\n",
    "\n",
    "grades = pd.Series([90, 80, 70, 60])\n",
    "\n",
    "total = 0\n",
    "for grade in grades:\n",
    "    total += grade\n",
    "\n",
    "print(total / len(grades))"
   ]
  },
  {
   "cell_type": "code",
   "execution_count": 35,
   "metadata": {},
   "outputs": [],
   "source": [
    "# This works, but it's slow. Modern computers can do many tasks simultaneously, especially,\n",
    "# but not only, tasks involving mathematics.\n",
    "\n",
    "# Pandas and the underlying numpy libraries support a method of computation called vectorization\n",
    "# Vectorization works with most of the functions in the numpy library, including the sum function."
   ]
  },
  {
   "cell_type": "code",
   "execution_count": 36,
   "metadata": {},
   "outputs": [
    {
     "name": "stdout",
     "output_type": "stream",
     "text": [
      "75.0\n"
     ]
    }
   ],
   "source": [
    "# Using the numpy sum methog\n",
    "\n",
    "import numpy as np\n",
    "total = np.sum(grades)\n",
    "\n",
    "print(total / len(grades))"
   ]
  },
  {
   "cell_type": "code",
   "execution_count": 38,
   "metadata": {},
   "outputs": [
    {
     "name": "stdout",
     "output_type": "stream",
     "text": [
      "10000\n",
      "\n",
      "\n",
      "0    313\n",
      "1    867\n",
      "2    231\n",
      "3     60\n",
      "4    884\n",
      "dtype: int64\n"
     ]
    }
   ],
   "source": [
    "# Both methods return the same value, but is one actually faster?\n",
    "# The Jupyter Notebook has a magic function which can help\n",
    "\n",
    "# First, let's create a big Series of random numbers. This is often used when demonstrating\n",
    "# techniques with Pandas\n",
    "\n",
    "# 10000 integer values between 0 and 1000\n",
    "numbers2 = pd.Series(np.random.randint(0, 1000, 10000))\n",
    "\n",
    "print(len(numbers2))\n",
    "print('\\n')\n",
    "print(numbers2.head())"
   ]
  },
  {
   "cell_type": "code",
   "execution_count": 40,
   "metadata": {},
   "outputs": [],
   "source": [
    "# The ipyhon interpreter has something called magic function, which begin with a % sign.\n",
    "\n",
    "# In this case, we are going to use what's called a cellular magic function. These start with\n",
    "# two % signs and wrap the code in the current Jupyter cell.\n",
    "# The function we're going to use is called timeit. This function will run our code a few times\n",
    "# to determine, on average, how long it takes. We can give timeit the number of loops that we\n",
    "# want to run. By default, it is 1000 loops.\n",
    "\n",
    "# In oder to use a cellular magic function, it has to be the first line in the cell"
   ]
  },
  {
   "cell_type": "code",
   "execution_count": 42,
   "metadata": {},
   "outputs": [
    {
     "name": "stdout",
     "output_type": "stream",
     "text": [
      "1.19 ms ± 75.6 µs per loop (mean ± std. dev. of 7 runs, 100 loops each)\n"
     ]
    }
   ],
   "source": [
    "%%timeit -n 100\n",
    "\n",
    "total = 0\n",
    "\n",
    "for number in numbers2:\n",
    "    total += number\n",
    "    \n",
    "total / len(numbers2)"
   ]
  },
  {
   "cell_type": "code",
   "execution_count": 43,
   "metadata": {},
   "outputs": [],
   "source": [
    "# Now let's try with vectorization"
   ]
  },
  {
   "cell_type": "code",
   "execution_count": 44,
   "metadata": {},
   "outputs": [
    {
     "name": "stdout",
     "output_type": "stream",
     "text": [
      "63.7 µs ± 17.6 µs per loop (mean ± std. dev. of 7 runs, 100 loops each)\n"
     ]
    }
   ],
   "source": [
    "%%timeit -n 100\n",
    "\n",
    "total = np.sum(numbers2)\n",
    "total / len(numbers2)"
   ]
  },
  {
   "cell_type": "code",
   "execution_count": 45,
   "metadata": {},
   "outputs": [],
   "source": [
    "# This is a huge difference\n",
    "\n",
    "# Vectorization is the ability for a computer to execute multiple instructions at once.\n",
    "\n",
    "# With high performance chips, especially graphic cards, we can get dramatic speedups. Modern\n",
    "# graphic cards can run thousands of instructions in parallel"
   ]
  },
  {
   "cell_type": "code",
   "execution_count": 46,
   "metadata": {},
   "outputs": [
    {
     "data": {
      "text/plain": [
       "0    313\n",
       "1    867\n",
       "2    231\n",
       "3     60\n",
       "4    884\n",
       "dtype: int64"
      ]
     },
     "execution_count": 46,
     "metadata": {},
     "output_type": "execute_result"
    }
   ],
   "source": [
    "# Broadcasting\n",
    "\n",
    "# With broadcasting, we can apply an operation to every value in the series, changing the series\n",
    "# For instance, if we wanted to increase every random variable by 2, we could do so quickly\n",
    "# using the += operator directly on the Series object\n",
    "\n",
    "numbers2.head()"
   ]
  },
  {
   "cell_type": "code",
   "execution_count": 47,
   "metadata": {},
   "outputs": [
    {
     "data": {
      "text/plain": [
       "0    315\n",
       "1    869\n",
       "2    233\n",
       "3     62\n",
       "4    886\n",
       "dtype: int64"
      ]
     },
     "execution_count": 47,
     "metadata": {},
     "output_type": "execute_result"
    }
   ],
   "source": [
    "numbers2 += 2\n",
    "numbers2.head()"
   ]
  },
  {
   "cell_type": "code",
   "execution_count": 50,
   "metadata": {},
   "outputs": [
    {
     "data": {
      "text/plain": [
       "0    317\n",
       "1    871\n",
       "2    235\n",
       "3     64\n",
       "4    888\n",
       "dtype: int64"
      ]
     },
     "execution_count": 50,
     "metadata": {},
     "output_type": "execute_result"
    }
   ],
   "source": [
    "# Procedural way\n",
    "\n",
    "# it would be to iterate through all of the items in the series and increase the values\n",
    "# directly. Pandas does support iterating through a series much like a dictionary, allowing\n",
    "# us to unpack values easily\n",
    "\n",
    "# We can use iteritems() function which returns a label and value\n",
    "for label, value in numbers2.iteritems():\n",
    "    # For the item returned, lets vall .at attribute\n",
    "    numbers2.at[label] += 2\n",
    "    \n",
    "numbers2.head()"
   ]
  },
  {
   "cell_type": "code",
   "execution_count": 51,
   "metadata": {},
   "outputs": [],
   "source": [
    "# Let's do some speed comparisons"
   ]
  },
  {
   "cell_type": "code",
   "execution_count": 52,
   "metadata": {},
   "outputs": [
    {
     "name": "stdout",
     "output_type": "stream",
     "text": [
      "87.7 ms ± 1.44 ms per loop (mean ± std. dev. of 7 runs, 10 loops each)\n"
     ]
    }
   ],
   "source": [
    "%%timeit -n 10\n",
    "\n",
    "s6 = pd.Series(np.random.randint(0, 1000, 10000))\n",
    "\n",
    "for label, value in s6.iteritems():\n",
    "    s6.at[label] += 2"
   ]
  },
  {
   "cell_type": "code",
   "execution_count": 53,
   "metadata": {},
   "outputs": [],
   "source": [
    "# Now let's try using broadcasting methods"
   ]
  },
  {
   "cell_type": "code",
   "execution_count": 54,
   "metadata": {},
   "outputs": [
    {
     "name": "stdout",
     "output_type": "stream",
     "text": [
      "353 µs ± 123 µs per loop (mean ± std. dev. of 7 runs, 10 loops each)\n"
     ]
    }
   ],
   "source": [
    "%%timeit -n 10\n",
    "\n",
    "s7 = pd.Series(np.random.randint(0, 1000, 10000))\n",
    "\n",
    "s7 += 2"
   ]
  },
  {
   "cell_type": "code",
   "execution_count": 55,
   "metadata": {},
   "outputs": [],
   "source": [
    "# It's way faster\n",
    "\n",
    "# It's also more concise and easier to read\n",
    "\n",
    "# The typical mathematical operator are vectorized, and the numpy documentation outlines what\n",
    "# it takes to create vectorized functions of our own"
   ]
  },
  {
   "cell_type": "code",
   "execution_count": 56,
   "metadata": {},
   "outputs": [],
   "source": [
    "# The .loc attribute lets us not only modify data in place, but also add new data as well.\n",
    "# If the value we pass in as the index doesn't exist, then a new entry is added.\n",
    "\n",
    "# Keep in mind: indices can have mixed values\n",
    "\n",
    "# Pandas will automatically change the underlying NumPy types as appropiate"
   ]
  },
  {
   "cell_type": "code",
   "execution_count": 57,
   "metadata": {},
   "outputs": [
    {
     "data": {
      "text/plain": [
       "0            1\n",
       "1            2\n",
       "2            3\n",
       "History    102\n",
       "dtype: int64"
      ]
     },
     "execution_count": 57,
     "metadata": {},
     "output_type": "execute_result"
    }
   ],
   "source": [
    "s8 = pd.Series([1, 2, 3])\n",
    "\n",
    "s8.loc['History'] = 102\n",
    "\n",
    "s8"
   ]
  },
  {
   "cell_type": "code",
   "execution_count": 58,
   "metadata": {},
   "outputs": [],
   "source": [
    "# Mixed types for data values or index labels are no problem for Pandas\n",
    "# Since 'History' is not in the original list of indices, s.loc['History'] essentially creates\n",
    "# a new element in the series with the index named 'History', and the value of 102"
   ]
  },
  {
   "cell_type": "code",
   "execution_count": 59,
   "metadata": {},
   "outputs": [
    {
     "data": {
      "text/plain": [
       "Alice      Physics\n",
       "Jack     Chemistry\n",
       "Molly      English\n",
       "Sam        History\n",
       "dtype: object"
      ]
     },
     "execution_count": 59,
     "metadata": {},
     "output_type": "execute_result"
    }
   ],
   "source": [
    "# When index values are not unique\n",
    "\n",
    "# In Pandas, index values don't have to be unique, what makes it a bit different from relational\n",
    "# database\n",
    "\n",
    "students_classes2 = pd.Series({'Alice' : 'Physics',\n",
    "                  'Jack' : 'Chemistry',\n",
    "                  'Molly' : 'English',\n",
    "                   'Sam' : 'History'})\n",
    "students_classes2"
   ]
  },
  {
   "cell_type": "code",
   "execution_count": 60,
   "metadata": {},
   "outputs": [
    {
     "data": {
      "text/plain": [
       "Kelly    Philosophy\n",
       "Kelly          Arts\n",
       "Kelly          Math\n",
       "dtype: object"
      ]
     },
     "execution_count": 60,
     "metadata": {},
     "output_type": "execute_result"
    }
   ],
   "source": [
    "kelly_classes = pd.Series(['Philosophy', 'Arts', 'Math'], index = ['Kelly', 'Kelly', 'Kelly'])\n",
    "kelly_classes"
   ]
  },
  {
   "cell_type": "code",
   "execution_count": 61,
   "metadata": {},
   "outputs": [
    {
     "data": {
      "text/plain": [
       "Alice       Physics\n",
       "Jack      Chemistry\n",
       "Molly       English\n",
       "Sam         History\n",
       "Kelly    Philosophy\n",
       "Kelly          Arts\n",
       "Kelly          Math\n",
       "dtype: object"
      ]
     },
     "execution_count": 61,
     "metadata": {},
     "output_type": "execute_result"
    }
   ],
   "source": [
    "# We append kelly_classes to the rest\n",
    "all_students_classes = students_classes2.append(kelly_classes)\n",
    "\n",
    "all_students_classes"
   ]
  },
  {
   "cell_type": "code",
   "execution_count": 62,
   "metadata": {},
   "outputs": [
    {
     "data": {
      "text/plain": [
       "Alice      Physics\n",
       "Jack     Chemistry\n",
       "Molly      English\n",
       "Sam        History\n",
       "dtype: object"
      ]
     },
     "execution_count": 62,
     "metadata": {},
     "output_type": "execute_result"
    }
   ],
   "source": [
    "# Considerations when using append()\n",
    "\n",
    "# 1) Pandas will take the series and try to inder the best data types to use\n",
    "# 2) The append() method doesn't actually change the underlying Series objects. Instead it\n",
    "# returns a new Series which is made up of the two append together.\n",
    "\n",
    "# This last thing happens quite often in Pandas: by default returning a new object instead of\n",
    "# modifying in place\n",
    "\n",
    "# If we print the original Series, we see that nothing has changed\n",
    "students_classes2"
   ]
  },
  {
   "cell_type": "code",
   "execution_count": 63,
   "metadata": {},
   "outputs": [
    {
     "data": {
      "text/plain": [
       "Kelly    Philosophy\n",
       "Kelly          Arts\n",
       "Kelly          Math\n",
       "dtype: object"
      ]
     },
     "execution_count": 63,
     "metadata": {},
     "output_type": "execute_result"
    }
   ],
   "source": [
    "# Finally, we see that when we query the append series for Kelly, we don't get a single value\n",
    "# but a Series itself\n",
    "\n",
    "all_students_classes.loc['Kelly']"
   ]
  }
 ],
 "metadata": {
  "kernelspec": {
   "display_name": "Python 3",
   "language": "python",
   "name": "python3"
  },
  "language_info": {
   "codemirror_mode": {
    "name": "ipython",
    "version": 3
   },
   "file_extension": ".py",
   "mimetype": "text/x-python",
   "name": "python",
   "nbconvert_exporter": "python",
   "pygments_lexer": "ipython3",
   "version": "3.8.5"
  }
 },
 "nbformat": 4,
 "nbformat_minor": 4
}
