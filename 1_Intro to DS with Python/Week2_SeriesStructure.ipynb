{
 "cells": [
  {
   "cell_type": "markdown",
   "metadata": {},
   "source": [
    "# Series"
   ]
  },
  {
   "cell_type": "markdown",
   "metadata": {},
   "source": [
    "Series are a cross between a list and a disctionary.\n",
    "\n",
    "The items are all stored in an order and there's labels with which you can retrieve them."
   ]
  },
  {
   "cell_type": "code",
   "execution_count": 1,
   "metadata": {},
   "outputs": [],
   "source": [
    "# Import pandas\n",
    "import pandas as pd"
   ]
  },
  {
   "cell_type": "code",
   "execution_count": 3,
   "metadata": {},
   "outputs": [
    {
     "data": {
      "text/plain": [
       "0    Alice\n",
       "1     Jack\n",
       "2    Molly\n",
       "dtype: object"
      ]
     },
     "execution_count": 3,
     "metadata": {},
     "output_type": "execute_result"
    }
   ],
   "source": [
    "# We can create a series by passing in a list of values\n",
    "# When we do this, Pandas automatically assigns an index starting with\n",
    "# zero and sets the name of the series to None\n",
    "\n",
    "# One of the easiest ways to create a series is to use an array-like\n",
    "# object, like a list\n",
    "\n",
    "students = ['Alice', 'Jack', 'Molly']\n",
    "pd.Series(students)"
   ]
  },
  {
   "cell_type": "code",
   "execution_count": 4,
   "metadata": {},
   "outputs": [],
   "source": [
    "# The result is a series object\n",
    "# Panda has automatically identified the type of data in this Series as\n",
    "# \"object\" and set the dtype parameter as appropiate.\n",
    "# The values are indexed with integers starting at zero"
   ]
  },
  {
   "cell_type": "code",
   "execution_count": 5,
   "metadata": {},
   "outputs": [
    {
     "data": {
      "text/plain": [
       "0    1\n",
       "1    2\n",
       "2    3\n",
       "dtype: int64"
      ]
     },
     "execution_count": 5,
     "metadata": {},
     "output_type": "execute_result"
    }
   ],
   "source": [
    "# We don't have to use strings. If we passed in a list of whole numbers,\n",
    "# we could see that panda sets the type to int64. Underneath, panda stores\n",
    "# series values in a typed array using the Numpy library. This offers\n",
    "# significant speedup when processing data vs traditional python lists\n",
    "\n",
    "# List of integers\n",
    "numbers = [1, 2, 3]\n",
    "pd.Series(numbers)"
   ]
  },
  {
   "cell_type": "code",
   "execution_count": 6,
   "metadata": {},
   "outputs": [],
   "source": [
    "# On my architecture the result is a dtype of int64 objects"
   ]
  },
  {
   "cell_type": "code",
   "execution_count": 8,
   "metadata": {},
   "outputs": [
    {
     "data": {
      "text/plain": [
       "0    Alice\n",
       "1     Jack\n",
       "2     None\n",
       "dtype: object"
      ]
     },
     "execution_count": 8,
     "metadata": {},
     "output_type": "execute_result"
    }
   ],
   "source": [
    "# Other important thing to know: how numpy and pandas handle missing data\n",
    "\n",
    "# In Python, we have the none type to indicate a lack of data\n",
    "\n",
    "# Underneath, pandas does some type conversion. If we create a list of\n",
    "# strings and we have one element, a None type, pandas inserts it as\n",
    "# a None and uses the type object for the underlying array\n",
    "\n",
    "# Let's do an example\n",
    "students2 = ['Alice', 'Jack', None]\n",
    "pd.Series(students2)"
   ]
  },
  {
   "cell_type": "code",
   "execution_count": 9,
   "metadata": {},
   "outputs": [
    {
     "data": {
      "text/plain": [
       "0    1.0\n",
       "1    2.0\n",
       "2    NaN\n",
       "dtype: float64"
      ]
     },
     "execution_count": 9,
     "metadata": {},
     "output_type": "execute_result"
    }
   ],
   "source": [
    "# However, if we create a list of numbers, integers or floats, and put\n",
    "# in the None type, pandas automatically converts this to a special\n",
    "# floating point value designated as NaN, which standads for \"Not a Number\"\n",
    "\n",
    "numbers2 = [1, 2, None]\n",
    "pd.Series(numbers2)"
   ]
  },
  {
   "cell_type": "code",
   "execution_count": 10,
   "metadata": {},
   "outputs": [],
   "source": [
    "# Couple of thins:\n",
    "# 1) NaN is a different value\n",
    "# 2) Pandas set the dtype of this series to floating point numbers instead\n",
    "# of object or ints. Underneath, pandas represents NaN as a floating point\n",
    "# number, and because integers can be typecast to floats, pandas went and\n",
    "# converted our integers to floats. \n",
    "\n",
    "# So, when you're wondering why the list of integers you put into a Series\n",
    "# is not floats, it's probably because there is some missing data"
   ]
  },
  {
   "cell_type": "code",
   "execution_count": 11,
   "metadata": {},
   "outputs": [
    {
     "data": {
      "text/plain": [
       "False"
      ]
     },
     "execution_count": 11,
     "metadata": {},
     "output_type": "execute_result"
    }
   ],
   "source": [
    "# None and NaN might be used by the data scientist in the same way, to\n",
    "# denote missing data, but underneath these are not represented by pandas\n",
    "# in the same way.\n",
    "\n",
    "# NaN is NOT equivalent to None and when we try an equality test, the\n",
    "# result is false\n",
    "\n",
    "import numpy as np\n",
    "np.nan == None"
   ]
  },
  {
   "cell_type": "code",
   "execution_count": 13,
   "metadata": {},
   "outputs": [
    {
     "data": {
      "text/plain": [
       "False"
      ]
     },
     "execution_count": 13,
     "metadata": {},
     "output_type": "execute_result"
    }
   ],
   "source": [
    "# It turns out that we actually can't do an equality test of NaN to\n",
    "# itself. When we do, the answer is always false\n",
    "\n",
    "np.nan == np.nan"
   ]
  },
  {
   "cell_type": "code",
   "execution_count": 14,
   "metadata": {},
   "outputs": [
    {
     "data": {
      "text/plain": [
       "True"
      ]
     },
     "execution_count": 14,
     "metadata": {},
     "output_type": "execute_result"
    }
   ],
   "source": [
    "# Instead, we need to use special functions to test for the presence of\n",
    "# not a number, such as the Numpy library isnan()\n",
    "\n",
    "np.isnan(np.nan)"
   ]
  },
  {
   "cell_type": "code",
   "execution_count": 15,
   "metadata": {},
   "outputs": [],
   "source": [
    "# So keep in mind when we see NaN, its meaning is similar to None, but\n",
    "# it's a numeric value and treated differently for efficiency reasons"
   ]
  },
  {
   "cell_type": "code",
   "execution_count": 16,
   "metadata": {},
   "outputs": [
    {
     "data": {
      "text/plain": [
       "Alice      Physics\n",
       "Jack     Chemistry\n",
       "Molly      English\n",
       "dtype: object"
      ]
     },
     "execution_count": 16,
     "metadata": {},
     "output_type": "execute_result"
    }
   ],
   "source": [
    "# While creating pandas Series from lists is a common way to do it, we\n",
    "# often have labeled data that you want to manipulate.\n",
    "# A series can be created directly from dicionary data. If we do this, \n",
    "# the index is automatically assigned to the keys of the dictionary that\n",
    "# we provided and not just incrementing integers\n",
    "\n",
    "students_scores = {'Alice' : 'Physics',\n",
    "                  'Jack' : 'Chemistry',\n",
    "                   'Molly' : 'English'}\n",
    "\n",
    "s = pd.Series(students_scores)\n",
    "s"
   ]
  },
  {
   "cell_type": "code",
   "execution_count": 17,
   "metadata": {},
   "outputs": [],
   "source": [
    "# Since it was string data, pandas set the data type to object\n",
    "# The index, the first column, is also a list of strings"
   ]
  },
  {
   "cell_type": "code",
   "execution_count": 18,
   "metadata": {},
   "outputs": [
    {
     "data": {
      "text/plain": [
       "Index(['Alice', 'Jack', 'Molly'], dtype='object')"
      ]
     },
     "execution_count": 18,
     "metadata": {},
     "output_type": "execute_result"
    }
   ],
   "source": [
    "# Once the series has been created, we can get the index object using\n",
    "# the index attribute\n",
    "\n",
    "s.index"
   ]
  },
  {
   "cell_type": "code",
   "execution_count": 19,
   "metadata": {},
   "outputs": [],
   "source": [
    "# A lot of things are implemented in pandas as numpy arrays and have the\n",
    "# dtype value set. This is true of indices, and here pandas infered that\n",
    "# we were using objects of the index"
   ]
  },
  {
   "cell_type": "code",
   "execution_count": 21,
   "metadata": {},
   "outputs": [
    {
     "data": {
      "text/plain": [
       "0    (Alice, Brown)\n",
       "1     (Jack, White)\n",
       "2    (Molly, Green)\n",
       "dtype: object"
      ]
     },
     "execution_count": 21,
     "metadata": {},
     "output_type": "execute_result"
    }
   ],
   "source": [
    "# The dtype object is nos just for strings, but for arbitrary objects\n",
    "students3 = [('Alice', 'Brown'), ('Jack', 'White'), ('Molly', 'Green')]\n",
    "pd.Series(students3)"
   ]
  },
  {
   "cell_type": "code",
   "execution_count": 22,
   "metadata": {},
   "outputs": [],
   "source": [
    "# Tuples are also stored as object"
   ]
  },
  {
   "cell_type": "code",
   "execution_count": 23,
   "metadata": {},
   "outputs": [
    {
     "data": {
      "text/plain": [
       "Alice      Physics\n",
       "Jack     Chemistry\n",
       "Molly      English\n",
       "dtype: object"
      ]
     },
     "execution_count": 23,
     "metadata": {},
     "output_type": "execute_result"
    }
   ],
   "source": [
    "# We can also separate our index from the data by passing in the index as\n",
    "# a list explicitly to the series\n",
    "\n",
    "s2 = pd.Series(['Physics', 'Chemistry', 'English'], index = ['Alice', 'Jack', 'Molly'])\n",
    "s2"
   ]
  },
  {
   "cell_type": "code",
   "execution_count": 25,
   "metadata": {},
   "outputs": [
    {
     "data": {
      "text/plain": [
       "Alice     Physics\n",
       "Molly     English\n",
       "Sam           NaN\n",
       "dtype: object"
      ]
     },
     "execution_count": 25,
     "metadata": {},
     "output_type": "execute_result"
    }
   ],
   "source": [
    "# If the list of vales is not aligned with the keys in the dictionary,\n",
    "# pandas overrides the automatic creation to favor only and all of the\n",
    "# indices values that we provided. So, it will ignore from our dict all\n",
    "# keys which are not in our index, and pandas will add None or NaN type\n",
    "# values for any index value we provide, which is not in our dict key list\n",
    "\n",
    "# Example\n",
    "students_scores2 = {'Alice' : ' Physics',\n",
    "                   'Jack' : 'Chemistry',\n",
    "                   'Molly' : 'English'}\n",
    "\n",
    "# We will ask for an index with three students, and exclude Jack\n",
    "s3 = pd.Series(students_scores2, index = ['Alice', 'Molly', 'Sam'])\n",
    "s3"
   ]
  },
  {
   "cell_type": "code",
   "execution_count": null,
   "metadata": {},
   "outputs": [],
   "source": [
    "# The result is that the Series object doesn't have Jack in it, even\n",
    "# though he was in our original dataset. However, it explicitly does have\n",
    "# Sam as a missing value"
   ]
  }
 ],
 "metadata": {
  "kernelspec": {
   "display_name": "Python 3",
   "language": "python",
   "name": "python3"
  },
  "language_info": {
   "codemirror_mode": {
    "name": "ipython",
    "version": 3
   },
   "file_extension": ".py",
   "mimetype": "text/x-python",
   "name": "python",
   "nbconvert_exporter": "python",
   "pygments_lexer": "ipython3",
   "version": "3.8.5"
  }
 },
 "nbformat": 4,
 "nbformat_minor": 4
}
