{
 "cells": [
  {
   "cell_type": "markdown",
   "metadata": {},
   "source": [
    "# Querying a Series"
   ]
  },
  {
   "cell_type": "code",
   "execution_count": 1,
   "metadata": {},
   "outputs": [
    {
     "data": {
      "text/plain": [
       "Alice      Physics\n",
       "Jack     Chemistry\n",
       "Molly      English\n",
       "Sam        History\n",
       "dtype: object"
      ]
     },
     "execution_count": 1,
     "metadata": {},
     "output_type": "execute_result"
    }
   ],
   "source": [
    "# A pandas Series can be queried either by the index position or the index label. If you\n",
    "# don't give an index to the series when querying, the position and the label are effectively\n",
    "# the same values.\n",
    "\n",
    "# By numeric location -> starting at zero, we use the \"iloc\" attribute.\n",
    "# By the index label -> we can use the \"loc\" attribute.\n",
    "\n",
    "import pandas as pd\n",
    "students_classes = {'Alice' : ' Physics',\n",
    "                   'Jack' : 'Chemistry',\n",
    "                   'Molly' : 'English',\n",
    "                   'Sam' : 'History'}\n",
    "\n",
    "s = pd.Series(students_classes)\n",
    "s"
   ]
  },
  {
   "cell_type": "code",
   "execution_count": 2,
   "metadata": {},
   "outputs": [
    {
     "data": {
      "text/plain": [
       "'History'"
      ]
     },
     "execution_count": 2,
     "metadata": {},
     "output_type": "execute_result"
    }
   ],
   "source": [
    "# If we want the fourth entry, we would use the iloc attribute with parameter 3\n",
    "s.iloc[3]"
   ]
  },
  {
   "cell_type": "code",
   "execution_count": 3,
   "metadata": {},
   "outputs": [
    {
     "data": {
      "text/plain": [
       "'English'"
      ]
     },
     "execution_count": 3,
     "metadata": {},
     "output_type": "execute_result"
    }
   ],
   "source": [
    "# If we want to see what class Molly has, we would use the loc attribute with a parameter\n",
    "# of Molly\n",
    "s.loc['Molly']"
   ]
  },
  {
   "cell_type": "code",
   "execution_count": 4,
   "metadata": {},
   "outputs": [],
   "source": [
    "# iloc and loc are not methods, they are attributes. So we don't have to use parentheses to\n",
    "# query them, but square brackets instead, chich is called the indexing operator. \n",
    "# In Python this calls get or set for an item depending on the context of its use."
   ]
  },
  {
   "cell_type": "code",
   "execution_count": 5,
   "metadata": {},
   "outputs": [
    {
     "data": {
      "text/plain": [
       "'History'"
      ]
     },
     "execution_count": 5,
     "metadata": {},
     "output_type": "execute_result"
    }
   ],
   "source": [
    "# Pandas tries to make our code more readable and provices a sort of smart syntax using the\n",
    "# indexing operator directly on the series itself.\n",
    "\n",
    "# For instance, if we pass in an integer parameter, the operator will behave as if we want it\n",
    "# to query via the iloc attribute\n",
    "s[3]"
   ]
  },
  {
   "cell_type": "code",
   "execution_count": 6,
   "metadata": {},
   "outputs": [
    {
     "data": {
      "text/plain": [
       "'English'"
      ]
     },
     "execution_count": 6,
     "metadata": {},
     "output_type": "execute_result"
    }
   ],
   "source": [
    "# If we pass in an object, it will query as if we wanted to use the label based loc attribute\n",
    "s['Molly']"
   ]
  },
  {
   "cell_type": "code",
   "execution_count": 8,
   "metadata": {},
   "outputs": [],
   "source": [
    "# What happens if our index is a list of integers?\n",
    "# This is a bit complicated and Pandas can't determine automatically whether we're intending\n",
    "# to query by index position or index label. So, we need to be careful when using the indexing\n",
    "# operator on the Series itself. The safer option is to be more explicit and use the iloc\n",
    "# or loc attributes directly\n",
    "\n",
    "# Example where the indexes are a list of integers\n",
    "class_code = {99 : 'Physics',\n",
    "             100 : 'Chemistry',\n",
    "             101 : 'English',\n",
    "             102 : 'History'}\n",
    "\n",
    "s2 = pd.Series(class_code)"
   ]
  },
  {
   "cell_type": "code",
   "execution_count": 11,
   "metadata": {},
   "outputs": [
    {
     "data": {
      "text/plain": [
       "'Physics'"
      ]
     },
     "execution_count": 11,
     "metadata": {},
     "output_type": "execute_result"
    }
   ],
   "source": [
    "# If we try and call s[0] we get a key error because there's no item in the classes list with\n",
    "# an index of zero, instead we have to call iloc explicitly if we want the first item\n",
    "\n",
    "# s2[0] --> error\n",
    "s2.iloc[0]"
   ]
  },
  {
   "cell_type": "markdown",
   "metadata": {},
   "source": [
    "## Working with data"
   ]
  },
  {
   "cell_type": "code",
   "execution_count": 12,
   "metadata": {},
   "outputs": [],
   "source": [
    "# A common task is to want to consider all of th values inside of a series and do some sort\n",
    "# of operation. This could be trying to find a certain number, summarizing data or\n",
    "# transforming the data in some way"
   ]
  },
  {
   "cell_type": "code",
   "execution_count": 14,
   "metadata": {},
   "outputs": [
    {
     "name": "stdout",
     "output_type": "stream",
     "text": [
      "75.0\n"
     ]
    }
   ],
   "source": [
    "# A typical programmatic approach to this would be to iterate over all the items in the series,\n",
    "# and invoke the operation one is interested in.\n",
    "\n",
    "# Example\n",
    "\n",
    "grades = pd.Series([90, 80, 70, 60])\n",
    "\n",
    "total = 0\n",
    "for grade in grades:\n",
    "    total += grade\n",
    "    \n",
    "print(total / len(grades))"
   ]
  },
  {
   "cell_type": "code",
   "execution_count": 15,
   "metadata": {},
   "outputs": [],
   "source": [
    "# This works but it's slow.\n",
    "# Modern computers can do many tasks simultaneously, especially, tasks involving maths\n",
    "\n",
    "# Pandas and the underlying numpy libraries support a method of computation called vectorization.\n",
    "# Vectorization works with most of the funcions in the numpy library, including the sum func."
   ]
  },
  {
   "cell_type": "code",
   "execution_count": 16,
   "metadata": {},
   "outputs": [
    {
     "name": "stdout",
     "output_type": "stream",
     "text": [
      "75.0\n"
     ]
    }
   ],
   "source": [
    "# Here's how we would really write the code using the numpy sum method.\n",
    "\n",
    "import numpy as np\n",
    "\n",
    "# Then we just call np.sum and pass in an iterable item. In this case, our pandas Series\n",
    "\n",
    "total = np.sum(grades)\n",
    "print(total/len(grades))"
   ]
  },
  {
   "cell_type": "code",
   "execution_count": 17,
   "metadata": {},
   "outputs": [
    {
     "data": {
      "text/plain": [
       "0    922\n",
       "1    640\n",
       "2    770\n",
       "3    753\n",
       "4    333\n",
       "dtype: int64"
      ]
     },
     "execution_count": 17,
     "metadata": {},
     "output_type": "execute_result"
    }
   ],
   "source": [
    "# Both methods create the same value, but one is actually faster.\n",
    "# The Jupyter Notebook has a magic function which can help\n",
    "\n",
    "# First we create a big Series of random numbers. This is used a lot when demonstrating\n",
    "# techniques with Pandas\n",
    "numbers = pd.Series(np.random.randint(0, 1000, 10000))\n",
    "\n",
    "# Let's check the top five items with the head() function\n",
    "numbers.head()"
   ]
  },
  {
   "cell_type": "code",
   "execution_count": 18,
   "metadata": {},
   "outputs": [
    {
     "data": {
      "text/plain": [
       "10000"
      ]
     },
     "execution_count": 18,
     "metadata": {},
     "output_type": "execute_result"
    }
   ],
   "source": [
    "# We also verify the number of items in our Series\n",
    "len(numbers)"
   ]
  },
  {
   "cell_type": "code",
   "execution_count": 19,
   "metadata": {},
   "outputs": [],
   "source": [
    "# The ipython interpreter has something called magic functions that begin with a percentage\n",
    "# sign. If we type this sign and then hit the Tab key, we can see a list of the available magic\n",
    "# functions.\n",
    "\n",
    "# We are going to use what's called a cellular magic fucntion. These start with two %% and\n",
    "# wrap the code in the current Jupyter cell.\n",
    "\n",
    "# The function we are going to use is called timeit. This function will run our code a few\n",
    "# times to determine, on average, how long it takes"
   ]
  },
  {
   "cell_type": "code",
   "execution_count": 24,
   "metadata": {},
   "outputs": [],
   "source": [
    "# Example\n",
    "# We can give timeit the number of loops that we would like to run. By default, it is 1000\n",
    "# loops, but we can change this.\n",
    "# In order to use a cellular magic function, it has to be the first line in the cell"
   ]
  },
  {
   "cell_type": "code",
   "execution_count": null,
   "metadata": {},
   "outputs": [],
   "source": [
    "# For the loop first"
   ]
  },
  {
   "cell_type": "code",
   "execution_count": 23,
   "metadata": {},
   "outputs": [
    {
     "name": "stdout",
     "output_type": "stream",
     "text": [
      "1.14 ms ± 13.6 µs per loop (mean ± std. dev. of 7 runs, 500 loops each)\n"
     ]
    }
   ],
   "source": [
    "%%timeit -n 500\n",
    "\n",
    "total = 0\n",
    "for number in numbers:\n",
    "    total += number\n",
    "    \n",
    "total/len(numbers)"
   ]
  },
  {
   "cell_type": "code",
   "execution_count": 25,
   "metadata": {},
   "outputs": [],
   "source": [
    "# Now for the vectorization"
   ]
  },
  {
   "cell_type": "code",
   "execution_count": 26,
   "metadata": {},
   "outputs": [
    {
     "name": "stdout",
     "output_type": "stream",
     "text": [
      "85.1 µs ± 22.5 µs per loop (mean ± std. dev. of 7 runs, 100 loops each)\n"
     ]
    }
   ],
   "source": [
    "%%timeit -n 100\n",
    "\n",
    "total = np.sum(numbers)\n",
    "total/len(numbers)"
   ]
  },
  {
   "cell_type": "code",
   "execution_count": 27,
   "metadata": {},
   "outputs": [],
   "source": [
    "# Wow! This is a big difference in the speed and demonstrates why we should be aware of\n",
    "# parallel computing features and start thinking in functional programming terms.\n",
    "# Put more simply, vectorization is the ability for a computer to execute multiple instructions\n",
    "# at once, and with high performance chips, especially graphic cards, we can get grammatic\n",
    "# speedups. Modern graphic cards can run thousands of instructions in parallel"
   ]
  },
  {
   "cell_type": "code",
   "execution_count": 28,
   "metadata": {},
   "outputs": [
    {
     "data": {
      "text/plain": [
       "0    922\n",
       "1    640\n",
       "2    770\n",
       "3    753\n",
       "4    333\n",
       "dtype: int64"
      ]
     },
     "execution_count": 28,
     "metadata": {},
     "output_type": "execute_result"
    }
   ],
   "source": [
    "# A related feature in pandas and numpy is called broadcasting. With broadcasting, we cam\n",
    "# apply an operation to every value in the series, changing the series.\n",
    "# For instance, if we want to increase every random variable by 2, we could do so quickly\n",
    "# using the += operator directly on the Series object\n",
    "\n",
    "# Let's check the head of our Series\n",
    "numbers.head()"
   ]
  },
  {
   "cell_type": "code",
   "execution_count": 29,
   "metadata": {},
   "outputs": [
    {
     "data": {
      "text/plain": [
       "0    924\n",
       "1    642\n",
       "2    772\n",
       "3    755\n",
       "4    335\n",
       "dtype: int64"
      ]
     },
     "execution_count": 29,
     "metadata": {},
     "output_type": "execute_result"
    }
   ],
   "source": [
    "# Let's increase everything in the Series by 2\n",
    "numbers += 2\n",
    "numbers.head()"
   ]
  },
  {
   "cell_type": "code",
   "execution_count": 36,
   "metadata": {},
   "outputs": [
    {
     "data": {
      "text/plain": [
       "0    926\n",
       "1    644\n",
       "2    774\n",
       "3    757\n",
       "4    337\n",
       "dtype: int64"
      ]
     },
     "execution_count": 36,
     "metadata": {},
     "output_type": "execute_result"
    }
   ],
   "source": [
    "# The procedural way of doing this would be to iterate though all of the items in the series\n",
    "# and increase the values directly. Pandas does support iterating through a series much like\n",
    "# a dictionary, allowing us to unpack values easily.\n",
    "\n",
    "# We can use the iteritems() function which returns a label and value\n",
    "for label, value in numbers.iteritems():\n",
    "    # Now, for the items which is returned, let's call at[]\n",
    "    numbers.at[label] = value + 2\n",
    "    \n",
    "numbers.head()"
   ]
  },
  {
   "cell_type": "code",
   "execution_count": 37,
   "metadata": {},
   "outputs": [],
   "source": [
    "# If we find ourselves iterating pretty much \"any time\" in pandas, we should question\n",
    "# whether we're doing things in the best possible way"
   ]
  },
  {
   "cell_type": "code",
   "execution_count": 40,
   "metadata": {},
   "outputs": [],
   "source": [
    "# Let's do some speed comparison"
   ]
  },
  {
   "cell_type": "code",
   "execution_count": null,
   "metadata": {},
   "outputs": [],
   "source": [
    "# First we check with the loop"
   ]
  },
  {
   "cell_type": "code",
   "execution_count": 39,
   "metadata": {},
   "outputs": [
    {
     "name": "stdout",
     "output_type": "stream",
     "text": [
      "51.6 ms ± 269 µs per loop (mean ± std. dev. of 7 runs, 25 loops each)\n"
     ]
    }
   ],
   "source": [
    "%%timeit -n 25\n",
    "\n",
    "s3 = pd.Series(np.random.randint(0, 1000, 10000))\n",
    "\n",
    "for label, value in s3.iteritems():\n",
    "    s3.at[label] = value + 2"
   ]
  },
  {
   "cell_type": "code",
   "execution_count": 41,
   "metadata": {},
   "outputs": [],
   "source": [
    "# Now we try using the broadcasting method"
   ]
  },
  {
   "cell_type": "code",
   "execution_count": 43,
   "metadata": {},
   "outputs": [
    {
     "name": "stdout",
     "output_type": "stream",
     "text": [
      "378 µs ± 105 µs per loop (mean ± std. dev. of 7 runs, 25 loops each)\n"
     ]
    }
   ],
   "source": [
    "%%timeit -n 25\n",
    "\n",
    "s4 = pd.Series(np.random.randint(0, 1000, 10000))\n",
    "s4 += 2"
   ]
  },
  {
   "cell_type": "code",
   "execution_count": 44,
   "metadata": {},
   "outputs": [],
   "source": [
    "# The broadcasting methog is way faster and it's also more concise and even easier to read.\n",
    "# The typical mathematical operations are vectorized, and the nump documentation outlines\n",
    "# what it takes to create vectorized functions of our own"
   ]
  },
  {
   "cell_type": "code",
   "execution_count": 45,
   "metadata": {},
   "outputs": [],
   "source": [
    "# One last note on using the indexing operators to access series data.\n",
    "# The .loc attribute lets us not only modify data in place, but also add new data as well.\n",
    "# If the value we pass in as the index doesn't exist, then a new entry is added. And keep\n",
    "# in mind, indices can have mixed types. While it's important to be aware of typing going on\n",
    "# underneath, Pandas will automatically change the underlying NumPy types as appropiate"
   ]
  },
  {
   "cell_type": "code",
   "execution_count": 46,
   "metadata": {},
   "outputs": [
    {
     "data": {
      "text/plain": [
       "0            1\n",
       "1            2\n",
       "2            3\n",
       "History    102\n",
       "dtype: int64"
      ]
     },
     "execution_count": 46,
     "metadata": {},
     "output_type": "execute_result"
    }
   ],
   "source": [
    "# Example\n",
    "s4 = pd.Series([1, 2, 3])\n",
    "\n",
    "# We add a new value\n",
    "s4.loc['History'] = 102\n",
    "\n",
    "s4"
   ]
  },
  {
   "cell_type": "code",
   "execution_count": 47,
   "metadata": {},
   "outputs": [],
   "source": [
    "# Mixed types for data values or index labels are no problem for Pandas. Since 'History'\n",
    "# is not in the original list of indices, s.loc['History'] essentially creates a new element\n",
    "# in the series, with the index named 'History' and the value of 102"
   ]
  },
  {
   "cell_type": "code",
   "execution_count": 48,
   "metadata": {},
   "outputs": [
    {
     "data": {
      "text/plain": [
       "Alice      Physics\n",
       "Jack     Chemistry\n",
       "Molly      English\n",
       "Sam        History\n",
       "dtype: object"
      ]
     },
     "execution_count": 48,
     "metadata": {},
     "output_type": "execute_result"
    }
   ],
   "source": [
    "# In Pandas, index values don't have to be unique, and this makes pandas Series a little\n",
    "# different conceptually then, for instance, a relational database\n",
    "\n",
    "# We create a new Series\n",
    "students_classes2 = pd.Series({\n",
    "    'Alice' : 'Physics',\n",
    "    'Jack' : 'Chemistry',\n",
    "    'Molly' : 'English',\n",
    "    'Sam' : 'History'})\n",
    "\n",
    "students_classes2"
   ]
  },
  {
   "cell_type": "code",
   "execution_count": 49,
   "metadata": {},
   "outputs": [
    {
     "data": {
      "text/plain": [
       "Kelly    Philosophy\n",
       "Kelly          Arts\n",
       "Kelly          Math\n",
       "dtype: object"
      ]
     },
     "execution_count": 49,
     "metadata": {},
     "output_type": "execute_result"
    }
   ],
   "source": [
    "# Now we create a Series for some new student Kelly, which lists all the courses she's taken.\n",
    "# We'll set the index to Kelly and the data to be the names of courses\n",
    "kelly_classes = pd.Series(['Philosophy', 'Arts', 'Math'], index = ['Kelly', 'Kelly', 'Kelly'])\n",
    "kelly_classes"
   ]
  },
  {
   "cell_type": "code",
   "execution_count": 50,
   "metadata": {},
   "outputs": [
    {
     "data": {
      "text/plain": [
       "Alice       Physics\n",
       "Jack      Chemistry\n",
       "Molly       English\n",
       "Sam         History\n",
       "Kelly    Philosophy\n",
       "Kelly          Arts\n",
       "Kelly          Math\n",
       "dtype: object"
      ]
     },
     "execution_count": 50,
     "metadata": {},
     "output_type": "execute_result"
    }
   ],
   "source": [
    "# We can append all of the data in this new Series to the first using the .append() function\n",
    "all_students = students_classes2.append(kelly_classes)\n",
    "all_students"
   ]
  },
  {
   "cell_type": "code",
   "execution_count": 51,
   "metadata": {},
   "outputs": [
    {
     "data": {
      "text/plain": [
       "Alice      Physics\n",
       "Jack     Chemistry\n",
       "Molly      English\n",
       "Sam        History\n",
       "dtype: object"
      ]
     },
     "execution_count": 51,
     "metadata": {},
     "output_type": "execute_result"
    }
   ],
   "source": [
    "# Important considerations\n",
    "\n",
    "# 1) Pandas will take the series and try to inder the best data types to use\n",
    "# 2) The append method doesn't actually change the underlying Series objects, it instead\n",
    "# returns a new Series which is made up of the two appended together. This is a common pattern\n",
    "# in pandas - by default returning a new object instead of modifying in place\n",
    "\n",
    "# If we print the original, we'll see that it hasn't changed\n",
    "students_classes2"
   ]
  },
  {
   "cell_type": "code",
   "execution_count": 52,
   "metadata": {},
   "outputs": [
    {
     "data": {
      "text/plain": [
       "Kelly    Philosophy\n",
       "Kelly          Arts\n",
       "Kelly          Math\n",
       "dtype: object"
      ]
     },
     "execution_count": 52,
     "metadata": {},
     "output_type": "execute_result"
    }
   ],
   "source": [
    "# Finally, we see that when we query teh appended series for Kelly, we don't get a single\n",
    "# value, but a series itself\n",
    "all_students.loc['Kelly']"
   ]
  },
  {
   "cell_type": "code",
   "execution_count": null,
   "metadata": {},
   "outputs": [],
   "source": []
  }
 ],
 "metadata": {
  "kernelspec": {
   "display_name": "Python 3",
   "language": "python",
   "name": "python3"
  },
  "language_info": {
   "codemirror_mode": {
    "name": "ipython",
    "version": 3
   },
   "file_extension": ".py",
   "mimetype": "text/x-python",
   "name": "python",
   "nbconvert_exporter": "python",
   "pygments_lexer": "ipython3",
   "version": "3.8.5"
  }
 },
 "nbformat": 4,
 "nbformat_minor": 4
}
